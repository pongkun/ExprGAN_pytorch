{
 "cells": [
  {
   "cell_type": "code",
   "execution_count": 1,
   "metadata": {},
   "outputs": [],
   "source": [
    "import time\n",
    "from options.train_options import TrainOptions\n",
    "from data.data_loader import CreateDataLoader, CreateDataLoader_pre\n",
    "from model.model_Loader import CreatModel\n",
    "from utils.utils import error\n",
    "\n",
    "\n",
    "import tqdm\n",
    "import os\n",
    "import torch\n",
    "import torch.nn as nn\n",
    "\n",
    "import matplotlib.pyplot as plt\n",
    "\n",
    "from data.data_loader import CreateDataLoader_test\n",
    "from model.Component import one_hot_long, Tensor2Image\n",
    "from torch.autograd import Variable\n",
    "\n",
    "from PIL import Image"
   ]
  },
  {
   "cell_type": "code",
   "execution_count": 2,
   "metadata": {
    "scrolled": true
   },
   "outputs": [
    {
     "name": "stdout",
     "output_type": "stream",
     "text": [
      "D_interval: 1\n",
      "G_interval: 1\n",
      "N_expr: 6\n",
      "batchsize: 64\n",
      "beta1: 0.5\n",
      "beta2: 0.999\n",
      "checkpoints_dir: /home/wpk/paper/code/Comparison_experiments/ExprGAN/checkpoints/\n",
      "count_epoch: 1\n",
      "epochs: 1001\n",
      "fm_coeff: 1\n",
      "gpu_ids: [6]\n",
      "input_nc: 3\n",
      "is_Train: True\n",
      "load_epoch: 0\n",
      "lr: 0.0002\n",
      "model: single\n",
      "output_nc: 3\n",
      "pretrained_D: None\n",
      "pretrained_G: None\n",
      "q_coeff: 1\n",
      "save_epoch_freq: 50\n",
      "test_checkpoints_dir: /home/wpk/paper/code/Comparison_experiments/ExprGAN/checkpoints/2020.04.04\n",
      "test_dir: ./result/2020-04-18_14-16-08\n",
      "vgg_coeff: 1\n",
      "model ExprGAN was created\n"
     ]
    }
   ],
   "source": [
    "opt = TrainOptions().parse()\n",
    "data_loader = CreateDataLoader(opt)\n",
    "data_loader_pre = CreateDataLoader_pre(opt)\n",
    "data_loader_test = CreateDataLoader_test(opt)\n",
    "model = CreatModel(opt)"
   ]
  },
  {
   "cell_type": "code",
   "execution_count": 3,
   "metadata": {},
   "outputs": [],
   "source": [
    "err = error(model.save_dir)\n",
    "G_list = []\n",
    "D_z_list = []\n",
    "D_img_list = []"
   ]
  },
  {
   "cell_type": "code",
   "execution_count": 4,
   "metadata": {
    "scrolled": true
   },
   "outputs": [
    {
     "name": "stderr",
     "output_type": "stream",
     "text": [
      "18it [00:21,  1.13s/it]"
     ]
    },
    {
     "name": "stdout",
     "output_type": "stream",
     "text": [
      "Loss_G: 1.8891316188706293\\Loss_D_z: 1.3880856898095872\\Loss_D_img: 2.6096886263953314\n",
      "vgg_loss 0.007804000284522772\n",
      "EG_loss 0.19189926981925964\n",
      "fm_loss 0.16624696552753448\n",
      "G_img_loss 1.044656753540039\n",
      "E_z_loss 0.6635316014289856\n",
      "tv_loss 0.45518797636032104\n",
      "D_cont_loss_fake 1.2446484565734863\n",
      "D_img_loss_input 0.5539253950119019\n",
      "D_img_loss_G 0.44288623332977295\n",
      "End of epoch 1 \t Time Taken: 21.321544647216797 sec\n",
      "\n"
     ]
    },
    {
     "name": "stderr",
     "output_type": "stream",
     "text": [
      "\n",
      "18it [00:20,  1.14s/it]"
     ]
    },
    {
     "name": "stdout",
     "output_type": "stream",
     "text": [
      "Loss_G: 1.2830221321847703\\Loss_D_z: 1.3835469086964924\\Loss_D_img: 1.9450566569964092\n",
      "vgg_loss 0.007427642121911049\n",
      "EG_loss 0.15113209187984467\n",
      "fm_loss 0.1581794023513794\n",
      "G_img_loss 1.0113322734832764\n",
      "E_z_loss 0.6761953830718994\n",
      "tv_loss 0.46289002895355225\n",
      "D_cont_loss_fake 0.7819916605949402\n",
      "D_img_loss_input 0.4945513606071472\n",
      "D_img_loss_G 0.47669434547424316\n",
      "End of epoch 2 \t Time Taken: 21.05025362968445 sec\n",
      "\n"
     ]
    },
    {
     "name": "stderr",
     "output_type": "stream",
     "text": [
      "\n",
      "18it [00:20,  1.13s/it]"
     ]
    },
    {
     "name": "stdout",
     "output_type": "stream",
     "text": [
      "Loss_G: 1.0169212354554071\\Loss_D_z: 1.3802515202098422\\Loss_D_img: 1.713397377067142\n",
      "vgg_loss 0.007130463141947985\n",
      "EG_loss 0.13936160504817963\n",
      "fm_loss 0.1542973518371582\n",
      "G_img_loss 1.1399452686309814\n",
      "E_z_loss 0.6842029094696045\n",
      "tv_loss 0.45772552490234375\n",
      "D_cont_loss_fake 0.6140459179878235\n",
      "D_img_loss_input 0.6048723459243774\n",
      "D_img_loss_G 0.41711848974227905\n",
      "End of epoch 3 \t Time Taken: 21.069278717041016 sec\n",
      "\n"
     ]
    },
    {
     "name": "stderr",
     "output_type": "stream",
     "text": [
      "\n",
      "18it [00:20,  1.13s/it]"
     ]
    },
    {
     "name": "stdout",
     "output_type": "stream",
     "text": [
      "Loss_G: 0.8522376616795858\\Loss_D_z: 1.376611782444848\\Loss_D_img: 1.4498584005567763\n",
      "vgg_loss 0.006731472443789244\n",
      "EG_loss 0.1291736215353012\n",
      "fm_loss 0.1824929267168045\n",
      "G_img_loss 1.1816575527191162\n",
      "E_z_loss 0.6905378103256226\n",
      "tv_loss 0.43158993124961853\n",
      "D_cont_loss_fake 0.4750772714614868\n",
      "D_img_loss_input 0.3987094759941101\n",
      "D_img_loss_G 0.3998810052871704\n",
      "End of epoch 4 \t Time Taken: 20.954113483428955 sec\n",
      "\n"
     ]
    },
    {
     "name": "stderr",
     "output_type": "stream",
     "text": [
      "\n",
      "18it [00:20,  1.12s/it]"
     ]
    },
    {
     "name": "stdout",
     "output_type": "stream",
     "text": [
      "Loss_G: 0.7404261661900414\\Loss_D_z: 1.3714197940296597\\Loss_D_img: 1.2499931388431125\n",
      "vgg_loss 0.006673444993793964\n",
      "EG_loss 0.12994085252285004\n",
      "fm_loss 0.19587987661361694\n",
      "G_img_loss 1.3291916847229004\n",
      "E_z_loss 0.6988232135772705\n",
      "tv_loss 0.45183295011520386\n",
      "D_cont_loss_fake 0.44130590558052063\n",
      "D_img_loss_input 0.4951012134552002\n",
      "D_img_loss_G 0.3190210163593292\n",
      "End of epoch 5 \t Time Taken: 20.857025146484375 sec\n",
      "\n"
     ]
    },
    {
     "name": "stderr",
     "output_type": "stream",
     "text": [
      "\n",
      "18it [00:20,  1.13s/it]"
     ]
    },
    {
     "name": "stdout",
     "output_type": "stream",
     "text": [
      "Loss_G: 0.6630499396059248\\Loss_D_z: 1.3677849107318454\\Loss_D_img: 1.1252889467610254\n",
      "vgg_loss 0.0065418025478720665\n",
      "EG_loss 0.1287653148174286\n",
      "fm_loss 0.22185468673706055\n",
      "G_img_loss 1.3565040826797485\n",
      "E_z_loss 0.7091012597084045\n",
      "tv_loss 0.46641597151756287\n",
      "D_cont_loss_fake 0.40083491802215576\n",
      "D_img_loss_input 0.2671215534210205\n",
      "D_img_loss_G 0.30438482761383057\n",
      "End of epoch 6 \t Time Taken: 20.93598985671997 sec\n",
      "\n"
     ]
    },
    {
     "name": "stderr",
     "output_type": "stream",
     "text": [
      "\n",
      "18it [00:20,  1.13s/it]"
     ]
    },
    {
     "name": "stdout",
     "output_type": "stream",
     "text": [
      "Loss_G: 0.5844527880350748\\Loss_D_z: 1.3646055393748813\\Loss_D_img: 0.9051637351512909\n",
      "vgg_loss 0.006458005867898464\n",
      "EG_loss 0.12764598429203033\n",
      "fm_loss 0.22389471530914307\n",
      "G_img_loss 1.628772258758545\n",
      "E_z_loss 0.7144105434417725\n",
      "tv_loss 0.537254810333252\n",
      "D_cont_loss_fake 0.2973752021789551\n",
      "D_img_loss_input 0.4523881673812866\n",
      "D_img_loss_G 0.2326849400997162\n",
      "End of epoch 7 \t Time Taken: 20.925073862075806 sec\n",
      "\n"
     ]
    },
    {
     "name": "stderr",
     "output_type": "stream",
     "text": [
      "\n",
      "18it [00:20,  1.13s/it]"
     ]
    },
    {
     "name": "stdout",
     "output_type": "stream",
     "text": [
      "Loss_G: 0.5565863947073618\\Loss_D_z: 1.3596576982074313\\Loss_D_img: 0.8625233537620969\n",
      "vgg_loss 0.006412719376385212\n",
      "EG_loss 0.12724152207374573\n",
      "fm_loss 0.23216255009174347\n",
      "G_img_loss 1.449042797088623\n",
      "E_z_loss 0.7167664766311646\n",
      "tv_loss 0.5277849435806274\n",
      "D_cont_loss_fake 0.23396356403827667\n",
      "D_img_loss_input 0.28109005093574524\n",
      "D_img_loss_G 0.28200584650039673\n",
      "End of epoch 8 \t Time Taken: 21.064080953598022 sec\n",
      "\n"
     ]
    },
    {
     "name": "stderr",
     "output_type": "stream",
     "text": [
      "\n",
      "18it [00:20,  1.13s/it]"
     ]
    },
    {
     "name": "stdout",
     "output_type": "stream",
     "text": [
      "Loss_G: 0.522514111465878\\Loss_D_z: 1.3529565864139133\\Loss_D_img: 0.8321970370080736\n",
      "vgg_loss 0.006330446805804968\n",
      "EG_loss 0.12311670184135437\n",
      "fm_loss 0.25030553340911865\n",
      "G_img_loss 1.8551113605499268\n",
      "E_z_loss 0.721454918384552\n",
      "tv_loss 0.5154844522476196\n",
      "D_cont_loss_fake 0.2328929603099823\n",
      "D_img_loss_input 0.2491512894630432\n",
      "D_img_loss_G 0.17263585329055786\n",
      "End of epoch 9 \t Time Taken: 20.9977285861969 sec\n",
      "\n"
     ]
    },
    {
     "name": "stderr",
     "output_type": "stream",
     "text": [
      "\n",
      "18it [00:20,  1.14s/it]"
     ]
    },
    {
     "name": "stdout",
     "output_type": "stream",
     "text": [
      "Loss_G: 0.49829839335547554\\Loss_D_z: 1.346733848253886\\Loss_D_img: 0.801516572634379\n",
      "vgg_loss 0.0061974842101335526\n",
      "EG_loss 0.12544368207454681\n",
      "fm_loss 0.2568650245666504\n",
      "G_img_loss 1.6715261936187744\n",
      "E_z_loss 0.7234534025192261\n",
      "tv_loss 0.6070992946624756\n",
      "D_cont_loss_fake 0.2055620551109314\n",
      "D_img_loss_input 0.2323908656835556\n",
      "D_img_loss_G 0.22653767466545105\n",
      "End of epoch 10 \t Time Taken: 21.032463788986206 sec\n",
      "\n"
     ]
    },
    {
     "name": "stderr",
     "output_type": "stream",
     "text": [
      "\n",
      "18it [00:20,  1.12s/it]"
     ]
    },
    {
     "name": "stdout",
     "output_type": "stream",
     "text": [
      "Loss_G: 0.45741866694556343\\Loss_D_z: 1.3415809207492404\\Loss_D_img: 0.6226276357968649\n",
      "vgg_loss 0.006081366911530495\n",
      "EG_loss 0.12351682037115097\n",
      "fm_loss 0.2727022171020508\n",
      "G_img_loss 1.1946626901626587\n",
      "E_z_loss 0.7332761883735657\n",
      "tv_loss 0.6351141929626465\n",
      "D_cont_loss_fake 0.16193872690200806\n",
      "D_img_loss_input 0.1437000036239624\n",
      "D_img_loss_G 0.37706926465034485\n",
      "End of epoch 11 \t Time Taken: 20.886446475982666 sec\n",
      "\n"
     ]
    },
    {
     "name": "stderr",
     "output_type": "stream",
     "text": [
      "\n",
      "18it [00:20,  1.13s/it]"
     ]
    },
    {
     "name": "stdout",
     "output_type": "stream",
     "text": [
      "Loss_G: 0.4396558668878343\\Loss_D_z: 1.332285828060574\\Loss_D_img: 0.6701968560616175\n",
      "vgg_loss 0.006239667534828186\n",
      "EG_loss 0.12333448231220245\n",
      "fm_loss 0.2647380232810974\n",
      "G_img_loss 1.9414280652999878\n",
      "E_z_loss 0.744721531867981\n",
      "tv_loss 0.5477076768875122\n",
      "D_cont_loss_fake 0.1854884922504425\n",
      "D_img_loss_input 0.22367244958877563\n",
      "D_img_loss_G 0.1828785389661789\n",
      "End of epoch 12 \t Time Taken: 20.98285961151123 sec\n",
      "\n"
     ]
    },
    {
     "name": "stderr",
     "output_type": "stream",
     "text": [
      "\n",
      "18it [00:20,  1.13s/it]"
     ]
    },
    {
     "name": "stdout",
     "output_type": "stream",
     "text": [
      "Loss_G: 0.4105794413222207\\Loss_D_z: 1.3290582829051547\\Loss_D_img: 0.5319960547818078\n",
      "vgg_loss 0.005995248444378376\n",
      "EG_loss 0.13352197408676147\n",
      "fm_loss 0.263323038816452\n",
      "G_img_loss 2.0910086631774902\n",
      "E_z_loss 0.7344095706939697\n",
      "tv_loss 0.635857880115509\n",
      "D_cont_loss_fake 0.15416210889816284\n",
      "D_img_loss_input 0.2665909230709076\n",
      "D_img_loss_G 0.13744595646858215\n",
      "End of epoch 13 \t Time Taken: 21.158393621444702 sec\n",
      "\n"
     ]
    },
    {
     "name": "stderr",
     "output_type": "stream",
     "text": [
      "\n",
      "18it [00:20,  1.15s/it]"
     ]
    },
    {
     "name": "stdout",
     "output_type": "stream",
     "text": [
      "Loss_G: 0.4072085569302241\\Loss_D_z: 1.321739461686876\\Loss_D_img: 0.5328205823898315\n",
      "vgg_loss 0.006166466046124697\n",
      "EG_loss 0.11912205815315247\n",
      "fm_loss 0.2783191502094269\n",
      "G_img_loss 1.8130755424499512\n",
      "E_z_loss 0.7544205188751221\n",
      "tv_loss 0.6347333192825317\n",
      "D_cont_loss_fake 0.12656405568122864\n",
      "D_img_loss_input 0.17726629972457886\n",
      "D_img_loss_G 0.23842084407806396\n",
      "End of epoch 14 \t Time Taken: 21.221408128738403 sec\n",
      "\n"
     ]
    },
    {
     "name": "stderr",
     "output_type": "stream",
     "text": [
      "\n",
      "18it [00:20,  1.14s/it]"
     ]
    },
    {
     "name": "stdout",
     "output_type": "stream",
     "text": [
      "Loss_G: 0.4103929681910409\\Loss_D_z: 1.3137133253945246\\Loss_D_img: 0.7359831399387784\n",
      "vgg_loss 0.005935382097959518\n",
      "EG_loss 0.11517663300037384\n",
      "fm_loss 0.27559995651245117\n",
      "G_img_loss 1.8078904151916504\n",
      "E_z_loss 0.7567846775054932\n",
      "tv_loss 0.6452599167823792\n",
      "D_cont_loss_fake 0.11521066725254059\n",
      "D_img_loss_input 0.2105008065700531\n",
      "D_img_loss_G 0.19704493880271912\n",
      "End of epoch 15 \t Time Taken: 21.146224975585938 sec\n",
      "\n"
     ]
    },
    {
     "name": "stderr",
     "output_type": "stream",
     "text": [
      "\n",
      "18it [00:20,  1.13s/it]"
     ]
    },
    {
     "name": "stdout",
     "output_type": "stream",
     "text": [
      "Loss_G: 0.37657613555590314\\Loss_D_z: 1.3058239685164557\\Loss_D_img: 0.4682087202866872\n",
      "vgg_loss 0.00590195506811142\n",
      "EG_loss 0.11565336585044861\n",
      "fm_loss 0.2655569314956665\n",
      "G_img_loss 1.643155813217163\n",
      "E_z_loss 0.7660225033760071\n",
      "tv_loss 0.6832435131072998\n",
      "D_cont_loss_fake 0.11305209994316101\n",
      "D_img_loss_input 0.14133143424987793\n",
      "D_img_loss_G 0.24760839343070984\n",
      "End of epoch 16 \t Time Taken: 21.190666675567627 sec\n",
      "\n"
     ]
    },
    {
     "name": "stderr",
     "output_type": "stream",
     "text": [
      "\n",
      "18it [00:20,  1.13s/it]"
     ]
    },
    {
     "name": "stdout",
     "output_type": "stream",
     "text": [
      "Loss_G: 0.3941819585031933\\Loss_D_z: 1.2938520908355713\\Loss_D_img: 0.6886508166790009\n",
      "vgg_loss 0.005825711879879236\n",
      "EG_loss 0.11356731504201889\n",
      "fm_loss 0.25746339559555054\n",
      "G_img_loss 2.159550666809082\n",
      "E_z_loss 0.7601919174194336\n",
      "tv_loss 0.6775940656661987\n",
      "D_cont_loss_fake 0.10821197926998138\n",
      "D_img_loss_input 0.18570207059383392\n",
      "D_img_loss_G 0.12964439392089844\n",
      "End of epoch 17 \t Time Taken: 21.076009035110474 sec\n",
      "\n"
     ]
    },
    {
     "name": "stderr",
     "output_type": "stream",
     "text": [
      "\n",
      "18it [00:20,  1.13s/it]"
     ]
    },
    {
     "name": "stdout",
     "output_type": "stream",
     "text": [
      "Loss_G: 0.3662976821263631\\Loss_D_z: 1.284339189529419\\Loss_D_img: 0.5526120464007059\n",
      "vgg_loss 0.006006905343383551\n",
      "EG_loss 0.11348669230937958\n",
      "fm_loss 0.2725973129272461\n",
      "G_img_loss 1.983508825302124\n",
      "E_z_loss 0.7875438332557678\n",
      "tv_loss 0.6100380420684814\n",
      "D_cont_loss_fake 0.10245642811059952\n",
      "D_img_loss_input 0.14846861362457275\n",
      "D_img_loss_G 0.16822367906570435\n",
      "End of epoch 18 \t Time Taken: 20.92177653312683 sec\n",
      "\n"
     ]
    },
    {
     "name": "stderr",
     "output_type": "stream",
     "text": [
      "\n",
      "18it [00:20,  1.12s/it]"
     ]
    },
    {
     "name": "stdout",
     "output_type": "stream",
     "text": [
      "Loss_G: 0.3618515017959807\\Loss_D_z: 1.2848282588852777\\Loss_D_img: 0.4887586418125365\n",
      "vgg_loss 0.005846621468663216\n",
      "EG_loss 0.11776916682720184\n",
      "fm_loss 0.26902246475219727\n",
      "G_img_loss 2.372060775756836\n",
      "E_z_loss 0.7783012390136719\n",
      "tv_loss 0.6608712077140808\n",
      "D_cont_loss_fake 0.11283289641141891\n",
      "D_img_loss_input 0.26995110511779785\n",
      "D_img_loss_G 0.11632052063941956\n",
      "End of epoch 19 \t Time Taken: 20.89027428627014 sec\n",
      "\n"
     ]
    },
    {
     "name": "stderr",
     "output_type": "stream",
     "text": [
      "\n",
      "18it [00:20,  1.13s/it]"
     ]
    },
    {
     "name": "stdout",
     "output_type": "stream",
     "text": [
      "Loss_G: 0.35921116338835823\\Loss_D_z: 1.2845685614479914\\Loss_D_img: 0.6711004790332582\n",
      "vgg_loss 0.0057900287210941315\n",
      "EG_loss 0.11101224273443222\n",
      "fm_loss 0.27547138929367065\n",
      "G_img_loss 1.5924437046051025\n",
      "E_z_loss 0.7789108753204346\n",
      "tv_loss 0.6392608284950256\n",
      "D_cont_loss_fake 0.09741055220365524\n",
      "D_img_loss_input 0.16457480192184448\n",
      "D_img_loss_G 0.2424566000699997\n",
      "End of epoch 20 \t Time Taken: 21.002087831497192 sec\n",
      "\n"
     ]
    },
    {
     "name": "stderr",
     "output_type": "stream",
     "text": [
      "\n",
      "18it [00:20,  1.13s/it]"
     ]
    },
    {
     "name": "stdout",
     "output_type": "stream",
     "text": [
      "Loss_G: 0.3435008641746309\\Loss_D_z: 1.2716312143537734\\Loss_D_img: 0.5983046111133363\n",
      "vgg_loss 0.005888266023248434\n",
      "EG_loss 0.11230611801147461\n",
      "fm_loss 0.25303971767425537\n",
      "G_img_loss 1.5444892644882202\n",
      "E_z_loss 0.7807815074920654\n",
      "tv_loss 0.6604440212249756\n",
      "D_cont_loss_fake 0.09775324165821075\n",
      "D_img_loss_input 0.1136665791273117\n",
      "D_img_loss_G 0.28486669063568115\n",
      "End of epoch 21 \t Time Taken: 21.01258611679077 sec\n",
      "\n"
     ]
    },
    {
     "name": "stderr",
     "output_type": "stream",
     "text": [
      "\n",
      "18it [00:20,  1.13s/it]"
     ]
    },
    {
     "name": "stdout",
     "output_type": "stream",
     "text": [
      "Loss_G: 0.3487679892116123\\Loss_D_z: 1.263283325566186\\Loss_D_img: 0.4946322871579064\n",
      "vgg_loss 0.006043634843081236\n",
      "EG_loss 0.11965598911046982\n",
      "fm_loss 0.273117333650589\n",
      "G_img_loss 1.8255689144134521\n",
      "E_z_loss 0.7983956336975098\n",
      "tv_loss 0.7866047620773315\n",
      "D_cont_loss_fake 0.0615408681333065\n",
      "D_img_loss_input 0.17163661122322083\n",
      "D_img_loss_G 0.20059823989868164\n",
      "End of epoch 22 \t Time Taken: 20.985473155975342 sec\n",
      "\n"
     ]
    },
    {
     "name": "stderr",
     "output_type": "stream",
     "text": [
      "\n",
      "18it [00:20,  1.12s/it]"
     ]
    },
    {
     "name": "stdout",
     "output_type": "stream",
     "text": [
      "Loss_G: 0.3497714069154527\\Loss_D_z: 1.2526170876291063\\Loss_D_img: 0.6359092824988894\n",
      "vgg_loss 0.0057824659161269665\n",
      "EG_loss 0.10960026830434799\n",
      "fm_loss 0.2960466742515564\n",
      "G_img_loss 2.135241985321045\n",
      "E_z_loss 0.7941348552703857\n",
      "tv_loss 0.6092711091041565\n",
      "D_cont_loss_fake 0.0910140872001648\n",
      "D_img_loss_input 0.15140725672245026\n",
      "D_img_loss_G 0.18943065404891968\n",
      "End of epoch 23 \t Time Taken: 20.916887283325195 sec\n",
      "\n"
     ]
    },
    {
     "name": "stderr",
     "output_type": "stream",
     "text": [
      "\n",
      "18it [00:20,  1.13s/it]"
     ]
    },
    {
     "name": "stdout",
     "output_type": "stream",
     "text": [
      "Loss_G: 0.3358818110492494\\Loss_D_z: 1.2511285079850092\\Loss_D_img: 0.60027876496315\n",
      "vgg_loss 0.006017044652253389\n",
      "EG_loss 0.11326655000448227\n",
      "fm_loss 0.2861931324005127\n",
      "G_img_loss 0.5548685789108276\n",
      "E_z_loss 0.8112467527389526\n",
      "tv_loss 0.779083251953125\n",
      "D_cont_loss_fake 0.09957483410835266\n",
      "D_img_loss_input 0.10449814796447754\n",
      "D_img_loss_G 1.0316258668899536\n",
      "End of epoch 24 \t Time Taken: 20.955124616622925 sec\n",
      "\n"
     ]
    },
    {
     "name": "stderr",
     "output_type": "stream",
     "text": [
      "\n",
      "18it [00:20,  1.13s/it]"
     ]
    },
    {
     "name": "stdout",
     "output_type": "stream",
     "text": [
      "Loss_G: 0.3390578611029519\\Loss_D_z: 1.2325932913356357\\Loss_D_img: 0.43522220684422386\n",
      "vgg_loss 0.00589314429089427\n",
      "EG_loss 0.11307396739721298\n",
      "fm_loss 0.26659494638442993\n",
      "G_img_loss 1.761502742767334\n",
      "E_z_loss 0.8149905800819397\n",
      "tv_loss 0.7149587273597717\n",
      "D_cont_loss_fake 0.06609265506267548\n",
      "D_img_loss_input 0.09197883307933807\n",
      "D_img_loss_G 0.21423275768756866\n",
      "End of epoch 25 \t Time Taken: 21.024075269699097 sec\n",
      "\n"
     ]
    },
    {
     "name": "stderr",
     "output_type": "stream",
     "text": [
      "\n",
      "18it [00:20,  1.13s/it]"
     ]
    },
    {
     "name": "stdout",
     "output_type": "stream",
     "text": [
      "Loss_G: 0.33245669305324554\\Loss_D_z: 1.2268860273891025\\Loss_D_img: 0.6337723102834489\n",
      "vgg_loss 0.005725501570850611\n",
      "EG_loss 0.11145474761724472\n",
      "fm_loss 0.24912987649440765\n",
      "G_img_loss 1.7886502742767334\n",
      "E_z_loss 0.8274807929992676\n",
      "tv_loss 0.7016460299491882\n",
      "D_cont_loss_fake 0.07417868822813034\n",
      "D_img_loss_input 0.12751074135303497\n",
      "D_img_loss_G 0.1987391859292984\n",
      "End of epoch 26 \t Time Taken: 20.90577220916748 sec\n",
      "\n"
     ]
    },
    {
     "name": "stderr",
     "output_type": "stream",
     "text": [
      "\n",
      "18it [00:20,  1.14s/it]"
     ]
    },
    {
     "name": "stdout",
     "output_type": "stream",
     "text": [
      "Loss_G: 0.33148424989647335\\Loss_D_z: 1.2163929409450955\\Loss_D_img: 0.5267426355017556\n",
      "vgg_loss 0.005645282566547394\n",
      "EG_loss 0.10730418562889099\n",
      "fm_loss 0.2683893144130707\n",
      "G_img_loss 2.3790640830993652\n",
      "E_z_loss 0.839451789855957\n",
      "tv_loss 0.6257225275039673\n",
      "D_cont_loss_fake 0.07862305641174316\n",
      "D_img_loss_input 0.2053522765636444\n",
      "D_img_loss_G 0.10895669460296631\n",
      "End of epoch 27 \t Time Taken: 20.979263305664062 sec\n",
      "\n"
     ]
    },
    {
     "name": "stderr",
     "output_type": "stream",
     "text": [
      "\n",
      "18it [00:20,  1.13s/it]"
     ]
    },
    {
     "name": "stdout",
     "output_type": "stream",
     "text": [
      "Loss_G: 0.3308420462740792\\Loss_D_z: 1.2111019161012437\\Loss_D_img: 0.551311355498102\n",
      "vgg_loss 0.005501358769834042\n",
      "EG_loss 0.10485320538282394\n",
      "fm_loss 0.24742965400218964\n",
      "G_img_loss 1.921704649925232\n",
      "E_z_loss 0.853236198425293\n",
      "tv_loss 0.5852912068367004\n",
      "D_cont_loss_fake 0.07945914566516876\n",
      "D_img_loss_input 0.16365396976470947\n",
      "D_img_loss_G 0.22458875179290771\n",
      "End of epoch 28 \t Time Taken: 21.064900875091553 sec\n",
      "\n"
     ]
    },
    {
     "name": "stderr",
     "output_type": "stream",
     "text": [
      "\n",
      "18it [00:20,  1.13s/it]"
     ]
    },
    {
     "name": "stdout",
     "output_type": "stream",
     "text": [
      "Loss_G: 0.32006096839904785\\Loss_D_z: 1.2014813092019823\\Loss_D_img: 0.4196416520410114\n",
      "vgg_loss 0.005595592316240072\n",
      "EG_loss 0.1076364815235138\n",
      "fm_loss 0.23961815237998962\n",
      "G_img_loss 2.440321922302246\n",
      "E_z_loss 0.8635799884796143\n",
      "tv_loss 0.6798960566520691\n",
      "D_cont_loss_fake 0.07423379272222519\n",
      "D_img_loss_input 0.1690596640110016\n",
      "D_img_loss_G 0.09893672168254852\n",
      "End of epoch 29 \t Time Taken: 20.862716913223267 sec\n",
      "\n"
     ]
    },
    {
     "name": "stderr",
     "output_type": "stream",
     "text": [
      "\n",
      "18it [00:20,  1.13s/it]"
     ]
    },
    {
     "name": "stdout",
     "output_type": "stream",
     "text": [
      "Loss_G: 0.31957591738965774\\Loss_D_z: 1.1876874963442485\\Loss_D_img: 0.5759600235356225\n",
      "vgg_loss 0.0057112849317491055\n",
      "EG_loss 0.11045002937316895\n",
      "fm_loss 0.2555111050605774\n",
      "G_img_loss 1.9317083358764648\n",
      "E_z_loss 0.8716104030609131\n",
      "tv_loss 0.7476766109466553\n",
      "D_cont_loss_fake 0.06595484912395477\n",
      "D_img_loss_input 0.20050865411758423\n",
      "D_img_loss_G 0.18437203764915466\n",
      "End of epoch 30 \t Time Taken: 21.13285493850708 sec\n",
      "\n"
     ]
    },
    {
     "name": "stderr",
     "output_type": "stream",
     "text": [
      "\n",
      "18it [00:20,  1.13s/it]"
     ]
    },
    {
     "name": "stdout",
     "output_type": "stream",
     "text": [
      "Loss_G: 0.3220113135046429\\Loss_D_z: 1.1815611720085144\\Loss_D_img: 0.5314656347036362\n",
      "vgg_loss 0.00565437413752079\n",
      "EG_loss 0.11038480699062347\n",
      "fm_loss 0.24448935687541962\n",
      "G_img_loss 2.3842883110046387\n",
      "E_z_loss 0.8520130515098572\n",
      "tv_loss 0.7262707352638245\n",
      "D_cont_loss_fake 0.05868382379412651\n",
      "D_img_loss_input 0.3855600357055664\n",
      "D_img_loss_G 0.1153726577758789\n",
      "End of epoch 31 \t Time Taken: 20.974884748458862 sec\n",
      "\n"
     ]
    },
    {
     "name": "stderr",
     "output_type": "stream",
     "text": [
      "\n",
      "18it [00:20,  1.14s/it]"
     ]
    },
    {
     "name": "stdout",
     "output_type": "stream",
     "text": [
      "Loss_G: 0.32088683545589447\\Loss_D_z: 1.164456268151601\\Loss_D_img: 0.5075393964846929\n",
      "vgg_loss 0.005496974103152752\n",
      "EG_loss 0.10816192626953125\n",
      "fm_loss 0.27504920959472656\n",
      "G_img_loss 1.035018801689148\n",
      "E_z_loss 0.8754900693893433\n",
      "tv_loss 0.7795826196670532\n",
      "D_cont_loss_fake 0.06960578262805939\n",
      "D_img_loss_input 0.1150946244597435\n",
      "D_img_loss_G 0.654853343963623\n",
      "End of epoch 32 \t Time Taken: 21.033548831939697 sec\n",
      "\n"
     ]
    },
    {
     "name": "stderr",
     "output_type": "stream",
     "text": [
      "\n",
      "18it [00:20,  1.13s/it]"
     ]
    },
    {
     "name": "stdout",
     "output_type": "stream",
     "text": [
      "Loss_G: 0.32062773240937126\\Loss_D_z: 1.1555769311057196\\Loss_D_img: 0.6797438909610113\n",
      "vgg_loss 0.005710196681320667\n",
      "EG_loss 0.11146339029073715\n",
      "fm_loss 0.23475250601768494\n",
      "G_img_loss 2.074131727218628\n",
      "E_z_loss 0.8668615221977234\n",
      "tv_loss 0.7010715007781982\n",
      "D_cont_loss_fake 0.08626954257488251\n",
      "D_img_loss_input 0.2829827666282654\n",
      "D_img_loss_G 0.2651318907737732\n",
      "End of epoch 33 \t Time Taken: 21.066853284835815 sec\n",
      "\n"
     ]
    },
    {
     "name": "stderr",
     "output_type": "stream",
     "text": [
      "\n",
      "18it [00:20,  1.14s/it]"
     ]
    },
    {
     "name": "stdout",
     "output_type": "stream",
     "text": [
      "Loss_G: 0.31477266715632546\\Loss_D_z: 1.1424182256062825\\Loss_D_img: 0.4111197392145793\n",
      "vgg_loss 0.005680580157786608\n",
      "EG_loss 0.1059504896402359\n",
      "fm_loss 0.24499371647834778\n",
      "G_img_loss 2.386895179748535\n",
      "E_z_loss 0.8971486687660217\n",
      "tv_loss 0.7943763732910156\n",
      "D_cont_loss_fake 0.06021280586719513\n",
      "D_img_loss_input 0.21865035593509674\n",
      "D_img_loss_G 0.12089060992002487\n",
      "End of epoch 34 \t Time Taken: 20.96542453765869 sec\n",
      "\n"
     ]
    },
    {
     "name": "stderr",
     "output_type": "stream",
     "text": [
      "\n",
      "18it [00:20,  1.13s/it]"
     ]
    },
    {
     "name": "stdout",
     "output_type": "stream",
     "text": [
      "Loss_G: 0.3103176603714625\\Loss_D_z: 1.1358009444342718\\Loss_D_img: 0.48677195111910504\n",
      "vgg_loss 0.00561700901016593\n",
      "EG_loss 0.10912543535232544\n",
      "fm_loss 0.2561691105365753\n",
      "G_img_loss 1.3693022727966309\n",
      "E_z_loss 0.9138548374176025\n",
      "tv_loss 0.7477506995201111\n",
      "D_cont_loss_fake 0.06642920523881912\n",
      "D_img_loss_input 0.08750028908252716\n",
      "D_img_loss_G 0.3485132157802582\n",
      "End of epoch 35 \t Time Taken: 21.04822826385498 sec\n",
      "\n"
     ]
    },
    {
     "name": "stderr",
     "output_type": "stream",
     "text": [
      "\n",
      "18it [00:20,  1.14s/it]"
     ]
    },
    {
     "name": "stdout",
     "output_type": "stream",
     "text": [
      "Loss_G: 0.31555650962723625\\Loss_D_z: 1.129816512266795\\Loss_D_img: 0.515915948483679\n",
      "vgg_loss 0.00552556524053216\n",
      "EG_loss 0.10739897191524506\n",
      "fm_loss 0.27220872044563293\n",
      "G_img_loss 2.191283941268921\n",
      "E_z_loss 0.9230849146842957\n",
      "tv_loss 0.7022696733474731\n",
      "D_cont_loss_fake 0.06140562519431114\n",
      "D_img_loss_input 0.2055545449256897\n",
      "D_img_loss_G 0.16994020342826843\n",
      "End of epoch 36 \t Time Taken: 21.053011178970337 sec\n",
      "\n"
     ]
    },
    {
     "name": "stderr",
     "output_type": "stream",
     "text": [
      "\n",
      "18it [00:20,  1.13s/it]"
     ]
    },
    {
     "name": "stdout",
     "output_type": "stream",
     "text": [
      "Loss_G: 0.3120521853367488\\Loss_D_z: 1.1379865739080641\\Loss_D_img: 0.46742827859189773\n",
      "vgg_loss 0.00568031333386898\n",
      "EG_loss 0.1062123104929924\n",
      "fm_loss 0.2563376724720001\n",
      "G_img_loss 2.811795711517334\n",
      "E_z_loss 0.9284677505493164\n",
      "tv_loss 0.8543789386749268\n",
      "D_cont_loss_fake 0.06206725165247917\n",
      "D_img_loss_input 0.3148278594017029\n",
      "D_img_loss_G 0.07283821702003479\n",
      "End of epoch 37 \t Time Taken: 20.984818696975708 sec\n",
      "\n"
     ]
    },
    {
     "name": "stderr",
     "output_type": "stream",
     "text": [
      "\n",
      "18it [00:20,  1.13s/it]"
     ]
    },
    {
     "name": "stdout",
     "output_type": "stream",
     "text": [
      "Loss_G: 0.3118980328241984\\Loss_D_z: 1.1185584333207872\\Loss_D_img: 0.5855361074209213\n",
      "vgg_loss 0.005548600573092699\n",
      "EG_loss 0.10623453557491302\n",
      "fm_loss 0.2510749399662018\n",
      "G_img_loss 2.06721568107605\n",
      "E_z_loss 0.9397760629653931\n",
      "tv_loss 0.6890964508056641\n",
      "D_cont_loss_fake 0.06854525953531265\n",
      "D_img_loss_input 0.1458120048046112\n",
      "D_img_loss_G 0.21411846578121185\n",
      "End of epoch 38 \t Time Taken: 20.999412059783936 sec\n",
      "\n"
     ]
    },
    {
     "name": "stderr",
     "output_type": "stream",
     "text": [
      "\n",
      "18it [00:20,  1.13s/it]"
     ]
    },
    {
     "name": "stdout",
     "output_type": "stream",
     "text": [
      "Loss_G: 0.3100235213836034\\Loss_D_z: 1.0941370460722182\\Loss_D_img: 0.4269489844640096\n",
      "vgg_loss 0.0056517766788601875\n",
      "EG_loss 0.10648876428604126\n",
      "fm_loss 0.24705801904201508\n",
      "G_img_loss 2.3226325511932373\n",
      "E_z_loss 0.9331402778625488\n",
      "tv_loss 0.8565239906311035\n",
      "D_cont_loss_fake 0.07704119384288788\n",
      "D_img_loss_input 0.22240734100341797\n",
      "D_img_loss_G 0.11533094942569733\n",
      "End of epoch 39 \t Time Taken: 21.063640356063843 sec\n",
      "\n"
     ]
    },
    {
     "name": "stderr",
     "output_type": "stream",
     "text": [
      "\n",
      "18it [00:20,  1.13s/it]"
     ]
    },
    {
     "name": "stdout",
     "output_type": "stream",
     "text": [
      "Loss_G: 0.3125120798746745\\Loss_D_z: 1.091343343257904\\Loss_D_img: 0.4751944724056456\n",
      "vgg_loss 0.005772066302597523\n",
      "EG_loss 0.10734911262989044\n",
      "fm_loss 0.24328261613845825\n",
      "G_img_loss 2.53145694732666\n",
      "E_z_loss 0.9179401397705078\n",
      "tv_loss 0.9518841505050659\n",
      "D_cont_loss_fake 0.0683923289179802\n",
      "D_img_loss_input 0.44827800989151\n",
      "D_img_loss_G 0.09886529296636581\n",
      "End of epoch 40 \t Time Taken: 20.955942392349243 sec\n",
      "\n"
     ]
    },
    {
     "name": "stderr",
     "output_type": "stream",
     "text": [
      "\n",
      "18it [00:20,  1.14s/it]"
     ]
    },
    {
     "name": "stdout",
     "output_type": "stream",
     "text": [
      "Loss_G: 0.30808542999956345\\Loss_D_z: 1.0804700255393982\\Loss_D_img: 0.5566170182492998\n",
      "vgg_loss 0.00564623111858964\n",
      "EG_loss 0.1063258945941925\n",
      "fm_loss 0.24302677810192108\n",
      "G_img_loss 2.3923559188842773\n",
      "E_z_loss 0.9487934112548828\n",
      "tv_loss 0.7934861183166504\n",
      "D_cont_loss_fake 0.06334423273801804\n",
      "D_img_loss_input 0.3384111523628235\n",
      "D_img_loss_G 0.13005337119102478\n",
      "End of epoch 41 \t Time Taken: 21.02916169166565 sec\n",
      "\n"
     ]
    },
    {
     "name": "stderr",
     "output_type": "stream",
     "text": [
      "\n",
      "18it [00:20,  1.14s/it]"
     ]
    },
    {
     "name": "stdout",
     "output_type": "stream",
     "text": [
      "Loss_G: 0.3031584206554625\\Loss_D_z: 1.1004179384973314\\Loss_D_img: 0.4603649063242806\n",
      "vgg_loss 0.005826226901262999\n",
      "EG_loss 0.10880725085735321\n",
      "fm_loss 0.2659241855144501\n",
      "G_img_loss 2.800546169281006\n",
      "E_z_loss 0.9163734912872314\n",
      "tv_loss 0.8621463775634766\n",
      "D_cont_loss_fake 0.08141434192657471\n",
      "D_img_loss_input 0.3881989121437073\n",
      "D_img_loss_G 0.06941308081150055\n",
      "End of epoch 42 \t Time Taken: 21.13557481765747 sec\n",
      "\n"
     ]
    },
    {
     "name": "stderr",
     "output_type": "stream",
     "text": [
      "\n",
      "18it [00:20,  1.13s/it]"
     ]
    },
    {
     "name": "stdout",
     "output_type": "stream",
     "text": [
      "Loss_G: 0.30879134436448413\\Loss_D_z: 1.0656102630827162\\Loss_D_img: 0.5471685296959348\n",
      "vgg_loss 0.0056246500462293625\n",
      "EG_loss 0.10801085829734802\n",
      "fm_loss 0.25053900480270386\n",
      "G_img_loss 2.511444091796875\n",
      "E_z_loss 0.9446485042572021\n",
      "tv_loss 0.8185358643531799\n",
      "D_cont_loss_fake 0.049009770154953\n",
      "D_img_loss_input 0.30118444561958313\n",
      "D_img_loss_G 0.10600504279136658\n",
      "End of epoch 43 \t Time Taken: 20.893531322479248 sec\n",
      "\n"
     ]
    },
    {
     "name": "stderr",
     "output_type": "stream",
     "text": [
      "\n",
      "18it [00:20,  1.13s/it]"
     ]
    },
    {
     "name": "stdout",
     "output_type": "stream",
     "text": [
      "Loss_G: 0.30512122644318473\\Loss_D_z: 1.0545613235897489\\Loss_D_img: 0.47304774324099225\n",
      "vgg_loss 0.005656283814460039\n",
      "EG_loss 0.10832834243774414\n",
      "fm_loss 0.26251524686813354\n",
      "G_img_loss 2.1070380210876465\n",
      "E_z_loss 0.9890434145927429\n",
      "tv_loss 0.8247131109237671\n",
      "D_cont_loss_fake 0.06434130668640137\n",
      "D_img_loss_input 0.14566972851753235\n",
      "D_img_loss_G 0.17056608200073242\n",
      "End of epoch 44 \t Time Taken: 21.05603313446045 sec\n",
      "\n"
     ]
    },
    {
     "name": "stderr",
     "output_type": "stream",
     "text": [
      "\n",
      "18it [00:20,  1.12s/it]"
     ]
    },
    {
     "name": "stdout",
     "output_type": "stream",
     "text": [
      "Loss_G: 0.3023579352431827\\Loss_D_z: 1.0512813528378804\\Loss_D_img: 0.44999899963537854\n",
      "vgg_loss 0.005631111096590757\n",
      "EG_loss 0.10680487751960754\n",
      "fm_loss 0.24484029412269592\n",
      "G_img_loss 1.9331777095794678\n",
      "E_z_loss 0.967039942741394\n",
      "tv_loss 0.8636415004730225\n",
      "D_cont_loss_fake 0.05996004864573479\n",
      "D_img_loss_input 0.25277721881866455\n",
      "D_img_loss_G 0.23538872599601746\n",
      "End of epoch 45 \t Time Taken: 20.951096534729004 sec\n",
      "\n"
     ]
    },
    {
     "name": "stderr",
     "output_type": "stream",
     "text": [
      "\n",
      "18it [00:20,  1.13s/it]"
     ]
    },
    {
     "name": "stdout",
     "output_type": "stream",
     "text": [
      "Loss_G: 0.3056718640857273\\Loss_D_z: 1.0403755638334486\\Loss_D_img: 0.5601997756295733\n",
      "vgg_loss 0.005534513853490353\n",
      "EG_loss 0.10315132141113281\n",
      "fm_loss 0.24515177309513092\n",
      "G_img_loss 2.8620998859405518\n",
      "E_z_loss 1.006197214126587\n",
      "tv_loss 0.8374833464622498\n",
      "D_cont_loss_fake 0.07320365309715271\n",
      "D_img_loss_input 0.6512337327003479\n",
      "D_img_loss_G 0.07928918302059174\n",
      "End of epoch 46 \t Time Taken: 21.00122094154358 sec\n",
      "\n"
     ]
    },
    {
     "name": "stderr",
     "output_type": "stream",
     "text": [
      "\n",
      "18it [00:20,  1.13s/it]"
     ]
    },
    {
     "name": "stdout",
     "output_type": "stream",
     "text": [
      "Loss_G: 0.305828344490793\\Loss_D_z: 1.022281242741479\\Loss_D_img: 0.563175661696328\n",
      "vgg_loss 0.00531513849273324\n",
      "EG_loss 0.10375162214040756\n",
      "fm_loss 0.2551692724227905\n",
      "G_img_loss 2.17203950881958\n",
      "E_z_loss 1.0207148790359497\n",
      "tv_loss 0.7330367565155029\n",
      "D_cont_loss_fake 0.04802371561527252\n",
      "D_img_loss_input 0.09188978374004364\n",
      "D_img_loss_G 0.17060518264770508\n",
      "End of epoch 47 \t Time Taken: 21.05563235282898 sec\n",
      "\n"
     ]
    },
    {
     "name": "stderr",
     "output_type": "stream",
     "text": [
      "\n",
      "18it [00:20,  1.13s/it]"
     ]
    },
    {
     "name": "stdout",
     "output_type": "stream",
     "text": [
      "Loss_G: 0.3003876921203401\\Loss_D_z: 1.0059361159801483\\Loss_D_img: 0.49398526383770835\n",
      "vgg_loss 0.005364981479942799\n",
      "EG_loss 0.09891891479492188\n",
      "fm_loss 0.263724684715271\n",
      "G_img_loss 1.7104027271270752\n",
      "E_z_loss 1.0160249471664429\n",
      "tv_loss 0.7891677618026733\n",
      "D_cont_loss_fake 0.051987648010253906\n",
      "D_img_loss_input 0.11887488514184952\n",
      "D_img_loss_G 0.25879549980163574\n",
      "End of epoch 48 \t Time Taken: 21.21919345855713 sec\n",
      "\n"
     ]
    },
    {
     "name": "stderr",
     "output_type": "stream",
     "text": [
      "\n",
      "18it [00:20,  1.13s/it]"
     ]
    },
    {
     "name": "stdout",
     "output_type": "stream",
     "text": [
      "Loss_G: 0.2983892295095656\\Loss_D_z: 0.9994530710909102\\Loss_D_img: 0.4965531412098143\n",
      "vgg_loss 0.005414494313299656\n",
      "EG_loss 0.10268490761518478\n",
      "fm_loss 0.25453799962997437\n",
      "G_img_loss 2.366807699203491\n",
      "E_z_loss 1.0749497413635254\n",
      "tv_loss 0.7462105751037598\n",
      "D_cont_loss_fake 0.06145445257425308\n",
      "D_img_loss_input 0.10328155755996704\n",
      "D_img_loss_G 0.12098623812198639\n",
      "End of epoch 49 \t Time Taken: 20.973839044570923 sec\n",
      "\n"
     ]
    },
    {
     "name": "stderr",
     "output_type": "stream",
     "text": [
      "\n",
      "18it [00:20,  1.13s/it]\n"
     ]
    },
    {
     "name": "stdout",
     "output_type": "stream",
     "text": [
      "Saving the model at the end of epoch 50\n",
      "\n",
      "Loss_G: 0.2982033888498942\\Loss_D_z: 0.9818687670760684\\Loss_D_img: 0.49060579968823326\n",
      "vgg_loss 0.005515732802450657\n",
      "EG_loss 0.104936882853508\n",
      "fm_loss 0.26350563764572144\n",
      "G_img_loss 1.103476881980896\n",
      "E_z_loss 1.016855239868164\n",
      "tv_loss 0.9281426668167114\n",
      "D_cont_loss_fake 0.06010354682803154\n",
      "D_img_loss_input 0.1648305058479309\n",
      "D_img_loss_G 0.8080328702926636\n",
      "End of epoch 50 \t Time Taken: 21.766330003738403 sec\n",
      "\n"
     ]
    },
    {
     "name": "stderr",
     "output_type": "stream",
     "text": [
      "18it [00:20,  1.13s/it]"
     ]
    },
    {
     "name": "stdout",
     "output_type": "stream",
     "text": [
      "Loss_G: 0.3004294004705217\\Loss_D_z: 0.9673970209227668\\Loss_D_img: 0.48291610678037006\n",
      "vgg_loss 0.005271316040307283\n",
      "EG_loss 0.10162415355443954\n",
      "fm_loss 0.25477612018585205\n",
      "G_img_loss 2.245455741882324\n",
      "E_z_loss 1.038351058959961\n",
      "tv_loss 0.8724777698516846\n",
      "D_cont_loss_fake 0.05518220737576485\n",
      "D_img_loss_input 0.24153350293636322\n",
      "D_img_loss_G 0.195316880941391\n",
      "End of epoch 51 \t Time Taken: 20.876063346862793 sec\n",
      "\n"
     ]
    },
    {
     "name": "stderr",
     "output_type": "stream",
     "text": [
      "\n",
      "18it [00:20,  1.14s/it]"
     ]
    },
    {
     "name": "stdout",
     "output_type": "stream",
     "text": [
      "Loss_G: 0.2971066004700131\\Loss_D_z: 0.958101792467965\\Loss_D_img: 0.4329175502061844\n",
      "vgg_loss 0.005260963924229145\n",
      "EG_loss 0.1014755591750145\n",
      "fm_loss 0.263477623462677\n",
      "G_img_loss 1.8723291158676147\n",
      "E_z_loss 1.0372356176376343\n",
      "tv_loss 0.8862340450286865\n",
      "D_cont_loss_fake 0.047967493534088135\n",
      "D_img_loss_input 0.16623061895370483\n",
      "D_img_loss_G 0.20766767859458923\n",
      "End of epoch 52 \t Time Taken: 21.046432971954346 sec\n",
      "\n"
     ]
    },
    {
     "name": "stderr",
     "output_type": "stream",
     "text": [
      "\n",
      "18it [00:20,  1.13s/it]"
     ]
    },
    {
     "name": "stdout",
     "output_type": "stream",
     "text": [
      "Loss_G: 0.30336952540609574\\Loss_D_z: 0.95609340733952\\Loss_D_img: 0.5043024155828688\n",
      "vgg_loss 0.005306617822498083\n",
      "EG_loss 0.10067519545555115\n",
      "fm_loss 0.2595621347427368\n",
      "G_img_loss 2.417556047439575\n",
      "E_z_loss 1.0618007183074951\n",
      "tv_loss 0.8603492379188538\n",
      "D_cont_loss_fake 0.08010400831699371\n",
      "D_img_loss_input 0.2527368664741516\n",
      "D_img_loss_G 0.14138159155845642\n",
      "End of epoch 53 \t Time Taken: 21.010529279708862 sec\n",
      "\n"
     ]
    },
    {
     "name": "stderr",
     "output_type": "stream",
     "text": [
      "\n",
      "18it [00:20,  1.15s/it]"
     ]
    },
    {
     "name": "stdout",
     "output_type": "stream",
     "text": [
      "Loss_G: 0.29480568567911786\\Loss_D_z: 0.9414048161771562\\Loss_D_img: 0.6410610675811768\n",
      "vgg_loss 0.005183847155421972\n",
      "EG_loss 0.10679750144481659\n",
      "fm_loss 0.23904551565647125\n",
      "G_img_loss 2.467095375061035\n",
      "E_z_loss 1.0166856050491333\n",
      "tv_loss 0.7220396995544434\n",
      "D_cont_loss_fake 0.04609331861138344\n",
      "D_img_loss_input 0.24331334233283997\n",
      "D_img_loss_G 0.14305493235588074\n",
      "End of epoch 54 \t Time Taken: 21.038020133972168 sec\n",
      "\n"
     ]
    },
    {
     "name": "stderr",
     "output_type": "stream",
     "text": [
      "\n",
      "18it [00:20,  1.13s/it]"
     ]
    },
    {
     "name": "stdout",
     "output_type": "stream",
     "text": [
      "Loss_G: 0.2908373524745305\\Loss_D_z: 0.9527376459704505\\Loss_D_img: 0.4642689890331692\n",
      "vgg_loss 0.005307546351104975\n",
      "EG_loss 0.09945541620254517\n",
      "fm_loss 0.23721538484096527\n",
      "G_img_loss 2.3509860038757324\n",
      "E_z_loss 1.0466139316558838\n",
      "tv_loss 0.8895508050918579\n",
      "D_cont_loss_fake 0.06206528842449188\n",
      "D_img_loss_input 0.48115408420562744\n",
      "D_img_loss_G 0.14010117948055267\n",
      "End of epoch 55 \t Time Taken: 21.001861333847046 sec\n",
      "\n"
     ]
    },
    {
     "name": "stderr",
     "output_type": "stream",
     "text": [
      "\n",
      "18it [00:20,  1.14s/it]"
     ]
    },
    {
     "name": "stdout",
     "output_type": "stream",
     "text": [
      "Loss_G: 0.2962101697921753\\Loss_D_z: 0.944736940993203\\Loss_D_img: 0.515207611852222\n",
      "vgg_loss 0.005160720087587833\n",
      "EG_loss 0.09800790250301361\n",
      "fm_loss 0.255426287651062\n",
      "G_img_loss 2.2993154525756836\n",
      "E_z_loss 1.0661216974258423\n",
      "tv_loss 0.7932958602905273\n",
      "D_cont_loss_fake 0.047584470361471176\n",
      "D_img_loss_input 0.1907503306865692\n",
      "D_img_loss_G 0.15066975355148315\n",
      "End of epoch 56 \t Time Taken: 20.935133934020996 sec\n",
      "\n"
     ]
    },
    {
     "name": "stderr",
     "output_type": "stream",
     "text": [
      "\n",
      "18it [00:20,  1.13s/it]"
     ]
    },
    {
     "name": "stdout",
     "output_type": "stream",
     "text": [
      "Loss_G: 0.29418833553791046\\Loss_D_z: 0.9128440287378099\\Loss_D_img: 0.45366819037331474\n",
      "vgg_loss 0.005595160648226738\n",
      "EG_loss 0.10494941473007202\n",
      "fm_loss 0.2677690088748932\n",
      "G_img_loss 1.8935697078704834\n",
      "E_z_loss 1.0471482276916504\n",
      "tv_loss 0.9329379200935364\n",
      "D_cont_loss_fake 0.05998917669057846\n",
      "D_img_loss_input 0.17161589860916138\n",
      "D_img_loss_G 0.2347060739994049\n",
      "End of epoch 57 \t Time Taken: 20.911757469177246 sec\n",
      "\n"
     ]
    },
    {
     "name": "stderr",
     "output_type": "stream",
     "text": [
      "\n",
      "18it [00:20,  1.13s/it]"
     ]
    },
    {
     "name": "stdout",
     "output_type": "stream",
     "text": [
      "Loss_G: 0.2952262709538142\\Loss_D_z: 0.9193654722637601\\Loss_D_img: 0.5358668267726898\n",
      "vgg_loss 0.005075451452285051\n",
      "EG_loss 0.09829142689704895\n",
      "fm_loss 0.2506733536720276\n",
      "G_img_loss 2.3472442626953125\n",
      "E_z_loss 1.1649668216705322\n",
      "tv_loss 0.7926106452941895\n",
      "D_cont_loss_fake 0.05197249352931976\n",
      "D_img_loss_input 0.1739761233329773\n",
      "D_img_loss_G 0.19771859049797058\n",
      "End of epoch 58 \t Time Taken: 21.022948026657104 sec\n",
      "\n"
     ]
    },
    {
     "name": "stderr",
     "output_type": "stream",
     "text": [
      "\n",
      "18it [00:20,  1.14s/it]"
     ]
    },
    {
     "name": "stdout",
     "output_type": "stream",
     "text": [
      "Loss_G: 0.2948203633228938\\Loss_D_z: 0.8980281286769443\\Loss_D_img: 0.4485832651456197\n",
      "vgg_loss 0.00533638522028923\n",
      "EG_loss 0.0996273010969162\n",
      "fm_loss 0.25888341665267944\n",
      "G_img_loss 2.1571381092071533\n",
      "E_z_loss 1.1162774562835693\n",
      "tv_loss 0.9462618827819824\n",
      "D_cont_loss_fake 0.07425998151302338\n",
      "D_img_loss_input 0.3174659311771393\n",
      "D_img_loss_G 0.1566096842288971\n",
      "End of epoch 59 \t Time Taken: 20.985580444335938 sec\n",
      "\n"
     ]
    },
    {
     "name": "stderr",
     "output_type": "stream",
     "text": [
      "\n",
      "18it [00:20,  1.13s/it]"
     ]
    },
    {
     "name": "stdout",
     "output_type": "stream",
     "text": [
      "Loss_G: 0.2955801288286845\\Loss_D_z: 0.87195685505867\\Loss_D_img: 0.4357686721616321\n",
      "vgg_loss 0.0052435691468417645\n",
      "EG_loss 0.0995892882347107\n",
      "fm_loss 0.2632750868797302\n",
      "G_img_loss 2.528451681137085\n",
      "E_z_loss 1.145547866821289\n",
      "tv_loss 0.9410244226455688\n",
      "D_cont_loss_fake 0.06385155767202377\n",
      "D_img_loss_input 0.3498132526874542\n",
      "D_img_loss_G 0.10387255251407623\n",
      "End of epoch 60 \t Time Taken: 21.03576970100403 sec\n",
      "\n"
     ]
    },
    {
     "name": "stderr",
     "output_type": "stream",
     "text": [
      "\n",
      "18it [00:20,  1.15s/it]"
     ]
    },
    {
     "name": "stdout",
     "output_type": "stream",
     "text": [
      "Loss_G: 0.28999323977364433\\Loss_D_z: 0.8666157027085623\\Loss_D_img: 0.47864395048883224\n",
      "vgg_loss 0.005179312080144882\n",
      "EG_loss 0.09772060811519623\n",
      "fm_loss 0.25101760029792786\n",
      "G_img_loss 2.364586353302002\n",
      "E_z_loss 1.162922978401184\n",
      "tv_loss 0.9368236660957336\n",
      "D_cont_loss_fake 0.043902598321437836\n",
      "D_img_loss_input 0.3202081620693207\n",
      "D_img_loss_G 0.14913757145404816\n",
      "End of epoch 61 \t Time Taken: 21.04313015937805 sec\n",
      "\n"
     ]
    },
    {
     "name": "stderr",
     "output_type": "stream",
     "text": [
      "\n",
      "18it [00:20,  1.13s/it]"
     ]
    },
    {
     "name": "stdout",
     "output_type": "stream",
     "text": [
      "Loss_G: 0.2864243917995029\\Loss_D_z: 0.910231288936403\\Loss_D_img: 0.4668654402097066\n",
      "vgg_loss 0.0050973747856915\n",
      "EG_loss 0.09721153974533081\n",
      "fm_loss 0.2550227642059326\n",
      "G_img_loss 2.1708807945251465\n",
      "E_z_loss 1.0923025608062744\n",
      "tv_loss 0.8982185125350952\n",
      "D_cont_loss_fake 0.04915038123726845\n",
      "D_img_loss_input 0.2506140470504761\n",
      "D_img_loss_G 0.1583539843559265\n",
      "End of epoch 62 \t Time Taken: 21.043459177017212 sec\n",
      "\n"
     ]
    },
    {
     "name": "stderr",
     "output_type": "stream",
     "text": [
      "\n",
      "18it [00:20,  1.14s/it]"
     ]
    },
    {
     "name": "stdout",
     "output_type": "stream",
     "text": [
      "Loss_G: 0.29620226058695054\\Loss_D_z: 0.868956165181266\\Loss_D_img: 0.45079083575142753\n",
      "vgg_loss 0.005088349804282188\n",
      "EG_loss 0.09933966398239136\n",
      "fm_loss 0.24836871027946472\n",
      "G_img_loss 1.9973341226577759\n",
      "E_z_loss 1.1728661060333252\n",
      "tv_loss 0.9350944757461548\n",
      "D_cont_loss_fake 0.06037815660238266\n",
      "D_img_loss_input 0.14712902903556824\n",
      "D_img_loss_G 0.18938419222831726\n",
      "End of epoch 63 \t Time Taken: 21.019882917404175 sec\n",
      "\n"
     ]
    },
    {
     "name": "stderr",
     "output_type": "stream",
     "text": [
      "\n",
      "18it [00:20,  1.14s/it]"
     ]
    },
    {
     "name": "stdout",
     "output_type": "stream",
     "text": [
      "Loss_G: 0.2884712533818351\\Loss_D_z: 0.8563466800583733\\Loss_D_img: 0.5068666057454215\n",
      "vgg_loss 0.005229154136031866\n",
      "EG_loss 0.09889285266399384\n",
      "fm_loss 0.2517227530479431\n",
      "G_img_loss 2.0446267127990723\n",
      "E_z_loss 1.140644907951355\n",
      "tv_loss 0.8692103028297424\n",
      "D_cont_loss_fake 0.050048600882291794\n",
      "D_img_loss_input 0.15632706880569458\n",
      "D_img_loss_G 0.25743067264556885\n",
      "End of epoch 64 \t Time Taken: 21.046459197998047 sec\n",
      "\n"
     ]
    },
    {
     "name": "stderr",
     "output_type": "stream",
     "text": [
      "\n",
      "18it [00:20,  1.13s/it]"
     ]
    },
    {
     "name": "stdout",
     "output_type": "stream",
     "text": [
      "Loss_G: 0.2885194702280892\\Loss_D_z: 0.8358547190825144\\Loss_D_img: 0.40856293506092495\n",
      "vgg_loss 0.005197522230446339\n",
      "EG_loss 0.10087089240550995\n",
      "fm_loss 0.26878395676612854\n",
      "G_img_loss 2.2132985591888428\n",
      "E_z_loss 1.148836374282837\n",
      "tv_loss 0.9912424683570862\n",
      "D_cont_loss_fake 0.045307375490665436\n",
      "D_img_loss_input 0.15781466662883759\n",
      "D_img_loss_G 0.1673462688922882\n",
      "End of epoch 65 \t Time Taken: 21.045976400375366 sec\n",
      "\n"
     ]
    },
    {
     "name": "stderr",
     "output_type": "stream",
     "text": [
      "\n",
      "18it [00:20,  1.13s/it]"
     ]
    },
    {
     "name": "stdout",
     "output_type": "stream",
     "text": [
      "Loss_G: 0.28689101172818077\\Loss_D_z: 0.8377476301458147\\Loss_D_img: 0.46030871238973403\n",
      "vgg_loss 0.004995635710656643\n",
      "EG_loss 0.0938912034034729\n",
      "fm_loss 0.26117926836013794\n",
      "G_img_loss 1.841928482055664\n",
      "E_z_loss 1.1579244136810303\n",
      "tv_loss 0.9201316833496094\n",
      "D_cont_loss_fake 0.06415511667728424\n",
      "D_img_loss_input 0.14112083613872528\n",
      "D_img_loss_G 0.21693962812423706\n",
      "End of epoch 66 \t Time Taken: 21.07542324066162 sec\n",
      "\n"
     ]
    },
    {
     "name": "stderr",
     "output_type": "stream",
     "text": [
      "\n",
      "18it [00:20,  1.13s/it]"
     ]
    },
    {
     "name": "stdout",
     "output_type": "stream",
     "text": [
      "Loss_G: 0.2890210300683975\\Loss_D_z: 0.8325391179985471\\Loss_D_img: 0.44185935623115963\n",
      "vgg_loss 0.005064350552856922\n",
      "EG_loss 0.09537017345428467\n",
      "fm_loss 0.2559865713119507\n",
      "G_img_loss 2.052095890045166\n",
      "E_z_loss 1.2304904460906982\n",
      "tv_loss 0.9099995493888855\n",
      "D_cont_loss_fake 0.05275515094399452\n",
      "D_img_loss_input 0.1437673270702362\n",
      "D_img_loss_G 0.19182971119880676\n",
      "End of epoch 67 \t Time Taken: 20.999039888381958 sec\n",
      "\n"
     ]
    },
    {
     "name": "stderr",
     "output_type": "stream",
     "text": [
      "\n",
      "18it [00:20,  1.13s/it]"
     ]
    },
    {
     "name": "stdout",
     "output_type": "stream",
     "text": [
      "Loss_G: 0.2915415151251687\\Loss_D_z: 0.7966438863012526\\Loss_D_img: 0.4470287296507094\n",
      "vgg_loss 0.005204071756452322\n",
      "EG_loss 0.10272035002708435\n",
      "fm_loss 0.26606136560440063\n",
      "G_img_loss 1.5758332014083862\n",
      "E_z_loss 1.3000993728637695\n",
      "tv_loss 0.9553237557411194\n",
      "D_cont_loss_fake 0.04478415474295616\n",
      "D_img_loss_input 0.13412320613861084\n",
      "D_img_loss_G 0.329651415348053\n",
      "End of epoch 68 \t Time Taken: 20.982089281082153 sec\n",
      "\n"
     ]
    },
    {
     "name": "stderr",
     "output_type": "stream",
     "text": [
      "\n",
      "18it [00:20,  1.13s/it]"
     ]
    },
    {
     "name": "stdout",
     "output_type": "stream",
     "text": [
      "Loss_G: 0.289489209651947\\Loss_D_z: 0.775408599111769\\Loss_D_img: 0.4996997382905748\n",
      "vgg_loss 0.0051735201850533485\n",
      "EG_loss 0.10681246221065521\n",
      "fm_loss 0.25336727499961853\n",
      "G_img_loss 2.3711774349212646\n",
      "E_z_loss 1.2125895023345947\n",
      "tv_loss 1.0114022493362427\n",
      "D_cont_loss_fake 0.05704003572463989\n",
      "D_img_loss_input 0.40228337049484253\n",
      "D_img_loss_G 0.17751747369766235\n",
      "End of epoch 69 \t Time Taken: 20.95437717437744 sec\n",
      "\n"
     ]
    },
    {
     "name": "stderr",
     "output_type": "stream",
     "text": [
      "\n",
      "18it [00:20,  1.12s/it]"
     ]
    },
    {
     "name": "stdout",
     "output_type": "stream",
     "text": [
      "Loss_G: 0.28701135681735146\\Loss_D_z: 0.7706430123911964\\Loss_D_img: 0.44207418461640674\n",
      "vgg_loss 0.005021796096116304\n",
      "EG_loss 0.09530868381261826\n",
      "fm_loss 0.2550290822982788\n",
      "G_img_loss 2.6452431678771973\n",
      "E_z_loss 1.27069091796875\n",
      "tv_loss 0.9181917905807495\n",
      "D_cont_loss_fake 0.046070244163274765\n",
      "D_img_loss_input 0.2895370125770569\n",
      "D_img_loss_G 0.09704289585351944\n",
      "End of epoch 70 \t Time Taken: 20.9533212184906 sec\n",
      "\n"
     ]
    },
    {
     "name": "stderr",
     "output_type": "stream",
     "text": [
      "\n",
      "18it [00:20,  1.13s/it]"
     ]
    },
    {
     "name": "stdout",
     "output_type": "stream",
     "text": [
      "Loss_G: 0.2869865083032184\\Loss_D_z: 0.7387199103832245\\Loss_D_img: 0.3991911808649699\n",
      "vgg_loss 0.005050372797995806\n",
      "EG_loss 0.09578734636306763\n",
      "fm_loss 0.24759776890277863\n",
      "G_img_loss 2.253063201904297\n",
      "E_z_loss 1.3610169887542725\n",
      "tv_loss 0.9161107540130615\n",
      "D_cont_loss_fake 0.04656003415584564\n",
      "D_img_loss_input 0.20438219606876373\n",
      "D_img_loss_G 0.135783851146698\n",
      "End of epoch 71 \t Time Taken: 21.066158771514893 sec\n",
      "\n"
     ]
    },
    {
     "name": "stderr",
     "output_type": "stream",
     "text": [
      "\n",
      "18it [00:20,  1.13s/it]"
     ]
    },
    {
     "name": "stdout",
     "output_type": "stream",
     "text": [
      "Loss_G: 0.28488533861107296\\Loss_D_z: 0.7468984358840518\\Loss_D_img: 0.44680479500028825\n",
      "vgg_loss 0.004989015869796276\n",
      "EG_loss 0.09467212855815887\n",
      "fm_loss 0.25562113523483276\n",
      "G_img_loss 2.3482542037963867\n",
      "E_z_loss 1.278412103652954\n",
      "tv_loss 0.9641594290733337\n",
      "D_cont_loss_fake 0.0589606948196888\n",
      "D_img_loss_input 0.2512264847755432\n",
      "D_img_loss_G 0.18995198607444763\n",
      "End of epoch 72 \t Time Taken: 20.96317148208618 sec\n",
      "\n"
     ]
    },
    {
     "name": "stderr",
     "output_type": "stream",
     "text": [
      "\n",
      "18it [00:20,  1.14s/it]"
     ]
    },
    {
     "name": "stdout",
     "output_type": "stream",
     "text": [
      "Loss_G: 0.2847821315129598\\Loss_D_z: 0.7571607993708717\\Loss_D_img: 0.43597738775942063\n",
      "vgg_loss 0.0048041860572993755\n",
      "EG_loss 0.09305518120527267\n",
      "fm_loss 0.241635262966156\n",
      "G_img_loss 2.9710872173309326\n",
      "E_z_loss 1.2143105268478394\n",
      "tv_loss 0.9141453504562378\n",
      "D_cont_loss_fake 0.04949736222624779\n",
      "D_img_loss_input 0.2723718583583832\n",
      "D_img_loss_G 0.07302135229110718\n",
      "End of epoch 73 \t Time Taken: 21.0678653717041 sec\n",
      "\n"
     ]
    },
    {
     "name": "stderr",
     "output_type": "stream",
     "text": [
      "\n",
      "18it [00:20,  1.13s/it]"
     ]
    },
    {
     "name": "stdout",
     "output_type": "stream",
     "text": [
      "Loss_G: 0.28425798151228165\\Loss_D_z: 0.7683211266994476\\Loss_D_img: 0.40179894202285343\n",
      "vgg_loss 0.00492766872048378\n",
      "EG_loss 0.0944504588842392\n",
      "fm_loss 0.259981632232666\n",
      "G_img_loss 2.139902353286743\n",
      "E_z_loss 1.2849161624908447\n",
      "tv_loss 0.8890013694763184\n",
      "D_cont_loss_fake 0.05755491554737091\n",
      "D_img_loss_input 0.20174220204353333\n",
      "D_img_loss_G 0.17958754301071167\n",
      "End of epoch 74 \t Time Taken: 20.995305061340332 sec\n",
      "\n"
     ]
    },
    {
     "name": "stderr",
     "output_type": "stream",
     "text": [
      "\n",
      "18it [00:21,  1.24s/it]"
     ]
    },
    {
     "name": "stdout",
     "output_type": "stream",
     "text": [
      "Loss_G: 0.2828213804297977\\Loss_D_z: 0.7413685255580478\\Loss_D_img: 0.41033463345633614\n",
      "vgg_loss 0.00497243320569396\n",
      "EG_loss 0.09450577199459076\n",
      "fm_loss 0.2509584426879883\n",
      "G_img_loss 1.5794901847839355\n",
      "E_z_loss 1.2840468883514404\n",
      "tv_loss 0.9608159065246582\n",
      "D_cont_loss_fake 0.03907569497823715\n",
      "D_img_loss_input 0.09208647161722183\n",
      "D_img_loss_G 0.3745971620082855\n",
      "End of epoch 75 \t Time Taken: 21.64267349243164 sec\n",
      "\n"
     ]
    },
    {
     "name": "stderr",
     "output_type": "stream",
     "text": [
      "\n",
      "18it [00:23,  1.28s/it]"
     ]
    },
    {
     "name": "stdout",
     "output_type": "stream",
     "text": [
      "Loss_G: 0.2868100007375081\\Loss_D_z: 0.7133875886599222\\Loss_D_img: 0.4170292251639896\n",
      "vgg_loss 0.004894386976957321\n",
      "EG_loss 0.09353329986333847\n",
      "fm_loss 0.2478121668100357\n",
      "G_img_loss 2.511707067489624\n",
      "E_z_loss 1.3299798965454102\n",
      "tv_loss 0.9021562337875366\n",
      "D_cont_loss_fake 0.05467531085014343\n",
      "D_img_loss_input 0.15094810724258423\n",
      "D_img_loss_G 0.11697777360677719\n",
      "End of epoch 76 \t Time Taken: 23.59329390525818 sec\n",
      "\n"
     ]
    },
    {
     "name": "stderr",
     "output_type": "stream",
     "text": [
      "\n",
      "18it [00:23,  1.27s/it]"
     ]
    },
    {
     "name": "stdout",
     "output_type": "stream",
     "text": [
      "Loss_G: 0.2855066524611579\\Loss_D_z: 0.7170465257432725\\Loss_D_img: 0.4368222935332192\n",
      "vgg_loss 0.005015419330447912\n",
      "EG_loss 0.09434869140386581\n",
      "fm_loss 0.25637632608413696\n",
      "G_img_loss 2.302882671356201\n",
      "E_z_loss 1.3169312477111816\n",
      "tv_loss 0.928622841835022\n",
      "D_cont_loss_fake 0.05859607458114624\n",
      "D_img_loss_input 0.14209425449371338\n",
      "D_img_loss_G 0.137247234582901\n",
      "End of epoch 77 \t Time Taken: 23.674880266189575 sec\n",
      "\n"
     ]
    },
    {
     "name": "stderr",
     "output_type": "stream",
     "text": [
      "\n",
      "18it [00:23,  1.28s/it]"
     ]
    },
    {
     "name": "stdout",
     "output_type": "stream",
     "text": [
      "Loss_G: 0.28246088160408866\\Loss_D_z: 0.7191797395547231\\Loss_D_img: 0.3805345180961821\n",
      "vgg_loss 0.005036596674472094\n",
      "EG_loss 0.09698095172643661\n",
      "fm_loss 0.24624577164649963\n",
      "G_img_loss 1.916724681854248\n",
      "E_z_loss 1.3537907600402832\n",
      "tv_loss 0.8707074522972107\n",
      "D_cont_loss_fake 0.045317672193050385\n",
      "D_img_loss_input 0.0748991146683693\n",
      "D_img_loss_G 0.21578781306743622\n",
      "End of epoch 78 \t Time Taken: 23.61568331718445 sec\n",
      "\n"
     ]
    },
    {
     "name": "stderr",
     "output_type": "stream",
     "text": [
      "\n",
      "18it [00:21,  1.12s/it]"
     ]
    },
    {
     "name": "stdout",
     "output_type": "stream",
     "text": [
      "Loss_G: 0.2809612916575538\\Loss_D_z: 0.7194022668732537\\Loss_D_img: 0.38295038375589585\n",
      "vgg_loss 0.004882249049842358\n",
      "EG_loss 0.09927388280630112\n",
      "fm_loss 0.2558438777923584\n",
      "G_img_loss 1.70208740234375\n",
      "E_z_loss 1.28935706615448\n",
      "tv_loss 0.9181545972824097\n",
      "D_cont_loss_fake 0.04549911245703697\n",
      "D_img_loss_input 0.08194741606712341\n",
      "D_img_loss_G 0.26706260442733765\n",
      "End of epoch 79 \t Time Taken: 21.577229738235474 sec\n",
      "\n"
     ]
    },
    {
     "name": "stderr",
     "output_type": "stream",
     "text": [
      "\n",
      "18it [00:20,  1.12s/it]"
     ]
    },
    {
     "name": "stdout",
     "output_type": "stream",
     "text": [
      "Loss_G: 0.28483494619528454\\Loss_D_z: 0.6679786509937711\\Loss_D_img: 0.42929217053784263\n",
      "vgg_loss 0.0048121181316673756\n",
      "EG_loss 0.0928598940372467\n",
      "fm_loss 0.2684556543827057\n",
      "G_img_loss 2.3500001430511475\n",
      "E_z_loss 1.4402261972427368\n",
      "tv_loss 0.8705475926399231\n",
      "D_cont_loss_fake 0.04514903575181961\n",
      "D_img_loss_input 0.14464734494686127\n",
      "D_img_loss_G 0.15252605080604553\n",
      "End of epoch 80 \t Time Taken: 20.952702522277832 sec\n",
      "\n"
     ]
    },
    {
     "name": "stderr",
     "output_type": "stream",
     "text": [
      "\n",
      "18it [00:20,  1.12s/it]"
     ]
    },
    {
     "name": "stdout",
     "output_type": "stream",
     "text": [
      "Loss_G: 0.2798231873247359\\Loss_D_z: 0.6703272230095334\\Loss_D_img: 0.410125744011667\n",
      "vgg_loss 0.004765665158629417\n",
      "EG_loss 0.09883096069097519\n",
      "fm_loss 0.2741226553916931\n",
      "G_img_loss 2.509964942932129\n",
      "E_z_loss 1.300328254699707\n",
      "tv_loss 0.9226757287979126\n",
      "D_cont_loss_fake 0.05828142166137695\n",
      "D_img_loss_input 0.29189103841781616\n",
      "D_img_loss_G 0.1354982554912567\n",
      "End of epoch 81 \t Time Taken: 20.94185709953308 sec\n",
      "\n"
     ]
    },
    {
     "name": "stderr",
     "output_type": "stream",
     "text": [
      "\n",
      "18it [00:20,  1.14s/it]"
     ]
    },
    {
     "name": "stdout",
     "output_type": "stream",
     "text": [
      "Loss_G: 0.28010372155242497\\Loss_D_z: 0.6754033300611708\\Loss_D_img: 0.4107183681594001\n",
      "vgg_loss 0.004799705930054188\n",
      "EG_loss 0.09358683228492737\n",
      "fm_loss 0.26399362087249756\n",
      "G_img_loss 2.0368142127990723\n",
      "E_z_loss 1.3945268392562866\n",
      "tv_loss 0.965300440788269\n",
      "D_cont_loss_fake 0.04851169511675835\n",
      "D_img_loss_input 0.167768195271492\n",
      "D_img_loss_G 0.21337780356407166\n",
      "End of epoch 82 \t Time Taken: 20.989104509353638 sec\n",
      "\n"
     ]
    },
    {
     "name": "stderr",
     "output_type": "stream",
     "text": [
      "\n",
      "18it [00:21,  1.27s/it]"
     ]
    },
    {
     "name": "stdout",
     "output_type": "stream",
     "text": [
      "Loss_G: 0.28525447845458984\\Loss_D_z: 0.6844901674323611\\Loss_D_img: 0.3676145325104396\n",
      "vgg_loss 0.0048713297583162785\n",
      "EG_loss 0.09488385915756226\n",
      "fm_loss 0.2628942131996155\n",
      "G_img_loss 2.26131534576416\n",
      "E_z_loss 1.3759313821792603\n",
      "tv_loss 1.0130996704101562\n",
      "D_cont_loss_fake 0.04033203423023224\n",
      "D_img_loss_input 0.19206896424293518\n",
      "D_img_loss_G 0.16323885321617126\n",
      "End of epoch 83 \t Time Taken: 22.09360146522522 sec\n",
      "\n"
     ]
    },
    {
     "name": "stderr",
     "output_type": "stream",
     "text": [
      "\n",
      "18it [00:23,  1.27s/it]"
     ]
    },
    {
     "name": "stdout",
     "output_type": "stream",
     "text": [
      "Loss_G: 0.2826071514023675\\Loss_D_z: 0.6602811581558652\\Loss_D_img: 0.38327522741423714\n",
      "vgg_loss 0.004816052503883839\n",
      "EG_loss 0.09368859231472015\n",
      "fm_loss 0.25726813077926636\n",
      "G_img_loss 1.967393159866333\n",
      "E_z_loss 1.4974637031555176\n",
      "tv_loss 0.9537846446037292\n",
      "D_cont_loss_fake 0.06166145205497742\n",
      "D_img_loss_input 0.13254541158676147\n",
      "D_img_loss_G 0.21994256973266602\n",
      "End of epoch 84 \t Time Taken: 23.53318500518799 sec\n",
      "\n"
     ]
    },
    {
     "name": "stderr",
     "output_type": "stream",
     "text": [
      "\n",
      "18it [00:23,  1.32s/it]"
     ]
    },
    {
     "name": "stdout",
     "output_type": "stream",
     "text": [
      "Loss_G: 0.2842128740416633\\Loss_D_z: 0.6307506329483457\\Loss_D_img: 0.38193659484386444\n",
      "vgg_loss 0.004884599708020687\n",
      "EG_loss 0.09288153052330017\n",
      "fm_loss 0.25629836320877075\n",
      "G_img_loss 2.4013938903808594\n",
      "E_z_loss 1.554507851600647\n",
      "tv_loss 0.9669380187988281\n",
      "D_cont_loss_fake 0.060868218541145325\n",
      "D_img_loss_input 0.14487126469612122\n",
      "D_img_loss_G 0.13469192385673523\n",
      "End of epoch 85 \t Time Taken: 23.60469341278076 sec\n",
      "\n"
     ]
    },
    {
     "name": "stderr",
     "output_type": "stream",
     "text": [
      "\n",
      "18it [00:23,  1.27s/it]"
     ]
    },
    {
     "name": "stdout",
     "output_type": "stream",
     "text": [
      "Loss_G: 0.28230727546744877\\Loss_D_z: 0.628301911883884\\Loss_D_img: 0.3837510794401169\n",
      "vgg_loss 0.004996922332793474\n",
      "EG_loss 0.10295062512159348\n",
      "fm_loss 0.2519468665122986\n",
      "G_img_loss 2.3398325443267822\n",
      "E_z_loss 1.4377062320709229\n",
      "tv_loss 0.957477331161499\n",
      "D_cont_loss_fake 0.06288820505142212\n",
      "D_img_loss_input 0.1375746726989746\n",
      "D_img_loss_G 0.1500471830368042\n",
      "End of epoch 86 \t Time Taken: 23.625029802322388 sec\n",
      "\n"
     ]
    },
    {
     "name": "stderr",
     "output_type": "stream",
     "text": [
      "\n",
      "18it [00:20,  1.13s/it]"
     ]
    },
    {
     "name": "stdout",
     "output_type": "stream",
     "text": [
      "Loss_G: 0.2850513441695107\\Loss_D_z: 0.6210136181778378\\Loss_D_img: 0.38103220363457996\n",
      "vgg_loss 0.004725028295069933\n",
      "EG_loss 0.09270551055669785\n",
      "fm_loss 0.2608035206794739\n",
      "G_img_loss 2.528669834136963\n",
      "E_z_loss 1.4975963830947876\n",
      "tv_loss 1.0176664590835571\n",
      "D_cont_loss_fake 0.04502999037504196\n",
      "D_img_loss_input 0.3054812550544739\n",
      "D_img_loss_G 0.11436702311038971\n",
      "End of epoch 87 \t Time Taken: 21.320767879486084 sec\n",
      "\n"
     ]
    },
    {
     "name": "stderr",
     "output_type": "stream",
     "text": [
      "\n",
      "18it [00:20,  1.13s/it]"
     ]
    },
    {
     "name": "stdout",
     "output_type": "stream",
     "text": [
      "Loss_G: 0.2764355192581813\\Loss_D_z: 0.5916833248403337\\Loss_D_img: 0.3750847379366557\n",
      "vgg_loss 0.004823674447834492\n",
      "EG_loss 0.09523939341306686\n",
      "fm_loss 0.25834134221076965\n",
      "G_img_loss 2.7143404483795166\n",
      "E_z_loss 1.569405436515808\n",
      "tv_loss 0.9452252984046936\n",
      "D_cont_loss_fake 0.04317344352602959\n",
      "D_img_loss_input 0.16593772172927856\n",
      "D_img_loss_G 0.09551382064819336\n",
      "End of epoch 88 \t Time Taken: 20.96767234802246 sec\n",
      "\n"
     ]
    },
    {
     "name": "stderr",
     "output_type": "stream",
     "text": [
      "\n",
      "18it [00:20,  1.13s/it]"
     ]
    },
    {
     "name": "stdout",
     "output_type": "stream",
     "text": [
      "Loss_G: 0.28079378604888916\\Loss_D_z: 0.5876151323318481\\Loss_D_img: 0.36904195696115494\n",
      "vgg_loss 0.004805902484804392\n",
      "EG_loss 0.09286808222532272\n",
      "fm_loss 0.2533659338951111\n",
      "G_img_loss 2.840134620666504\n",
      "E_z_loss 1.443387508392334\n",
      "tv_loss 1.0295689105987549\n",
      "D_cont_loss_fake 0.04372832924127579\n",
      "D_img_loss_input 0.22382088005542755\n",
      "D_img_loss_G 0.09160633385181427\n",
      "End of epoch 89 \t Time Taken: 21.0054190158844 sec\n",
      "\n"
     ]
    },
    {
     "name": "stderr",
     "output_type": "stream",
     "text": [
      "\n",
      "18it [00:20,  1.13s/it]"
     ]
    },
    {
     "name": "stdout",
     "output_type": "stream",
     "text": [
      "Loss_G: 0.2770679146051407\\Loss_D_z: 0.5985774132940505\\Loss_D_img: 0.3620459967189365\n",
      "vgg_loss 0.004609765484929085\n",
      "EG_loss 0.08890044689178467\n",
      "fm_loss 0.2518995404243469\n",
      "G_img_loss 2.506011962890625\n",
      "E_z_loss 1.3459233045578003\n",
      "tv_loss 0.9526209831237793\n",
      "D_cont_loss_fake 0.04461105912923813\n",
      "D_img_loss_input 0.0929584875702858\n",
      "D_img_loss_G 0.13271629810333252\n",
      "End of epoch 90 \t Time Taken: 21.026227951049805 sec\n",
      "\n"
     ]
    },
    {
     "name": "stderr",
     "output_type": "stream",
     "text": [
      "\n",
      "18it [00:20,  1.13s/it]"
     ]
    },
    {
     "name": "stdout",
     "output_type": "stream",
     "text": [
      "Loss_G: 0.2756045295132531\\Loss_D_z: 0.5952540304925706\\Loss_D_img: 0.38436606857511735\n",
      "vgg_loss 0.004802788142114878\n",
      "EG_loss 0.09401100873947144\n",
      "fm_loss 0.2566336393356323\n",
      "G_img_loss 2.478181838989258\n",
      "E_z_loss 1.4276045560836792\n",
      "tv_loss 0.9637551307678223\n",
      "D_cont_loss_fake 0.0408327616751194\n",
      "D_img_loss_input 0.1358957588672638\n",
      "D_img_loss_G 0.12804564833641052\n",
      "End of epoch 91 \t Time Taken: 21.057310342788696 sec\n",
      "\n"
     ]
    },
    {
     "name": "stderr",
     "output_type": "stream",
     "text": [
      "\n",
      "18it [00:20,  1.12s/it]"
     ]
    },
    {
     "name": "stdout",
     "output_type": "stream",
     "text": [
      "Loss_G: 0.2771153168545829\\Loss_D_z: 0.5814903775850931\\Loss_D_img: 0.3549576881859038\n",
      "vgg_loss 0.004550605081021786\n",
      "EG_loss 0.08937837928533554\n",
      "fm_loss 0.27094078063964844\n",
      "G_img_loss 1.9614697694778442\n",
      "E_z_loss 1.6270380020141602\n",
      "tv_loss 0.9585983753204346\n",
      "D_cont_loss_fake 0.044762153178453445\n",
      "D_img_loss_input 0.13693487644195557\n",
      "D_img_loss_G 0.2502010464668274\n",
      "End of epoch 92 \t Time Taken: 20.92365264892578 sec\n",
      "\n"
     ]
    },
    {
     "name": "stderr",
     "output_type": "stream",
     "text": [
      "\n",
      "18it [00:20,  1.12s/it]"
     ]
    },
    {
     "name": "stdout",
     "output_type": "stream",
     "text": [
      "Loss_G: 0.27829735312196946\\Loss_D_z: 0.5660108659002516\\Loss_D_img: 0.368742060330179\n",
      "vgg_loss 0.0047899275086820126\n",
      "EG_loss 0.09784271568059921\n",
      "fm_loss 0.275706946849823\n",
      "G_img_loss 2.140665292739868\n",
      "E_z_loss 1.462916612625122\n",
      "tv_loss 0.9822558164596558\n",
      "D_cont_loss_fake 0.041473887860774994\n",
      "D_img_loss_input 0.11843264102935791\n",
      "D_img_loss_G 0.2386896014213562\n",
      "End of epoch 93 \t Time Taken: 20.825159072875977 sec\n",
      "\n"
     ]
    },
    {
     "name": "stderr",
     "output_type": "stream",
     "text": [
      "\n",
      "18it [00:20,  1.11s/it]"
     ]
    },
    {
     "name": "stdout",
     "output_type": "stream",
     "text": [
      "Loss_G: 0.2812675221098794\\Loss_D_z: 0.553133636713028\\Loss_D_img: 0.3374040441380607\n",
      "vgg_loss 0.004719437565654516\n",
      "EG_loss 0.09102851152420044\n",
      "fm_loss 0.2639349699020386\n",
      "G_img_loss 2.642451286315918\n",
      "E_z_loss 1.5504343509674072\n",
      "tv_loss 0.9566714763641357\n",
      "D_cont_loss_fake 0.04738595336675644\n",
      "D_img_loss_input 0.13793541491031647\n",
      "D_img_loss_G 0.11785769462585449\n",
      "End of epoch 94 \t Time Taken: 20.6292724609375 sec\n",
      "\n"
     ]
    },
    {
     "name": "stderr",
     "output_type": "stream",
     "text": [
      "\n",
      "18it [00:20,  1.12s/it]"
     ]
    },
    {
     "name": "stdout",
     "output_type": "stream",
     "text": [
      "Loss_G: 0.2792893002430598\\Loss_D_z: 0.5518639882405599\\Loss_D_img: 0.32328637275430894\n",
      "vgg_loss 0.004764665849506855\n",
      "EG_loss 0.09626668691635132\n",
      "fm_loss 0.2491515725851059\n",
      "G_img_loss 2.314638137817383\n",
      "E_z_loss 1.5237975120544434\n",
      "tv_loss 1.0162466764450073\n",
      "D_cont_loss_fake 0.04902949929237366\n",
      "D_img_loss_input 0.21636147797107697\n",
      "D_img_loss_G 0.15297237038612366\n",
      "End of epoch 95 \t Time Taken: 20.78450036048889 sec\n",
      "\n"
     ]
    },
    {
     "name": "stderr",
     "output_type": "stream",
     "text": [
      "\n",
      "18it [00:20,  1.12s/it]"
     ]
    },
    {
     "name": "stdout",
     "output_type": "stream",
     "text": [
      "Loss_G: 0.28448950747648877\\Loss_D_z: 0.526624975932969\\Loss_D_img: 0.3496359826789962\n",
      "vgg_loss 0.0047565340064466\n",
      "EG_loss 0.09368479251861572\n",
      "fm_loss 0.2526094317436218\n",
      "G_img_loss 2.4163219928741455\n",
      "E_z_loss 1.6903932094573975\n",
      "tv_loss 0.9684343934059143\n",
      "D_cont_loss_fake 0.0431591272354126\n",
      "D_img_loss_input 0.11521665751934052\n",
      "D_img_loss_G 0.1525980532169342\n",
      "End of epoch 96 \t Time Taken: 20.88653874397278 sec\n",
      "\n"
     ]
    },
    {
     "name": "stderr",
     "output_type": "stream",
     "text": [
      "\n",
      "18it [00:20,  1.12s/it]"
     ]
    },
    {
     "name": "stdout",
     "output_type": "stream",
     "text": [
      "Loss_G: 0.27876576284567517\\Loss_D_z: 0.5128558658891254\\Loss_D_img: 0.33034351964791614\n",
      "vgg_loss 0.004665711894631386\n",
      "EG_loss 0.09006977081298828\n",
      "fm_loss 0.26349151134490967\n",
      "G_img_loss 2.686763286590576\n",
      "E_z_loss 1.6400712728500366\n",
      "tv_loss 0.9885657429695129\n",
      "D_cont_loss_fake 0.04854515567421913\n",
      "D_img_loss_input 0.20406389236450195\n",
      "D_img_loss_G 0.10995617508888245\n",
      "End of epoch 97 \t Time Taken: 20.881856441497803 sec\n",
      "\n"
     ]
    },
    {
     "name": "stderr",
     "output_type": "stream",
     "text": [
      "\n",
      "18it [00:20,  1.13s/it]"
     ]
    },
    {
     "name": "stdout",
     "output_type": "stream",
     "text": [
      "Loss_G: 0.2805615050925149\\Loss_D_z: 0.5269927299684949\\Loss_D_img: 0.339115955763393\n",
      "vgg_loss 0.004552608821541071\n",
      "EG_loss 0.09228961169719696\n",
      "fm_loss 0.26397353410720825\n",
      "G_img_loss 2.3022069931030273\n",
      "E_z_loss 1.6571922302246094\n",
      "tv_loss 0.9768328070640564\n",
      "D_cont_loss_fake 0.04327075183391571\n",
      "D_img_loss_input 0.12133196741342545\n",
      "D_img_loss_G 0.15518471598625183\n",
      "End of epoch 98 \t Time Taken: 20.925333261489868 sec\n",
      "\n"
     ]
    },
    {
     "name": "stderr",
     "output_type": "stream",
     "text": [
      "\n",
      "18it [00:20,  1.13s/it]"
     ]
    },
    {
     "name": "stdout",
     "output_type": "stream",
     "text": [
      "Loss_G: 0.282520333925883\\Loss_D_z: 0.5236837615569433\\Loss_D_img: 0.3647604402568605\n",
      "vgg_loss 0.0047798166051507\n",
      "EG_loss 0.09512173384428024\n",
      "fm_loss 0.2661597728729248\n",
      "G_img_loss 2.5338401794433594\n",
      "E_z_loss 1.5209195613861084\n",
      "tv_loss 0.9985096454620361\n",
      "D_cont_loss_fake 0.053726550191640854\n",
      "D_img_loss_input 0.13341984152793884\n",
      "D_img_loss_G 0.13807620108127594\n",
      "End of epoch 99 \t Time Taken: 20.79575204849243 sec\n",
      "\n"
     ]
    },
    {
     "name": "stderr",
     "output_type": "stream",
     "text": [
      "\n",
      "18it [00:20,  1.12s/it]\n"
     ]
    },
    {
     "name": "stdout",
     "output_type": "stream",
     "text": [
      "Saving the model at the end of epoch 100\n",
      "\n",
      "Loss_G: 0.28297313385539585\\Loss_D_z: 0.5118217964967092\\Loss_D_img: 0.2955254763364792\n",
      "vgg_loss 0.004649665672332048\n",
      "EG_loss 0.091456338763237\n",
      "fm_loss 0.2543809413909912\n",
      "G_img_loss 2.7059121131896973\n",
      "E_z_loss 1.6273696422576904\n",
      "tv_loss 1.0304089784622192\n",
      "D_cont_loss_fake 0.03977520763874054\n",
      "D_img_loss_input 0.1430143415927887\n",
      "D_img_loss_G 0.11497190594673157\n",
      "End of epoch 100 \t Time Taken: 21.683478832244873 sec\n",
      "\n"
     ]
    },
    {
     "name": "stderr",
     "output_type": "stream",
     "text": [
      "18it [00:20,  1.12s/it]"
     ]
    },
    {
     "name": "stdout",
     "output_type": "stream",
     "text": [
      "Loss_G: 0.2842077248626285\\Loss_D_z: 0.4983711838722229\\Loss_D_img: 0.32217469977007973\n",
      "vgg_loss 0.004843087401241064\n",
      "EG_loss 0.09267108142375946\n",
      "fm_loss 0.2635362446308136\n",
      "G_img_loss 2.4661200046539307\n",
      "E_z_loss 1.6972407102584839\n",
      "tv_loss 0.9969536066055298\n",
      "D_cont_loss_fake 0.04965544492006302\n",
      "D_img_loss_input 0.08831324428319931\n",
      "D_img_loss_G 0.13486994802951813\n",
      "End of epoch 101 \t Time Taken: 20.855546712875366 sec\n",
      "\n"
     ]
    },
    {
     "name": "stderr",
     "output_type": "stream",
     "text": [
      "\n",
      "18it [00:20,  1.12s/it]"
     ]
    },
    {
     "name": "stdout",
     "output_type": "stream",
     "text": [
      "Loss_G: 0.27602982852194047\\Loss_D_z: 0.47648409340116715\\Loss_D_img: 0.30745626820458305\n",
      "vgg_loss 0.004584400914609432\n",
      "EG_loss 0.0892038345336914\n",
      "fm_loss 0.2534271478652954\n",
      "G_img_loss 2.367309331893921\n",
      "E_z_loss 1.6162497997283936\n",
      "tv_loss 0.9812501072883606\n",
      "D_cont_loss_fake 0.04976574704051018\n",
      "D_img_loss_input 0.09112183749675751\n",
      "D_img_loss_G 0.16188323497772217\n",
      "End of epoch 102 \t Time Taken: 20.892605543136597 sec\n",
      "\n"
     ]
    },
    {
     "name": "stderr",
     "output_type": "stream",
     "text": [
      "\n",
      "18it [00:20,  1.12s/it]"
     ]
    },
    {
     "name": "stdout",
     "output_type": "stream",
     "text": [
      "Loss_G: 0.28071597549650407\\Loss_D_z: 0.47136958440144855\\Loss_D_img: 0.34457457727856106\n",
      "vgg_loss 0.004499393980950117\n",
      "EG_loss 0.09312828630208969\n",
      "fm_loss 0.26722949743270874\n",
      "G_img_loss 2.561469793319702\n",
      "E_z_loss 1.665974736213684\n",
      "tv_loss 0.9496961832046509\n",
      "D_cont_loss_fake 0.046226903796195984\n",
      "D_img_loss_input 0.22453613579273224\n",
      "D_img_loss_G 0.12251158058643341\n",
      "End of epoch 103 \t Time Taken: 20.739598751068115 sec\n",
      "\n"
     ]
    },
    {
     "name": "stderr",
     "output_type": "stream",
     "text": [
      "\n",
      "18it [00:20,  1.11s/it]"
     ]
    },
    {
     "name": "stdout",
     "output_type": "stream",
     "text": [
      "Loss_G: 0.27997923062907326\\Loss_D_z: 0.49327248831590015\\Loss_D_img: 0.3217334664530224\n",
      "vgg_loss 0.0047074975445866585\n",
      "EG_loss 0.09107758849859238\n",
      "fm_loss 0.2595940828323364\n",
      "G_img_loss 2.13744854927063\n",
      "E_z_loss 1.5980217456817627\n",
      "tv_loss 1.0081459283828735\n",
      "D_cont_loss_fake 0.03312075138092041\n",
      "D_img_loss_input 0.07511857151985168\n",
      "D_img_loss_G 0.1883775144815445\n",
      "End of epoch 104 \t Time Taken: 20.732126712799072 sec\n",
      "\n"
     ]
    },
    {
     "name": "stderr",
     "output_type": "stream",
     "text": [
      "\n",
      "18it [00:20,  1.13s/it]"
     ]
    },
    {
     "name": "stdout",
     "output_type": "stream",
     "text": [
      "Loss_G: 0.27854568594031864\\Loss_D_z: 0.4789775825209088\\Loss_D_img: 0.30610547628667617\n",
      "vgg_loss 0.004595758393406868\n",
      "EG_loss 0.08865371346473694\n",
      "fm_loss 0.2521347403526306\n",
      "G_img_loss 2.5723912715911865\n",
      "E_z_loss 1.6519027948379517\n",
      "tv_loss 0.9953358173370361\n",
      "D_cont_loss_fake 0.05460542440414429\n",
      "D_img_loss_input 0.10682588815689087\n",
      "D_img_loss_G 0.12240374833345413\n",
      "End of epoch 105 \t Time Taken: 20.738142490386963 sec\n",
      "\n"
     ]
    },
    {
     "name": "stderr",
     "output_type": "stream",
     "text": [
      "\n",
      "18it [00:20,  1.12s/it]"
     ]
    },
    {
     "name": "stdout",
     "output_type": "stream",
     "text": [
      "Loss_G: 0.280096302429835\\Loss_D_z: 0.49782901340060765\\Loss_D_img: 0.29646215173933244\n",
      "vgg_loss 0.004550565965473652\n",
      "EG_loss 0.09860306978225708\n",
      "fm_loss 0.26719027757644653\n",
      "G_img_loss 3.1239867210388184\n",
      "E_z_loss 1.5824475288391113\n",
      "tv_loss 1.0154789686203003\n",
      "D_cont_loss_fake 0.04260976240038872\n",
      "D_img_loss_input 0.19339436292648315\n",
      "D_img_loss_G 0.08203147351741791\n",
      "End of epoch 106 \t Time Taken: 20.816296100616455 sec\n",
      "\n"
     ]
    },
    {
     "name": "stderr",
     "output_type": "stream",
     "text": [
      "\n",
      "18it [00:20,  1.13s/it]"
     ]
    },
    {
     "name": "stdout",
     "output_type": "stream",
     "text": [
      "Loss_G: 0.27967969079812366\\Loss_D_z: 0.46717529992262524\\Loss_D_img: 0.28373219155602986\n",
      "vgg_loss 0.004644320346415043\n",
      "EG_loss 0.0907871425151825\n",
      "fm_loss 0.27484628558158875\n",
      "G_img_loss 2.4178476333618164\n",
      "E_z_loss 1.733335018157959\n",
      "tv_loss 1.0316215753555298\n",
      "D_cont_loss_fake 0.052358753979206085\n",
      "D_img_loss_input 0.06962309777736664\n",
      "D_img_loss_G 0.1286797970533371\n",
      "End of epoch 107 \t Time Taken: 20.93784213066101 sec\n",
      "\n"
     ]
    },
    {
     "name": "stderr",
     "output_type": "stream",
     "text": [
      "\n",
      "18it [00:20,  1.13s/it]"
     ]
    },
    {
     "name": "stdout",
     "output_type": "stream",
     "text": [
      "Loss_G: 0.27977244390381706\\Loss_D_z: 0.46020546224382186\\Loss_D_img: 0.3076462580098046\n",
      "vgg_loss 0.004500317387282848\n",
      "EG_loss 0.08727221190929413\n",
      "fm_loss 0.24333788454532623\n",
      "G_img_loss 2.6128063201904297\n",
      "E_z_loss 1.7097485065460205\n",
      "tv_loss 0.9464347958564758\n",
      "D_cont_loss_fake 0.03644511103630066\n",
      "D_img_loss_input 0.13008464872837067\n",
      "D_img_loss_G 0.10889888554811478\n",
      "End of epoch 108 \t Time Taken: 20.876157522201538 sec\n",
      "\n"
     ]
    },
    {
     "name": "stderr",
     "output_type": "stream",
     "text": [
      "\n",
      "18it [00:20,  1.13s/it]"
     ]
    },
    {
     "name": "stdout",
     "output_type": "stream",
     "text": [
      "Loss_G: 0.2795254670911365\\Loss_D_z: 0.44410445623927647\\Loss_D_img: 0.35176290571689606\n",
      "vgg_loss 0.004614013712853193\n",
      "EG_loss 0.08939667791128159\n",
      "fm_loss 0.26020097732543945\n",
      "G_img_loss 2.88570499420166\n",
      "E_z_loss 1.7659356594085693\n",
      "tv_loss 1.002389669418335\n",
      "D_cont_loss_fake 0.0428801104426384\n",
      "D_img_loss_input 0.13566437363624573\n",
      "D_img_loss_G 0.07738460600376129\n",
      "End of epoch 109 \t Time Taken: 20.881470441818237 sec\n",
      "\n"
     ]
    },
    {
     "name": "stderr",
     "output_type": "stream",
     "text": [
      "\n",
      "18it [00:20,  1.13s/it]"
     ]
    },
    {
     "name": "stdout",
     "output_type": "stream",
     "text": [
      "Loss_G: 0.2768826484680176\\Loss_D_z: 0.4468193252881368\\Loss_D_img: 0.3099709095226394\n",
      "vgg_loss 0.004659845028072596\n",
      "EG_loss 0.09985052049160004\n",
      "fm_loss 0.25161394476890564\n",
      "G_img_loss 2.661738872528076\n",
      "E_z_loss 1.7007315158843994\n",
      "tv_loss 1.0133343935012817\n",
      "D_cont_loss_fake 0.03392823413014412\n",
      "D_img_loss_input 0.10088074207305908\n",
      "D_img_loss_G 0.11157544702291489\n",
      "End of epoch 110 \t Time Taken: 20.962493658065796 sec\n",
      "\n"
     ]
    },
    {
     "name": "stderr",
     "output_type": "stream",
     "text": [
      "\n",
      "18it [00:20,  1.13s/it]"
     ]
    },
    {
     "name": "stdout",
     "output_type": "stream",
     "text": [
      "Loss_G: 0.28213366700543296\\Loss_D_z: 0.4458305239677429\\Loss_D_img: 0.32371829864051604\n",
      "vgg_loss 0.004570703953504562\n",
      "EG_loss 0.0901721939444542\n",
      "fm_loss 0.2567545473575592\n",
      "G_img_loss 2.6728670597076416\n",
      "E_z_loss 1.8674288988113403\n",
      "tv_loss 0.9660220146179199\n",
      "D_cont_loss_fake 0.0402558334171772\n",
      "D_img_loss_input 0.11773040890693665\n",
      "D_img_loss_G 0.1307281255722046\n",
      "End of epoch 111 \t Time Taken: 20.918081283569336 sec\n",
      "\n"
     ]
    },
    {
     "name": "stderr",
     "output_type": "stream",
     "text": [
      "\n",
      "18it [00:20,  1.12s/it]"
     ]
    },
    {
     "name": "stdout",
     "output_type": "stream",
     "text": [
      "Loss_G: 0.28040076792240143\\Loss_D_z: 0.4290323307116826\\Loss_D_img: 0.2916330132219527\n",
      "vgg_loss 0.004601168911904097\n",
      "EG_loss 0.08946055173873901\n",
      "fm_loss 0.2520475685596466\n",
      "G_img_loss 2.8003053665161133\n",
      "E_z_loss 1.80739426612854\n",
      "tv_loss 0.9673947095870972\n",
      "D_cont_loss_fake 0.041984062641859055\n",
      "D_img_loss_input 0.1204264909029007\n",
      "D_img_loss_G 0.11000806093215942\n",
      "End of epoch 112 \t Time Taken: 20.873774528503418 sec\n",
      "\n"
     ]
    },
    {
     "name": "stderr",
     "output_type": "stream",
     "text": [
      "\n",
      "18it [00:20,  1.13s/it]"
     ]
    },
    {
     "name": "stdout",
     "output_type": "stream",
     "text": [
      "Loss_G: 0.2759816033972634\\Loss_D_z: 0.4291136728392707\\Loss_D_img: 0.29273853202660877\n",
      "vgg_loss 0.004687000066041946\n",
      "EG_loss 0.09050257503986359\n",
      "fm_loss 0.2560848593711853\n",
      "G_img_loss 2.9170660972595215\n",
      "E_z_loss 1.6517667770385742\n",
      "tv_loss 0.9641222953796387\n",
      "D_cont_loss_fake 0.04305132478475571\n",
      "D_img_loss_input 0.1490352749824524\n",
      "D_img_loss_G 0.15375235676765442\n",
      "End of epoch 113 \t Time Taken: 20.912824392318726 sec\n",
      "\n"
     ]
    },
    {
     "name": "stderr",
     "output_type": "stream",
     "text": [
      "\n",
      "18it [00:20,  1.12s/it]"
     ]
    },
    {
     "name": "stdout",
     "output_type": "stream",
     "text": [
      "Loss_G: 0.2802506304449505\\Loss_D_z: 0.4399881760279338\\Loss_D_img: 0.2854956289132436\n",
      "vgg_loss 0.004613708704710007\n",
      "EG_loss 0.0909748524427414\n",
      "fm_loss 0.26496535539627075\n",
      "G_img_loss 2.59828782081604\n",
      "E_z_loss 1.8540029525756836\n",
      "tv_loss 0.9556159973144531\n",
      "D_cont_loss_fake 0.03919906169176102\n",
      "D_img_loss_input 0.06878867745399475\n",
      "D_img_loss_G 0.10970228910446167\n",
      "End of epoch 114 \t Time Taken: 20.868006944656372 sec\n",
      "\n"
     ]
    },
    {
     "name": "stderr",
     "output_type": "stream",
     "text": [
      "\n",
      "18it [00:20,  1.13s/it]"
     ]
    },
    {
     "name": "stdout",
     "output_type": "stream",
     "text": [
      "Loss_G: 0.2778346902794308\\Loss_D_z: 0.42523308595021564\\Loss_D_img: 0.2759406599733565\n",
      "vgg_loss 0.0045580025762319565\n",
      "EG_loss 0.09003468602895737\n",
      "fm_loss 0.2718985676765442\n",
      "G_img_loss 2.6877975463867188\n",
      "E_z_loss 1.7112219333648682\n",
      "tv_loss 0.9524210691452026\n",
      "D_cont_loss_fake 0.04394419863820076\n",
      "D_img_loss_input 0.11616039276123047\n",
      "D_img_loss_G 0.0961296334862709\n",
      "End of epoch 115 \t Time Taken: 20.827367067337036 sec\n",
      "\n"
     ]
    },
    {
     "name": "stderr",
     "output_type": "stream",
     "text": [
      "\n",
      "18it [00:20,  1.13s/it]"
     ]
    },
    {
     "name": "stdout",
     "output_type": "stream",
     "text": [
      "Loss_G: 0.2794357008404202\\Loss_D_z: 0.4064811733033922\\Loss_D_img: 0.31233539432287216\n",
      "vgg_loss 0.004494068678468466\n",
      "EG_loss 0.08792850375175476\n",
      "fm_loss 0.2792591452598572\n",
      "G_img_loss 3.0571820735931396\n",
      "E_z_loss 1.8418097496032715\n",
      "tv_loss 0.9663203954696655\n",
      "D_cont_loss_fake 0.03712894767522812\n",
      "D_img_loss_input 0.11227551847696304\n",
      "D_img_loss_G 0.0731535255908966\n",
      "End of epoch 116 \t Time Taken: 20.95238494873047 sec\n",
      "\n"
     ]
    },
    {
     "name": "stderr",
     "output_type": "stream",
     "text": [
      "\n",
      "18it [00:20,  1.13s/it]"
     ]
    },
    {
     "name": "stdout",
     "output_type": "stream",
     "text": [
      "Loss_G: 0.27664056089189315\\Loss_D_z: 0.4084922969341278\\Loss_D_img: 0.25420743723710376\n",
      "vgg_loss 0.0046078297309577465\n",
      "EG_loss 0.09174557775259018\n",
      "fm_loss 0.2566174864768982\n",
      "G_img_loss 2.6639485359191895\n",
      "E_z_loss 1.7675328254699707\n",
      "tv_loss 0.9909716248512268\n",
      "D_cont_loss_fake 0.046797219663858414\n",
      "D_img_loss_input 0.08501788973808289\n",
      "D_img_loss_G 0.1275363713502884\n",
      "End of epoch 117 \t Time Taken: 20.99168610572815 sec\n",
      "\n"
     ]
    },
    {
     "name": "stderr",
     "output_type": "stream",
     "text": [
      "\n",
      "18it [00:20,  1.13s/it]"
     ]
    },
    {
     "name": "stdout",
     "output_type": "stream",
     "text": [
      "Loss_G: 0.2807548741499583\\Loss_D_z: 0.38562454117669\\Loss_D_img: 0.2706316163142522\n",
      "vgg_loss 0.004659764468669891\n",
      "EG_loss 0.09013208001852036\n",
      "fm_loss 0.2633119821548462\n",
      "G_img_loss 2.7210168838500977\n",
      "E_z_loss 1.9145681858062744\n",
      "tv_loss 1.020963430404663\n",
      "D_cont_loss_fake 0.04988934472203255\n",
      "D_img_loss_input 0.14114239811897278\n",
      "D_img_loss_G 0.10057398676872253\n",
      "End of epoch 118 \t Time Taken: 20.93679904937744 sec\n",
      "\n"
     ]
    },
    {
     "name": "stderr",
     "output_type": "stream",
     "text": [
      "\n",
      "18it [00:20,  1.13s/it]"
     ]
    },
    {
     "name": "stdout",
     "output_type": "stream",
     "text": [
      "Loss_G: 0.2791900469197167\\Loss_D_z: 0.3912425637245178\\Loss_D_img: 0.3075210096107589\n",
      "vgg_loss 0.004518153145909309\n",
      "EG_loss 0.08694164454936981\n",
      "fm_loss 0.25635480880737305\n",
      "G_img_loss 3.5767292976379395\n",
      "E_z_loss 1.6985881328582764\n",
      "tv_loss 0.9961709976196289\n",
      "D_cont_loss_fake 0.043173372745513916\n",
      "D_img_loss_input 0.263627827167511\n",
      "D_img_loss_G 0.05956496670842171\n",
      "End of epoch 119 \t Time Taken: 21.072614669799805 sec\n",
      "\n"
     ]
    },
    {
     "name": "stderr",
     "output_type": "stream",
     "text": [
      "\n",
      "18it [00:20,  1.14s/it]"
     ]
    },
    {
     "name": "stdout",
     "output_type": "stream",
     "text": [
      "Loss_G: 0.27607327699661255\\Loss_D_z: 0.3878487249215444\\Loss_D_img: 0.2867523920204904\n",
      "vgg_loss 0.0044840299524366856\n",
      "EG_loss 0.08843692392110825\n",
      "fm_loss 0.2505713105201721\n",
      "G_img_loss 3.104471206665039\n",
      "E_z_loss 1.5732147693634033\n",
      "tv_loss 0.9961862564086914\n",
      "D_cont_loss_fake 0.0373433381319046\n",
      "D_img_loss_input 0.13572236895561218\n",
      "D_img_loss_G 0.11301275342702866\n",
      "End of epoch 120 \t Time Taken: 20.976694345474243 sec\n",
      "\n"
     ]
    },
    {
     "name": "stderr",
     "output_type": "stream",
     "text": [
      "\n",
      "18it [00:20,  1.13s/it]"
     ]
    },
    {
     "name": "stdout",
     "output_type": "stream",
     "text": [
      "Loss_G: 0.2771914237075382\\Loss_D_z: 0.3810815413792928\\Loss_D_img: 0.2642652500006888\n",
      "vgg_loss 0.004484506323933601\n",
      "EG_loss 0.08822815865278244\n",
      "fm_loss 0.2710877060890198\n",
      "G_img_loss 3.0047807693481445\n",
      "E_z_loss 1.9142892360687256\n",
      "tv_loss 1.065114974975586\n",
      "D_cont_loss_fake 0.03911036252975464\n",
      "D_img_loss_input 0.1582157462835312\n",
      "D_img_loss_G 0.07274708151817322\n",
      "End of epoch 121 \t Time Taken: 20.942758321762085 sec\n",
      "\n"
     ]
    },
    {
     "name": "stderr",
     "output_type": "stream",
     "text": [
      "\n",
      "18it [00:20,  1.13s/it]"
     ]
    },
    {
     "name": "stdout",
     "output_type": "stream",
     "text": [
      "Loss_G: 0.27538619107670254\\Loss_D_z: 0.35606757634215885\\Loss_D_img: 0.2625269666314125\n",
      "vgg_loss 0.0044416990131139755\n",
      "EG_loss 0.0877203494310379\n",
      "fm_loss 0.247391939163208\n",
      "G_img_loss 2.397620677947998\n",
      "E_z_loss 1.9583022594451904\n",
      "tv_loss 1.0291248559951782\n",
      "D_cont_loss_fake 0.044054385274648666\n",
      "D_img_loss_input 0.0743214562535286\n",
      "D_img_loss_G 0.12932103872299194\n",
      "End of epoch 122 \t Time Taken: 21.0599844455719 sec\n",
      "\n"
     ]
    },
    {
     "name": "stderr",
     "output_type": "stream",
     "text": [
      "\n",
      "18it [00:20,  1.13s/it]"
     ]
    },
    {
     "name": "stdout",
     "output_type": "stream",
     "text": [
      "Loss_G: 0.27601360115740037\\Loss_D_z: 0.371251149310006\\Loss_D_img: 0.26265882203976315\n",
      "vgg_loss 0.004362581763416529\n",
      "EG_loss 0.08520175516605377\n",
      "fm_loss 0.26257938146591187\n",
      "G_img_loss 3.1788711547851562\n",
      "E_z_loss 1.995016098022461\n",
      "tv_loss 0.9940198659896851\n",
      "D_cont_loss_fake 0.04626084119081497\n",
      "D_img_loss_input 0.1308082938194275\n",
      "D_img_loss_G 0.07623503357172012\n",
      "End of epoch 123 \t Time Taken: 21.1352961063385 sec\n",
      "\n"
     ]
    },
    {
     "name": "stderr",
     "output_type": "stream",
     "text": [
      "\n",
      "18it [00:20,  1.12s/it]"
     ]
    },
    {
     "name": "stdout",
     "output_type": "stream",
     "text": [
      "Loss_G: 0.27837784091631573\\Loss_D_z: 0.3561295204692417\\Loss_D_img: 0.2911442899041706\n",
      "vgg_loss 0.004468110390007496\n",
      "EG_loss 0.09221987426280975\n",
      "fm_loss 0.25088390707969666\n",
      "G_img_loss 3.131000280380249\n",
      "E_z_loss 1.808327078819275\n",
      "tv_loss 0.9883960485458374\n",
      "D_cont_loss_fake 0.04042215645313263\n",
      "D_img_loss_input 0.12135227024555206\n",
      "D_img_loss_G 0.08884642273187637\n",
      "End of epoch 124 \t Time Taken: 20.958376169204712 sec\n",
      "\n"
     ]
    },
    {
     "name": "stderr",
     "output_type": "stream",
     "text": [
      "\n",
      "18it [00:20,  1.13s/it]"
     ]
    },
    {
     "name": "stdout",
     "output_type": "stream",
     "text": [
      "Loss_G: 0.27629972332053715\\Loss_D_z: 0.35136889749103123\\Loss_D_img: 0.2717122816377216\n",
      "vgg_loss 0.004631982650607824\n",
      "EG_loss 0.08935005962848663\n",
      "fm_loss 0.25440913438796997\n",
      "G_img_loss 2.786015272140503\n",
      "E_z_loss 1.9991134405136108\n",
      "tv_loss 1.0395721197128296\n",
      "D_cont_loss_fake 0.04896041005849838\n",
      "D_img_loss_input 0.06354786455631256\n",
      "D_img_loss_G 0.11507167667150497\n",
      "End of epoch 125 \t Time Taken: 21.03791618347168 sec\n",
      "\n"
     ]
    },
    {
     "name": "stderr",
     "output_type": "stream",
     "text": [
      "\n",
      "18it [00:20,  1.13s/it]"
     ]
    },
    {
     "name": "stdout",
     "output_type": "stream",
     "text": [
      "Loss_G: 0.2744574745496114\\Loss_D_z: 0.34404810931947494\\Loss_D_img: 0.2656915692819489\n",
      "vgg_loss 0.004530751146376133\n",
      "EG_loss 0.0909489244222641\n",
      "fm_loss 0.27323052287101746\n",
      "G_img_loss 2.678562641143799\n",
      "E_z_loss 2.018705129623413\n",
      "tv_loss 1.020589828491211\n",
      "D_cont_loss_fake 0.054191600531339645\n",
      "D_img_loss_input 0.1579858362674713\n",
      "D_img_loss_G 0.11082541942596436\n",
      "End of epoch 126 \t Time Taken: 20.966573476791382 sec\n",
      "\n"
     ]
    },
    {
     "name": "stderr",
     "output_type": "stream",
     "text": [
      "\n",
      "18it [00:20,  1.13s/it]"
     ]
    },
    {
     "name": "stdout",
     "output_type": "stream",
     "text": [
      "Loss_G: 0.2795579350656933\\Loss_D_z: 0.34025536974271137\\Loss_D_img: 0.2920430774490039\n",
      "vgg_loss 0.004468314815312624\n",
      "EG_loss 0.08701526373624802\n",
      "fm_loss 0.2622997760772705\n",
      "G_img_loss 3.577646493911743\n",
      "E_z_loss 2.0181455612182617\n",
      "tv_loss 0.970596194267273\n",
      "D_cont_loss_fake 0.03802289441227913\n",
      "D_img_loss_input 0.13239745795726776\n",
      "D_img_loss_G 0.04321736842393875\n",
      "End of epoch 127 \t Time Taken: 20.841382026672363 sec\n",
      "\n"
     ]
    },
    {
     "name": "stderr",
     "output_type": "stream",
     "text": [
      "\n",
      "18it [00:20,  1.13s/it]"
     ]
    },
    {
     "name": "stdout",
     "output_type": "stream",
     "text": [
      "Loss_G: 0.27772963378164506\\Loss_D_z: 0.3452955120139652\\Loss_D_img: 0.2676902479595608\n",
      "vgg_loss 0.004547083750367165\n",
      "EG_loss 0.088215172290802\n",
      "fm_loss 0.26798757910728455\n",
      "G_img_loss 2.837956428527832\n",
      "E_z_loss 2.0435385704040527\n",
      "tv_loss 0.9960657358169556\n",
      "D_cont_loss_fake 0.04096669703722\n",
      "D_img_loss_input 0.12424173206090927\n",
      "D_img_loss_G 0.10066194832324982\n",
      "End of epoch 128 \t Time Taken: 20.99023723602295 sec\n",
      "\n"
     ]
    },
    {
     "name": "stderr",
     "output_type": "stream",
     "text": [
      "\n",
      "18it [00:20,  1.12s/it]"
     ]
    },
    {
     "name": "stdout",
     "output_type": "stream",
     "text": [
      "Loss_G: 0.2780042555597093\\Loss_D_z: 0.3071419033739302\\Loss_D_img: 0.3003989780942599\n",
      "vgg_loss 0.004437578842043877\n",
      "EG_loss 0.08826969563961029\n",
      "fm_loss 0.26433664560317993\n",
      "G_img_loss 3.329549789428711\n",
      "E_z_loss 2.1615896224975586\n",
      "tv_loss 0.911145806312561\n",
      "D_cont_loss_fake 0.04953785240650177\n",
      "D_img_loss_input 0.15642377734184265\n",
      "D_img_loss_G 0.08353394269943237\n",
      "End of epoch 129 \t Time Taken: 20.82041049003601 sec\n",
      "\n"
     ]
    },
    {
     "name": "stderr",
     "output_type": "stream",
     "text": [
      "\n",
      "18it [00:20,  1.12s/it]"
     ]
    },
    {
     "name": "stdout",
     "output_type": "stream",
     "text": [
      "Loss_G: 0.2725134723716312\\Loss_D_z: 0.3252682371271981\\Loss_D_img: 0.27193235605955124\n",
      "vgg_loss 0.004495925270020962\n",
      "EG_loss 0.08702924102544785\n",
      "fm_loss 0.2513502836227417\n",
      "G_img_loss 3.438627243041992\n",
      "E_z_loss 2.101468324661255\n",
      "tv_loss 0.9646680951118469\n",
      "D_cont_loss_fake 0.0417746976017952\n",
      "D_img_loss_input 0.2068844437599182\n",
      "D_img_loss_G 0.05838587135076523\n",
      "End of epoch 130 \t Time Taken: 20.88616180419922 sec\n",
      "\n"
     ]
    },
    {
     "name": "stderr",
     "output_type": "stream",
     "text": [
      "\n",
      "18it [00:20,  1.13s/it]"
     ]
    },
    {
     "name": "stdout",
     "output_type": "stream",
     "text": [
      "Loss_G: 0.2749790648619334\\Loss_D_z: 0.3222083929512236\\Loss_D_img: 0.3241441390580601\n",
      "vgg_loss 0.004379690159112215\n",
      "EG_loss 0.08936046808958054\n",
      "fm_loss 0.2711832523345947\n",
      "G_img_loss 2.9686965942382812\n",
      "E_z_loss 2.0270166397094727\n",
      "tv_loss 0.9323500990867615\n",
      "D_cont_loss_fake 0.05542012304067612\n",
      "D_img_loss_input 0.18244948983192444\n",
      "D_img_loss_G 0.17595118284225464\n",
      "End of epoch 131 \t Time Taken: 21.005881786346436 sec\n",
      "\n"
     ]
    },
    {
     "name": "stderr",
     "output_type": "stream",
     "text": [
      "\n",
      "18it [00:20,  1.13s/it]"
     ]
    },
    {
     "name": "stdout",
     "output_type": "stream",
     "text": [
      "Loss_G: 0.27239612407154506\\Loss_D_z: 0.3416067378388511\\Loss_D_img: 0.3081038271387418\n",
      "vgg_loss 0.004426704719662666\n",
      "EG_loss 0.0857887715101242\n",
      "fm_loss 0.24858301877975464\n",
      "G_img_loss 2.591395854949951\n",
      "E_z_loss 2.0198416709899902\n",
      "tv_loss 0.9453303813934326\n",
      "D_cont_loss_fake 0.041696686297655106\n",
      "D_img_loss_input 0.06480266898870468\n",
      "D_img_loss_G 0.11744780838489532\n",
      "End of epoch 132 \t Time Taken: 20.88592505455017 sec\n",
      "\n"
     ]
    },
    {
     "name": "stderr",
     "output_type": "stream",
     "text": [
      "\n",
      "18it [00:20,  1.12s/it]"
     ]
    },
    {
     "name": "stdout",
     "output_type": "stream",
     "text": [
      "Loss_G: 0.2741651435693105\\Loss_D_z: 0.3202022198173735\\Loss_D_img: 0.24766876465744442\n",
      "vgg_loss 0.004553159233182669\n",
      "EG_loss 0.0894278883934021\n",
      "fm_loss 0.2472938597202301\n",
      "G_img_loss 2.8640248775482178\n",
      "E_z_loss 2.190939426422119\n",
      "tv_loss 0.9469637274742126\n",
      "D_cont_loss_fake 0.04319211468100548\n",
      "D_img_loss_input 0.11804936826229095\n",
      "D_img_loss_G 0.08981704711914062\n",
      "End of epoch 133 \t Time Taken: 20.910565614700317 sec\n",
      "\n"
     ]
    },
    {
     "name": "stderr",
     "output_type": "stream",
     "text": [
      "\n",
      "18it [00:20,  1.13s/it]"
     ]
    },
    {
     "name": "stdout",
     "output_type": "stream",
     "text": [
      "Loss_G: 0.2795112712515725\\Loss_D_z: 0.29479125804371303\\Loss_D_img: 0.27006544007195366\n",
      "vgg_loss 0.004419668111950159\n",
      "EG_loss 0.08629914373159409\n",
      "fm_loss 0.25734859704971313\n",
      "G_img_loss 1.9932552576065063\n",
      "E_z_loss 2.270353317260742\n",
      "tv_loss 0.9234358072280884\n",
      "D_cont_loss_fake 0.05764809250831604\n",
      "D_img_loss_input 0.09055556356906891\n",
      "D_img_loss_G 0.3370731472969055\n",
      "End of epoch 134 \t Time Taken: 21.177979230880737 sec\n",
      "\n"
     ]
    },
    {
     "name": "stderr",
     "output_type": "stream",
     "text": [
      "\n",
      "18it [00:21,  1.27s/it]"
     ]
    },
    {
     "name": "stdout",
     "output_type": "stream",
     "text": [
      "Loss_G: 0.27640103300412494\\Loss_D_z: 0.3086387912432353\\Loss_D_img: 0.2857441074318356\n",
      "vgg_loss 0.004209591541439295\n",
      "EG_loss 0.08449326455593109\n",
      "fm_loss 0.26941978931427\n",
      "G_img_loss 2.912168264389038\n",
      "E_z_loss 1.5290669202804565\n",
      "tv_loss 1.0124030113220215\n",
      "D_cont_loss_fake 0.04205271974205971\n",
      "D_img_loss_input 0.10400139540433884\n",
      "D_img_loss_G 0.09186850488185883\n",
      "End of epoch 135 \t Time Taken: 22.343595027923584 sec\n",
      "\n"
     ]
    },
    {
     "name": "stderr",
     "output_type": "stream",
     "text": [
      "\n",
      "18it [00:23,  1.29s/it]"
     ]
    },
    {
     "name": "stdout",
     "output_type": "stream",
     "text": [
      "Loss_G: 0.269942969083786\\Loss_D_z: 0.3177784714433882\\Loss_D_img: 0.23898113353384864\n",
      "vgg_loss 0.004435306880623102\n",
      "EG_loss 0.08614125847816467\n",
      "fm_loss 0.24584829807281494\n",
      "G_img_loss 2.5925745964050293\n",
      "E_z_loss 2.1432418823242188\n",
      "tv_loss 0.9978195428848267\n",
      "D_cont_loss_fake 0.04003501683473587\n",
      "D_img_loss_input 0.053186140954494476\n",
      "D_img_loss_G 0.1327531337738037\n",
      "End of epoch 136 \t Time Taken: 23.624821424484253 sec\n",
      "\n"
     ]
    },
    {
     "name": "stderr",
     "output_type": "stream",
     "text": [
      "\n",
      "18it [00:23,  1.27s/it]"
     ]
    },
    {
     "name": "stdout",
     "output_type": "stream",
     "text": [
      "Loss_G: 0.2736564841535356\\Loss_D_z: 0.30058502157529193\\Loss_D_img: 0.22810470147265327\n",
      "vgg_loss 0.004495113156735897\n",
      "EG_loss 0.08747966587543488\n",
      "fm_loss 0.26154133677482605\n",
      "G_img_loss 2.9332971572875977\n",
      "E_z_loss 2.1040680408477783\n",
      "tv_loss 0.9862895607948303\n",
      "D_cont_loss_fake 0.042946308851242065\n",
      "D_img_loss_input 0.07088449597358704\n",
      "D_img_loss_G 0.08363381028175354\n",
      "End of epoch 137 \t Time Taken: 23.488938093185425 sec\n",
      "\n"
     ]
    },
    {
     "name": "stderr",
     "output_type": "stream",
     "text": [
      "\n",
      "18it [00:23,  1.27s/it]"
     ]
    },
    {
     "name": "stdout",
     "output_type": "stream",
     "text": [
      "Loss_G: 0.28242528604136574\\Loss_D_z: 0.28600579417414135\\Loss_D_img: 0.23605580627918243\n",
      "vgg_loss 0.00449929665774107\n",
      "EG_loss 0.0878804624080658\n",
      "fm_loss 0.2543185353279114\n",
      "G_img_loss 2.82431697845459\n",
      "E_z_loss 2.1087751388549805\n",
      "tv_loss 1.0375100374221802\n",
      "D_cont_loss_fake 0.05246470123529434\n",
      "D_img_loss_input 0.08443459868431091\n",
      "D_img_loss_G 0.09698557108640671\n",
      "End of epoch 138 \t Time Taken: 23.625104188919067 sec\n",
      "\n"
     ]
    },
    {
     "name": "stderr",
     "output_type": "stream",
     "text": [
      "\n",
      "18it [00:20,  1.13s/it]"
     ]
    },
    {
     "name": "stdout",
     "output_type": "stream",
     "text": [
      "Loss_G: 0.28066666589842904\\Loss_D_z: 0.28263868225945366\\Loss_D_img: 0.23315586232476765\n",
      "vgg_loss 0.004303604830056429\n",
      "EG_loss 0.08534412086009979\n",
      "fm_loss 0.24440963566303253\n",
      "G_img_loss 2.9871628284454346\n",
      "E_z_loss 2.3030850887298584\n",
      "tv_loss 0.9498064517974854\n",
      "D_cont_loss_fake 0.048287950456142426\n",
      "D_img_loss_input 0.06947208940982819\n",
      "D_img_loss_G 0.07939226925373077\n",
      "End of epoch 139 \t Time Taken: 21.032974004745483 sec\n",
      "\n"
     ]
    },
    {
     "name": "stderr",
     "output_type": "stream",
     "text": [
      "\n",
      "18it [00:20,  1.12s/it]"
     ]
    },
    {
     "name": "stdout",
     "output_type": "stream",
     "text": [
      "Loss_G: 0.27813733451896244\\Loss_D_z: 0.2712852574057049\\Loss_D_img: 0.23233242084582648\n",
      "vgg_loss 0.004351790063083172\n",
      "EG_loss 0.08500054478645325\n",
      "fm_loss 0.253975510597229\n",
      "G_img_loss 2.806741237640381\n",
      "E_z_loss 2.266335964202881\n",
      "tv_loss 0.9726890325546265\n",
      "D_cont_loss_fake 0.04165947064757347\n",
      "D_img_loss_input 0.039612721651792526\n",
      "D_img_loss_G 0.10746835172176361\n",
      "End of epoch 140 \t Time Taken: 20.895898818969727 sec\n",
      "\n"
     ]
    },
    {
     "name": "stderr",
     "output_type": "stream",
     "text": [
      "\n",
      "18it [00:20,  1.12s/it]"
     ]
    },
    {
     "name": "stdout",
     "output_type": "stream",
     "text": [
      "Loss_G: 0.27525556253062355\\Loss_D_z: 0.27725086195601356\\Loss_D_img: 0.2669521106614007\n",
      "vgg_loss 0.004427008796483278\n",
      "EG_loss 0.0852174460887909\n",
      "fm_loss 0.2431056797504425\n",
      "G_img_loss 3.1430647373199463\n",
      "E_z_loss 2.2234535217285156\n",
      "tv_loss 0.9838467836380005\n",
      "D_cont_loss_fake 0.042602308094501495\n",
      "D_img_loss_input 0.09140388667583466\n",
      "D_img_loss_G 0.09671927988529205\n",
      "End of epoch 141 \t Time Taken: 20.81902265548706 sec\n",
      "\n"
     ]
    },
    {
     "name": "stderr",
     "output_type": "stream",
     "text": [
      "\n",
      "18it [00:20,  1.12s/it]"
     ]
    },
    {
     "name": "stdout",
     "output_type": "stream",
     "text": [
      "Loss_G: 0.2781895200411479\\Loss_D_z: 0.2805200152926975\\Loss_D_img: 0.226074089606603\n",
      "vgg_loss 0.004364741966128349\n",
      "EG_loss 0.08485152572393417\n",
      "fm_loss 0.26741135120391846\n",
      "G_img_loss 3.289970874786377\n",
      "E_z_loss 2.2394771575927734\n",
      "tv_loss 0.9666863679885864\n",
      "D_cont_loss_fake 0.05742279812693596\n",
      "D_img_loss_input 0.08066945523023605\n",
      "D_img_loss_G 0.07587899267673492\n",
      "End of epoch 142 \t Time Taken: 20.827247381210327 sec\n",
      "\n"
     ]
    },
    {
     "name": "stderr",
     "output_type": "stream",
     "text": [
      "\n",
      "18it [00:20,  1.12s/it]"
     ]
    },
    {
     "name": "stdout",
     "output_type": "stream",
     "text": [
      "Loss_G: 0.27725700702932143\\Loss_D_z: 0.2753746120466126\\Loss_D_img: 0.22639453493886524\n",
      "vgg_loss 0.00435198750346899\n",
      "EG_loss 0.08550070971250534\n",
      "fm_loss 0.26290881633758545\n",
      "G_img_loss 2.8863625526428223\n",
      "E_z_loss 2.366140842437744\n",
      "tv_loss 1.0099670886993408\n",
      "D_cont_loss_fake 0.03644733875989914\n",
      "D_img_loss_input 0.10509081929922104\n",
      "D_img_loss_G 0.09445321559906006\n",
      "End of epoch 143 \t Time Taken: 20.794347286224365 sec\n",
      "\n"
     ]
    },
    {
     "name": "stderr",
     "output_type": "stream",
     "text": [
      "\n",
      "18it [00:20,  1.13s/it]"
     ]
    },
    {
     "name": "stdout",
     "output_type": "stream",
     "text": [
      "Loss_G: 0.27674535248014664\\Loss_D_z: 0.2607829330696\\Loss_D_img: 0.25339026004076004\n",
      "vgg_loss 0.004343606997281313\n",
      "EG_loss 0.08438863605260849\n",
      "fm_loss 0.25507819652557373\n",
      "G_img_loss 2.973123073577881\n",
      "E_z_loss 2.3528151512145996\n",
      "tv_loss 1.0002036094665527\n",
      "D_cont_loss_fake 0.040905293077230453\n",
      "D_img_loss_input 0.09360839426517487\n",
      "D_img_loss_G 0.09105516225099564\n",
      "End of epoch 144 \t Time Taken: 20.945132732391357 sec\n",
      "\n"
     ]
    },
    {
     "name": "stderr",
     "output_type": "stream",
     "text": [
      "\n",
      "18it [00:20,  1.12s/it]"
     ]
    },
    {
     "name": "stdout",
     "output_type": "stream",
     "text": [
      "Loss_G: 0.275339941183726\\Loss_D_z: 0.2527320393257671\\Loss_D_img: 0.22780104809337193\n",
      "vgg_loss 0.004421090707182884\n",
      "EG_loss 0.08500858396291733\n",
      "fm_loss 0.2634137272834778\n",
      "G_img_loss 2.898834466934204\n",
      "E_z_loss 2.2619857788085938\n",
      "tv_loss 1.0507601499557495\n",
      "D_cont_loss_fake 0.05341547727584839\n",
      "D_img_loss_input 0.06874170899391174\n",
      "D_img_loss_G 0.11470997333526611\n",
      "End of epoch 145 \t Time Taken: 20.81066870689392 sec\n",
      "\n"
     ]
    },
    {
     "name": "stderr",
     "output_type": "stream",
     "text": [
      "\n",
      "18it [00:20,  1.12s/it]"
     ]
    },
    {
     "name": "stdout",
     "output_type": "stream",
     "text": [
      "Loss_G: 0.2783174117406209\\Loss_D_z: 0.24275588409768212\\Loss_D_img: 0.2569803131951226\n",
      "vgg_loss 0.004342745523899794\n",
      "EG_loss 0.08553072065114975\n",
      "fm_loss 0.2562011778354645\n",
      "G_img_loss 3.0190277099609375\n",
      "E_z_loss 2.4239895343780518\n",
      "tv_loss 0.9700186252593994\n",
      "D_cont_loss_fake 0.04993794858455658\n",
      "D_img_loss_input 0.12225871533155441\n",
      "D_img_loss_G 0.09557312726974487\n",
      "End of epoch 146 \t Time Taken: 20.906368494033813 sec\n",
      "\n"
     ]
    },
    {
     "name": "stderr",
     "output_type": "stream",
     "text": [
      "\n",
      "18it [00:20,  1.13s/it]"
     ]
    },
    {
     "name": "stdout",
     "output_type": "stream",
     "text": [
      "Loss_G: 0.338627932800187\\Loss_D_z: 0.2418071064684126\\Loss_D_img: 3.337825866209136\n",
      "vgg_loss 0.005537969525903463\n",
      "EG_loss 0.09963499754667282\n",
      "fm_loss 0.14086446166038513\n",
      "G_img_loss 0.991273045539856\n",
      "E_z_loss 2.4264230728149414\n",
      "tv_loss 1.6689525842666626\n",
      "D_cont_loss_fake 0.09501046687364578\n",
      "D_img_loss_input 0.6480628848075867\n",
      "D_img_loss_G 0.7600707411766052\n",
      "End of epoch 147 \t Time Taken: 20.92832851409912 sec\n",
      "\n"
     ]
    },
    {
     "name": "stderr",
     "output_type": "stream",
     "text": [
      "\n",
      "18it [00:20,  1.12s/it]"
     ]
    },
    {
     "name": "stdout",
     "output_type": "stream",
     "text": [
      "Loss_G: 0.2710567033953137\\Loss_D_z: 0.25190204713079667\\Loss_D_img: 1.0625361038578882\n",
      "vgg_loss 0.0043656351044774055\n",
      "EG_loss 0.09655403345823288\n",
      "fm_loss 0.19745901226997375\n",
      "G_img_loss 1.3268293142318726\n",
      "E_z_loss 2.213602066040039\n",
      "tv_loss 0.6051006317138672\n",
      "D_cont_loss_fake 0.042020294815301895\n",
      "D_img_loss_input 0.36526256799697876\n",
      "D_img_loss_G 0.4580642580986023\n",
      "End of epoch 148 \t Time Taken: 20.960285186767578 sec\n",
      "\n"
     ]
    },
    {
     "name": "stderr",
     "output_type": "stream",
     "text": [
      "\n",
      "18it [00:20,  1.12s/it]"
     ]
    },
    {
     "name": "stdout",
     "output_type": "stream",
     "text": [
      "Loss_G: 0.2531885430216789\\Loss_D_z: 0.2420153237051434\\Loss_D_img: 0.7466490103138818\n",
      "vgg_loss 0.004352771211415529\n",
      "EG_loss 0.08156956732273102\n",
      "fm_loss 0.22984068095684052\n",
      "G_img_loss 2.3446385860443115\n",
      "E_z_loss 2.302138566970825\n",
      "tv_loss 0.6695501804351807\n",
      "D_cont_loss_fake 0.03821336850523949\n",
      "D_img_loss_input 0.29583975672721863\n",
      "D_img_loss_G 0.23931299149990082\n",
      "End of epoch 149 \t Time Taken: 20.918172359466553 sec\n",
      "\n"
     ]
    },
    {
     "name": "stderr",
     "output_type": "stream",
     "text": [
      "\n",
      "18it [00:20,  1.13s/it]\n"
     ]
    },
    {
     "name": "stdout",
     "output_type": "stream",
     "text": [
      "Saving the model at the end of epoch 150\n",
      "\n",
      "Loss_G: 0.2513194978237152\\Loss_D_z: 0.23593441231383216\\Loss_D_img: 0.4575795266363356\n",
      "vgg_loss 0.004222528543323278\n",
      "EG_loss 0.08947744965553284\n",
      "fm_loss 0.2438226342201233\n",
      "G_img_loss 2.0379526615142822\n",
      "E_z_loss 2.2829036712646484\n",
      "tv_loss 0.7827918529510498\n",
      "D_cont_loss_fake 0.04927359148859978\n",
      "D_img_loss_input 0.19063818454742432\n",
      "D_img_loss_G 0.19180259108543396\n",
      "End of epoch 150 \t Time Taken: 21.69933581352234 sec\n",
      "\n"
     ]
    },
    {
     "name": "stderr",
     "output_type": "stream",
     "text": [
      "18it [00:20,  1.10s/it]"
     ]
    },
    {
     "name": "stdout",
     "output_type": "stream",
     "text": [
      "Loss_G: 0.25042115814156\\Loss_D_z: 0.22571217599842283\\Loss_D_img: 0.4798297617170546\n",
      "vgg_loss 0.0043609002605080605\n",
      "EG_loss 0.08694349974393845\n",
      "fm_loss 0.2511228024959564\n",
      "G_img_loss 1.9776480197906494\n",
      "E_z_loss 2.3028433322906494\n",
      "tv_loss 0.8189915418624878\n",
      "D_cont_loss_fake 0.05403220281004906\n",
      "D_img_loss_input 0.1164940744638443\n",
      "D_img_loss_G 0.2242020070552826\n",
      "End of epoch 151 \t Time Taken: 20.738222122192383 sec\n",
      "\n"
     ]
    },
    {
     "name": "stderr",
     "output_type": "stream",
     "text": [
      "\n",
      "18it [00:20,  1.13s/it]"
     ]
    },
    {
     "name": "stdout",
     "output_type": "stream",
     "text": [
      "Loss_G: 0.25415824602047604\\Loss_D_z: 0.22688765244351494\\Loss_D_img: 0.43599004050095874\n",
      "vgg_loss 0.004291923716664314\n",
      "EG_loss 0.08803284168243408\n",
      "fm_loss 0.24922806024551392\n",
      "G_img_loss 2.9171316623687744\n",
      "E_z_loss 2.2993226051330566\n",
      "tv_loss 0.9004511833190918\n",
      "D_cont_loss_fake 0.039226431399583817\n",
      "D_img_loss_input 0.2217133343219757\n",
      "D_img_loss_G 0.09336584061384201\n",
      "End of epoch 152 \t Time Taken: 21.122292041778564 sec\n",
      "\n"
     ]
    },
    {
     "name": "stderr",
     "output_type": "stream",
     "text": [
      "\n",
      "18it [00:20,  1.13s/it]"
     ]
    },
    {
     "name": "stdout",
     "output_type": "stream",
     "text": [
      "Loss_G: 0.2568379234936502\\Loss_D_z: 0.21883584724532235\\Loss_D_img: 0.3457571102513207\n",
      "vgg_loss 0.004147379193454981\n",
      "EG_loss 0.08005447685718536\n",
      "fm_loss 0.2617853283882141\n",
      "G_img_loss 2.3726274967193604\n",
      "E_z_loss 2.5766401290893555\n",
      "tv_loss 0.8897230625152588\n",
      "D_cont_loss_fake 0.031481966376304626\n",
      "D_img_loss_input 0.10648852586746216\n",
      "D_img_loss_G 0.15798477828502655\n",
      "End of epoch 153 \t Time Taken: 20.945181846618652 sec\n",
      "\n"
     ]
    },
    {
     "name": "stderr",
     "output_type": "stream",
     "text": [
      "\n",
      "18it [00:20,  1.13s/it]"
     ]
    },
    {
     "name": "stdout",
     "output_type": "stream",
     "text": [
      "Loss_G: 0.2592148640089565\\Loss_D_z: 0.2200115281674597\\Loss_D_img: 0.30758610202206504\n",
      "vgg_loss 0.004129436798393726\n",
      "EG_loss 0.08067464828491211\n",
      "fm_loss 0.2598634362220764\n",
      "G_img_loss 2.6159701347351074\n",
      "E_z_loss 2.449748992919922\n",
      "tv_loss 0.9134929180145264\n",
      "D_cont_loss_fake 0.042947106063365936\n",
      "D_img_loss_input 0.16585275530815125\n",
      "D_img_loss_G 0.1240302249789238\n",
      "End of epoch 154 \t Time Taken: 21.04241704940796 sec\n",
      "\n"
     ]
    },
    {
     "name": "stderr",
     "output_type": "stream",
     "text": [
      "\n",
      "18it [00:20,  1.14s/it]"
     ]
    },
    {
     "name": "stdout",
     "output_type": "stream",
     "text": [
      "Loss_G: 0.26009031550751793\\Loss_D_z: 0.2408579174015257\\Loss_D_img: 0.273187475072013\n",
      "vgg_loss 0.0041832285933196545\n",
      "EG_loss 0.08258316665887833\n",
      "fm_loss 0.2718188166618347\n",
      "G_img_loss 2.436704635620117\n",
      "E_z_loss 2.1159286499023438\n",
      "tv_loss 0.9455137252807617\n",
      "D_cont_loss_fake 0.04581988602876663\n",
      "D_img_loss_input 0.11208932846784592\n",
      "D_img_loss_G 0.1285240650177002\n",
      "End of epoch 155 \t Time Taken: 21.137418270111084 sec\n",
      "\n"
     ]
    },
    {
     "name": "stderr",
     "output_type": "stream",
     "text": [
      "\n",
      "18it [00:20,  1.14s/it]"
     ]
    },
    {
     "name": "stdout",
     "output_type": "stream",
     "text": [
      "Loss_G: 0.26629336840576595\\Loss_D_z: 0.23090984175602594\\Loss_D_img: 0.28407811952961814\n",
      "vgg_loss 0.0042238966561853886\n",
      "EG_loss 0.08122433722019196\n",
      "fm_loss 0.27075886726379395\n",
      "G_img_loss 2.726968288421631\n",
      "E_z_loss 2.318640947341919\n",
      "tv_loss 0.8987327814102173\n",
      "D_cont_loss_fake 0.06156425550580025\n",
      "D_img_loss_input 0.09541916102170944\n",
      "D_img_loss_G 0.10548490285873413\n",
      "End of epoch 156 \t Time Taken: 21.092778205871582 sec\n",
      "\n"
     ]
    },
    {
     "name": "stderr",
     "output_type": "stream",
     "text": [
      "\n",
      "18it [00:20,  1.13s/it]"
     ]
    },
    {
     "name": "stdout",
     "output_type": "stream",
     "text": [
      "Loss_G: 0.26924163268672097\\Loss_D_z: 0.22121619433164597\\Loss_D_img: 0.2756924422250854\n",
      "vgg_loss 0.004204015713185072\n",
      "EG_loss 0.08254760503768921\n",
      "fm_loss 0.26015734672546387\n",
      "G_img_loss 2.958092212677002\n",
      "E_z_loss 2.2650842666625977\n",
      "tv_loss 0.9276248812675476\n",
      "D_cont_loss_fake 0.04540301486849785\n",
      "D_img_loss_input 0.19187229871749878\n",
      "D_img_loss_G 0.08659902960062027\n",
      "End of epoch 157 \t Time Taken: 21.01892900466919 sec\n",
      "\n"
     ]
    },
    {
     "name": "stderr",
     "output_type": "stream",
     "text": [
      "\n",
      "18it [00:20,  1.12s/it]"
     ]
    },
    {
     "name": "stdout",
     "output_type": "stream",
     "text": [
      "Loss_G: 0.26836011475986904\\Loss_D_z: 0.2119426222311126\\Loss_D_img: 0.25230935629871154\n",
      "vgg_loss 0.00445165392011404\n",
      "EG_loss 0.09637465327978134\n",
      "fm_loss 0.2816760540008545\n",
      "G_img_loss 2.935124397277832\n",
      "E_z_loss 2.5547990798950195\n",
      "tv_loss 0.9810546636581421\n",
      "D_cont_loss_fake 0.04509906470775604\n",
      "D_img_loss_input 0.08861888945102692\n",
      "D_img_loss_G 0.08134948462247849\n",
      "End of epoch 158 \t Time Taken: 20.90648627281189 sec\n",
      "\n"
     ]
    },
    {
     "name": "stderr",
     "output_type": "stream",
     "text": [
      "\n",
      "18it [00:20,  1.13s/it]"
     ]
    },
    {
     "name": "stdout",
     "output_type": "stream",
     "text": [
      "Loss_G: 0.2696467737356822\\Loss_D_z: 0.21342818604575264\\Loss_D_img: 0.2681078430679109\n",
      "vgg_loss 0.004260128829628229\n",
      "EG_loss 0.08294650167226791\n",
      "fm_loss 0.2609955370426178\n",
      "G_img_loss 2.585068702697754\n",
      "E_z_loss 2.5065066814422607\n",
      "tv_loss 0.968523383140564\n",
      "D_cont_loss_fake 0.04631492868065834\n",
      "D_img_loss_input 0.0876680538058281\n",
      "D_img_loss_G 0.1379517912864685\n",
      "End of epoch 159 \t Time Taken: 20.96045756340027 sec\n",
      "\n"
     ]
    },
    {
     "name": "stderr",
     "output_type": "stream",
     "text": [
      "\n",
      "18it [00:20,  1.13s/it]"
     ]
    },
    {
     "name": "stdout",
     "output_type": "stream",
     "text": [
      "Loss_G: 0.27075973484251237\\Loss_D_z: 0.20989939818779627\\Loss_D_img: 0.2608964708116319\n",
      "vgg_loss 0.004425575956702232\n",
      "EG_loss 0.08799932897090912\n",
      "fm_loss 0.255423367023468\n",
      "G_img_loss 2.275881052017212\n",
      "E_z_loss 2.558304786682129\n",
      "tv_loss 0.9899251461029053\n",
      "D_cont_loss_fake 0.051575109362602234\n",
      "D_img_loss_input 0.08042220771312714\n",
      "D_img_loss_G 0.19037029147148132\n",
      "End of epoch 160 \t Time Taken: 20.978203058242798 sec\n",
      "\n"
     ]
    },
    {
     "name": "stderr",
     "output_type": "stream",
     "text": [
      "\n",
      "18it [00:20,  1.13s/it]"
     ]
    },
    {
     "name": "stdout",
     "output_type": "stream",
     "text": [
      "Loss_G: 0.26892686386903125\\Loss_D_z: 0.21814393666055468\\Loss_D_img: 0.23264649344815147\n",
      "vgg_loss 0.004216864705085754\n",
      "EG_loss 0.08388720452785492\n",
      "fm_loss 0.2669602334499359\n",
      "G_img_loss 2.7228622436523438\n",
      "E_z_loss 2.34814715385437\n",
      "tv_loss 0.991828978061676\n",
      "D_cont_loss_fake 0.05315554887056351\n",
      "D_img_loss_input 0.16497460007667542\n",
      "D_img_loss_G 0.1284835934638977\n",
      "End of epoch 161 \t Time Taken: 21.112156867980957 sec\n",
      "\n"
     ]
    },
    {
     "name": "stderr",
     "output_type": "stream",
     "text": [
      "\n",
      "18it [00:20,  1.13s/it]"
     ]
    },
    {
     "name": "stdout",
     "output_type": "stream",
     "text": [
      "Loss_G: 0.274979583091206\\Loss_D_z: 0.2293103966448042\\Loss_D_img: 0.23782411714394888\n",
      "vgg_loss 0.004394437186419964\n",
      "EG_loss 0.08768805116415024\n",
      "fm_loss 0.2613895535469055\n",
      "G_img_loss 2.6038246154785156\n",
      "E_z_loss 2.3902883529663086\n",
      "tv_loss 0.9737287163734436\n",
      "D_cont_loss_fake 0.052466973662376404\n",
      "D_img_loss_input 0.08045884221792221\n",
      "D_img_loss_G 0.11350288987159729\n",
      "End of epoch 162 \t Time Taken: 20.87378239631653 sec\n",
      "\n"
     ]
    },
    {
     "name": "stderr",
     "output_type": "stream",
     "text": [
      "\n",
      "18it [00:20,  1.13s/it]"
     ]
    },
    {
     "name": "stdout",
     "output_type": "stream",
     "text": [
      "Loss_G: 0.27080829275978935\\Loss_D_z: 0.2084501948621538\\Loss_D_img: 0.226347545782725\n",
      "vgg_loss 0.004364070948213339\n",
      "EG_loss 0.08468914031982422\n",
      "fm_loss 0.2793700695037842\n",
      "G_img_loss 3.140193462371826\n",
      "E_z_loss 2.6658005714416504\n",
      "tv_loss 0.9653246402740479\n",
      "D_cont_loss_fake 0.04310167208313942\n",
      "D_img_loss_input 0.11459390074014664\n",
      "D_img_loss_G 0.06576903164386749\n",
      "End of epoch 163 \t Time Taken: 21.03931188583374 sec\n",
      "\n"
     ]
    },
    {
     "name": "stderr",
     "output_type": "stream",
     "text": [
      "\n",
      "18it [00:20,  1.13s/it]"
     ]
    },
    {
     "name": "stdout",
     "output_type": "stream",
     "text": [
      "Loss_G: 0.2720801896519131\\Loss_D_z: 0.1996986683872011\\Loss_D_img: 0.2177462304631869\n",
      "vgg_loss 0.004209598526358604\n",
      "EG_loss 0.08310719579458237\n",
      "fm_loss 0.28067833185195923\n",
      "G_img_loss 2.810520648956299\n",
      "E_z_loss 2.598565101623535\n",
      "tv_loss 0.9812332391738892\n",
      "D_cont_loss_fake 0.050928935408592224\n",
      "D_img_loss_input 0.10279671102762222\n",
      "D_img_loss_G 0.12933124601840973\n",
      "End of epoch 164 \t Time Taken: 20.981918334960938 sec\n",
      "\n"
     ]
    },
    {
     "name": "stderr",
     "output_type": "stream",
     "text": [
      "\n",
      "18it [00:20,  1.13s/it]"
     ]
    },
    {
     "name": "stdout",
     "output_type": "stream",
     "text": [
      "Loss_G: 0.27001354429456925\\Loss_D_z: 0.18651878668202293\\Loss_D_img: 0.21851744751135507\n",
      "vgg_loss 0.0042922222055494785\n",
      "EG_loss 0.08366262912750244\n",
      "fm_loss 0.25967520475387573\n",
      "G_img_loss 2.6619632244110107\n",
      "E_z_loss 2.453263759613037\n",
      "tv_loss 1.0271058082580566\n",
      "D_cont_loss_fake 0.04272841289639473\n",
      "D_img_loss_input 0.06319771707057953\n",
      "D_img_loss_G 0.10365112125873566\n",
      "End of epoch 165 \t Time Taken: 21.010513305664062 sec\n",
      "\n"
     ]
    },
    {
     "name": "stderr",
     "output_type": "stream",
     "text": [
      "\n",
      "18it [00:20,  1.13s/it]"
     ]
    },
    {
     "name": "stdout",
     "output_type": "stream",
     "text": [
      "Loss_G: 0.2747102412912581\\Loss_D_z: 0.19542862474918365\\Loss_D_img: 0.21428662041823068\n",
      "vgg_loss 0.004380923230201006\n",
      "EG_loss 0.08718548715114594\n",
      "fm_loss 0.2673202455043793\n",
      "G_img_loss 2.794924020767212\n",
      "E_z_loss 2.4394450187683105\n",
      "tv_loss 0.9934635162353516\n",
      "D_cont_loss_fake 0.04416920989751816\n",
      "D_img_loss_input 0.06140333041548729\n",
      "D_img_loss_G 0.12187488377094269\n",
      "End of epoch 166 \t Time Taken: 21.00533652305603 sec\n",
      "\n"
     ]
    },
    {
     "name": "stderr",
     "output_type": "stream",
     "text": [
      "\n",
      "18it [00:20,  1.13s/it]"
     ]
    },
    {
     "name": "stdout",
     "output_type": "stream",
     "text": [
      "Loss_G: 0.2698511514398787\\Loss_D_z: 0.2075147976477941\\Loss_D_img: 0.2123176927367846\n",
      "vgg_loss 0.004200937692075968\n",
      "EG_loss 0.08505624532699585\n",
      "fm_loss 0.25824281573295593\n",
      "G_img_loss 3.021806478500366\n",
      "E_z_loss 2.3877274990081787\n",
      "tv_loss 0.9760595560073853\n",
      "D_cont_loss_fake 0.04444335028529167\n",
      "D_img_loss_input 0.07966111600399017\n",
      "D_img_loss_G 0.08292838931083679\n",
      "End of epoch 167 \t Time Taken: 20.93694305419922 sec\n",
      "\n"
     ]
    },
    {
     "name": "stderr",
     "output_type": "stream",
     "text": [
      "\n",
      "18it [00:20,  1.13s/it]"
     ]
    },
    {
     "name": "stdout",
     "output_type": "stream",
     "text": [
      "Loss_G: 0.27013714777098763\\Loss_D_z: 0.19595245603058073\\Loss_D_img: 0.20942120999097824\n",
      "vgg_loss 0.004281500354409218\n",
      "EG_loss 0.08244030922651291\n",
      "fm_loss 0.27669039368629456\n",
      "G_img_loss 3.198585033416748\n",
      "E_z_loss 2.716749429702759\n",
      "tv_loss 0.9654910564422607\n",
      "D_cont_loss_fake 0.0420907586812973\n",
      "D_img_loss_input 0.11403599381446838\n",
      "D_img_loss_G 0.06586568057537079\n",
      "End of epoch 168 \t Time Taken: 20.956023454666138 sec\n",
      "\n"
     ]
    },
    {
     "name": "stderr",
     "output_type": "stream",
     "text": [
      "\n",
      "18it [00:20,  1.20s/it]"
     ]
    },
    {
     "name": "stdout",
     "output_type": "stream",
     "text": [
      "Loss_G: 0.2762851417064667\\Loss_D_z: 0.20341413219769797\\Loss_D_img: 0.2400484076804585\n",
      "vgg_loss 0.004203657619655132\n",
      "EG_loss 0.08313261717557907\n",
      "fm_loss 0.27880746126174927\n",
      "G_img_loss 3.3394548892974854\n",
      "E_z_loss 2.2419328689575195\n",
      "tv_loss 0.9158095717430115\n",
      "D_cont_loss_fake 0.045226018875837326\n",
      "D_img_loss_input 0.170831561088562\n",
      "D_img_loss_G 0.05939965695142746\n",
      "End of epoch 169 \t Time Taken: 21.21969223022461 sec\n",
      "\n"
     ]
    },
    {
     "name": "stderr",
     "output_type": "stream",
     "text": [
      "\n",
      "18it [00:23,  1.28s/it]"
     ]
    },
    {
     "name": "stdout",
     "output_type": "stream",
     "text": [
      "Loss_G: 0.27601158453358543\\Loss_D_z: 0.18098795000049803\\Loss_D_img: 0.22732198652293947\n",
      "vgg_loss 0.004191483370959759\n",
      "EG_loss 0.08126046508550644\n",
      "fm_loss 0.265566349029541\n",
      "G_img_loss 2.7776880264282227\n",
      "E_z_loss 2.7694263458251953\n",
      "tv_loss 0.9923869371414185\n",
      "D_cont_loss_fake 0.04833599179983139\n",
      "D_img_loss_input 0.10379818081855774\n",
      "D_img_loss_G 0.1166122704744339\n",
      "End of epoch 170 \t Time Taken: 23.692501306533813 sec\n",
      "\n"
     ]
    },
    {
     "name": "stderr",
     "output_type": "stream",
     "text": [
      "\n",
      "18it [00:23,  1.28s/it]"
     ]
    },
    {
     "name": "stdout",
     "output_type": "stream",
     "text": [
      "Loss_G: 0.2776062836249669\\Loss_D_z: 0.18113861315780216\\Loss_D_img: 0.21569369484980902\n",
      "vgg_loss 0.004000731743872166\n",
      "EG_loss 0.08071891218423843\n",
      "fm_loss 0.28651735186576843\n",
      "G_img_loss 3.079338788986206\n",
      "E_z_loss 2.6400251388549805\n",
      "tv_loss 0.9699791669845581\n",
      "D_cont_loss_fake 0.055983103811740875\n",
      "D_img_loss_input 0.06839586049318314\n",
      "D_img_loss_G 0.08923399448394775\n",
      "End of epoch 171 \t Time Taken: 23.596803903579712 sec\n",
      "\n"
     ]
    },
    {
     "name": "stderr",
     "output_type": "stream",
     "text": [
      "\n",
      "18it [00:23,  1.26s/it]"
     ]
    },
    {
     "name": "stdout",
     "output_type": "stream",
     "text": [
      "Loss_G: 0.2703710115618176\\Loss_D_z: 0.19989185283581415\\Loss_D_img: 0.20964839226669735\n",
      "vgg_loss 0.004333597142249346\n",
      "EG_loss 0.08433330059051514\n",
      "fm_loss 0.26081913709640503\n",
      "G_img_loss 2.7905473709106445\n",
      "E_z_loss 2.693370819091797\n",
      "tv_loss 1.0064046382904053\n",
      "D_cont_loss_fake 0.036838702857494354\n",
      "D_img_loss_input 0.030128445476293564\n",
      "D_img_loss_G 0.11949513852596283\n",
      "End of epoch 172 \t Time Taken: 23.5257887840271 sec\n",
      "\n"
     ]
    },
    {
     "name": "stderr",
     "output_type": "stream",
     "text": [
      "\n",
      "18it [00:23,  1.27s/it]"
     ]
    },
    {
     "name": "stdout",
     "output_type": "stream",
     "text": [
      "Loss_G: 0.2747476382388009\\Loss_D_z: 0.18688383946816126\\Loss_D_img: 0.22288627756966484\n",
      "vgg_loss 0.004191234242171049\n",
      "EG_loss 0.08225569128990173\n",
      "fm_loss 0.2550355792045593\n",
      "G_img_loss 3.188666343688965\n",
      "E_z_loss 2.7427282333374023\n",
      "tv_loss 0.9927017688751221\n",
      "D_cont_loss_fake 0.042392946779727936\n",
      "D_img_loss_input 0.10379588603973389\n",
      "D_img_loss_G 0.07965975999832153\n",
      "End of epoch 173 \t Time Taken: 23.569644689559937 sec\n",
      "\n"
     ]
    },
    {
     "name": "stderr",
     "output_type": "stream",
     "text": [
      "\n",
      "18it [00:23,  1.27s/it]"
     ]
    },
    {
     "name": "stdout",
     "output_type": "stream",
     "text": [
      "Loss_G: 0.2739730295207765\\Loss_D_z: 0.18265357530779308\\Loss_D_img: 0.20001374847359127\n",
      "vgg_loss 0.004237817600369453\n",
      "EG_loss 0.08216691762208939\n",
      "fm_loss 0.2697770595550537\n",
      "G_img_loss 3.3113059997558594\n",
      "E_z_loss 2.319737195968628\n",
      "tv_loss 0.9774755239486694\n",
      "D_cont_loss_fake 0.03309912979602814\n",
      "D_img_loss_input 0.05335753783583641\n",
      "D_img_loss_G 0.0694495290517807\n",
      "End of epoch 174 \t Time Taken: 23.585828065872192 sec\n",
      "\n"
     ]
    },
    {
     "name": "stderr",
     "output_type": "stream",
     "text": [
      "\n",
      "18it [00:22,  1.21s/it]"
     ]
    },
    {
     "name": "stdout",
     "output_type": "stream",
     "text": [
      "Loss_G: 0.27126482956939274\\Loss_D_z: 0.16989588406350878\\Loss_D_img: 0.22348931266201866\n",
      "vgg_loss 0.0042672245763242245\n",
      "EG_loss 0.0834958553314209\n",
      "fm_loss 0.26579105854034424\n",
      "G_img_loss 3.3498663902282715\n",
      "E_z_loss 2.63505220413208\n",
      "tv_loss 0.9420678615570068\n",
      "D_cont_loss_fake 0.03768577426671982\n",
      "D_img_loss_input 0.10419781506061554\n",
      "D_img_loss_G 0.06889502704143524\n",
      "End of epoch 175 \t Time Taken: 23.34110689163208 sec\n",
      "\n"
     ]
    },
    {
     "name": "stderr",
     "output_type": "stream",
     "text": [
      "\n",
      "18it [00:20,  1.14s/it]"
     ]
    },
    {
     "name": "stdout",
     "output_type": "stream",
     "text": [
      "Loss_G: 0.27361674937937\\Loss_D_z: 0.17603224101993772\\Loss_D_img: 0.22663960854212442\n",
      "vgg_loss 0.004202777054160833\n",
      "EG_loss 0.08340152353048325\n",
      "fm_loss 0.24642466008663177\n",
      "G_img_loss 2.5983779430389404\n",
      "E_z_loss 2.6650729179382324\n",
      "tv_loss 0.9576302766799927\n",
      "D_cont_loss_fake 0.04693043231964111\n",
      "D_img_loss_input 0.1009293645620346\n",
      "D_img_loss_G 0.16159090399742126\n",
      "End of epoch 176 \t Time Taken: 21.044573545455933 sec\n",
      "\n"
     ]
    },
    {
     "name": "stderr",
     "output_type": "stream",
     "text": [
      "\n",
      "18it [00:20,  1.13s/it]"
     ]
    },
    {
     "name": "stdout",
     "output_type": "stream",
     "text": [
      "Loss_G: 0.27529167963398826\\Loss_D_z: 0.1641586936182446\\Loss_D_img: 0.22581764393382603\n",
      "vgg_loss 0.004216277040541172\n",
      "EG_loss 0.08149799704551697\n",
      "fm_loss 0.26525038480758667\n",
      "G_img_loss 3.2204458713531494\n",
      "E_z_loss 2.8708877563476562\n",
      "tv_loss 0.9392254948616028\n",
      "D_cont_loss_fake 0.041279714554548264\n",
      "D_img_loss_input 0.0592336505651474\n",
      "D_img_loss_G 0.06579577177762985\n",
      "End of epoch 177 \t Time Taken: 21.0316481590271 sec\n",
      "\n"
     ]
    },
    {
     "name": "stderr",
     "output_type": "stream",
     "text": [
      "\n",
      "18it [00:21,  1.27s/it]"
     ]
    },
    {
     "name": "stdout",
     "output_type": "stream",
     "text": [
      "Loss_G: 0.26934895912806195\\Loss_D_z: 0.17156082391738892\\Loss_D_img: 0.2105838515692287\n",
      "vgg_loss 0.004153266549110413\n",
      "EG_loss 0.0812901109457016\n",
      "fm_loss 0.244747132062912\n",
      "G_img_loss 2.6154472827911377\n",
      "E_z_loss 2.700810670852661\n",
      "tv_loss 0.9336637258529663\n",
      "D_cont_loss_fake 0.037697650492191315\n",
      "D_img_loss_input 0.04500870406627655\n",
      "D_img_loss_G 0.14332816004753113\n",
      "End of epoch 178 \t Time Taken: 22.002052307128906 sec\n",
      "\n"
     ]
    },
    {
     "name": "stderr",
     "output_type": "stream",
     "text": [
      "\n",
      "18it [00:23,  1.27s/it]"
     ]
    },
    {
     "name": "stdout",
     "output_type": "stream",
     "text": [
      "Loss_G: 0.27261916299661\\Loss_D_z: 0.15275513049629\\Loss_D_img: 0.2367697631319364\n",
      "vgg_loss 0.00430642906576395\n",
      "EG_loss 0.08445455878973007\n",
      "fm_loss 0.2597424387931824\n",
      "G_img_loss 3.124863624572754\n",
      "E_z_loss 2.882789134979248\n",
      "tv_loss 0.9631993770599365\n",
      "D_cont_loss_fake 0.0492355041205883\n",
      "D_img_loss_input 0.07041247189044952\n",
      "D_img_loss_G 0.09184010326862335\n",
      "End of epoch 179 \t Time Taken: 23.465553522109985 sec\n",
      "\n"
     ]
    },
    {
     "name": "stderr",
     "output_type": "stream",
     "text": [
      "\n",
      "18it [00:23,  1.28s/it]"
     ]
    },
    {
     "name": "stdout",
     "output_type": "stream",
     "text": [
      "Loss_G: 0.2701267252365748\\Loss_D_z: 0.15949461691909367\\Loss_D_img: 0.2330106877618366\n",
      "vgg_loss 0.00424922863021493\n",
      "EG_loss 0.08187732100486755\n",
      "fm_loss 0.2602987289428711\n",
      "G_img_loss 3.3383493423461914\n",
      "E_z_loss 2.817591667175293\n",
      "tv_loss 0.9372137784957886\n",
      "D_cont_loss_fake 0.042647384107112885\n",
      "D_img_loss_input 0.10593514889478683\n",
      "D_img_loss_G 0.07541026175022125\n",
      "End of epoch 180 \t Time Taken: 23.662195205688477 sec\n",
      "\n"
     ]
    },
    {
     "name": "stderr",
     "output_type": "stream",
     "text": [
      "\n",
      "18it [00:23,  1.27s/it]"
     ]
    },
    {
     "name": "stdout",
     "output_type": "stream",
     "text": [
      "Loss_G: 0.2716720269785987\\Loss_D_z: 0.1626535894142257\\Loss_D_img: 0.19630297852887046\n",
      "vgg_loss 0.003957825712859631\n",
      "EG_loss 0.07988531142473221\n",
      "fm_loss 0.2572067379951477\n",
      "G_img_loss 2.6860547065734863\n",
      "E_z_loss 2.4707884788513184\n",
      "tv_loss 0.9683610200881958\n",
      "D_cont_loss_fake 0.048192523419857025\n",
      "D_img_loss_input 0.07263582944869995\n",
      "D_img_loss_G 0.13998126983642578\n",
      "End of epoch 181 \t Time Taken: 23.43891716003418 sec\n",
      "\n"
     ]
    },
    {
     "name": "stderr",
     "output_type": "stream",
     "text": [
      "\n",
      "18it [00:20,  1.12s/it]"
     ]
    },
    {
     "name": "stdout",
     "output_type": "stream",
     "text": [
      "Loss_G: 0.2722592271036572\\Loss_D_z: 0.15421422902080748\\Loss_D_img: 0.20997090058194268\n",
      "vgg_loss 0.004049581475555897\n",
      "EG_loss 0.08353075385093689\n",
      "fm_loss 0.2557303309440613\n",
      "G_img_loss 2.93344783782959\n",
      "E_z_loss 2.742069721221924\n",
      "tv_loss 1.0013481378555298\n",
      "D_cont_loss_fake 0.03742960840463638\n",
      "D_img_loss_input 0.08006694912910461\n",
      "D_img_loss_G 0.10540638118982315\n",
      "End of epoch 182 \t Time Taken: 20.93857169151306 sec\n",
      "\n"
     ]
    },
    {
     "name": "stderr",
     "output_type": "stream",
     "text": [
      "\n",
      "18it [00:20,  1.12s/it]"
     ]
    },
    {
     "name": "stdout",
     "output_type": "stream",
     "text": [
      "Loss_G: 0.27119920154412586\\Loss_D_z: 0.15117771219876078\\Loss_D_img: 0.21397082176473406\n",
      "vgg_loss 0.004323807079344988\n",
      "EG_loss 0.08548812568187714\n",
      "fm_loss 0.2589016258716583\n",
      "G_img_loss 3.1366639137268066\n",
      "E_z_loss 2.920560121536255\n",
      "tv_loss 0.9569345712661743\n",
      "D_cont_loss_fake 0.0457431823015213\n",
      "D_img_loss_input 0.0772765725851059\n",
      "D_img_loss_G 0.0976722240447998\n",
      "End of epoch 183 \t Time Taken: 20.89287781715393 sec\n",
      "\n"
     ]
    },
    {
     "name": "stderr",
     "output_type": "stream",
     "text": [
      "\n",
      "18it [00:20,  1.13s/it]"
     ]
    },
    {
     "name": "stdout",
     "output_type": "stream",
     "text": [
      "Loss_G: 0.2718091607093811\\Loss_D_z: 0.155499291088846\\Loss_D_img: 0.23150685098436144\n",
      "vgg_loss 0.004194608423858881\n",
      "EG_loss 0.08176007866859436\n",
      "fm_loss 0.2711031138896942\n",
      "G_img_loss 3.0952200889587402\n",
      "E_z_loss 2.884551525115967\n",
      "tv_loss 1.0142992734909058\n",
      "D_cont_loss_fake 0.03567693755030632\n",
      "D_img_loss_input 0.056181296706199646\n",
      "D_img_loss_G 0.08149286359548569\n",
      "End of epoch 184 \t Time Taken: 20.8932147026062 sec\n",
      "\n"
     ]
    },
    {
     "name": "stderr",
     "output_type": "stream",
     "text": [
      "\n",
      "18it [00:20,  1.12s/it]"
     ]
    },
    {
     "name": "stdout",
     "output_type": "stream",
     "text": [
      "Loss_G: 0.2705746624204848\\Loss_D_z: 0.15709790173504087\\Loss_D_img: 0.20494231167766783\n",
      "vgg_loss 0.004217884968966246\n",
      "EG_loss 0.08356397598981857\n",
      "fm_loss 0.2507643699645996\n",
      "G_img_loss 3.107398748397827\n",
      "E_z_loss 2.791351079940796\n",
      "tv_loss 0.9814785718917847\n",
      "D_cont_loss_fake 0.037580929696559906\n",
      "D_img_loss_input 0.08902020007371902\n",
      "D_img_loss_G 0.11469143629074097\n",
      "End of epoch 185 \t Time Taken: 20.889642238616943 sec\n",
      "\n"
     ]
    },
    {
     "name": "stderr",
     "output_type": "stream",
     "text": [
      "\n",
      "18it [00:20,  1.13s/it]"
     ]
    },
    {
     "name": "stdout",
     "output_type": "stream",
     "text": [
      "Loss_G: 0.26955940160486436\\Loss_D_z: 0.15883919845024744\\Loss_D_img: 0.1974951368239191\n",
      "vgg_loss 0.004248517565429211\n",
      "EG_loss 0.08230898529291153\n",
      "fm_loss 0.2599020302295685\n",
      "G_img_loss 3.2362942695617676\n",
      "E_z_loss 2.5767383575439453\n",
      "tv_loss 0.9734970927238464\n",
      "D_cont_loss_fake 0.03323662281036377\n",
      "D_img_loss_input 0.09643213450908661\n",
      "D_img_loss_G 0.08294811099767685\n",
      "End of epoch 186 \t Time Taken: 20.97941827774048 sec\n",
      "\n"
     ]
    },
    {
     "name": "stderr",
     "output_type": "stream",
     "text": [
      "\n",
      "18it [00:20,  1.12s/it]"
     ]
    },
    {
     "name": "stdout",
     "output_type": "stream",
     "text": [
      "Loss_G: 0.27426037689050037\\Loss_D_z: 0.20549451228645113\\Loss_D_img: 0.21381028162108529\n",
      "vgg_loss 0.004258305300027132\n",
      "EG_loss 0.08284522593021393\n",
      "fm_loss 0.27106183767318726\n",
      "G_img_loss 3.1472835540771484\n",
      "E_z_loss 2.5619335174560547\n",
      "tv_loss 0.9580056667327881\n",
      "D_cont_loss_fake 0.04885929450392723\n",
      "D_img_loss_input 0.07377021759748459\n",
      "D_img_loss_G 0.06705160439014435\n",
      "End of epoch 187 \t Time Taken: 20.927858591079712 sec\n",
      "\n"
     ]
    },
    {
     "name": "stderr",
     "output_type": "stream",
     "text": [
      "\n",
      "18it [00:20,  1.12s/it]"
     ]
    },
    {
     "name": "stdout",
     "output_type": "stream",
     "text": [
      "Loss_G: 0.2687149362431632\\Loss_D_z: 0.1708119668894344\\Loss_D_img: 0.20827647878064048\n",
      "vgg_loss 0.004170173779129982\n",
      "EG_loss 0.08296085149049759\n",
      "fm_loss 0.2663077116012573\n",
      "G_img_loss 3.163390636444092\n",
      "E_z_loss 2.679358959197998\n",
      "tv_loss 0.9893438816070557\n",
      "D_cont_loss_fake 0.0426667183637619\n",
      "D_img_loss_input 0.10273290425539017\n",
      "D_img_loss_G 0.09672997146844864\n",
      "End of epoch 188 \t Time Taken: 20.99346923828125 sec\n",
      "\n"
     ]
    },
    {
     "name": "stderr",
     "output_type": "stream",
     "text": [
      "\n",
      "18it [00:20,  1.15s/it]"
     ]
    },
    {
     "name": "stdout",
     "output_type": "stream",
     "text": [
      "Loss_G: 0.2698547707663642\\Loss_D_z: 0.16998524632718828\\Loss_D_img: 0.2548524604903327\n",
      "vgg_loss 0.004024307709187269\n",
      "EG_loss 0.07971680164337158\n",
      "fm_loss 0.2620737552642822\n",
      "G_img_loss 3.8197522163391113\n",
      "E_z_loss 2.744863510131836\n",
      "tv_loss 0.9172005653381348\n",
      "D_cont_loss_fake 0.03534354642033577\n",
      "D_img_loss_input 0.20655351877212524\n",
      "D_img_loss_G 0.05698343738913536\n",
      "End of epoch 189 \t Time Taken: 21.032981395721436 sec\n",
      "\n"
     ]
    },
    {
     "name": "stderr",
     "output_type": "stream",
     "text": [
      "\n",
      "18it [00:20,  1.13s/it]"
     ]
    },
    {
     "name": "stdout",
     "output_type": "stream",
     "text": [
      "Loss_G: 0.27306949098904926\\Loss_D_z: 0.16830285473002327\\Loss_D_img: 0.23055043071508408\n",
      "vgg_loss 0.004226556047797203\n",
      "EG_loss 0.08248324692249298\n",
      "fm_loss 0.27008503675460815\n",
      "G_img_loss 3.0250608921051025\n",
      "E_z_loss 2.4809234142303467\n",
      "tv_loss 0.9817609786987305\n",
      "D_cont_loss_fake 0.03647879138588905\n",
      "D_img_loss_input 0.06855667382478714\n",
      "D_img_loss_G 0.13666634261608124\n",
      "End of epoch 190 \t Time Taken: 21.023526191711426 sec\n",
      "\n"
     ]
    },
    {
     "name": "stderr",
     "output_type": "stream",
     "text": [
      "\n",
      "18it [00:20,  1.14s/it]"
     ]
    },
    {
     "name": "stdout",
     "output_type": "stream",
     "text": [
      "Loss_G: 0.2653956926531262\\Loss_D_z: 0.1661861754126019\\Loss_D_img: 0.21140359507666695\n",
      "vgg_loss 0.004089265130460262\n",
      "EG_loss 0.07941839843988419\n",
      "fm_loss 0.26998305320739746\n",
      "G_img_loss 3.085160255432129\n",
      "E_z_loss 2.730480194091797\n",
      "tv_loss 0.9444712996482849\n",
      "D_cont_loss_fake 0.03727426007390022\n",
      "D_img_loss_input 0.06483602523803711\n",
      "D_img_loss_G 0.0837273895740509\n",
      "End of epoch 191 \t Time Taken: 21.039948225021362 sec\n",
      "\n"
     ]
    },
    {
     "name": "stderr",
     "output_type": "stream",
     "text": [
      "\n",
      "18it [00:20,  1.12s/it]"
     ]
    },
    {
     "name": "stdout",
     "output_type": "stream",
     "text": [
      "Loss_G: 0.2757153544161055\\Loss_D_z: 0.150294019944138\\Loss_D_img: 0.21222367717160118\n",
      "vgg_loss 0.004063826985657215\n",
      "EG_loss 0.08218011260032654\n",
      "fm_loss 0.25669926404953003\n",
      "G_img_loss 3.330848217010498\n",
      "E_z_loss 2.794724941253662\n",
      "tv_loss 0.9597299695014954\n",
      "D_cont_loss_fake 0.04647295922040939\n",
      "D_img_loss_input 0.09458515793085098\n",
      "D_img_loss_G 0.07293996959924698\n",
      "End of epoch 192 \t Time Taken: 20.9120774269104 sec\n",
      "\n"
     ]
    },
    {
     "name": "stderr",
     "output_type": "stream",
     "text": [
      "\n",
      "18it [00:20,  1.13s/it]"
     ]
    },
    {
     "name": "stdout",
     "output_type": "stream",
     "text": [
      "Loss_G: 0.27036409245596993\\Loss_D_z: 0.15193268160025278\\Loss_D_img: 0.21036145836114883\n",
      "vgg_loss 0.004092942923307419\n",
      "EG_loss 0.08170735836029053\n",
      "fm_loss 0.26785188913345337\n",
      "G_img_loss 3.852557420730591\n",
      "E_z_loss 2.8357913494110107\n",
      "tv_loss 0.9650556445121765\n",
      "D_cont_loss_fake 0.048467811197042465\n",
      "D_img_loss_input 0.18372268974781036\n",
      "D_img_loss_G 0.04177841544151306\n",
      "End of epoch 193 \t Time Taken: 20.89644742012024 sec\n",
      "\n"
     ]
    },
    {
     "name": "stderr",
     "output_type": "stream",
     "text": [
      "\n",
      "18it [00:20,  1.14s/it]"
     ]
    },
    {
     "name": "stdout",
     "output_type": "stream",
     "text": [
      "Loss_G: 0.27030451595783234\\Loss_D_z: 0.15053174065219033\\Loss_D_img: 0.23049836026297676\n",
      "vgg_loss 0.004215005319565535\n",
      "EG_loss 0.08394354581832886\n",
      "fm_loss 0.2629360854625702\n",
      "G_img_loss 3.6665096282958984\n",
      "E_z_loss 2.72003436088562\n",
      "tv_loss 0.9177261590957642\n",
      "D_cont_loss_fake 0.052047014236450195\n",
      "D_img_loss_input 0.09884364902973175\n",
      "D_img_loss_G 0.07205463945865631\n",
      "End of epoch 194 \t Time Taken: 21.05466628074646 sec\n",
      "\n"
     ]
    },
    {
     "name": "stderr",
     "output_type": "stream",
     "text": [
      "\n",
      "18it [00:20,  1.14s/it]"
     ]
    },
    {
     "name": "stdout",
     "output_type": "stream",
     "text": [
      "Loss_G: 0.27550335890716976\\Loss_D_z: 0.14155574018756548\\Loss_D_img: 0.21834766119718552\n",
      "vgg_loss 0.004041239619255066\n",
      "EG_loss 0.08282588422298431\n",
      "fm_loss 0.2605013847351074\n",
      "G_img_loss 3.258129835128784\n",
      "E_z_loss 2.7397913932800293\n",
      "tv_loss 0.9619278311729431\n",
      "D_cont_loss_fake 0.04933999478816986\n",
      "D_img_loss_input 0.0439564511179924\n",
      "D_img_loss_G 0.07548829913139343\n",
      "End of epoch 195 \t Time Taken: 20.998503923416138 sec\n",
      "\n"
     ]
    },
    {
     "name": "stderr",
     "output_type": "stream",
     "text": [
      "\n",
      "18it [00:20,  1.13s/it]"
     ]
    },
    {
     "name": "stdout",
     "output_type": "stream",
     "text": [
      "Loss_G: 0.2699272102779812\\Loss_D_z: 0.15015176890624893\\Loss_D_img: 0.187239876223935\n",
      "vgg_loss 0.00415518693625927\n",
      "EG_loss 0.08352559804916382\n",
      "fm_loss 0.25925254821777344\n",
      "G_img_loss 3.097050189971924\n",
      "E_z_loss 2.757448196411133\n",
      "tv_loss 1.0025060176849365\n",
      "D_cont_loss_fake 0.04638700932264328\n",
      "D_img_loss_input 0.07560096681118011\n",
      "D_img_loss_G 0.11561616510152817\n",
      "End of epoch 196 \t Time Taken: 21.016383171081543 sec\n",
      "\n"
     ]
    },
    {
     "name": "stderr",
     "output_type": "stream",
     "text": [
      "\n",
      "18it [00:20,  1.13s/it]"
     ]
    },
    {
     "name": "stdout",
     "output_type": "stream",
     "text": [
      "Loss_G: 0.2756931102938122\\Loss_D_z: 0.14378043678071764\\Loss_D_img: 0.20760636611117256\n",
      "vgg_loss 0.004110905807465315\n",
      "EG_loss 0.08089114725589752\n",
      "fm_loss 0.26456010341644287\n",
      "G_img_loss 3.7892329692840576\n",
      "E_z_loss 2.798884868621826\n",
      "tv_loss 1.0302884578704834\n",
      "D_cont_loss_fake 0.047291550785303116\n",
      "D_img_loss_input 0.14635996520519257\n",
      "D_img_loss_G 0.057230204343795776\n",
      "End of epoch 197 \t Time Taken: 20.94484782218933 sec\n",
      "\n"
     ]
    },
    {
     "name": "stderr",
     "output_type": "stream",
     "text": [
      "\n",
      "18it [00:20,  1.13s/it]"
     ]
    },
    {
     "name": "stdout",
     "output_type": "stream",
     "text": [
      "Loss_G: 0.2700842155350579\\Loss_D_z: 0.14275188661283916\\Loss_D_img: 0.20950436178180906\n",
      "vgg_loss 0.004148003179579973\n",
      "EG_loss 0.08114458620548248\n",
      "fm_loss 0.25845733284950256\n",
      "G_img_loss 3.2736620903015137\n",
      "E_z_loss 3.050584316253662\n",
      "tv_loss 0.9797038435935974\n",
      "D_cont_loss_fake 0.038135893642902374\n",
      "D_img_loss_input 0.0921308845281601\n",
      "D_img_loss_G 0.07784423977136612\n",
      "End of epoch 198 \t Time Taken: 20.99005126953125 sec\n",
      "\n"
     ]
    },
    {
     "name": "stderr",
     "output_type": "stream",
     "text": [
      "\n",
      "18it [00:20,  1.13s/it]"
     ]
    },
    {
     "name": "stdout",
     "output_type": "stream",
     "text": [
      "Loss_G: 0.2741920550664266\\Loss_D_z: 0.13980041609870064\\Loss_D_img: 0.21336538013484743\n",
      "vgg_loss 0.003996985964477062\n",
      "EG_loss 0.08247049897909164\n",
      "fm_loss 0.2504737675189972\n",
      "G_img_loss 2.7979257106781006\n",
      "E_z_loss 2.919299840927124\n",
      "tv_loss 0.9490798711776733\n",
      "D_cont_loss_fake 0.04686945676803589\n",
      "D_img_loss_input 0.038350872695446014\n",
      "D_img_loss_G 0.1256653517484665\n",
      "End of epoch 199 \t Time Taken: 20.97200632095337 sec\n",
      "\n"
     ]
    },
    {
     "name": "stderr",
     "output_type": "stream",
     "text": [
      "\n",
      "18it [00:20,  1.13s/it]\n"
     ]
    },
    {
     "name": "stdout",
     "output_type": "stream",
     "text": [
      "Saving the model at the end of epoch 200\n",
      "\n",
      "Loss_G: 0.2745220594935947\\Loss_D_z: 0.13491792438758743\\Loss_D_img: 0.1932511114411884\n",
      "vgg_loss 0.004239862319082022\n",
      "EG_loss 0.08362166583538055\n",
      "fm_loss 0.25994348526000977\n",
      "G_img_loss 3.3332462310791016\n",
      "E_z_loss 3.0639705657958984\n",
      "tv_loss 0.9871110916137695\n",
      "D_cont_loss_fake 0.03745659440755844\n",
      "D_img_loss_input 0.09230724722146988\n",
      "D_img_loss_G 0.06432700157165527\n",
      "End of epoch 200 \t Time Taken: 21.80469536781311 sec\n",
      "\n"
     ]
    },
    {
     "name": "stderr",
     "output_type": "stream",
     "text": [
      "18it [00:20,  1.13s/it]"
     ]
    },
    {
     "name": "stdout",
     "output_type": "stream",
     "text": [
      "Loss_G: 0.27540982762972516\\Loss_D_z: 0.13757164859109455\\Loss_D_img: 0.19615203224950367\n",
      "vgg_loss 0.004110249225050211\n",
      "EG_loss 0.08658140152692795\n",
      "fm_loss 0.26211774349212646\n",
      "G_img_loss 3.2906436920166016\n",
      "E_z_loss 2.622117757797241\n",
      "tv_loss 0.921990156173706\n",
      "D_cont_loss_fake 0.05781065300107002\n",
      "D_img_loss_input 0.0802416205406189\n",
      "D_img_loss_G 0.07408962398767471\n",
      "End of epoch 201 \t Time Taken: 20.860782146453857 sec\n",
      "\n"
     ]
    },
    {
     "name": "stderr",
     "output_type": "stream",
     "text": [
      "\n",
      "18it [00:20,  1.13s/it]"
     ]
    },
    {
     "name": "stdout",
     "output_type": "stream",
     "text": [
      "Loss_G: 0.27537335952123004\\Loss_D_z: 0.1385700288746092\\Loss_D_img: 0.17989843587080637\n",
      "vgg_loss 0.004104680847376585\n",
      "EG_loss 0.08032169193029404\n",
      "fm_loss 0.2560618221759796\n",
      "G_img_loss 3.5213732719421387\n",
      "E_z_loss 2.746659278869629\n",
      "tv_loss 0.9393717646598816\n",
      "D_cont_loss_fake 0.034247152507305145\n",
      "D_img_loss_input 0.07423734664916992\n",
      "D_img_loss_G 0.042995333671569824\n",
      "End of epoch 202 \t Time Taken: 20.97417140007019 sec\n",
      "\n"
     ]
    },
    {
     "name": "stderr",
     "output_type": "stream",
     "text": [
      "\n",
      "18it [00:20,  1.13s/it]"
     ]
    },
    {
     "name": "stdout",
     "output_type": "stream",
     "text": [
      "Loss_G: 0.27482113904423183\\Loss_D_z: 0.12168324324819776\\Loss_D_img: 0.19685285372866523\n",
      "vgg_loss 0.004224035423249006\n",
      "EG_loss 0.08539175987243652\n",
      "fm_loss 0.2586364150047302\n",
      "G_img_loss 3.4121387004852295\n",
      "E_z_loss 2.855257987976074\n",
      "tv_loss 1.0051069259643555\n",
      "D_cont_loss_fake 0.04236786440014839\n",
      "D_img_loss_input 0.11158478260040283\n",
      "D_img_loss_G 0.1162266880273819\n",
      "End of epoch 203 \t Time Taken: 20.911303997039795 sec\n",
      "\n"
     ]
    },
    {
     "name": "stderr",
     "output_type": "stream",
     "text": [
      "\n",
      "18it [00:20,  1.13s/it]"
     ]
    },
    {
     "name": "stdout",
     "output_type": "stream",
     "text": [
      "Loss_G: 0.27227793137232464\\Loss_D_z: 0.12266843683189815\\Loss_D_img: 0.18304205023580128\n",
      "vgg_loss 0.0040143015794456005\n",
      "EG_loss 0.07965179532766342\n",
      "fm_loss 0.2591515779495239\n",
      "G_img_loss 3.5048985481262207\n",
      "E_z_loss 3.2605724334716797\n",
      "tv_loss 0.9938473701477051\n",
      "D_cont_loss_fake 0.03843136504292488\n",
      "D_img_loss_input 0.09917806088924408\n",
      "D_img_loss_G 0.0482654832303524\n",
      "End of epoch 204 \t Time Taken: 20.903080224990845 sec\n",
      "\n"
     ]
    },
    {
     "name": "stderr",
     "output_type": "stream",
     "text": [
      "\n",
      "18it [00:20,  1.13s/it]"
     ]
    },
    {
     "name": "stdout",
     "output_type": "stream",
     "text": [
      "Loss_G: 0.2724628647168477\\Loss_D_z: 0.1256629472805394\\Loss_D_img: 0.18624577505720985\n",
      "vgg_loss 0.004125300329178572\n",
      "EG_loss 0.08056562393903732\n",
      "fm_loss 0.25471019744873047\n",
      "G_img_loss 3.1930856704711914\n",
      "E_z_loss 3.0335283279418945\n",
      "tv_loss 1.005789041519165\n",
      "D_cont_loss_fake 0.05581335350871086\n",
      "D_img_loss_input 0.058817170560359955\n",
      "D_img_loss_G 0.08294982463121414\n",
      "End of epoch 205 \t Time Taken: 20.87626576423645 sec\n",
      "\n"
     ]
    },
    {
     "name": "stderr",
     "output_type": "stream",
     "text": [
      "\n",
      "18it [00:20,  1.13s/it]"
     ]
    },
    {
     "name": "stdout",
     "output_type": "stream",
     "text": [
      "Loss_G: 0.27636823058128357\\Loss_D_z: 0.12456440470284885\\Loss_D_img: 0.20909295976161957\n",
      "vgg_loss 0.004200777038931847\n",
      "EG_loss 0.0936395525932312\n",
      "fm_loss 0.2490139603614807\n",
      "G_img_loss 3.338655948638916\n",
      "E_z_loss 2.6652021408081055\n",
      "tv_loss 0.955251932144165\n",
      "D_cont_loss_fake 0.04038584977388382\n",
      "D_img_loss_input 0.04489991068840027\n",
      "D_img_loss_G 0.08767305314540863\n",
      "End of epoch 206 \t Time Taken: 20.94173288345337 sec\n",
      "\n"
     ]
    },
    {
     "name": "stderr",
     "output_type": "stream",
     "text": [
      "\n",
      "18it [00:20,  1.12s/it]"
     ]
    },
    {
     "name": "stdout",
     "output_type": "stream",
     "text": [
      "Loss_G: 0.27441442675060695\\Loss_D_z: 0.12721153390076426\\Loss_D_img: 0.18131395098235872\n",
      "vgg_loss 0.004212663974612951\n",
      "EG_loss 0.08420403301715851\n",
      "fm_loss 0.26870378851890564\n",
      "G_img_loss 3.5484445095062256\n",
      "E_z_loss 2.8307595252990723\n",
      "tv_loss 0.9714226722717285\n",
      "D_cont_loss_fake 0.043108608573675156\n",
      "D_img_loss_input 0.06464061141014099\n",
      "D_img_loss_G 0.055798497051000595\n",
      "End of epoch 207 \t Time Taken: 21.00766396522522 sec\n",
      "\n"
     ]
    },
    {
     "name": "stderr",
     "output_type": "stream",
     "text": [
      "\n",
      "18it [00:20,  1.13s/it]"
     ]
    },
    {
     "name": "stdout",
     "output_type": "stream",
     "text": [
      "Loss_G: 0.27935842672983807\\Loss_D_z: 0.12131979482041465\\Loss_D_img: 0.18003307365708882\n",
      "vgg_loss 0.0041025965474545956\n",
      "EG_loss 0.08318343013525009\n",
      "fm_loss 0.2451813519001007\n",
      "G_img_loss 2.512819290161133\n",
      "E_z_loss 2.971235752105713\n",
      "tv_loss 1.010621190071106\n",
      "D_cont_loss_fake 0.052570901811122894\n",
      "D_img_loss_input 0.039179831743240356\n",
      "D_img_loss_G 0.14362305402755737\n",
      "End of epoch 208 \t Time Taken: 20.907426834106445 sec\n",
      "\n"
     ]
    },
    {
     "name": "stderr",
     "output_type": "stream",
     "text": [
      "\n",
      "18it [00:20,  1.15s/it]"
     ]
    },
    {
     "name": "stdout",
     "output_type": "stream",
     "text": [
      "Loss_G: 0.2771839367018806\\Loss_D_z: 0.12129026816950904\\Loss_D_img: 0.17991529570685494\n",
      "vgg_loss 0.004216219764202833\n",
      "EG_loss 0.08484454452991486\n",
      "fm_loss 0.24487721920013428\n",
      "G_img_loss 3.0679163932800293\n",
      "E_z_loss 3.004592180252075\n",
      "tv_loss 0.9967242479324341\n",
      "D_cont_loss_fake 0.04755973815917969\n",
      "D_img_loss_input 0.051288388669490814\n",
      "D_img_loss_G 0.1164194792509079\n",
      "End of epoch 209 \t Time Taken: 21.033217668533325 sec\n",
      "\n"
     ]
    },
    {
     "name": "stderr",
     "output_type": "stream",
     "text": [
      "\n",
      "18it [00:20,  1.14s/it]"
     ]
    },
    {
     "name": "stdout",
     "output_type": "stream",
     "text": [
      "Loss_G: 0.27268336051040226\\Loss_D_z: 0.1118650452958213\\Loss_D_img: 0.23281630956464344\n",
      "vgg_loss 0.003976878710091114\n",
      "EG_loss 0.07935960590839386\n",
      "fm_loss 0.2528141736984253\n",
      "G_img_loss 3.313657760620117\n",
      "E_z_loss 3.1601319313049316\n",
      "tv_loss 0.9057279825210571\n",
      "D_cont_loss_fake 0.041275084018707275\n",
      "D_img_loss_input 0.11243697255849838\n",
      "D_img_loss_G 0.18043214082717896\n",
      "End of epoch 210 \t Time Taken: 21.018731594085693 sec\n",
      "\n"
     ]
    },
    {
     "name": "stderr",
     "output_type": "stream",
     "text": [
      "\n",
      "18it [00:20,  1.13s/it]"
     ]
    },
    {
     "name": "stdout",
     "output_type": "stream",
     "text": [
      "Loss_G: 0.2715948538647758\\Loss_D_z: 0.1250014557606644\\Loss_D_img: 0.20080498854319254\n",
      "vgg_loss 0.004050148651003838\n",
      "EG_loss 0.07997705787420273\n",
      "fm_loss 0.2665439546108246\n",
      "G_img_loss 3.4364712238311768\n",
      "E_z_loss 3.0164098739624023\n",
      "tv_loss 0.9483682513237\n",
      "D_cont_loss_fake 0.037618041038513184\n",
      "D_img_loss_input 0.05562471225857735\n",
      "D_img_loss_G 0.07223006337881088\n",
      "End of epoch 211 \t Time Taken: 21.000784873962402 sec\n",
      "\n"
     ]
    },
    {
     "name": "stderr",
     "output_type": "stream",
     "text": [
      "\n",
      "18it [00:20,  1.13s/it]"
     ]
    },
    {
     "name": "stdout",
     "output_type": "stream",
     "text": [
      "Loss_G: 0.2739091333415773\\Loss_D_z: 0.10868744717703925\\Loss_D_img: 0.17886993951267666\n",
      "vgg_loss 0.0040419078432023525\n",
      "EG_loss 0.0785188227891922\n",
      "fm_loss 0.25352564454078674\n",
      "G_img_loss 3.353433609008789\n",
      "E_z_loss 3.338913917541504\n",
      "tv_loss 0.9493613243103027\n",
      "D_cont_loss_fake 0.03412168100476265\n",
      "D_img_loss_input 0.05663171783089638\n",
      "D_img_loss_G 0.08345337212085724\n",
      "End of epoch 212 \t Time Taken: 20.879127502441406 sec\n",
      "\n"
     ]
    },
    {
     "name": "stderr",
     "output_type": "stream",
     "text": [
      "\n",
      "18it [00:20,  1.13s/it]"
     ]
    },
    {
     "name": "stdout",
     "output_type": "stream",
     "text": [
      "Loss_G: 0.26791784332858193\\Loss_D_z: 0.10983364987704489\\Loss_D_img: 0.23895511362287733\n",
      "vgg_loss 0.004035495221614838\n",
      "EG_loss 0.08043529093265533\n",
      "fm_loss 0.2631813585758209\n",
      "G_img_loss 3.9768006801605225\n",
      "E_z_loss 3.2746825218200684\n",
      "tv_loss 0.8900604248046875\n",
      "D_cont_loss_fake 0.047762468457221985\n",
      "D_img_loss_input 0.12284200638532639\n",
      "D_img_loss_G 0.04265942797064781\n",
      "End of epoch 213 \t Time Taken: 20.93816041946411 sec\n",
      "\n"
     ]
    },
    {
     "name": "stderr",
     "output_type": "stream",
     "text": [
      "\n",
      "18it [00:20,  1.13s/it]"
     ]
    },
    {
     "name": "stdout",
     "output_type": "stream",
     "text": [
      "Loss_G: 0.2770246946149402\\Loss_D_z: 0.11238784798317486\\Loss_D_img: 0.22201219532224867\n",
      "vgg_loss 0.00398896774277091\n",
      "EG_loss 0.07828168570995331\n",
      "fm_loss 0.23825836181640625\n",
      "G_img_loss 3.440889358520508\n",
      "E_z_loss 3.1638073921203613\n",
      "tv_loss 0.9472780823707581\n",
      "D_cont_loss_fake 0.04448937624692917\n",
      "D_img_loss_input 0.1338566690683365\n",
      "D_img_loss_G 0.07432396709918976\n",
      "End of epoch 214 \t Time Taken: 20.944676399230957 sec\n",
      "\n"
     ]
    },
    {
     "name": "stderr",
     "output_type": "stream",
     "text": [
      "\n",
      "18it [00:20,  1.14s/it]"
     ]
    },
    {
     "name": "stdout",
     "output_type": "stream",
     "text": [
      "Loss_G: 0.2703581286801232\\Loss_D_z: 0.10260611524184544\\Loss_D_img: 0.20201259354750314\n",
      "vgg_loss 0.004067426547408104\n",
      "EG_loss 0.0820927694439888\n",
      "fm_loss 0.26089832186698914\n",
      "G_img_loss 3.648228883743286\n",
      "E_z_loss 3.138028383255005\n",
      "tv_loss 0.9590834379196167\n",
      "D_cont_loss_fake 0.02860267087817192\n",
      "D_img_loss_input 0.0570078082382679\n",
      "D_img_loss_G 0.053750988095998764\n",
      "End of epoch 215 \t Time Taken: 21.1904513835907 sec\n",
      "\n"
     ]
    },
    {
     "name": "stderr",
     "output_type": "stream",
     "text": [
      "\n",
      "18it [00:20,  1.14s/it]"
     ]
    },
    {
     "name": "stdout",
     "output_type": "stream",
     "text": [
      "Loss_G: 0.26950430704487693\\Loss_D_z: 0.1035352527267403\\Loss_D_img: 0.2002491040362252\n",
      "vgg_loss 0.00399054167792201\n",
      "EG_loss 0.07779053598642349\n",
      "fm_loss 0.2636169493198395\n",
      "G_img_loss 3.89192795753479\n",
      "E_z_loss 3.079352378845215\n",
      "tv_loss 0.9719797372817993\n",
      "D_cont_loss_fake 0.042677149176597595\n",
      "D_img_loss_input 0.06139829009771347\n",
      "D_img_loss_G 0.03271542489528656\n",
      "End of epoch 216 \t Time Taken: 20.95102286338806 sec\n",
      "\n"
     ]
    },
    {
     "name": "stderr",
     "output_type": "stream",
     "text": [
      "\n",
      "18it [00:20,  1.13s/it]"
     ]
    },
    {
     "name": "stdout",
     "output_type": "stream",
     "text": [
      "Loss_G: 0.2711644139554765\\Loss_D_z: 0.10330190675126182\\Loss_D_img: 0.19902361763848198\n",
      "vgg_loss 0.003990329336374998\n",
      "EG_loss 0.07935434579849243\n",
      "fm_loss 0.25359824299812317\n",
      "G_img_loss 3.5102038383483887\n",
      "E_z_loss 3.333695650100708\n",
      "tv_loss 0.9255133867263794\n",
      "D_cont_loss_fake 0.04292202740907669\n",
      "D_img_loss_input 0.06741151213645935\n",
      "D_img_loss_G 0.06199488416314125\n",
      "End of epoch 217 \t Time Taken: 20.984307765960693 sec\n",
      "\n"
     ]
    },
    {
     "name": "stderr",
     "output_type": "stream",
     "text": [
      "\n",
      "18it [00:20,  1.15s/it]"
     ]
    },
    {
     "name": "stdout",
     "output_type": "stream",
     "text": [
      "Loss_G: 0.2761587335003747\\Loss_D_z: 0.10818034824397829\\Loss_D_img: 0.21102151605818006\n",
      "vgg_loss 0.004080087412148714\n",
      "EG_loss 0.08407475799322128\n",
      "fm_loss 0.26084357500076294\n",
      "G_img_loss 3.511204719543457\n",
      "E_z_loss 2.9591846466064453\n",
      "tv_loss 0.9043066501617432\n",
      "D_cont_loss_fake 0.04540591686964035\n",
      "D_img_loss_input 0.0627804771065712\n",
      "D_img_loss_G 0.06278596073389053\n",
      "End of epoch 218 \t Time Taken: 21.15579342842102 sec\n",
      "\n"
     ]
    },
    {
     "name": "stderr",
     "output_type": "stream",
     "text": [
      "\n",
      "18it [00:20,  1.13s/it]"
     ]
    },
    {
     "name": "stdout",
     "output_type": "stream",
     "text": [
      "Loss_G: 0.27528424974944854\\Loss_D_z: 0.10401004552841187\\Loss_D_img: 0.24095390240351358\n",
      "vgg_loss 0.004041065461933613\n",
      "EG_loss 0.08058389276266098\n",
      "fm_loss 0.26302045583724976\n",
      "G_img_loss 3.715031862258911\n",
      "E_z_loss 3.3670711517333984\n",
      "tv_loss 0.9405681490898132\n",
      "D_cont_loss_fake 0.04352645203471184\n",
      "D_img_loss_input 0.0838182345032692\n",
      "D_img_loss_G 0.05420144647359848\n",
      "End of epoch 219 \t Time Taken: 20.98235297203064 sec\n",
      "\n"
     ]
    },
    {
     "name": "stderr",
     "output_type": "stream",
     "text": [
      "\n",
      "18it [00:20,  1.13s/it]"
     ]
    },
    {
     "name": "stdout",
     "output_type": "stream",
     "text": [
      "Loss_G: 0.27223430905077195\\Loss_D_z: 0.10830807354715136\\Loss_D_img: 0.21880179395278296\n",
      "vgg_loss 0.003991700708866119\n",
      "EG_loss 0.07812755554914474\n",
      "fm_loss 0.2652001976966858\n",
      "G_img_loss 3.6781890392303467\n",
      "E_z_loss 3.4050002098083496\n",
      "tv_loss 0.9355933666229248\n",
      "D_cont_loss_fake 0.0399065837264061\n",
      "D_img_loss_input 0.06164461001753807\n",
      "D_img_loss_G 0.04915373772382736\n",
      "End of epoch 220 \t Time Taken: 20.958126544952393 sec\n",
      "\n"
     ]
    },
    {
     "name": "stderr",
     "output_type": "stream",
     "text": [
      "\n",
      "18it [00:20,  1.13s/it]"
     ]
    },
    {
     "name": "stdout",
     "output_type": "stream",
     "text": [
      "Loss_G: 0.27042798697948456\\Loss_D_z: 0.10502091836598185\\Loss_D_img: 0.2014954479204284\n",
      "vgg_loss 0.003947023302316666\n",
      "EG_loss 0.07780922949314117\n",
      "fm_loss 0.25154945254325867\n",
      "G_img_loss 3.525383949279785\n",
      "E_z_loss 3.244115114212036\n",
      "tv_loss 0.9524363279342651\n",
      "D_cont_loss_fake 0.0350455678999424\n",
      "D_img_loss_input 0.10788058489561081\n",
      "D_img_loss_G 0.07783862948417664\n",
      "End of epoch 221 \t Time Taken: 21.07142472267151 sec\n",
      "\n"
     ]
    },
    {
     "name": "stderr",
     "output_type": "stream",
     "text": [
      "\n",
      "18it [00:20,  1.13s/it]"
     ]
    },
    {
     "name": "stdout",
     "output_type": "stream",
     "text": [
      "Loss_G: 0.2737322946389516\\Loss_D_z: 0.09790443587634298\\Loss_D_img: 0.17499623696009317\n",
      "vgg_loss 0.003922056872397661\n",
      "EG_loss 0.08120346069335938\n",
      "fm_loss 0.2550696134567261\n",
      "G_img_loss 3.4020137786865234\n",
      "E_z_loss 3.2624056339263916\n",
      "tv_loss 0.9492402672767639\n",
      "D_cont_loss_fake 0.03479686751961708\n",
      "D_img_loss_input 0.03372928872704506\n",
      "D_img_loss_G 0.0971948504447937\n",
      "End of epoch 222 \t Time Taken: 20.928704738616943 sec\n",
      "\n"
     ]
    },
    {
     "name": "stderr",
     "output_type": "stream",
     "text": [
      "\n",
      "18it [00:20,  1.16s/it]"
     ]
    },
    {
     "name": "stdout",
     "output_type": "stream",
     "text": [
      "Loss_G: 0.272419305311309\\Loss_D_z: 0.09464172315266398\\Loss_D_img: 0.20520174337757957\n",
      "vgg_loss 0.003903424134477973\n",
      "EG_loss 0.08004891127347946\n",
      "fm_loss 0.2583824396133423\n",
      "G_img_loss 3.6871795654296875\n",
      "E_z_loss 3.572009325027466\n",
      "tv_loss 0.9660976529121399\n",
      "D_cont_loss_fake 0.04174564778804779\n",
      "D_img_loss_input 0.08824960887432098\n",
      "D_img_loss_G 0.050940386950969696\n",
      "End of epoch 223 \t Time Taken: 21.158324480056763 sec\n",
      "\n"
     ]
    },
    {
     "name": "stderr",
     "output_type": "stream",
     "text": [
      "\n",
      "18it [00:20,  1.13s/it]"
     ]
    },
    {
     "name": "stdout",
     "output_type": "stream",
     "text": [
      "Loss_G: 0.2732286469803916\\Loss_D_z: 0.09314425910512607\\Loss_D_img: 0.18390214029285643\n",
      "vgg_loss 0.003961811773478985\n",
      "EG_loss 0.07646217197179794\n",
      "fm_loss 0.27384984493255615\n",
      "G_img_loss 3.3703057765960693\n",
      "E_z_loss 3.4854183197021484\n",
      "tv_loss 0.9530223608016968\n",
      "D_cont_loss_fake 0.04885205626487732\n",
      "D_img_loss_input 0.053610071539878845\n",
      "D_img_loss_G 0.0837707370519638\n",
      "End of epoch 224 \t Time Taken: 20.9295175075531 sec\n",
      "\n"
     ]
    },
    {
     "name": "stderr",
     "output_type": "stream",
     "text": [
      "\n",
      "18it [00:20,  1.13s/it]"
     ]
    },
    {
     "name": "stdout",
     "output_type": "stream",
     "text": [
      "Loss_G: 0.2755649470620685\\Loss_D_z: 0.0938136407898532\\Loss_D_img: 0.17586349033647114\n",
      "vgg_loss 0.004038138780742884\n",
      "EG_loss 0.07849504798650742\n",
      "fm_loss 0.2548580467700958\n",
      "G_img_loss 3.4529812335968018\n",
      "E_z_loss 3.415609836578369\n",
      "tv_loss 0.9695886969566345\n",
      "D_cont_loss_fake 0.044743772596120834\n",
      "D_img_loss_input 0.059055112302303314\n",
      "D_img_loss_G 0.06604873389005661\n",
      "End of epoch 225 \t Time Taken: 20.936351537704468 sec\n",
      "\n"
     ]
    },
    {
     "name": "stderr",
     "output_type": "stream",
     "text": [
      "\n",
      "18it [00:20,  1.13s/it]"
     ]
    },
    {
     "name": "stdout",
     "output_type": "stream",
     "text": [
      "Loss_G: 0.2747562759452396\\Loss_D_z: 0.09237896651029587\\Loss_D_img: 0.22971061824096572\n",
      "vgg_loss 0.004024886526167393\n",
      "EG_loss 0.0783393606543541\n",
      "fm_loss 0.23914730548858643\n",
      "G_img_loss 3.5617103576660156\n",
      "E_z_loss 3.2765893936157227\n",
      "tv_loss 0.9223218560218811\n",
      "D_cont_loss_fake 0.04157524183392525\n",
      "D_img_loss_input 0.1342679262161255\n",
      "D_img_loss_G 0.06666316092014313\n",
      "End of epoch 226 \t Time Taken: 21.001813650131226 sec\n",
      "\n"
     ]
    },
    {
     "name": "stderr",
     "output_type": "stream",
     "text": [
      "\n",
      "18it [00:20,  1.13s/it]"
     ]
    },
    {
     "name": "stdout",
     "output_type": "stream",
     "text": [
      "Loss_G: 0.27389507161246407\\Loss_D_z: 0.08956879087620312\\Loss_D_img: 0.18141024394167793\n",
      "vgg_loss 0.003965737298130989\n",
      "EG_loss 0.07771088927984238\n",
      "fm_loss 0.23674151301383972\n",
      "G_img_loss 3.099003791809082\n",
      "E_z_loss 3.3962535858154297\n",
      "tv_loss 0.9873719215393066\n",
      "D_cont_loss_fake 0.034515634179115295\n",
      "D_img_loss_input 0.08833397179841995\n",
      "D_img_loss_G 0.1153576597571373\n",
      "End of epoch 227 \t Time Taken: 20.95394802093506 sec\n",
      "\n"
     ]
    },
    {
     "name": "stderr",
     "output_type": "stream",
     "text": [
      "\n",
      "18it [00:20,  1.13s/it]"
     ]
    },
    {
     "name": "stdout",
     "output_type": "stream",
     "text": [
      "Loss_G: 0.2717119852701823\\Loss_D_z: 0.08980471640825272\\Loss_D_img: 0.21353593385881847\n",
      "vgg_loss 0.004054834134876728\n",
      "EG_loss 0.0785190686583519\n",
      "fm_loss 0.24939978122711182\n",
      "G_img_loss 3.2959392070770264\n",
      "E_z_loss 3.1810641288757324\n",
      "tv_loss 0.9638909101486206\n",
      "D_cont_loss_fake 0.04376131668686867\n",
      "D_img_loss_input 0.08408215641975403\n",
      "D_img_loss_G 0.08240148425102234\n",
      "End of epoch 228 \t Time Taken: 20.999152421951294 sec\n",
      "\n"
     ]
    },
    {
     "name": "stderr",
     "output_type": "stream",
     "text": [
      "\n",
      "18it [00:20,  1.12s/it]"
     ]
    },
    {
     "name": "stdout",
     "output_type": "stream",
     "text": [
      "Loss_G: 0.27945845822493237\\Loss_D_z: 0.08858048791686694\\Loss_D_img: 0.1984186205599043\n",
      "vgg_loss 0.0040237377397716045\n",
      "EG_loss 0.0791374146938324\n",
      "fm_loss 0.24846431612968445\n",
      "G_img_loss 3.559340476989746\n",
      "E_z_loss 3.3504409790039062\n",
      "tv_loss 0.9951070547103882\n",
      "D_cont_loss_fake 0.04013734310865402\n",
      "D_img_loss_input 0.09915877133607864\n",
      "D_img_loss_G 0.09658754616975784\n",
      "End of epoch 229 \t Time Taken: 20.960773944854736 sec\n",
      "\n"
     ]
    },
    {
     "name": "stderr",
     "output_type": "stream",
     "text": [
      "\n",
      "18it [00:20,  1.13s/it]"
     ]
    },
    {
     "name": "stdout",
     "output_type": "stream",
     "text": [
      "Loss_G: 0.27409707837634617\\Loss_D_z: 0.09180388185713026\\Loss_D_img: 0.18031131765908665\n",
      "vgg_loss 0.003936862573027611\n",
      "EG_loss 0.07809212058782578\n",
      "fm_loss 0.2448005974292755\n",
      "G_img_loss 3.065542697906494\n",
      "E_z_loss 3.498060703277588\n",
      "tv_loss 0.9563319683074951\n",
      "D_cont_loss_fake 0.05375796929001808\n",
      "D_img_loss_input 0.026562457904219627\n",
      "D_img_loss_G 0.08401219546794891\n",
      "End of epoch 230 \t Time Taken: 21.037264823913574 sec\n",
      "\n"
     ]
    },
    {
     "name": "stderr",
     "output_type": "stream",
     "text": [
      "\n",
      "18it [00:20,  1.13s/it]"
     ]
    },
    {
     "name": "stdout",
     "output_type": "stream",
     "text": [
      "Loss_G: 0.2739068849219216\\Loss_D_z: 0.0851437288026015\\Loss_D_img: 0.2961645507150226\n",
      "vgg_loss 0.003995622042566538\n",
      "EG_loss 0.07811807096004486\n",
      "fm_loss 0.24923007190227509\n",
      "G_img_loss 3.863786220550537\n",
      "E_z_loss 3.415125846862793\n",
      "tv_loss 0.9059940576553345\n",
      "D_cont_loss_fake 0.037030331790447235\n",
      "D_img_loss_input 0.179185688495636\n",
      "D_img_loss_G 0.1484546661376953\n",
      "End of epoch 231 \t Time Taken: 21.061185359954834 sec\n",
      "\n"
     ]
    },
    {
     "name": "stderr",
     "output_type": "stream",
     "text": [
      "\n",
      "18it [00:20,  1.13s/it]"
     ]
    },
    {
     "name": "stdout",
     "output_type": "stream",
     "text": [
      "Loss_G: 0.27316667636235553\\Loss_D_z: 0.08575355468524827\\Loss_D_img: 0.22334069344732496\n",
      "vgg_loss 0.0040248385630548\n",
      "EG_loss 0.07885898649692535\n",
      "fm_loss 0.2339082658290863\n",
      "G_img_loss 3.261714458465576\n",
      "E_z_loss 3.424309253692627\n",
      "tv_loss 0.9348526000976562\n",
      "D_cont_loss_fake 0.04419846832752228\n",
      "D_img_loss_input 0.05028161406517029\n",
      "D_img_loss_G 0.07963517308235168\n",
      "End of epoch 232 \t Time Taken: 20.925491094589233 sec\n",
      "\n"
     ]
    },
    {
     "name": "stderr",
     "output_type": "stream",
     "text": [
      "\n",
      "18it [00:20,  1.13s/it]"
     ]
    },
    {
     "name": "stdout",
     "output_type": "stream",
     "text": [
      "Loss_G: 0.27394715117083657\\Loss_D_z: 0.09128409541315502\\Loss_D_img: 0.18864330152670541\n",
      "vgg_loss 0.003943338990211487\n",
      "EG_loss 0.07920243591070175\n",
      "fm_loss 0.26282063126564026\n",
      "G_img_loss 3.7126564979553223\n",
      "E_z_loss 3.425837278366089\n",
      "tv_loss 0.9591983556747437\n",
      "D_cont_loss_fake 0.03726278617978096\n",
      "D_img_loss_input 0.04864080250263214\n",
      "D_img_loss_G 0.04848957806825638\n",
      "End of epoch 233 \t Time Taken: 20.942567586898804 sec\n",
      "\n"
     ]
    },
    {
     "name": "stderr",
     "output_type": "stream",
     "text": [
      "\n",
      "18it [00:20,  1.13s/it]"
     ]
    },
    {
     "name": "stdout",
     "output_type": "stream",
     "text": [
      "Loss_G: 0.27808256281746757\\Loss_D_z: 0.08221783116459846\\Loss_D_img: 0.18971836153003904\n",
      "vgg_loss 0.004007626790553331\n",
      "EG_loss 0.08122105896472931\n",
      "fm_loss 0.2651330232620239\n",
      "G_img_loss 3.912914276123047\n",
      "E_z_loss 3.459575653076172\n",
      "tv_loss 0.9683004021644592\n",
      "D_cont_loss_fake 0.04992705583572388\n",
      "D_img_loss_input 0.1294420063495636\n",
      "D_img_loss_G 0.036680594086647034\n",
      "End of epoch 234 \t Time Taken: 20.93908429145813 sec\n",
      "\n"
     ]
    },
    {
     "name": "stderr",
     "output_type": "stream",
     "text": [
      "\n",
      "18it [00:20,  1.12s/it]"
     ]
    },
    {
     "name": "stdout",
     "output_type": "stream",
     "text": [
      "Loss_G: 0.2750460356473923\\Loss_D_z: 0.08406360240446197\\Loss_D_img: 0.16572453909450108\n",
      "vgg_loss 0.004142075777053833\n",
      "EG_loss 0.08287237584590912\n",
      "fm_loss 0.24174150824546814\n",
      "G_img_loss 3.550457000732422\n",
      "E_z_loss 3.4563233852386475\n",
      "tv_loss 0.9811264872550964\n",
      "D_cont_loss_fake 0.03190833330154419\n",
      "D_img_loss_input 0.06062434986233711\n",
      "D_img_loss_G 0.05778273195028305\n",
      "End of epoch 235 \t Time Taken: 20.914296865463257 sec\n",
      "\n"
     ]
    },
    {
     "name": "stderr",
     "output_type": "stream",
     "text": [
      "\n",
      "18it [00:20,  1.13s/it]"
     ]
    },
    {
     "name": "stdout",
     "output_type": "stream",
     "text": [
      "Loss_G: 0.27360104189978707\\Loss_D_z: 0.12728991359472275\\Loss_D_img: 0.16826718466149437\n",
      "vgg_loss 0.003996249288320541\n",
      "EG_loss 0.08094334602355957\n",
      "fm_loss 0.2538374960422516\n",
      "G_img_loss 3.7788116931915283\n",
      "E_z_loss 2.806469678878784\n",
      "tv_loss 0.9511030912399292\n",
      "D_cont_loss_fake 0.05281085520982742\n",
      "D_img_loss_input 0.07064510136842728\n",
      "D_img_loss_G 0.05868832767009735\n",
      "End of epoch 236 \t Time Taken: 20.880897045135498 sec\n",
      "\n"
     ]
    },
    {
     "name": "stderr",
     "output_type": "stream",
     "text": [
      "\n",
      "18it [00:20,  1.14s/it]"
     ]
    },
    {
     "name": "stdout",
     "output_type": "stream",
     "text": [
      "Loss_G: 0.2714887609084447\\Loss_D_z: 0.09891190421250132\\Loss_D_img: 0.16980095869965023\n",
      "vgg_loss 0.003994430415332317\n",
      "EG_loss 0.07904104143381119\n",
      "fm_loss 0.2552599310874939\n",
      "G_img_loss 3.7947914600372314\n",
      "E_z_loss 3.402970552444458\n",
      "tv_loss 1.0145857334136963\n",
      "D_cont_loss_fake 0.03548634052276611\n",
      "D_img_loss_input 0.08176006376743317\n",
      "D_img_loss_G 0.05825845152139664\n",
      "End of epoch 237 \t Time Taken: 21.047230005264282 sec\n",
      "\n"
     ]
    },
    {
     "name": "stderr",
     "output_type": "stream",
     "text": [
      "\n",
      "18it [00:20,  1.13s/it]"
     ]
    },
    {
     "name": "stdout",
     "output_type": "stream",
     "text": [
      "Loss_G: 0.27734804650147754\\Loss_D_z: 0.09638870217733914\\Loss_D_img: 0.24360370056496727\n",
      "vgg_loss 0.003907416947185993\n",
      "EG_loss 0.07713218033313751\n",
      "fm_loss 0.2498053014278412\n",
      "G_img_loss 4.146164417266846\n",
      "E_z_loss 3.056779384613037\n",
      "tv_loss 0.9696548581123352\n",
      "D_cont_loss_fake 0.05627416446805\n",
      "D_img_loss_input 0.48156341910362244\n",
      "D_img_loss_G 0.13319547474384308\n",
      "End of epoch 238 \t Time Taken: 21.019946098327637 sec\n",
      "\n"
     ]
    },
    {
     "name": "stderr",
     "output_type": "stream",
     "text": [
      "\n",
      "18it [00:20,  1.13s/it]"
     ]
    },
    {
     "name": "stdout",
     "output_type": "stream",
     "text": [
      "Loss_G: 0.3143913596868515\\Loss_D_z: 0.08630673049224748\\Loss_D_img: 3.506750547223621\n",
      "vgg_loss 0.00422440143302083\n",
      "EG_loss 0.08164697885513306\n",
      "fm_loss 0.22187358140945435\n",
      "G_img_loss 1.8950003385543823\n",
      "E_z_loss 3.3112428188323975\n",
      "tv_loss 0.7256221771240234\n",
      "D_cont_loss_fake 0.053325898945331573\n",
      "D_img_loss_input 0.508867621421814\n",
      "D_img_loss_G 0.32629698514938354\n",
      "End of epoch 239 \t Time Taken: 20.89957594871521 sec\n",
      "\n"
     ]
    },
    {
     "name": "stderr",
     "output_type": "stream",
     "text": [
      "\n",
      "18it [00:20,  1.13s/it]"
     ]
    },
    {
     "name": "stdout",
     "output_type": "stream",
     "text": [
      "Loss_G: 0.25031038208140266\\Loss_D_z: 0.08117226387063663\\Loss_D_img: 0.7404366019699309\n",
      "vgg_loss 0.003722256049513817\n",
      "EG_loss 0.07225793600082397\n",
      "fm_loss 0.23145067691802979\n",
      "G_img_loss 2.085650682449341\n",
      "E_z_loss 3.5435023307800293\n",
      "tv_loss 0.7000938653945923\n",
      "D_cont_loss_fake 0.036861713975667953\n",
      "D_img_loss_input 0.327004075050354\n",
      "D_img_loss_G 0.25616851449012756\n",
      "End of epoch 240 \t Time Taken: 21.010277271270752 sec\n",
      "\n"
     ]
    },
    {
     "name": "stderr",
     "output_type": "stream",
     "text": [
      "\n",
      "18it [00:20,  1.13s/it]"
     ]
    },
    {
     "name": "stdout",
     "output_type": "stream",
     "text": [
      "Loss_G: 0.24254092242982653\\Loss_D_z: 0.08735677848259608\\Loss_D_img: 0.6040272133217918\n",
      "vgg_loss 0.00372928474098444\n",
      "EG_loss 0.07648946344852448\n",
      "fm_loss 0.2257380485534668\n",
      "G_img_loss 2.04897141456604\n",
      "E_z_loss 3.6646125316619873\n",
      "tv_loss 0.7194721698760986\n",
      "D_cont_loss_fake 0.038402292877435684\n",
      "D_img_loss_input 0.2757341265678406\n",
      "D_img_loss_G 0.42249348759651184\n",
      "End of epoch 241 \t Time Taken: 20.933358669281006 sec\n",
      "\n"
     ]
    },
    {
     "name": "stderr",
     "output_type": "stream",
     "text": [
      "\n",
      "18it [00:20,  1.13s/it]"
     ]
    },
    {
     "name": "stdout",
     "output_type": "stream",
     "text": [
      "Loss_G: 0.2466776106092665\\Loss_D_z: 0.07782604917883873\\Loss_D_img: 0.49104994866583085\n",
      "vgg_loss 0.0038027314003556967\n",
      "EG_loss 0.07712727040052414\n",
      "fm_loss 0.23780448734760284\n",
      "G_img_loss 2.251948595046997\n",
      "E_z_loss 3.564847707748413\n",
      "tv_loss 0.8097494840621948\n",
      "D_cont_loss_fake 0.03461947664618492\n",
      "D_img_loss_input 0.1693124771118164\n",
      "D_img_loss_G 0.20603224635124207\n",
      "End of epoch 242 \t Time Taken: 21.04297137260437 sec\n",
      "\n"
     ]
    },
    {
     "name": "stderr",
     "output_type": "stream",
     "text": [
      "\n",
      "18it [00:20,  1.15s/it]"
     ]
    },
    {
     "name": "stdout",
     "output_type": "stream",
     "text": [
      "Loss_G: 0.2504322479168574\\Loss_D_z: 0.07588720983929104\\Loss_D_img: 0.4523351738850276\n",
      "vgg_loss 0.003964211791753769\n",
      "EG_loss 0.08230389654636383\n",
      "fm_loss 0.24389439821243286\n",
      "G_img_loss 2.674433708190918\n",
      "E_z_loss 3.055191993713379\n",
      "tv_loss 0.8388646841049194\n",
      "D_cont_loss_fake 0.03630562126636505\n",
      "D_img_loss_input 0.2189163863658905\n",
      "D_img_loss_G 0.16548822820186615\n",
      "End of epoch 243 \t Time Taken: 21.016254663467407 sec\n",
      "\n"
     ]
    },
    {
     "name": "stderr",
     "output_type": "stream",
     "text": [
      "\n",
      "18it [00:20,  1.12s/it]"
     ]
    },
    {
     "name": "stdout",
     "output_type": "stream",
     "text": [
      "Loss_G: 0.2579295469654931\\Loss_D_z: 0.07560279758440124\\Loss_D_img: 0.3754805889394548\n",
      "vgg_loss 0.003870920045301318\n",
      "EG_loss 0.07626143097877502\n",
      "fm_loss 0.23838932812213898\n",
      "G_img_loss 2.0402274131774902\n",
      "E_z_loss 3.688075065612793\n",
      "tv_loss 0.8751839399337769\n",
      "D_cont_loss_fake 0.037242136895656586\n",
      "D_img_loss_input 0.0909281000494957\n",
      "D_img_loss_G 0.2950090169906616\n",
      "End of epoch 244 \t Time Taken: 20.899816751480103 sec\n",
      "\n"
     ]
    },
    {
     "name": "stderr",
     "output_type": "stream",
     "text": [
      "\n",
      "18it [00:20,  1.14s/it]"
     ]
    },
    {
     "name": "stdout",
     "output_type": "stream",
     "text": [
      "Loss_G: 0.25621045298046535\\Loss_D_z: 0.07578374300565985\\Loss_D_img: 0.3106690322359403\n",
      "vgg_loss 0.0038683584425598383\n",
      "EG_loss 0.0829043909907341\n",
      "fm_loss 0.2380194365978241\n",
      "G_img_loss 3.033144950866699\n",
      "E_z_loss 3.6410884857177734\n",
      "tv_loss 0.9225897789001465\n",
      "D_cont_loss_fake 0.05448157340288162\n",
      "D_img_loss_input 0.23148591816425323\n",
      "D_img_loss_G 0.10214269161224365\n",
      "End of epoch 245 \t Time Taken: 21.06715679168701 sec\n",
      "\n"
     ]
    },
    {
     "name": "stderr",
     "output_type": "stream",
     "text": [
      "\n",
      "18it [00:20,  1.13s/it]"
     ]
    },
    {
     "name": "stdout",
     "output_type": "stream",
     "text": [
      "Loss_G: 0.2608690427409278\\Loss_D_z: 0.07979846228328016\\Loss_D_img: 0.3141748441590203\n",
      "vgg_loss 0.0038019632920622826\n",
      "EG_loss 0.07472054660320282\n",
      "fm_loss 0.24743372201919556\n",
      "G_img_loss 2.807163715362549\n",
      "E_z_loss 3.356069564819336\n",
      "tv_loss 0.9040032029151917\n",
      "D_cont_loss_fake 0.050414420664310455\n",
      "D_img_loss_input 0.1251412034034729\n",
      "D_img_loss_G 0.0973653495311737\n",
      "End of epoch 246 \t Time Taken: 20.970439672470093 sec\n",
      "\n"
     ]
    },
    {
     "name": "stderr",
     "output_type": "stream",
     "text": [
      "\n",
      "18it [00:20,  1.13s/it]"
     ]
    },
    {
     "name": "stdout",
     "output_type": "stream",
     "text": [
      "Loss_G: 0.26326808747318053\\Loss_D_z: 0.07646853704419401\\Loss_D_img: 0.28053997622595894\n",
      "vgg_loss 0.0038733037654310465\n",
      "EG_loss 0.07660993188619614\n",
      "fm_loss 0.26806050539016724\n",
      "G_img_loss 3.075713634490967\n",
      "E_z_loss 3.801784038543701\n",
      "tv_loss 0.9268521666526794\n",
      "D_cont_loss_fake 0.03422380983829498\n",
      "D_img_loss_input 0.06773164123296738\n",
      "D_img_loss_G 0.08712805807590485\n",
      "End of epoch 247 \t Time Taken: 20.960753440856934 sec\n",
      "\n"
     ]
    },
    {
     "name": "stderr",
     "output_type": "stream",
     "text": [
      "\n",
      "18it [00:20,  1.13s/it]"
     ]
    },
    {
     "name": "stdout",
     "output_type": "stream",
     "text": [
      "Loss_G: 0.2643195341030757\\Loss_D_z: 0.07775183580815792\\Loss_D_img: 0.27255180064174866\n",
      "vgg_loss 0.003904627403244376\n",
      "EG_loss 0.07684474438428879\n",
      "fm_loss 0.2707606852054596\n",
      "G_img_loss 3.1202569007873535\n",
      "E_z_loss 3.290785789489746\n",
      "tv_loss 0.8881036043167114\n",
      "D_cont_loss_fake 0.037802211940288544\n",
      "D_img_loss_input 0.05146881192922592\n",
      "D_img_loss_G 0.10958997160196304\n",
      "End of epoch 248 \t Time Taken: 20.92039155960083 sec\n",
      "\n"
     ]
    },
    {
     "name": "stderr",
     "output_type": "stream",
     "text": [
      "\n",
      "18it [00:20,  1.13s/it]"
     ]
    },
    {
     "name": "stdout",
     "output_type": "stream",
     "text": [
      "Loss_G: 0.2642315775156021\\Loss_D_z: 0.07396935402519172\\Loss_D_img: 0.2766515115896861\n",
      "vgg_loss 0.003928381018340588\n",
      "EG_loss 0.07516913115978241\n",
      "fm_loss 0.2598370313644409\n",
      "G_img_loss 3.1530332565307617\n",
      "E_z_loss 3.8430252075195312\n",
      "tv_loss 0.888233482837677\n",
      "D_cont_loss_fake 0.04197007417678833\n",
      "D_img_loss_input 0.09500452876091003\n",
      "D_img_loss_G 0.07902897149324417\n",
      "End of epoch 249 \t Time Taken: 20.846850156784058 sec\n",
      "\n"
     ]
    },
    {
     "name": "stderr",
     "output_type": "stream",
     "text": [
      "\n",
      "18it [00:20,  1.12s/it]\n"
     ]
    },
    {
     "name": "stdout",
     "output_type": "stream",
     "text": [
      "Saving the model at the end of epoch 250\n",
      "\n",
      "Loss_G: 0.269330319431093\\Loss_D_z: 0.066326134527723\\Loss_D_img: 0.22265008257495034\n",
      "vgg_loss 0.004057799465954304\n",
      "EG_loss 0.08206114172935486\n",
      "fm_loss 0.2647749185562134\n",
      "G_img_loss 2.968275547027588\n",
      "E_z_loss 3.5149292945861816\n",
      "tv_loss 0.9695265293121338\n",
      "D_cont_loss_fake 0.05640540271997452\n",
      "D_img_loss_input 0.08752630650997162\n",
      "D_img_loss_G 0.1034073531627655\n",
      "End of epoch 250 \t Time Taken: 21.57161521911621 sec\n",
      "\n"
     ]
    },
    {
     "name": "stderr",
     "output_type": "stream",
     "text": [
      "18it [00:20,  1.13s/it]"
     ]
    },
    {
     "name": "stdout",
     "output_type": "stream",
     "text": [
      "Loss_G: 0.269663338859876\\Loss_D_z: 0.07083790397478475\\Loss_D_img: 0.2133678984310892\n",
      "vgg_loss 0.00398089736700058\n",
      "EG_loss 0.07865260541439056\n",
      "fm_loss 0.24798108637332916\n",
      "G_img_loss 2.983229875564575\n",
      "E_z_loss 3.344224691390991\n",
      "tv_loss 0.919542133808136\n",
      "D_cont_loss_fake 0.04077385738492012\n",
      "D_img_loss_input 0.06045948714017868\n",
      "D_img_loss_G 0.09292662143707275\n",
      "End of epoch 251 \t Time Taken: 20.814390659332275 sec\n",
      "\n"
     ]
    },
    {
     "name": "stderr",
     "output_type": "stream",
     "text": [
      "\n",
      "18it [00:20,  1.13s/it]"
     ]
    },
    {
     "name": "stdout",
     "output_type": "stream",
     "text": [
      "Loss_G: 0.2653789934184816\\Loss_D_z: 0.07079074097176392\\Loss_D_img: 0.2100248924560017\n",
      "vgg_loss 0.004085516557097435\n",
      "EG_loss 0.07995010912418365\n",
      "fm_loss 0.2627941370010376\n",
      "G_img_loss 2.890540599822998\n",
      "E_z_loss 3.842275619506836\n",
      "tv_loss 0.9482920169830322\n",
      "D_cont_loss_fake 0.04667596518993378\n",
      "D_img_loss_input 0.07588563859462738\n",
      "D_img_loss_G 0.10439502447843552\n",
      "End of epoch 252 \t Time Taken: 21.03523278236389 sec\n",
      "\n"
     ]
    },
    {
     "name": "stderr",
     "output_type": "stream",
     "text": [
      "\n",
      "18it [00:20,  1.13s/it]"
     ]
    },
    {
     "name": "stdout",
     "output_type": "stream",
     "text": [
      "Loss_G: 0.27280477517180973\\Loss_D_z: 0.06762347287601894\\Loss_D_img: 0.1996606629755762\n",
      "vgg_loss 0.003915006760507822\n",
      "EG_loss 0.07694834470748901\n",
      "fm_loss 0.25539612770080566\n",
      "G_img_loss 3.172637462615967\n",
      "E_z_loss 3.8668527603149414\n",
      "tv_loss 0.9366428852081299\n",
      "D_cont_loss_fake 0.02931964211165905\n",
      "D_img_loss_input 0.04834955558180809\n",
      "D_img_loss_G 0.07105915248394012\n",
      "End of epoch 253 \t Time Taken: 21.00726628303528 sec\n",
      "\n"
     ]
    },
    {
     "name": "stderr",
     "output_type": "stream",
     "text": [
      "\n",
      "18it [00:20,  1.13s/it]"
     ]
    },
    {
     "name": "stdout",
     "output_type": "stream",
     "text": [
      "Loss_G: 0.2689249747329288\\Loss_D_z: 0.06780620457397567\\Loss_D_img: 0.19692332297563553\n",
      "vgg_loss 0.004008880816400051\n",
      "EG_loss 0.07663959264755249\n",
      "fm_loss 0.26757317781448364\n",
      "G_img_loss 3.510481834411621\n",
      "E_z_loss 3.290590286254883\n",
      "tv_loss 0.9308710098266602\n",
      "D_cont_loss_fake 0.03903915360569954\n",
      "D_img_loss_input 0.06828168779611588\n",
      "D_img_loss_G 0.056818246841430664\n",
      "End of epoch 254 \t Time Taken: 20.945499181747437 sec\n",
      "\n"
     ]
    },
    {
     "name": "stderr",
     "output_type": "stream",
     "text": [
      "\n",
      "18it [00:20,  1.13s/it]"
     ]
    },
    {
     "name": "stdout",
     "output_type": "stream",
     "text": [
      "Loss_G: 0.2698154118325975\\Loss_D_z: 0.05987714582847224\\Loss_D_img: 0.1919283527466986\n",
      "vgg_loss 0.003897501854225993\n",
      "EG_loss 0.07778790593147278\n",
      "fm_loss 0.2711072266101837\n",
      "G_img_loss 3.4669013023376465\n",
      "E_z_loss 3.779252529144287\n",
      "tv_loss 0.9350532293319702\n",
      "D_cont_loss_fake 0.03163055703043938\n",
      "D_img_loss_input 0.0667504072189331\n",
      "D_img_loss_G 0.05171624571084976\n",
      "End of epoch 255 \t Time Taken: 20.99306058883667 sec\n",
      "\n"
     ]
    },
    {
     "name": "stderr",
     "output_type": "stream",
     "text": [
      "\n",
      "18it [00:20,  1.13s/it]"
     ]
    },
    {
     "name": "stdout",
     "output_type": "stream",
     "text": [
      "Loss_G: 0.26645781099796295\\Loss_D_z: 0.07147683058347967\\Loss_D_img: 0.18465562661488852\n",
      "vgg_loss 0.003950622398406267\n",
      "EG_loss 0.07644106447696686\n",
      "fm_loss 0.26275700330734253\n",
      "G_img_loss 3.2729153633117676\n",
      "E_z_loss 3.8885583877563477\n",
      "tv_loss 0.9930285215377808\n",
      "D_cont_loss_fake 0.032060205936431885\n",
      "D_img_loss_input 0.07486020028591156\n",
      "D_img_loss_G 0.08986629545688629\n",
      "End of epoch 256 \t Time Taken: 20.934964179992676 sec\n",
      "\n"
     ]
    },
    {
     "name": "stderr",
     "output_type": "stream",
     "text": [
      "\n",
      "18it [00:20,  1.13s/it]"
     ]
    },
    {
     "name": "stdout",
     "output_type": "stream",
     "text": [
      "Loss_G: 0.2799847275018692\\Loss_D_z: 0.06358657798005475\\Loss_D_img: 0.1858355477452278\n",
      "vgg_loss 0.004038818646222353\n",
      "EG_loss 0.07883615046739578\n",
      "fm_loss 0.2573205232620239\n",
      "G_img_loss 3.0379996299743652\n",
      "E_z_loss 3.9235901832580566\n",
      "tv_loss 1.0594269037246704\n",
      "D_cont_loss_fake 0.04060095176100731\n",
      "D_img_loss_input 0.1111125573515892\n",
      "D_img_loss_G 0.10738571733236313\n",
      "End of epoch 257 \t Time Taken: 21.02230978012085 sec\n",
      "\n"
     ]
    },
    {
     "name": "stderr",
     "output_type": "stream",
     "text": [
      "\n",
      "18it [00:20,  1.12s/it]"
     ]
    },
    {
     "name": "stdout",
     "output_type": "stream",
     "text": [
      "Loss_G: 0.2780309021472931\\Loss_D_z: 0.06280327609015836\\Loss_D_img: 0.17571989239917862\n",
      "vgg_loss 0.0038838516920804977\n",
      "EG_loss 0.07691752910614014\n",
      "fm_loss 0.2714803218841553\n",
      "G_img_loss 3.41880464553833\n",
      "E_z_loss 3.9163436889648438\n",
      "tv_loss 0.9321049451828003\n",
      "D_cont_loss_fake 0.03458718582987785\n",
      "D_img_loss_input 0.04296919330954552\n",
      "D_img_loss_G 0.0671195238828659\n",
      "End of epoch 258 \t Time Taken: 20.906927824020386 sec\n",
      "\n"
     ]
    },
    {
     "name": "stderr",
     "output_type": "stream",
     "text": [
      "\n",
      "18it [00:20,  1.13s/it]"
     ]
    },
    {
     "name": "stdout",
     "output_type": "stream",
     "text": [
      "Loss_G: 0.2775983793867959\\Loss_D_z: 0.06601736384133498\\Loss_D_img: 0.16916614688105053\n",
      "vgg_loss 0.003932459279894829\n",
      "EG_loss 0.07657097280025482\n",
      "fm_loss 0.2768529951572418\n",
      "G_img_loss 3.5210094451904297\n",
      "E_z_loss 3.766171455383301\n",
      "tv_loss 0.9496575593948364\n",
      "D_cont_loss_fake 0.038008783012628555\n",
      "D_img_loss_input 0.08890961110591888\n",
      "D_img_loss_G 0.05795552581548691\n",
      "End of epoch 259 \t Time Taken: 20.988577842712402 sec\n",
      "\n"
     ]
    },
    {
     "name": "stderr",
     "output_type": "stream",
     "text": [
      "\n",
      "18it [00:20,  1.12s/it]"
     ]
    },
    {
     "name": "stdout",
     "output_type": "stream",
     "text": [
      "Loss_G: 0.27564066648483276\\Loss_D_z: 0.06297035536004437\\Loss_D_img: 0.16505049872729513\n",
      "vgg_loss 0.003920918330550194\n",
      "EG_loss 0.0780426487326622\n",
      "fm_loss 0.2581460177898407\n",
      "G_img_loss 2.870131254196167\n",
      "E_z_loss 3.5517091751098633\n",
      "tv_loss 1.0033502578735352\n",
      "D_cont_loss_fake 0.03927742317318916\n",
      "D_img_loss_input 0.04398728162050247\n",
      "D_img_loss_G 0.10409814864397049\n",
      "End of epoch 260 \t Time Taken: 20.875579595565796 sec\n",
      "\n"
     ]
    },
    {
     "name": "stderr",
     "output_type": "stream",
     "text": [
      "\n",
      "18it [00:20,  1.13s/it]"
     ]
    },
    {
     "name": "stdout",
     "output_type": "stream",
     "text": [
      "Loss_G: 0.2752516220013301\\Loss_D_z: 0.062231147247884006\\Loss_D_img: 0.15412523307734066\n",
      "vgg_loss 0.003888462670147419\n",
      "EG_loss 0.07619824260473251\n",
      "fm_loss 0.2758115828037262\n",
      "G_img_loss 3.6817104816436768\n",
      "E_z_loss 3.897810459136963\n",
      "tv_loss 0.9133237600326538\n",
      "D_cont_loss_fake 0.034233350306749344\n",
      "D_img_loss_input 0.0825130045413971\n",
      "D_img_loss_G 0.043148428201675415\n",
      "End of epoch 261 \t Time Taken: 20.92213463783264 sec\n",
      "\n"
     ]
    },
    {
     "name": "stderr",
     "output_type": "stream",
     "text": [
      "\n",
      "18it [00:20,  1.14s/it]"
     ]
    },
    {
     "name": "stdout",
     "output_type": "stream",
     "text": [
      "Loss_G: 0.2769631975226932\\Loss_D_z: 0.06174775895973047\\Loss_D_img: 0.16061215723554292\n",
      "vgg_loss 0.0039596473798155785\n",
      "EG_loss 0.07793750613927841\n",
      "fm_loss 0.2650250792503357\n",
      "G_img_loss 3.7226107120513916\n",
      "E_z_loss 3.8130946159362793\n",
      "tv_loss 0.97861647605896\n",
      "D_cont_loss_fake 0.03646014630794525\n",
      "D_img_loss_input 0.13155043125152588\n",
      "D_img_loss_G 0.05200297385454178\n",
      "End of epoch 262 \t Time Taken: 20.996407508850098 sec\n",
      "\n"
     ]
    },
    {
     "name": "stderr",
     "output_type": "stream",
     "text": [
      "\n",
      "18it [00:20,  1.13s/it]"
     ]
    },
    {
     "name": "stdout",
     "output_type": "stream",
     "text": [
      "Loss_G: 0.2784131301773919\\Loss_D_z: 0.05929364884893099\\Loss_D_img: 0.15627606047524345\n",
      "vgg_loss 0.00427215313538909\n",
      "EG_loss 0.08322843909263611\n",
      "fm_loss 0.2586669921875\n",
      "G_img_loss 2.8021833896636963\n",
      "E_z_loss 3.7561206817626953\n",
      "tv_loss 1.0432114601135254\n",
      "D_cont_loss_fake 0.039696089923381805\n",
      "D_img_loss_input 0.03470531851053238\n",
      "D_img_loss_G 0.10077568888664246\n",
      "End of epoch 263 \t Time Taken: 20.956267595291138 sec\n",
      "\n"
     ]
    },
    {
     "name": "stderr",
     "output_type": "stream",
     "text": [
      "\n",
      "18it [00:20,  1.14s/it]"
     ]
    },
    {
     "name": "stdout",
     "output_type": "stream",
     "text": [
      "Loss_G: 0.28293605976634556\\Loss_D_z: 0.05666352187593778\\Loss_D_img: 0.16109892105062804\n",
      "vgg_loss 0.004126822110265493\n",
      "EG_loss 0.08096028864383698\n",
      "fm_loss 0.2634913921356201\n",
      "G_img_loss 3.698951005935669\n",
      "E_z_loss 3.9702296257019043\n",
      "tv_loss 1.009472131729126\n",
      "D_cont_loss_fake 0.05785060673952103\n",
      "D_img_loss_input 0.057594187557697296\n",
      "D_img_loss_G 0.039583969861269\n",
      "End of epoch 264 \t Time Taken: 21.17232370376587 sec\n",
      "\n"
     ]
    },
    {
     "name": "stderr",
     "output_type": "stream",
     "text": [
      "\n",
      "18it [00:20,  1.12s/it]"
     ]
    },
    {
     "name": "stdout",
     "output_type": "stream",
     "text": [
      "Loss_G: 0.27357957263787586\\Loss_D_z: 0.0558727505720324\\Loss_D_img: 0.15353813394904137\n",
      "vgg_loss 0.003928008023649454\n",
      "EG_loss 0.07651649415493011\n",
      "fm_loss 0.2643589377403259\n",
      "G_img_loss 3.1426496505737305\n",
      "E_z_loss 3.982532024383545\n",
      "tv_loss 0.991978108882904\n",
      "D_cont_loss_fake 0.03675055876374245\n",
      "D_img_loss_input 0.07410043478012085\n",
      "D_img_loss_G 0.0877712070941925\n",
      "End of epoch 265 \t Time Taken: 20.904671669006348 sec\n",
      "\n"
     ]
    },
    {
     "name": "stderr",
     "output_type": "stream",
     "text": [
      "\n",
      "18it [00:20,  1.14s/it]"
     ]
    },
    {
     "name": "stdout",
     "output_type": "stream",
     "text": [
      "Loss_G: 0.27409112122323775\\Loss_D_z: 0.07169818298684226\\Loss_D_img: 0.15957528435521656\n",
      "vgg_loss 0.004048652946949005\n",
      "EG_loss 0.07891140878200531\n",
      "fm_loss 0.26125970482826233\n",
      "G_img_loss 3.4822258949279785\n",
      "E_z_loss 3.188096046447754\n",
      "tv_loss 1.0422048568725586\n",
      "D_cont_loss_fake 0.04270433634519577\n",
      "D_img_loss_input 0.0491834357380867\n",
      "D_img_loss_G 0.04813724756240845\n",
      "End of epoch 266 \t Time Taken: 21.084954500198364 sec\n",
      "\n"
     ]
    },
    {
     "name": "stderr",
     "output_type": "stream",
     "text": [
      "\n",
      "18it [00:20,  1.14s/it]"
     ]
    },
    {
     "name": "stdout",
     "output_type": "stream",
     "text": [
      "Loss_G: 0.2807394001219008\\Loss_D_z: 0.06690928857359621\\Loss_D_img: 0.15370750551422438\n",
      "vgg_loss 0.0039369286969304085\n",
      "EG_loss 0.08101940155029297\n",
      "fm_loss 0.2544732689857483\n",
      "G_img_loss 3.618832588195801\n",
      "E_z_loss 3.3859927654266357\n",
      "tv_loss 0.9582968950271606\n",
      "D_cont_loss_fake 0.03945544362068176\n",
      "D_img_loss_input 0.03581984341144562\n",
      "D_img_loss_G 0.05434088036417961\n",
      "End of epoch 267 \t Time Taken: 21.062631845474243 sec\n",
      "\n"
     ]
    },
    {
     "name": "stderr",
     "output_type": "stream",
     "text": [
      "\n",
      "18it [00:20,  1.13s/it]"
     ]
    },
    {
     "name": "stdout",
     "output_type": "stream",
     "text": [
      "Loss_G: 0.28109083738591933\\Loss_D_z: 0.05803719866606924\\Loss_D_img: 0.14900435300336945\n",
      "vgg_loss 0.004074827302247286\n",
      "EG_loss 0.08063060790300369\n",
      "fm_loss 0.2628210186958313\n",
      "G_img_loss 3.5813770294189453\n",
      "E_z_loss 3.83491849899292\n",
      "tv_loss 1.0055890083312988\n",
      "D_cont_loss_fake 0.03932671621441841\n",
      "D_img_loss_input 0.04215536266565323\n",
      "D_img_loss_G 0.06000518053770065\n",
      "End of epoch 268 \t Time Taken: 20.98311710357666 sec\n",
      "\n"
     ]
    },
    {
     "name": "stderr",
     "output_type": "stream",
     "text": [
      "\n",
      "18it [00:20,  1.13s/it]"
     ]
    },
    {
     "name": "stdout",
     "output_type": "stream",
     "text": [
      "Loss_G: 0.27756187816460925\\Loss_D_z: 0.0566001505487495\\Loss_D_img: 0.14933378911680645\n",
      "vgg_loss 0.0039564440958201885\n",
      "EG_loss 0.07686105370521545\n",
      "fm_loss 0.2513694763183594\n",
      "G_img_loss 3.669715166091919\n",
      "E_z_loss 4.090241432189941\n",
      "tv_loss 0.9628348350524902\n",
      "D_cont_loss_fake 0.036896612495183945\n",
      "D_img_loss_input 0.0722905695438385\n",
      "D_img_loss_G 0.043969057500362396\n",
      "End of epoch 269 \t Time Taken: 20.981637716293335 sec\n",
      "\n"
     ]
    },
    {
     "name": "stderr",
     "output_type": "stream",
     "text": [
      "\n",
      "18it [00:20,  1.13s/it]"
     ]
    },
    {
     "name": "stdout",
     "output_type": "stream",
     "text": [
      "Loss_G: 0.2810675750176112\\Loss_D_z: 0.057931721210479736\\Loss_D_img: 0.14797880293594468\n",
      "vgg_loss 0.0040373471565544605\n",
      "EG_loss 0.08031000196933746\n",
      "fm_loss 0.2502935826778412\n",
      "G_img_loss 3.521450996398926\n",
      "E_z_loss 4.107651710510254\n",
      "tv_loss 0.9870759844779968\n",
      "D_cont_loss_fake 0.04327593743801117\n",
      "D_img_loss_input 0.04426640272140503\n",
      "D_img_loss_G 0.04784904792904854\n",
      "End of epoch 270 \t Time Taken: 21.09563446044922 sec\n",
      "\n"
     ]
    },
    {
     "name": "stderr",
     "output_type": "stream",
     "text": [
      "\n",
      "18it [00:20,  1.12s/it]"
     ]
    },
    {
     "name": "stdout",
     "output_type": "stream",
     "text": [
      "Loss_G: 0.2784645375278261\\Loss_D_z: 0.11407146457996634\\Loss_D_img: 0.16725120527876747\n",
      "vgg_loss 0.004020309075713158\n",
      "EG_loss 0.07997750490903854\n",
      "fm_loss 0.24845629930496216\n",
      "G_img_loss 3.5089755058288574\n",
      "E_z_loss 3.3514564037323\n",
      "tv_loss 0.9536648988723755\n",
      "D_cont_loss_fake 0.04379403218626976\n",
      "D_img_loss_input 0.054732583463191986\n",
      "D_img_loss_G 0.05348921939730644\n",
      "End of epoch 271 \t Time Taken: 20.79419183731079 sec\n",
      "\n"
     ]
    },
    {
     "name": "stderr",
     "output_type": "stream",
     "text": [
      "\n",
      "18it [00:20,  1.12s/it]"
     ]
    },
    {
     "name": "stdout",
     "output_type": "stream",
     "text": [
      "Loss_G: 0.28253163894017536\\Loss_D_z: 0.0804754580474562\\Loss_D_img: 0.1597258299589157\n",
      "vgg_loss 0.004097513854503632\n",
      "EG_loss 0.08302117884159088\n",
      "fm_loss 0.27235621213912964\n",
      "G_img_loss 3.673525333404541\n",
      "E_z_loss 3.642780065536499\n",
      "tv_loss 0.9254374504089355\n",
      "D_cont_loss_fake 0.0473879911005497\n",
      "D_img_loss_input 0.10290923714637756\n",
      "D_img_loss_G 0.04671859368681908\n",
      "End of epoch 272 \t Time Taken: 20.916815757751465 sec\n",
      "\n"
     ]
    },
    {
     "name": "stderr",
     "output_type": "stream",
     "text": [
      "\n",
      "18it [00:20,  1.13s/it]"
     ]
    },
    {
     "name": "stdout",
     "output_type": "stream",
     "text": [
      "Loss_G: 0.28425098955631256\\Loss_D_z: 0.09008684878547986\\Loss_D_img: 0.1576527025964525\n",
      "vgg_loss 0.004036196041852236\n",
      "EG_loss 0.08172854036092758\n",
      "fm_loss 0.2528623342514038\n",
      "G_img_loss 3.097850799560547\n",
      "E_z_loss 3.658371686935425\n",
      "tv_loss 0.9573550224304199\n",
      "D_cont_loss_fake 0.035390015691518784\n",
      "D_img_loss_input 0.05159880965948105\n",
      "D_img_loss_G 0.07986858487129211\n",
      "End of epoch 273 \t Time Taken: 21.04491138458252 sec\n",
      "\n"
     ]
    },
    {
     "name": "stderr",
     "output_type": "stream",
     "text": [
      "\n",
      "18it [00:20,  1.13s/it]"
     ]
    },
    {
     "name": "stdout",
     "output_type": "stream",
     "text": [
      "Loss_G: 0.28315798276000553\\Loss_D_z: 0.08430645014676783\\Loss_D_img: 0.1558557107216782\n",
      "vgg_loss 0.004066842142492533\n",
      "EG_loss 0.08228801935911179\n",
      "fm_loss 0.24752390384674072\n",
      "G_img_loss 3.8305633068084717\n",
      "E_z_loss 3.318081855773926\n",
      "tv_loss 0.9897670745849609\n",
      "D_cont_loss_fake 0.039864182472229004\n",
      "D_img_loss_input 0.0859031155705452\n",
      "D_img_loss_G 0.059508033096790314\n",
      "End of epoch 274 \t Time Taken: 20.937322854995728 sec\n",
      "\n"
     ]
    },
    {
     "name": "stderr",
     "output_type": "stream",
     "text": [
      "\n",
      "18it [00:20,  1.14s/it]"
     ]
    },
    {
     "name": "stdout",
     "output_type": "stream",
     "text": [
      "Loss_G: 0.28829139802190995\\Loss_D_z: 0.08267341636949116\\Loss_D_img: 0.1396806471877628\n",
      "vgg_loss 0.004090557806193829\n",
      "EG_loss 0.0825597494840622\n",
      "fm_loss 0.2601470947265625\n",
      "G_img_loss 3.4760446548461914\n",
      "E_z_loss 3.4135637283325195\n",
      "tv_loss 0.9663488864898682\n",
      "D_cont_loss_fake 0.04318588227033615\n",
      "D_img_loss_input 0.026093173772096634\n",
      "D_img_loss_G 0.04746195673942566\n",
      "End of epoch 275 \t Time Taken: 21.032238006591797 sec\n",
      "\n"
     ]
    },
    {
     "name": "stderr",
     "output_type": "stream",
     "text": [
      "\n",
      "18it [00:20,  1.13s/it]"
     ]
    },
    {
     "name": "stdout",
     "output_type": "stream",
     "text": [
      "Loss_G: 0.28322295513417983\\Loss_D_z: 0.07693061356743176\\Loss_D_img: 0.138805085586177\n",
      "vgg_loss 0.004116955678910017\n",
      "EG_loss 0.08350961655378342\n",
      "fm_loss 0.24821437895298004\n",
      "G_img_loss 3.3974831104278564\n",
      "E_z_loss 3.4157590866088867\n",
      "tv_loss 0.9831397533416748\n",
      "D_cont_loss_fake 0.04160488396883011\n",
      "D_img_loss_input 0.028735380619764328\n",
      "D_img_loss_G 0.08316923677921295\n",
      "End of epoch 276 \t Time Taken: 20.985823154449463 sec\n",
      "\n"
     ]
    },
    {
     "name": "stderr",
     "output_type": "stream",
     "text": [
      "\n",
      "18it [00:20,  1.13s/it]"
     ]
    },
    {
     "name": "stdout",
     "output_type": "stream",
     "text": [
      "Loss_G: 0.28860964212152695\\Loss_D_z: 0.07287976062960094\\Loss_D_img: 0.13355166837573051\n",
      "vgg_loss 0.004184744320809841\n",
      "EG_loss 0.085074782371521\n",
      "fm_loss 0.2570699453353882\n",
      "G_img_loss 3.808406352996826\n",
      "E_z_loss 3.3915534019470215\n",
      "tv_loss 1.0186161994934082\n",
      "D_cont_loss_fake 0.03565284237265587\n",
      "D_img_loss_input 0.03564278036355972\n",
      "D_img_loss_G 0.034663788974285126\n",
      "End of epoch 277 \t Time Taken: 20.89789366722107 sec\n",
      "\n"
     ]
    },
    {
     "name": "stderr",
     "output_type": "stream",
     "text": [
      "\n",
      "18it [00:20,  1.13s/it]"
     ]
    },
    {
     "name": "stdout",
     "output_type": "stream",
     "text": [
      "Loss_G: 0.28562529385089874\\Loss_D_z: 0.07015157366792361\\Loss_D_img: 0.16050849937730366\n",
      "vgg_loss 0.004110208712518215\n",
      "EG_loss 0.08385646343231201\n",
      "fm_loss 0.2565107047557831\n",
      "G_img_loss 3.065070867538452\n",
      "E_z_loss 3.44218111038208\n",
      "tv_loss 0.9540528059005737\n",
      "D_cont_loss_fake 0.044098302721977234\n",
      "D_img_loss_input 0.027514439076185226\n",
      "D_img_loss_G 0.08174479752779007\n",
      "End of epoch 278 \t Time Taken: 20.868081092834473 sec\n",
      "\n"
     ]
    },
    {
     "name": "stderr",
     "output_type": "stream",
     "text": [
      "\n",
      "18it [00:20,  1.13s/it]"
     ]
    },
    {
     "name": "stdout",
     "output_type": "stream",
     "text": [
      "Loss_G: 0.28641826411088306\\Loss_D_z: 0.0677831241240104\\Loss_D_img: 0.1524878574742211\n",
      "vgg_loss 0.004082410596311092\n",
      "EG_loss 0.08148352056741714\n",
      "fm_loss 0.24775290489196777\n",
      "G_img_loss 3.1957967281341553\n",
      "E_z_loss 3.6094107627868652\n",
      "tv_loss 1.0020132064819336\n",
      "D_cont_loss_fake 0.03690357133746147\n",
      "D_img_loss_input 0.056491654366254807\n",
      "D_img_loss_G 0.09609749913215637\n",
      "End of epoch 279 \t Time Taken: 21.057836294174194 sec\n",
      "\n"
     ]
    },
    {
     "name": "stderr",
     "output_type": "stream",
     "text": [
      "\n",
      "18it [00:20,  1.13s/it]"
     ]
    },
    {
     "name": "stdout",
     "output_type": "stream",
     "text": [
      "Loss_G: 0.2829319652583864\\Loss_D_z: 0.062044719234108925\\Loss_D_img: 0.1854232247504923\n",
      "vgg_loss 0.004021022468805313\n",
      "EG_loss 0.0810621902346611\n",
      "fm_loss 0.25459396839141846\n",
      "G_img_loss 3.283781051635742\n",
      "E_z_loss 3.6757938861846924\n",
      "tv_loss 0.9974038600921631\n",
      "D_cont_loss_fake 0.03770750015974045\n",
      "D_img_loss_input 0.03950536996126175\n",
      "D_img_loss_G 0.09585928171873093\n",
      "End of epoch 280 \t Time Taken: 21.059945106506348 sec\n",
      "\n"
     ]
    },
    {
     "name": "stderr",
     "output_type": "stream",
     "text": [
      "\n",
      "18it [00:20,  1.13s/it]"
     ]
    },
    {
     "name": "stdout",
     "output_type": "stream",
     "text": [
      "Loss_G: 0.28882796400123173\\Loss_D_z: 0.056831872918539576\\Loss_D_img: 0.16203991654846403\n",
      "vgg_loss 0.004133310634642839\n",
      "EG_loss 0.0873103141784668\n",
      "fm_loss 0.26090869307518005\n",
      "G_img_loss 3.6986448764801025\n",
      "E_z_loss 3.778003692626953\n",
      "tv_loss 0.9989587068557739\n",
      "D_cont_loss_fake 0.04675378277897835\n",
      "D_img_loss_input 0.037480004131793976\n",
      "D_img_loss_G 0.052402645349502563\n",
      "End of epoch 281 \t Time Taken: 21.019996166229248 sec\n",
      "\n"
     ]
    },
    {
     "name": "stderr",
     "output_type": "stream",
     "text": [
      "\n",
      "18it [00:20,  1.15s/it]"
     ]
    },
    {
     "name": "stdout",
     "output_type": "stream",
     "text": [
      "Loss_G: 0.2858765787548489\\Loss_D_z: 0.054208490583631724\\Loss_D_img: 0.14806581868065727\n",
      "vgg_loss 0.0040899659506976604\n",
      "EG_loss 0.08207539469003677\n",
      "fm_loss 0.2577899992465973\n",
      "G_img_loss 3.5226213932037354\n",
      "E_z_loss 4.116670608520508\n",
      "tv_loss 0.9839830994606018\n",
      "D_cont_loss_fake 0.047498706728219986\n",
      "D_img_loss_input 0.038360845297575\n",
      "D_img_loss_G 0.050604790449142456\n",
      "End of epoch 282 \t Time Taken: 21.094642400741577 sec\n",
      "\n"
     ]
    },
    {
     "name": "stderr",
     "output_type": "stream",
     "text": [
      "\n",
      "18it [00:20,  1.13s/it]"
     ]
    },
    {
     "name": "stdout",
     "output_type": "stream",
     "text": [
      "Loss_G: 0.28518766827053493\\Loss_D_z: 0.0591004743344254\\Loss_D_img: 0.14513394443525207\n",
      "vgg_loss 0.004043783992528915\n",
      "EG_loss 0.08079858124256134\n",
      "fm_loss 0.257773220539093\n",
      "G_img_loss 3.658254861831665\n",
      "E_z_loss 3.921135902404785\n",
      "tv_loss 0.9746484756469727\n",
      "D_cont_loss_fake 0.03944999352097511\n",
      "D_img_loss_input 0.023589011281728745\n",
      "D_img_loss_G 0.05052753537893295\n",
      "End of epoch 283 \t Time Taken: 21.017327070236206 sec\n",
      "\n"
     ]
    },
    {
     "name": "stderr",
     "output_type": "stream",
     "text": [
      "\n",
      "18it [00:20,  1.14s/it]"
     ]
    },
    {
     "name": "stdout",
     "output_type": "stream",
     "text": [
      "Loss_G: 0.28777730133798385\\Loss_D_z: 0.061413408981429204\\Loss_D_img: 0.18478805820147196\n",
      "vgg_loss 0.00415025046095252\n",
      "EG_loss 0.082232266664505\n",
      "fm_loss 0.25983771681785583\n",
      "G_img_loss 3.6429147720336914\n",
      "E_z_loss 4.066110134124756\n",
      "tv_loss 0.8976829051971436\n",
      "D_cont_loss_fake 0.036876168102025986\n",
      "D_img_loss_input 0.06299085170030594\n",
      "D_img_loss_G 0.06672065705060959\n",
      "End of epoch 284 \t Time Taken: 20.917608737945557 sec\n",
      "\n"
     ]
    },
    {
     "name": "stderr",
     "output_type": "stream",
     "text": [
      "\n",
      "18it [00:20,  1.14s/it]"
     ]
    },
    {
     "name": "stdout",
     "output_type": "stream",
     "text": [
      "Loss_G: 0.2817794564697478\\Loss_D_z: 0.05467962473630905\\Loss_D_img: 0.16663477735386956\n",
      "vgg_loss 0.0039930278435349464\n",
      "EG_loss 0.07961054891347885\n",
      "fm_loss 0.25353875756263733\n",
      "G_img_loss 3.755603313446045\n",
      "E_z_loss 4.067805290222168\n",
      "tv_loss 0.9519841074943542\n",
      "D_cont_loss_fake 0.04104786366224289\n",
      "D_img_loss_input 0.06124509498476982\n",
      "D_img_loss_G 0.044382743537425995\n",
      "End of epoch 285 \t Time Taken: 21.07034969329834 sec\n",
      "\n"
     ]
    },
    {
     "name": "stderr",
     "output_type": "stream",
     "text": [
      "\n",
      "18it [00:20,  1.13s/it]"
     ]
    },
    {
     "name": "stdout",
     "output_type": "stream",
     "text": [
      "Loss_G: 0.2860003312428792\\Loss_D_z: 0.05055674434536033\\Loss_D_img: 0.14556854963302612\n",
      "vgg_loss 0.003922086209058762\n",
      "EG_loss 0.07882912456989288\n",
      "fm_loss 0.23876553773880005\n",
      "G_img_loss 3.7851152420043945\n",
      "E_z_loss 4.096964359283447\n",
      "tv_loss 0.971915066242218\n",
      "D_cont_loss_fake 0.037440091371536255\n",
      "D_img_loss_input 0.052989546209573746\n",
      "D_img_loss_G 0.06172274798154831\n",
      "End of epoch 286 \t Time Taken: 21.0213623046875 sec\n",
      "\n"
     ]
    },
    {
     "name": "stderr",
     "output_type": "stream",
     "text": [
      "\n",
      "18it [00:20,  1.13s/it]"
     ]
    },
    {
     "name": "stdout",
     "output_type": "stream",
     "text": [
      "Loss_G: 0.2931108491288291\\Loss_D_z: 0.0549554398490323\\Loss_D_img: 0.14537806601987946\n",
      "vgg_loss 0.004009884782135487\n",
      "EG_loss 0.07964929938316345\n",
      "fm_loss 0.27290767431259155\n",
      "G_img_loss 4.146124839782715\n",
      "E_z_loss 3.9033126831054688\n",
      "tv_loss 0.9679206013679504\n",
      "D_cont_loss_fake 0.0536627434194088\n",
      "D_img_loss_input 0.06317608058452606\n",
      "D_img_loss_G 0.040761664509773254\n",
      "End of epoch 287 \t Time Taken: 20.957754850387573 sec\n",
      "\n"
     ]
    },
    {
     "name": "stderr",
     "output_type": "stream",
     "text": [
      "\n",
      "18it [00:20,  1.13s/it]"
     ]
    },
    {
     "name": "stdout",
     "output_type": "stream",
     "text": [
      "Loss_G: 0.28881460593806374\\Loss_D_z: 0.052595395180914134\\Loss_D_img: 0.1457812384598785\n",
      "vgg_loss 0.004075838718563318\n",
      "EG_loss 0.08117243647575378\n",
      "fm_loss 0.26573503017425537\n",
      "G_img_loss 3.6037845611572266\n",
      "E_z_loss 3.9941744804382324\n",
      "tv_loss 0.9909242987632751\n",
      "D_cont_loss_fake 0.0359826497733593\n",
      "D_img_loss_input 0.07865135371685028\n",
      "D_img_loss_G 0.08354492485523224\n",
      "End of epoch 288 \t Time Taken: 20.894577741622925 sec\n",
      "\n"
     ]
    },
    {
     "name": "stderr",
     "output_type": "stream",
     "text": [
      "\n",
      "18it [00:20,  1.13s/it]"
     ]
    },
    {
     "name": "stdout",
     "output_type": "stream",
     "text": [
      "Loss_G: 0.28523286680380505\\Loss_D_z: 0.046699787179629006\\Loss_D_img: 0.18215182837512758\n",
      "vgg_loss 0.004045532550662756\n",
      "EG_loss 0.07887422293424606\n",
      "fm_loss 0.2676393389701843\n",
      "G_img_loss 3.6607863903045654\n",
      "E_z_loss 4.141693115234375\n",
      "tv_loss 1.0201499462127686\n",
      "D_cont_loss_fake 0.049358755350112915\n",
      "D_img_loss_input 0.07584728300571442\n",
      "D_img_loss_G 0.10315734148025513\n",
      "End of epoch 289 \t Time Taken: 20.878117561340332 sec\n",
      "\n"
     ]
    },
    {
     "name": "stderr",
     "output_type": "stream",
     "text": [
      "\n",
      "18it [00:20,  1.14s/it]"
     ]
    },
    {
     "name": "stdout",
     "output_type": "stream",
     "text": [
      "Loss_G: 0.285143655207422\\Loss_D_z: 0.04624729851881663\\Loss_D_img: 0.17186664624346626\n",
      "vgg_loss 0.004058772698044777\n",
      "EG_loss 0.07952458411455154\n",
      "fm_loss 0.252135694026947\n",
      "G_img_loss 3.7900946140289307\n",
      "E_z_loss 4.11586856842041\n",
      "tv_loss 1.0123203992843628\n",
      "D_cont_loss_fake 0.04209892824292183\n",
      "D_img_loss_input 0.04541384428739548\n",
      "D_img_loss_G 0.04700150340795517\n",
      "End of epoch 290 \t Time Taken: 20.96842908859253 sec\n",
      "\n"
     ]
    },
    {
     "name": "stderr",
     "output_type": "stream",
     "text": [
      "\n",
      "18it [00:20,  1.12s/it]"
     ]
    },
    {
     "name": "stdout",
     "output_type": "stream",
     "text": [
      "Loss_G: 0.28385061025619507\\Loss_D_z: 0.0454121803243955\\Loss_D_img: 0.14054082499610054\n",
      "vgg_loss 0.003953314386308193\n",
      "EG_loss 0.07801774144172668\n",
      "fm_loss 0.2720172107219696\n",
      "G_img_loss 4.409432411193848\n",
      "E_z_loss 4.13319206237793\n",
      "tv_loss 1.0132206678390503\n",
      "D_cont_loss_fake 0.0291460994631052\n",
      "D_img_loss_input 0.08705982565879822\n",
      "D_img_loss_G 0.024004904553294182\n",
      "End of epoch 291 \t Time Taken: 20.838369369506836 sec\n",
      "\n"
     ]
    },
    {
     "name": "stderr",
     "output_type": "stream",
     "text": [
      "\n",
      "18it [00:20,  1.13s/it]"
     ]
    },
    {
     "name": "stdout",
     "output_type": "stream",
     "text": [
      "Loss_G: 0.288065019581053\\Loss_D_z: 0.04667364040182696\\Loss_D_img: 0.16176001479228339\n",
      "vgg_loss 0.004007104318588972\n",
      "EG_loss 0.08041785657405853\n",
      "fm_loss 0.24332773685455322\n",
      "G_img_loss 3.378993034362793\n",
      "E_z_loss 4.0587286949157715\n",
      "tv_loss 1.0066325664520264\n",
      "D_cont_loss_fake 0.045063234865665436\n",
      "D_img_loss_input 0.055262088775634766\n",
      "D_img_loss_G 0.08476705104112625\n",
      "End of epoch 292 \t Time Taken: 21.01661968231201 sec\n",
      "\n"
     ]
    },
    {
     "name": "stderr",
     "output_type": "stream",
     "text": [
      "\n",
      "18it [00:20,  1.13s/it]"
     ]
    },
    {
     "name": "stdout",
     "output_type": "stream",
     "text": [
      "Loss_G: 0.2879628456301159\\Loss_D_z: 0.04729974331955115\\Loss_D_img: 0.17754350933763716\n",
      "vgg_loss 0.003985618241131306\n",
      "EG_loss 0.07894141972064972\n",
      "fm_loss 0.24423930048942566\n",
      "G_img_loss 3.373979091644287\n",
      "E_z_loss 4.235220909118652\n",
      "tv_loss 1.0203931331634521\n",
      "D_cont_loss_fake 0.04238298162817955\n",
      "D_img_loss_input 0.06972534209489822\n",
      "D_img_loss_G 0.1270524561405182\n",
      "End of epoch 293 \t Time Taken: 20.87143349647522 sec\n",
      "\n"
     ]
    },
    {
     "name": "stderr",
     "output_type": "stream",
     "text": [
      "\n",
      "18it [00:20,  1.13s/it]"
     ]
    },
    {
     "name": "stdout",
     "output_type": "stream",
     "text": [
      "Loss_G: 0.28445402284463245\\Loss_D_z: 0.0507538297937976\\Loss_D_img: 0.16211368557479647\n",
      "vgg_loss 0.003938412759453058\n",
      "EG_loss 0.07711606472730637\n",
      "fm_loss 0.24706345796585083\n",
      "G_img_loss 3.4534852504730225\n",
      "E_z_loss 3.714082717895508\n",
      "tv_loss 0.9904449582099915\n",
      "D_cont_loss_fake 0.03950008377432823\n",
      "D_img_loss_input 0.07749288529157639\n",
      "D_img_loss_G 0.07982015609741211\n",
      "End of epoch 294 \t Time Taken: 21.01064944267273 sec\n",
      "\n"
     ]
    },
    {
     "name": "stderr",
     "output_type": "stream",
     "text": [
      "\n",
      "18it [00:20,  1.13s/it]"
     ]
    },
    {
     "name": "stdout",
     "output_type": "stream",
     "text": [
      "Loss_G: 0.2860946986410353\\Loss_D_z: 0.05530595634546545\\Loss_D_img: 0.16179760752452743\n",
      "vgg_loss 0.003922321833670139\n",
      "EG_loss 0.08200180530548096\n",
      "fm_loss 0.23897166550159454\n",
      "G_img_loss 3.759610652923584\n",
      "E_z_loss 3.7086715698242188\n",
      "tv_loss 0.9481828212738037\n",
      "D_cont_loss_fake 0.04321959614753723\n",
      "D_img_loss_input 0.042699649930000305\n",
      "D_img_loss_G 0.04388415813446045\n",
      "End of epoch 295 \t Time Taken: 21.13158416748047 sec\n",
      "\n"
     ]
    },
    {
     "name": "stderr",
     "output_type": "stream",
     "text": [
      "\n",
      "18it [00:22,  1.28s/it]"
     ]
    },
    {
     "name": "stdout",
     "output_type": "stream",
     "text": [
      "Loss_G: 0.2858264313803779\\Loss_D_z: 0.05114741002519926\\Loss_D_img: 0.17927486490872171\n",
      "vgg_loss 0.003945436794310808\n",
      "EG_loss 0.08507361263036728\n",
      "fm_loss 0.2649637460708618\n",
      "G_img_loss 3.5862104892730713\n",
      "E_z_loss 3.844409942626953\n",
      "tv_loss 0.987287163734436\n",
      "D_cont_loss_fake 0.03750733658671379\n",
      "D_img_loss_input 0.1124286875128746\n",
      "D_img_loss_G 0.07357419282197952\n",
      "End of epoch 296 \t Time Taken: 23.267934322357178 sec\n",
      "\n"
     ]
    },
    {
     "name": "stderr",
     "output_type": "stream",
     "text": [
      "\n",
      "18it [00:23,  1.27s/it]"
     ]
    },
    {
     "name": "stdout",
     "output_type": "stream",
     "text": [
      "Loss_G: 0.2817867679728402\\Loss_D_z: 0.04538409639563826\\Loss_D_img: 0.14870028032196891\n",
      "vgg_loss 0.004037454258650541\n",
      "EG_loss 0.07965520024299622\n",
      "fm_loss 0.24441392719745636\n",
      "G_img_loss 3.4899344444274902\n",
      "E_z_loss 4.0044331550598145\n",
      "tv_loss 1.027846097946167\n",
      "D_cont_loss_fake 0.03536666929721832\n",
      "D_img_loss_input 0.04331435635685921\n",
      "D_img_loss_G 0.0873388797044754\n",
      "End of epoch 297 \t Time Taken: 23.577531814575195 sec\n",
      "\n"
     ]
    },
    {
     "name": "stderr",
     "output_type": "stream",
     "text": [
      "\n",
      "18it [00:23,  1.27s/it]"
     ]
    },
    {
     "name": "stdout",
     "output_type": "stream",
     "text": [
      "Loss_G: 0.2859405544069078\\Loss_D_z: 0.04631546408765846\\Loss_D_img: 0.14181429603033596\n",
      "vgg_loss 0.00406308239325881\n",
      "EG_loss 0.08003207296133041\n",
      "fm_loss 0.26114535331726074\n",
      "G_img_loss 4.0297465324401855\n",
      "E_z_loss 4.261590003967285\n",
      "tv_loss 1.0023770332336426\n",
      "D_cont_loss_fake 0.04186306148767471\n",
      "D_img_loss_input 0.06377153098583221\n",
      "D_img_loss_G 0.04628339782357216\n",
      "End of epoch 298 \t Time Taken: 23.56220245361328 sec\n",
      "\n"
     ]
    },
    {
     "name": "stderr",
     "output_type": "stream",
     "text": [
      "\n",
      "18it [00:22,  1.20s/it]"
     ]
    },
    {
     "name": "stdout",
     "output_type": "stream",
     "text": [
      "Loss_G: 0.2856699426968892\\Loss_D_z: 0.04718380235135555\\Loss_D_img: 0.16363354813721445\n",
      "vgg_loss 0.004085645079612732\n",
      "EG_loss 0.08406268060207367\n",
      "fm_loss 0.2397736757993698\n",
      "G_img_loss 3.3489933013916016\n",
      "E_z_loss 4.139148235321045\n",
      "tv_loss 0.9805090427398682\n",
      "D_cont_loss_fake 0.041596487164497375\n",
      "D_img_loss_input 0.042234987020492554\n",
      "D_img_loss_G 0.06745104491710663\n",
      "End of epoch 299 \t Time Taken: 23.1986026763916 sec\n",
      "\n"
     ]
    },
    {
     "name": "stderr",
     "output_type": "stream",
     "text": [
      "\n",
      "18it [00:20,  1.13s/it]\n"
     ]
    },
    {
     "name": "stdout",
     "output_type": "stream",
     "text": [
      "Saving the model at the end of epoch 300\n",
      "\n",
      "Loss_G: 0.28365183373292285\\Loss_D_z: 0.04347141024967035\\Loss_D_img: 0.20776757556531164\n",
      "vgg_loss 0.003980875015258789\n",
      "EG_loss 0.07926227152347565\n",
      "fm_loss 0.2348117232322693\n",
      "G_img_loss 3.8008198738098145\n",
      "E_z_loss 3.9183807373046875\n",
      "tv_loss 0.9949352741241455\n",
      "D_cont_loss_fake 0.05390450358390808\n",
      "D_img_loss_input 0.14766761660575867\n",
      "D_img_loss_G 0.11946567893028259\n",
      "End of epoch 300 \t Time Taken: 21.71387004852295 sec\n",
      "\n"
     ]
    },
    {
     "name": "stderr",
     "output_type": "stream",
     "text": [
      "18it [00:20,  1.13s/it]"
     ]
    },
    {
     "name": "stdout",
     "output_type": "stream",
     "text": [
      "Loss_G: 0.2841186788347032\\Loss_D_z: 0.04569785576313734\\Loss_D_img: 0.17381780760155785\n",
      "vgg_loss 0.003998987376689911\n",
      "EG_loss 0.08369016647338867\n",
      "fm_loss 0.26151949167251587\n",
      "G_img_loss 3.931415557861328\n",
      "E_z_loss 4.137441635131836\n",
      "tv_loss 0.9602479338645935\n",
      "D_cont_loss_fake 0.037880074232816696\n",
      "D_img_loss_input 0.09594888985157013\n",
      "D_img_loss_G 0.05252356454730034\n",
      "End of epoch 301 \t Time Taken: 20.919371843338013 sec\n",
      "\n"
     ]
    },
    {
     "name": "stderr",
     "output_type": "stream",
     "text": [
      "\n",
      "18it [00:20,  1.14s/it]"
     ]
    },
    {
     "name": "stdout",
     "output_type": "stream",
     "text": [
      "Loss_G: 0.28187179730998146\\Loss_D_z: 0.05376463611092833\\Loss_D_img: 0.14230294111702177\n",
      "vgg_loss 0.00401394022628665\n",
      "EG_loss 0.08178167045116425\n",
      "fm_loss 0.258195698261261\n",
      "G_img_loss 3.5176472663879395\n",
      "E_z_loss 3.913191556930542\n",
      "tv_loss 0.9971513748168945\n",
      "D_cont_loss_fake 0.046690769493579865\n",
      "D_img_loss_input 0.06940050423145294\n",
      "D_img_loss_G 0.07225140929222107\n",
      "End of epoch 302 \t Time Taken: 21.088319301605225 sec\n",
      "\n"
     ]
    },
    {
     "name": "stderr",
     "output_type": "stream",
     "text": [
      "\n",
      "18it [00:20,  1.12s/it]"
     ]
    },
    {
     "name": "stdout",
     "output_type": "stream",
     "text": [
      "Loss_G: 0.2854796217547523\\Loss_D_z: 0.04550476579202546\\Loss_D_img: 0.17768252972099516\n",
      "vgg_loss 0.00406039971858263\n",
      "EG_loss 0.08158494532108307\n",
      "fm_loss 0.26505768299102783\n",
      "G_img_loss 4.254725933074951\n",
      "E_z_loss 3.759547472000122\n",
      "tv_loss 0.9539052844047546\n",
      "D_cont_loss_fake 0.03909748047590256\n",
      "D_img_loss_input 0.0717591941356659\n",
      "D_img_loss_G 0.039530713111162186\n",
      "End of epoch 303 \t Time Taken: 20.967042922973633 sec\n",
      "\n"
     ]
    },
    {
     "name": "stderr",
     "output_type": "stream",
     "text": [
      "\n",
      "18it [00:20,  1.13s/it]"
     ]
    },
    {
     "name": "stdout",
     "output_type": "stream",
     "text": [
      "Loss_G: 0.2880466298924552\\Loss_D_z: 0.06074547953903675\\Loss_D_img: 0.18391024072964987\n",
      "vgg_loss 0.004145368468016386\n",
      "EG_loss 0.08367995917797089\n",
      "fm_loss 0.23181062936782837\n",
      "G_img_loss 3.9405181407928467\n",
      "E_z_loss 3.5243754386901855\n",
      "tv_loss 0.972194254398346\n",
      "D_cont_loss_fake 0.04563945531845093\n",
      "D_img_loss_input 0.08770991861820221\n",
      "D_img_loss_G 0.04343356937170029\n",
      "End of epoch 304 \t Time Taken: 21.052871704101562 sec\n",
      "\n"
     ]
    },
    {
     "name": "stderr",
     "output_type": "stream",
     "text": [
      "\n",
      "18it [00:20,  1.13s/it]"
     ]
    },
    {
     "name": "stdout",
     "output_type": "stream",
     "text": [
      "Loss_G: 0.2838024314906862\\Loss_D_z: 0.052321797236800194\\Loss_D_img: 0.18167157388395733\n",
      "vgg_loss 0.004010241944342852\n",
      "EG_loss 0.07986798137426376\n",
      "fm_loss 0.25021740794181824\n",
      "G_img_loss 3.5447475910186768\n",
      "E_z_loss 3.9897565841674805\n",
      "tv_loss 0.9615277051925659\n",
      "D_cont_loss_fake 0.042063407599925995\n",
      "D_img_loss_input 0.14952513575553894\n",
      "D_img_loss_G 0.06711123883724213\n",
      "End of epoch 305 \t Time Taken: 21.110928535461426 sec\n",
      "\n"
     ]
    },
    {
     "name": "stderr",
     "output_type": "stream",
     "text": [
      "\n",
      "18it [00:20,  1.13s/it]"
     ]
    },
    {
     "name": "stdout",
     "output_type": "stream",
     "text": [
      "Loss_G: 0.2878166404035356\\Loss_D_z: 0.05480584564308325\\Loss_D_img: 0.164299967388312\n",
      "vgg_loss 0.004222898278385401\n",
      "EG_loss 0.08548831939697266\n",
      "fm_loss 0.24145004153251648\n",
      "G_img_loss 3.5267333984375\n",
      "E_z_loss 3.9029171466827393\n",
      "tv_loss 0.984675407409668\n",
      "D_cont_loss_fake 0.03724457323551178\n",
      "D_img_loss_input 0.060458339750766754\n",
      "D_img_loss_G 0.1461513638496399\n",
      "End of epoch 306 \t Time Taken: 20.96042537689209 sec\n",
      "\n"
     ]
    },
    {
     "name": "stderr",
     "output_type": "stream",
     "text": [
      "\n",
      "18it [00:20,  1.13s/it]"
     ]
    },
    {
     "name": "stdout",
     "output_type": "stream",
     "text": [
      "Loss_G: 0.285310341252221\\Loss_D_z: 0.05803021974861622\\Loss_D_img: 0.2458091742462582\n",
      "vgg_loss 0.004086706321686506\n",
      "EG_loss 0.08241285383701324\n",
      "fm_loss 0.2669403553009033\n",
      "G_img_loss 4.439741134643555\n",
      "E_z_loss 3.445335626602173\n",
      "tv_loss 0.9341071844100952\n",
      "D_cont_loss_fake 0.06291792541742325\n",
      "D_img_loss_input 0.21915295720100403\n",
      "D_img_loss_G 0.22116020321846008\n",
      "End of epoch 307 \t Time Taken: 20.981387853622437 sec\n",
      "\n"
     ]
    },
    {
     "name": "stderr",
     "output_type": "stream",
     "text": [
      "\n",
      "18it [00:20,  1.13s/it]"
     ]
    },
    {
     "name": "stdout",
     "output_type": "stream",
     "text": [
      "Loss_G: 0.29003919495476616\\Loss_D_z: 0.058974443624416985\\Loss_D_img: 0.33087187425957787\n",
      "vgg_loss 0.003928624093532562\n",
      "EG_loss 0.08104107528924942\n",
      "fm_loss 0.24136880040168762\n",
      "G_img_loss 4.188748359680176\n",
      "E_z_loss 4.0831170082092285\n",
      "tv_loss 0.9136161804199219\n",
      "D_cont_loss_fake 0.04128734767436981\n",
      "D_img_loss_input 0.11028697341680527\n",
      "D_img_loss_G 0.06935301423072815\n",
      "End of epoch 308 \t Time Taken: 21.05149745941162 sec\n",
      "\n"
     ]
    },
    {
     "name": "stderr",
     "output_type": "stream",
     "text": [
      "\n",
      "18it [00:20,  1.13s/it]"
     ]
    },
    {
     "name": "stdout",
     "output_type": "stream",
     "text": [
      "Loss_G: 0.2802824212445153\\Loss_D_z: 0.04738193274372154\\Loss_D_img: 0.1959609869453642\n",
      "vgg_loss 0.003913302905857563\n",
      "EG_loss 0.07802996039390564\n",
      "fm_loss 0.25207996368408203\n",
      "G_img_loss 3.9607505798339844\n",
      "E_z_loss 3.9414424896240234\n",
      "tv_loss 0.9324617981910706\n",
      "D_cont_loss_fake 0.03835970535874367\n",
      "D_img_loss_input 0.0755639374256134\n",
      "D_img_loss_G 0.05190802365541458\n",
      "End of epoch 309 \t Time Taken: 20.992725610733032 sec\n",
      "\n"
     ]
    },
    {
     "name": "stderr",
     "output_type": "stream",
     "text": [
      "\n",
      "18it [00:20,  1.19s/it]"
     ]
    },
    {
     "name": "stdout",
     "output_type": "stream",
     "text": [
      "Loss_G: 0.28355174097749924\\Loss_D_z: 0.05392260994348261\\Loss_D_img: 0.20477283828788334\n",
      "vgg_loss 0.0040934341959655285\n",
      "EG_loss 0.08330189436674118\n",
      "fm_loss 0.24414873123168945\n",
      "G_img_loss 3.610422134399414\n",
      "E_z_loss 3.4584126472473145\n",
      "tv_loss 0.9384886026382446\n",
      "D_cont_loss_fake 0.044458046555519104\n",
      "D_img_loss_input 0.1039808988571167\n",
      "D_img_loss_G 0.13167445361614227\n",
      "End of epoch 310 \t Time Taken: 21.19995355606079 sec\n",
      "\n"
     ]
    },
    {
     "name": "stderr",
     "output_type": "stream",
     "text": [
      "\n",
      "18it [00:23,  1.27s/it]"
     ]
    },
    {
     "name": "stdout",
     "output_type": "stream",
     "text": [
      "Loss_G: 0.2906924999422497\\Loss_D_z: 0.05435080288185014\\Loss_D_img: 0.26724500126308864\n",
      "vgg_loss 0.004051181487739086\n",
      "EG_loss 0.08593102544546127\n",
      "fm_loss 0.2500447928905487\n",
      "G_img_loss 3.722999095916748\n",
      "E_z_loss 3.724790096282959\n",
      "tv_loss 0.9660085439682007\n",
      "D_cont_loss_fake 0.04347416013479233\n",
      "D_img_loss_input 0.12832991778850555\n",
      "D_img_loss_G 0.07167519629001617\n",
      "End of epoch 311 \t Time Taken: 23.44126844406128 sec\n",
      "\n"
     ]
    },
    {
     "name": "stderr",
     "output_type": "stream",
     "text": [
      "\n",
      "18it [00:23,  1.26s/it]"
     ]
    },
    {
     "name": "stdout",
     "output_type": "stream",
     "text": [
      "Loss_G: 0.28260617951552075\\Loss_D_z: 0.05106780036456055\\Loss_D_img: 0.21480824798345566\n",
      "vgg_loss 0.004024187568575144\n",
      "EG_loss 0.08345695585012436\n",
      "fm_loss 0.24993717670440674\n",
      "G_img_loss 3.5302817821502686\n",
      "E_z_loss 3.7618191242218018\n",
      "tv_loss 0.9269919395446777\n",
      "D_cont_loss_fake 0.031422410160303116\n",
      "D_img_loss_input 0.0445072278380394\n",
      "D_img_loss_G 0.06595978885889053\n",
      "End of epoch 312 \t Time Taken: 23.423470973968506 sec\n",
      "\n"
     ]
    },
    {
     "name": "stderr",
     "output_type": "stream",
     "text": [
      "\n",
      "18it [00:23,  1.27s/it]"
     ]
    },
    {
     "name": "stdout",
     "output_type": "stream",
     "text": [
      "Loss_G: 0.28411198821332717\\Loss_D_z: 0.05785441936718093\\Loss_D_img: 0.18630724317497677\n",
      "vgg_loss 0.0040646689012646675\n",
      "EG_loss 0.08312991261482239\n",
      "fm_loss 0.25862401723861694\n",
      "G_img_loss 4.302316665649414\n",
      "E_z_loss 4.167940139770508\n",
      "tv_loss 0.9991050958633423\n",
      "D_cont_loss_fake 0.05718182399868965\n",
      "D_img_loss_input 0.144624263048172\n",
      "D_img_loss_G 0.04258589446544647\n",
      "End of epoch 313 \t Time Taken: 23.488308906555176 sec\n",
      "\n"
     ]
    },
    {
     "name": "stderr",
     "output_type": "stream",
     "text": [
      "\n",
      "18it [00:22,  1.13s/it]"
     ]
    },
    {
     "name": "stdout",
     "output_type": "stream",
     "text": [
      "Loss_G: 0.28521450857321423\\Loss_D_z: 0.05611231902407275\\Loss_D_img: 0.1666411045524809\n",
      "vgg_loss 0.003973368089646101\n",
      "EG_loss 0.07943948358297348\n",
      "fm_loss 0.24936552345752716\n",
      "G_img_loss 4.171516418457031\n",
      "E_z_loss 4.233088493347168\n",
      "tv_loss 1.0149221420288086\n",
      "D_cont_loss_fake 0.037908896803855896\n",
      "D_img_loss_input 0.09728370606899261\n",
      "D_img_loss_G 0.056500859558582306\n",
      "End of epoch 314 \t Time Taken: 22.404852867126465 sec\n",
      "\n"
     ]
    },
    {
     "name": "stderr",
     "output_type": "stream",
     "text": [
      "\n",
      "18it [00:20,  1.12s/it]"
     ]
    },
    {
     "name": "stdout",
     "output_type": "stream",
     "text": [
      "Loss_G: 0.2909563680489858\\Loss_D_z: 0.04941233495871226\\Loss_D_img: 0.23946692049503326\n",
      "vgg_loss 0.004039705265313387\n",
      "EG_loss 0.08305080235004425\n",
      "fm_loss 0.26038023829460144\n",
      "G_img_loss 4.650684356689453\n",
      "E_z_loss 4.144766807556152\n",
      "tv_loss 0.959617555141449\n",
      "D_cont_loss_fake 0.05133466795086861\n",
      "D_img_loss_input 0.22999992966651917\n",
      "D_img_loss_G 0.03575783595442772\n",
      "End of epoch 315 \t Time Taken: 20.836042642593384 sec\n",
      "\n"
     ]
    },
    {
     "name": "stderr",
     "output_type": "stream",
     "text": [
      "\n",
      "18it [00:20,  1.13s/it]"
     ]
    },
    {
     "name": "stdout",
     "output_type": "stream",
     "text": [
      "Loss_G: 0.28920671840508777\\Loss_D_z: 0.04423241876065731\\Loss_D_img: 0.21802307582563824\n",
      "vgg_loss 0.004022520035505295\n",
      "EG_loss 0.07924317568540573\n",
      "fm_loss 0.24376188218593597\n",
      "G_img_loss 3.918635129928589\n",
      "E_z_loss 4.488125801086426\n",
      "tv_loss 0.9738125205039978\n",
      "D_cont_loss_fake 0.043389152735471725\n",
      "D_img_loss_input 0.09241354465484619\n",
      "D_img_loss_G 0.05957770347595215\n",
      "End of epoch 316 \t Time Taken: 20.934043884277344 sec\n",
      "\n"
     ]
    },
    {
     "name": "stderr",
     "output_type": "stream",
     "text": [
      "\n",
      "18it [00:20,  1.12s/it]"
     ]
    },
    {
     "name": "stdout",
     "output_type": "stream",
     "text": [
      "Loss_G: 0.2822546197308434\\Loss_D_z: 0.04376591762734784\\Loss_D_img: 0.18265840866499478\n",
      "vgg_loss 0.004027939401566982\n",
      "EG_loss 0.07952011376619339\n",
      "fm_loss 0.24688878655433655\n",
      "G_img_loss 3.9794795513153076\n",
      "E_z_loss 3.974071979522705\n",
      "tv_loss 0.9932304620742798\n",
      "D_cont_loss_fake 0.04368697851896286\n",
      "D_img_loss_input 0.12980888783931732\n",
      "D_img_loss_G 0.05831962078809738\n",
      "End of epoch 317 \t Time Taken: 20.879178285598755 sec\n",
      "\n"
     ]
    },
    {
     "name": "stderr",
     "output_type": "stream",
     "text": [
      "\n",
      "18it [00:20,  1.12s/it]"
     ]
    },
    {
     "name": "stdout",
     "output_type": "stream",
     "text": [
      "Loss_G: 0.2883857289950053\\Loss_D_z: 0.038788939722710185\\Loss_D_img: 0.21011897755993736\n",
      "vgg_loss 0.0038541064132004976\n",
      "EG_loss 0.08087772130966187\n",
      "fm_loss 0.24677962064743042\n",
      "G_img_loss 3.545051097869873\n",
      "E_z_loss 4.252617835998535\n",
      "tv_loss 0.9622605443000793\n",
      "D_cont_loss_fake 0.048072025179862976\n",
      "D_img_loss_input 0.058338455855846405\n",
      "D_img_loss_G 0.10531756281852722\n",
      "End of epoch 318 \t Time Taken: 20.82754683494568 sec\n",
      "\n"
     ]
    },
    {
     "name": "stderr",
     "output_type": "stream",
     "text": [
      "\n",
      "18it [00:20,  1.12s/it]"
     ]
    },
    {
     "name": "stdout",
     "output_type": "stream",
     "text": [
      "Loss_G: 0.2883213725354936\\Loss_D_z: 0.04629452402393023\\Loss_D_img: 0.17146062561207348\n",
      "vgg_loss 0.004069661255925894\n",
      "EG_loss 0.08152735233306885\n",
      "fm_loss 0.25044018030166626\n",
      "G_img_loss 4.284719467163086\n",
      "E_z_loss 4.105502128601074\n",
      "tv_loss 0.9921595454216003\n",
      "D_cont_loss_fake 0.04499167576432228\n",
      "D_img_loss_input 0.0999758243560791\n",
      "D_img_loss_G 0.037035904824733734\n",
      "End of epoch 319 \t Time Taken: 20.884863138198853 sec\n",
      "\n"
     ]
    },
    {
     "name": "stderr",
     "output_type": "stream",
     "text": [
      "\n",
      "18it [00:20,  1.12s/it]"
     ]
    },
    {
     "name": "stdout",
     "output_type": "stream",
     "text": [
      "Loss_G: 0.28763360116216874\\Loss_D_z: 0.0418228241097596\\Loss_D_img: 0.1577481267352899\n",
      "vgg_loss 0.0040043932385742664\n",
      "EG_loss 0.08087779581546783\n",
      "fm_loss 0.26374828815460205\n",
      "G_img_loss 3.772552967071533\n",
      "E_z_loss 3.974442958831787\n",
      "tv_loss 1.0408161878585815\n",
      "D_cont_loss_fake 0.037983767688274384\n",
      "D_img_loss_input 0.11253004521131516\n",
      "D_img_loss_G 0.05003763735294342\n",
      "End of epoch 320 \t Time Taken: 20.863593816757202 sec\n",
      "\n"
     ]
    },
    {
     "name": "stderr",
     "output_type": "stream",
     "text": [
      "\n",
      "18it [00:20,  1.13s/it]"
     ]
    },
    {
     "name": "stdout",
     "output_type": "stream",
     "text": [
      "Loss_G: 0.2855735603306029\\Loss_D_z: 0.0431938711553812\\Loss_D_img: 0.15506405466132694\n",
      "vgg_loss 0.004070965573191643\n",
      "EG_loss 0.08154942095279694\n",
      "fm_loss 0.25125354528427124\n",
      "G_img_loss 3.9136953353881836\n",
      "E_z_loss 3.9298722743988037\n",
      "tv_loss 1.032834529876709\n",
      "D_cont_loss_fake 0.033417120575904846\n",
      "D_img_loss_input 0.04136782884597778\n",
      "D_img_loss_G 0.03855220228433609\n",
      "End of epoch 321 \t Time Taken: 20.96095299720764 sec\n",
      "\n"
     ]
    },
    {
     "name": "stderr",
     "output_type": "stream",
     "text": [
      "\n",
      "18it [00:20,  1.13s/it]"
     ]
    },
    {
     "name": "stdout",
     "output_type": "stream",
     "text": [
      "Loss_G: 0.29410335255993736\\Loss_D_z: 0.04144571597377459\\Loss_D_img: 0.18789838171667522\n",
      "vgg_loss 0.004047471564263105\n",
      "EG_loss 0.08259650319814682\n",
      "fm_loss 0.25125396251678467\n",
      "G_img_loss 3.8449833393096924\n",
      "E_z_loss 4.308935642242432\n",
      "tv_loss 0.9187228679656982\n",
      "D_cont_loss_fake 0.03951775282621384\n",
      "D_img_loss_input 0.08493873476982117\n",
      "D_img_loss_G 0.06613699346780777\n",
      "End of epoch 322 \t Time Taken: 20.923872709274292 sec\n",
      "\n"
     ]
    },
    {
     "name": "stderr",
     "output_type": "stream",
     "text": [
      "\n",
      "18it [00:20,  1.12s/it]"
     ]
    },
    {
     "name": "stdout",
     "output_type": "stream",
     "text": [
      "Loss_G: 0.2939879082971149\\Loss_D_z: 0.03928153672152095\\Loss_D_img: 0.1886834212475353\n",
      "vgg_loss 0.0039723278023302555\n",
      "EG_loss 0.08158115297555923\n",
      "fm_loss 0.2508595883846283\n",
      "G_img_loss 3.215198516845703\n",
      "E_z_loss 4.035256385803223\n",
      "tv_loss 1.01737642288208\n",
      "D_cont_loss_fake 0.049608513712882996\n",
      "D_img_loss_input 0.0838879644870758\n",
      "D_img_loss_G 0.2149674892425537\n",
      "End of epoch 323 \t Time Taken: 20.8966703414917 sec\n",
      "\n"
     ]
    },
    {
     "name": "stderr",
     "output_type": "stream",
     "text": [
      "\n",
      "18it [00:20,  1.12s/it]"
     ]
    },
    {
     "name": "stdout",
     "output_type": "stream",
     "text": [
      "Loss_G: 0.28946739269627464\\Loss_D_z: 0.03889014137287935\\Loss_D_img: 0.20048753751648796\n",
      "vgg_loss 0.004075850825756788\n",
      "EG_loss 0.08011350780725479\n",
      "fm_loss 0.24505704641342163\n",
      "G_img_loss 3.635483741760254\n",
      "E_z_loss 4.328217029571533\n",
      "tv_loss 0.9813092350959778\n",
      "D_cont_loss_fake 0.03541813790798187\n",
      "D_img_loss_input 0.031678181141614914\n",
      "D_img_loss_G 0.057162828743457794\n",
      "End of epoch 324 \t Time Taken: 20.901716947555542 sec\n",
      "\n"
     ]
    },
    {
     "name": "stderr",
     "output_type": "stream",
     "text": [
      "\n",
      "18it [00:20,  1.13s/it]"
     ]
    },
    {
     "name": "stdout",
     "output_type": "stream",
     "text": [
      "Loss_G: 0.28466807968086666\\Loss_D_z: 0.0325802866783407\\Loss_D_img: 0.16455244024594626\n",
      "vgg_loss 0.0038951989263296127\n",
      "EG_loss 0.0788678526878357\n",
      "fm_loss 0.2481330931186676\n",
      "G_img_loss 3.989095449447632\n",
      "E_z_loss 4.178144454956055\n",
      "tv_loss 0.9834944009780884\n",
      "D_cont_loss_fake 0.041080210357904434\n",
      "D_img_loss_input 0.0513923205435276\n",
      "D_img_loss_G 0.032924897968769073\n",
      "End of epoch 325 \t Time Taken: 21.024701833724976 sec\n",
      "\n"
     ]
    },
    {
     "name": "stderr",
     "output_type": "stream",
     "text": [
      "\n",
      "18it [00:20,  1.12s/it]"
     ]
    },
    {
     "name": "stdout",
     "output_type": "stream",
     "text": [
      "Loss_G: 0.2893596622678969\\Loss_D_z: 0.03352186321798298\\Loss_D_img: 0.16540870898299748\n",
      "vgg_loss 0.003913171589374542\n",
      "EG_loss 0.07792504876852036\n",
      "fm_loss 0.24183881282806396\n",
      "G_img_loss 3.5723345279693604\n",
      "E_z_loss 4.255023956298828\n",
      "tv_loss 0.9723504781723022\n",
      "D_cont_loss_fake 0.03807663172483444\n",
      "D_img_loss_input 0.051919110119342804\n",
      "D_img_loss_G 0.07331790030002594\n",
      "End of epoch 326 \t Time Taken: 20.919533729553223 sec\n",
      "\n"
     ]
    },
    {
     "name": "stderr",
     "output_type": "stream",
     "text": [
      "\n",
      "18it [00:20,  1.12s/it]"
     ]
    },
    {
     "name": "stdout",
     "output_type": "stream",
     "text": [
      "Loss_G: 0.29315655926863354\\Loss_D_z: 0.03603214936123954\\Loss_D_img: 0.1735562305483553\n",
      "vgg_loss 0.0038622519932687283\n",
      "EG_loss 0.07650618255138397\n",
      "fm_loss 0.25392502546310425\n",
      "G_img_loss 4.252869606018066\n",
      "E_z_loss 4.749843120574951\n",
      "tv_loss 0.9735854864120483\n",
      "D_cont_loss_fake 0.03714260086417198\n",
      "D_img_loss_input 0.06115603446960449\n",
      "D_img_loss_G 0.07015606760978699\n",
      "End of epoch 327 \t Time Taken: 20.86444854736328 sec\n",
      "\n"
     ]
    },
    {
     "name": "stderr",
     "output_type": "stream",
     "text": [
      "\n",
      "18it [00:20,  1.11s/it]"
     ]
    },
    {
     "name": "stdout",
     "output_type": "stream",
     "text": [
      "Loss_G: 0.2904520614279641\\Loss_D_z: 0.03215499139494366\\Loss_D_img: 0.1728739651540915\n",
      "vgg_loss 0.004117839969694614\n",
      "EG_loss 0.08244261145591736\n",
      "fm_loss 0.2613820433616638\n",
      "G_img_loss 4.355603218078613\n",
      "E_z_loss 4.576175212860107\n",
      "tv_loss 0.989010751247406\n",
      "D_cont_loss_fake 0.03841685876250267\n",
      "D_img_loss_input 0.06672356277704239\n",
      "D_img_loss_G 0.04452826827764511\n",
      "End of epoch 328 \t Time Taken: 20.75064468383789 sec\n",
      "\n"
     ]
    },
    {
     "name": "stderr",
     "output_type": "stream",
     "text": [
      "\n",
      "18it [00:20,  1.17s/it]"
     ]
    },
    {
     "name": "stdout",
     "output_type": "stream",
     "text": [
      "Loss_G: 0.2889860024054845\\Loss_D_z: 0.030265817522174783\\Loss_D_img: 0.17117008401287925\n",
      "vgg_loss 0.004025755450129509\n",
      "EG_loss 0.07907100766897202\n",
      "fm_loss 0.2768772840499878\n",
      "G_img_loss 4.805197238922119\n",
      "E_z_loss 4.219708442687988\n",
      "tv_loss 1.0157618522644043\n",
      "D_cont_loss_fake 0.04019779711961746\n",
      "D_img_loss_input 0.3180243670940399\n",
      "D_img_loss_G 0.022034967318177223\n",
      "End of epoch 329 \t Time Taken: 21.045825242996216 sec\n",
      "\n"
     ]
    },
    {
     "name": "stderr",
     "output_type": "stream",
     "text": [
      "\n",
      "18it [00:20,  1.13s/it]"
     ]
    },
    {
     "name": "stdout",
     "output_type": "stream",
     "text": [
      "Loss_G: 0.2921568089061313\\Loss_D_z: 0.03455243901246124\\Loss_D_img: 0.20573384397559696\n",
      "vgg_loss 0.003957662265747786\n",
      "EG_loss 0.07996776700019836\n",
      "fm_loss 0.2516533434391022\n",
      "G_img_loss 4.4404144287109375\n",
      "E_z_loss 4.512333393096924\n",
      "tv_loss 1.0433119535446167\n",
      "D_cont_loss_fake 0.0473184809088707\n",
      "D_img_loss_input 0.2075561285018921\n",
      "D_img_loss_G 0.03481905162334442\n",
      "End of epoch 330 \t Time Taken: 21.011022090911865 sec\n",
      "\n"
     ]
    },
    {
     "name": "stderr",
     "output_type": "stream",
     "text": [
      "\n",
      "18it [00:20,  1.13s/it]"
     ]
    },
    {
     "name": "stdout",
     "output_type": "stream",
     "text": [
      "Loss_G: 0.28937500218550366\\Loss_D_z: 0.03415567148476839\\Loss_D_img: 0.16265133519967398\n",
      "vgg_loss 0.003999372944235802\n",
      "EG_loss 0.078884556889534\n",
      "fm_loss 0.2562263011932373\n",
      "G_img_loss 4.0035223960876465\n",
      "E_z_loss 4.5670976638793945\n",
      "tv_loss 0.9554134607315063\n",
      "D_cont_loss_fake 0.03875308111310005\n",
      "D_img_loss_input 0.06565025448799133\n",
      "D_img_loss_G 0.04984733462333679\n",
      "End of epoch 331 \t Time Taken: 20.953201055526733 sec\n",
      "\n"
     ]
    },
    {
     "name": "stderr",
     "output_type": "stream",
     "text": [
      "\n",
      "18it [00:20,  1.13s/it]"
     ]
    },
    {
     "name": "stdout",
     "output_type": "stream",
     "text": [
      "Loss_G: 0.289453461766243\\Loss_D_z: 0.07568749661246936\\Loss_D_img: 0.1977834506995148\n",
      "vgg_loss 0.00411865534260869\n",
      "EG_loss 0.08119048923254013\n",
      "fm_loss 0.25698745250701904\n",
      "G_img_loss 4.169086456298828\n",
      "E_z_loss 4.126812934875488\n",
      "tv_loss 1.0337978601455688\n",
      "D_cont_loss_fake 0.04146701097488403\n",
      "D_img_loss_input 0.11945201456546783\n",
      "D_img_loss_G 0.08452281355857849\n",
      "End of epoch 332 \t Time Taken: 20.96512007713318 sec\n",
      "\n"
     ]
    },
    {
     "name": "stderr",
     "output_type": "stream",
     "text": [
      "\n",
      "18it [00:20,  1.13s/it]"
     ]
    },
    {
     "name": "stdout",
     "output_type": "stream",
     "text": [
      "Loss_G: 0.2825463381078508\\Loss_D_z: 0.05124973195294539\\Loss_D_img: 0.1824364715980159\n",
      "vgg_loss 0.0039207967929542065\n",
      "EG_loss 0.07675378769636154\n",
      "fm_loss 0.24458110332489014\n",
      "G_img_loss 3.876779317855835\n",
      "E_z_loss 3.958955764770508\n",
      "tv_loss 0.9811356067657471\n",
      "D_cont_loss_fake 0.036037690937519073\n",
      "D_img_loss_input 0.03382487967610359\n",
      "D_img_loss_G 0.04730420932173729\n",
      "End of epoch 333 \t Time Taken: 20.98136258125305 sec\n",
      "\n"
     ]
    },
    {
     "name": "stderr",
     "output_type": "stream",
     "text": [
      "\n",
      "18it [00:20,  1.13s/it]"
     ]
    },
    {
     "name": "stdout",
     "output_type": "stream",
     "text": [
      "Loss_G: 0.28464356230364907\\Loss_D_z: 0.04546698079340988\\Loss_D_img: 0.24165619744194877\n",
      "vgg_loss 0.003874400397762656\n",
      "EG_loss 0.07636982202529907\n",
      "fm_loss 0.2461024820804596\n",
      "G_img_loss 3.851126194000244\n",
      "E_z_loss 4.040640830993652\n",
      "tv_loss 0.9362278580665588\n",
      "D_cont_loss_fake 0.046247296035289764\n",
      "D_img_loss_input 0.09069302678108215\n",
      "D_img_loss_G 0.05143038183450699\n",
      "End of epoch 334 \t Time Taken: 20.977311849594116 sec\n",
      "\n"
     ]
    },
    {
     "name": "stderr",
     "output_type": "stream",
     "text": [
      "\n",
      "18it [00:20,  1.13s/it]"
     ]
    },
    {
     "name": "stdout",
     "output_type": "stream",
     "text": [
      "Loss_G: 0.2880021085341771\\Loss_D_z: 0.03839871763355202\\Loss_D_img: 0.2106147673394945\n",
      "vgg_loss 0.004053417127579451\n",
      "EG_loss 0.07966113090515137\n",
      "fm_loss 0.25734907388687134\n",
      "G_img_loss 4.528136253356934\n",
      "E_z_loss 4.453248023986816\n",
      "tv_loss 0.9797399044036865\n",
      "D_cont_loss_fake 0.0568365715444088\n",
      "D_img_loss_input 0.1403721570968628\n",
      "D_img_loss_G 0.07248000800609589\n",
      "End of epoch 335 \t Time Taken: 20.92826271057129 sec\n",
      "\n"
     ]
    },
    {
     "name": "stderr",
     "output_type": "stream",
     "text": [
      "\n",
      "18it [00:20,  1.13s/it]"
     ]
    },
    {
     "name": "stdout",
     "output_type": "stream",
     "text": [
      "Loss_G: 0.28640344242254895\\Loss_D_z: 0.04352864985250764\\Loss_D_img: 0.18042774208717877\n",
      "vgg_loss 0.004004318732768297\n",
      "EG_loss 0.07907931506633759\n",
      "fm_loss 0.24399106204509735\n",
      "G_img_loss 3.3430263996124268\n",
      "E_z_loss 3.949540138244629\n",
      "tv_loss 1.0151253938674927\n",
      "D_cont_loss_fake 0.04371321201324463\n",
      "D_img_loss_input 0.06365130841732025\n",
      "D_img_loss_G 0.18248909711837769\n",
      "End of epoch 336 \t Time Taken: 20.898963928222656 sec\n",
      "\n"
     ]
    },
    {
     "name": "stderr",
     "output_type": "stream",
     "text": [
      "\n",
      "18it [00:20,  1.13s/it]"
     ]
    },
    {
     "name": "stdout",
     "output_type": "stream",
     "text": [
      "Loss_G: 0.2866743935479058\\Loss_D_z: 0.03798275109794405\\Loss_D_img: 0.18072293202082315\n",
      "vgg_loss 0.0039451406337320805\n",
      "EG_loss 0.0783800482749939\n",
      "fm_loss 0.2618776261806488\n",
      "G_img_loss 4.255749702453613\n",
      "E_z_loss 4.359847068786621\n",
      "tv_loss 0.9341627359390259\n",
      "D_cont_loss_fake 0.03959866613149643\n",
      "D_img_loss_input 0.05744163319468498\n",
      "D_img_loss_G 0.06683224439620972\n",
      "End of epoch 337 \t Time Taken: 20.889028072357178 sec\n",
      "\n"
     ]
    },
    {
     "name": "stderr",
     "output_type": "stream",
     "text": [
      "\n",
      "18it [00:20,  1.14s/it]"
     ]
    },
    {
     "name": "stdout",
     "output_type": "stream",
     "text": [
      "Loss_G: 0.28805701600180733\\Loss_D_z: 0.03621717852850755\\Loss_D_img: 0.15089386949936548\n",
      "vgg_loss 0.003906911239027977\n",
      "EG_loss 0.0815892219543457\n",
      "fm_loss 0.2448386251926422\n",
      "G_img_loss 3.6955370903015137\n",
      "E_z_loss 4.288207054138184\n",
      "tv_loss 1.0396888256072998\n",
      "D_cont_loss_fake 0.03640870004892349\n",
      "D_img_loss_input 0.09337201714515686\n",
      "D_img_loss_G 0.07274307310581207\n",
      "End of epoch 338 \t Time Taken: 20.98136019706726 sec\n",
      "\n"
     ]
    },
    {
     "name": "stderr",
     "output_type": "stream",
     "text": [
      "\n",
      "18it [00:20,  1.13s/it]"
     ]
    },
    {
     "name": "stdout",
     "output_type": "stream",
     "text": [
      "Loss_G: 0.2934526138835483\\Loss_D_z: 0.036875850003626615\\Loss_D_img: 0.18422531709074974\n",
      "vgg_loss 0.004047723952680826\n",
      "EG_loss 0.08164219558238983\n",
      "fm_loss 0.24683406949043274\n",
      "G_img_loss 3.6465299129486084\n",
      "E_z_loss 4.301592826843262\n",
      "tv_loss 0.9770603775978088\n",
      "D_cont_loss_fake 0.04262048378586769\n",
      "D_img_loss_input 0.06084147468209267\n",
      "D_img_loss_G 0.09468090534210205\n",
      "End of epoch 339 \t Time Taken: 20.959444046020508 sec\n",
      "\n"
     ]
    },
    {
     "name": "stderr",
     "output_type": "stream",
     "text": [
      "\n",
      "18it [00:20,  1.14s/it]"
     ]
    },
    {
     "name": "stdout",
     "output_type": "stream",
     "text": [
      "Loss_G: 0.28777477973037296\\Loss_D_z: 0.03523675880084435\\Loss_D_img: 0.23050770825809902\n",
      "vgg_loss 0.0039010755717754364\n",
      "EG_loss 0.07783098518848419\n",
      "fm_loss 0.25320589542388916\n",
      "G_img_loss 3.2360024452209473\n",
      "E_z_loss 4.520505905151367\n",
      "tv_loss 0.9839015007019043\n",
      "D_cont_loss_fake 0.04337592422962189\n",
      "D_img_loss_input 0.03141898661851883\n",
      "D_img_loss_G 0.08037938177585602\n",
      "End of epoch 340 \t Time Taken: 21.00493884086609 sec\n",
      "\n"
     ]
    },
    {
     "name": "stderr",
     "output_type": "stream",
     "text": [
      "\n",
      "18it [00:20,  1.13s/it]"
     ]
    },
    {
     "name": "stdout",
     "output_type": "stream",
     "text": [
      "Loss_G: 0.284879669547081\\Loss_D_z: 0.03327522933897045\\Loss_D_img: 0.17024387419223785\n",
      "vgg_loss 0.004058463033288717\n",
      "EG_loss 0.08443427085876465\n",
      "fm_loss 0.24149508774280548\n",
      "G_img_loss 3.7763826847076416\n",
      "E_z_loss 4.67558479309082\n",
      "tv_loss 1.0383247137069702\n",
      "D_cont_loss_fake 0.043760839849710464\n",
      "D_img_loss_input 0.049250248819589615\n",
      "D_img_loss_G 0.06347833573818207\n",
      "End of epoch 341 \t Time Taken: 21.03934669494629 sec\n",
      "\n"
     ]
    },
    {
     "name": "stderr",
     "output_type": "stream",
     "text": [
      "\n",
      "18it [00:20,  1.13s/it]"
     ]
    },
    {
     "name": "stdout",
     "output_type": "stream",
     "text": [
      "Loss_G: 0.2884661505619685\\Loss_D_z: 0.0392064850570427\\Loss_D_img: 0.15627408565746415\n",
      "vgg_loss 0.004151231609284878\n",
      "EG_loss 0.08156615495681763\n",
      "fm_loss 0.23870733380317688\n",
      "G_img_loss 3.4248228073120117\n",
      "E_z_loss 4.4798583984375\n",
      "tv_loss 1.0561974048614502\n",
      "D_cont_loss_fake 0.06161216273903847\n",
      "D_img_loss_input 0.059780411422252655\n",
      "D_img_loss_G 0.06710502505302429\n",
      "End of epoch 342 \t Time Taken: 20.89693808555603 sec\n",
      "\n"
     ]
    },
    {
     "name": "stderr",
     "output_type": "stream",
     "text": [
      "\n",
      "18it [00:20,  1.12s/it]"
     ]
    },
    {
     "name": "stdout",
     "output_type": "stream",
     "text": [
      "Loss_G: 0.2897187156809701\\Loss_D_z: 0.03536596925308307\\Loss_D_img: 0.22033976018428802\n",
      "vgg_loss 0.003961961716413498\n",
      "EG_loss 0.08205560594797134\n",
      "fm_loss 0.23808908462524414\n",
      "G_img_loss 3.9814298152923584\n",
      "E_z_loss 4.279131889343262\n",
      "tv_loss 0.9822334051132202\n",
      "D_cont_loss_fake 0.042366523295640945\n",
      "D_img_loss_input 0.027322713285684586\n",
      "D_img_loss_G 0.057708989828825\n",
      "End of epoch 343 \t Time Taken: 20.897501468658447 sec\n",
      "\n"
     ]
    },
    {
     "name": "stderr",
     "output_type": "stream",
     "text": [
      "\n",
      "18it [00:20,  1.12s/it]"
     ]
    },
    {
     "name": "stdout",
     "output_type": "stream",
     "text": [
      "Loss_G: 0.2836928019920985\\Loss_D_z: 0.03164021163764927\\Loss_D_img: 0.17422150323788324\n",
      "vgg_loss 0.0038979393430054188\n",
      "EG_loss 0.07638897001743317\n",
      "fm_loss 0.26085910201072693\n",
      "G_img_loss 4.331602096557617\n",
      "E_z_loss 4.575921535491943\n",
      "tv_loss 0.961612343788147\n",
      "D_cont_loss_fake 0.04008423909544945\n",
      "D_img_loss_input 0.10966937243938446\n",
      "D_img_loss_G 0.03588693588972092\n",
      "End of epoch 344 \t Time Taken: 20.80154800415039 sec\n",
      "\n"
     ]
    },
    {
     "name": "stderr",
     "output_type": "stream",
     "text": [
      "\n",
      "18it [00:20,  1.14s/it]"
     ]
    },
    {
     "name": "stdout",
     "output_type": "stream",
     "text": [
      "Loss_G: 0.2885022444857491\\Loss_D_z: 0.0329733942117956\\Loss_D_img: 0.14362899917695257\n",
      "vgg_loss 0.0038825934752821922\n",
      "EG_loss 0.07803899049758911\n",
      "fm_loss 0.27806025743484497\n",
      "G_img_loss 3.9965672492980957\n",
      "E_z_loss 4.488865375518799\n",
      "tv_loss 1.0119757652282715\n",
      "D_cont_loss_fake 0.03570389002561569\n",
      "D_img_loss_input 0.03751879185438156\n",
      "D_img_loss_G 0.04727303981781006\n",
      "End of epoch 345 \t Time Taken: 20.96037530899048 sec\n",
      "\n"
     ]
    },
    {
     "name": "stderr",
     "output_type": "stream",
     "text": [
      "\n",
      "18it [00:20,  1.13s/it]"
     ]
    },
    {
     "name": "stdout",
     "output_type": "stream",
     "text": [
      "Loss_G: 0.28700553874174756\\Loss_D_z: 0.03158429730683565\\Loss_D_img: 0.14478401839733124\n",
      "vgg_loss 0.003968098666518927\n",
      "EG_loss 0.07982760667800903\n",
      "fm_loss 0.2616465091705322\n",
      "G_img_loss 4.4102325439453125\n",
      "E_z_loss 4.516449928283691\n",
      "tv_loss 0.9865286946296692\n",
      "D_cont_loss_fake 0.03728117048740387\n",
      "D_img_loss_input 0.0884552150964737\n",
      "D_img_loss_G 0.027684643864631653\n",
      "End of epoch 346 \t Time Taken: 20.967865228652954 sec\n",
      "\n"
     ]
    },
    {
     "name": "stderr",
     "output_type": "stream",
     "text": [
      "\n",
      "18it [00:20,  1.13s/it]"
     ]
    },
    {
     "name": "stdout",
     "output_type": "stream",
     "text": [
      "Loss_G: 0.29376392397615647\\Loss_D_z: 0.032407085307770304\\Loss_D_img: 0.20682308905654484\n",
      "vgg_loss 0.004101946949958801\n",
      "EG_loss 0.08872826397418976\n",
      "fm_loss 0.24717137217521667\n",
      "G_img_loss 4.10420036315918\n",
      "E_z_loss 4.50514554977417\n",
      "tv_loss 1.0038148164749146\n",
      "D_cont_loss_fake 0.03712618350982666\n",
      "D_img_loss_input 0.04312198981642723\n",
      "D_img_loss_G 0.041221458464860916\n",
      "End of epoch 347 \t Time Taken: 21.039510011672974 sec\n",
      "\n"
     ]
    },
    {
     "name": "stderr",
     "output_type": "stream",
     "text": [
      "\n",
      "18it [00:20,  1.12s/it]"
     ]
    },
    {
     "name": "stdout",
     "output_type": "stream",
     "text": [
      "Loss_G: 0.2864520168966717\\Loss_D_z: 0.029387275274429057\\Loss_D_img: 0.20612922393613392\n",
      "vgg_loss 0.0039365473203361034\n",
      "EG_loss 0.07945440709590912\n",
      "fm_loss 0.24900639057159424\n",
      "G_img_loss 3.6162359714508057\n",
      "E_z_loss 4.583837985992432\n",
      "tv_loss 0.9763434529304504\n",
      "D_cont_loss_fake 0.03285076096653938\n",
      "D_img_loss_input 0.02554987743496895\n",
      "D_img_loss_G 0.08611080050468445\n",
      "End of epoch 348 \t Time Taken: 20.871777057647705 sec\n",
      "\n"
     ]
    },
    {
     "name": "stderr",
     "output_type": "stream",
     "text": [
      "\n",
      "18it [00:20,  1.12s/it]"
     ]
    },
    {
     "name": "stdout",
     "output_type": "stream",
     "text": [
      "Loss_G: 0.29163947535885704\\Loss_D_z: 0.02662173555129104\\Loss_D_img: 0.17398815933201048\n",
      "vgg_loss 0.003932743798941374\n",
      "EG_loss 0.07924794405698776\n",
      "fm_loss 0.2493307888507843\n",
      "G_img_loss 3.906696081161499\n",
      "E_z_loss 4.971508979797363\n",
      "tv_loss 1.020653247833252\n",
      "D_cont_loss_fake 0.04110988229513168\n",
      "D_img_loss_input 0.14431339502334595\n",
      "D_img_loss_G 0.05673861876130104\n",
      "End of epoch 349 \t Time Taken: 20.801117420196533 sec\n",
      "\n"
     ]
    },
    {
     "name": "stderr",
     "output_type": "stream",
     "text": [
      "\n",
      "18it [00:20,  1.14s/it]\n"
     ]
    },
    {
     "name": "stdout",
     "output_type": "stream",
     "text": [
      "Saving the model at the end of epoch 350\n",
      "\n",
      "Loss_G: 0.29129710296789807\\Loss_D_z: 0.03126107890986734\\Loss_D_img: 0.16455570194456312\n",
      "vgg_loss 0.003965938463807106\n",
      "EG_loss 0.08289198577404022\n",
      "fm_loss 0.2509601414203644\n",
      "G_img_loss 3.561087131500244\n",
      "E_z_loss 4.479991912841797\n",
      "tv_loss 0.9974699020385742\n",
      "D_cont_loss_fake 0.03832707554101944\n",
      "D_img_loss_input 0.06283504515886307\n",
      "D_img_loss_G 0.053522758185863495\n",
      "End of epoch 350 \t Time Taken: 21.785526752471924 sec\n",
      "\n"
     ]
    },
    {
     "name": "stderr",
     "output_type": "stream",
     "text": [
      "18it [00:20,  1.14s/it]"
     ]
    },
    {
     "name": "stdout",
     "output_type": "stream",
     "text": [
      "Loss_G: 0.29243739280435777\\Loss_D_z: 0.028005103684133954\\Loss_D_img: 0.16426962779627907\n",
      "vgg_loss 0.004103538580238819\n",
      "EG_loss 0.08073680102825165\n",
      "fm_loss 0.2473907321691513\n",
      "G_img_loss 3.9286715984344482\n",
      "E_z_loss 4.537101745605469\n",
      "tv_loss 1.0135879516601562\n",
      "D_cont_loss_fake 0.049979060888290405\n",
      "D_img_loss_input 0.06611493229866028\n",
      "D_img_loss_G 0.057931747287511826\n",
      "End of epoch 351 \t Time Taken: 21.066923141479492 sec\n",
      "\n"
     ]
    },
    {
     "name": "stderr",
     "output_type": "stream",
     "text": [
      "\n",
      "18it [00:20,  1.13s/it]"
     ]
    },
    {
     "name": "stdout",
     "output_type": "stream",
     "text": [
      "Loss_G: 0.2948269363906648\\Loss_D_z: 0.027452016870180767\\Loss_D_img: 0.22745395203431448\n",
      "vgg_loss 0.003895602421835065\n",
      "EG_loss 0.0796273946762085\n",
      "fm_loss 0.2393273115158081\n",
      "G_img_loss 3.897691011428833\n",
      "E_z_loss 4.575568675994873\n",
      "tv_loss 0.9557392597198486\n",
      "D_cont_loss_fake 0.04914238676428795\n",
      "D_img_loss_input 0.06660039722919464\n",
      "D_img_loss_G 0.08164522051811218\n",
      "End of epoch 352 \t Time Taken: 21.06945538520813 sec\n",
      "\n"
     ]
    },
    {
     "name": "stderr",
     "output_type": "stream",
     "text": [
      "\n",
      "18it [00:20,  1.14s/it]"
     ]
    },
    {
     "name": "stdout",
     "output_type": "stream",
     "text": [
      "Loss_G: 0.2893460707532035\\Loss_D_z: 0.026408618005613487\\Loss_D_img: 0.17593694229920706\n",
      "vgg_loss 0.003935490269213915\n",
      "EG_loss 0.0796390101313591\n",
      "fm_loss 0.2612515091896057\n",
      "G_img_loss 4.386809349060059\n",
      "E_z_loss 4.576263427734375\n",
      "tv_loss 1.024827241897583\n",
      "D_cont_loss_fake 0.04047068580985069\n",
      "D_img_loss_input 0.12140859663486481\n",
      "D_img_loss_G 0.05392279475927353\n",
      "End of epoch 353 \t Time Taken: 21.12034249305725 sec\n",
      "\n"
     ]
    },
    {
     "name": "stderr",
     "output_type": "stream",
     "text": [
      "\n",
      "18it [00:20,  1.14s/it]"
     ]
    },
    {
     "name": "stdout",
     "output_type": "stream",
     "text": [
      "Loss_G: 0.2906132671568129\\Loss_D_z: 0.02546315246986018\\Loss_D_img: 0.15016259791122544\n",
      "vgg_loss 0.003917101304978132\n",
      "EG_loss 0.08041667193174362\n",
      "fm_loss 0.25961020588874817\n",
      "G_img_loss 4.482391357421875\n",
      "E_z_loss 4.8561506271362305\n",
      "tv_loss 0.9732110500335693\n",
      "D_cont_loss_fake 0.03669865056872368\n",
      "D_img_loss_input 0.07438942790031433\n",
      "D_img_loss_G 0.02487405762076378\n",
      "End of epoch 354 \t Time Taken: 21.147581338882446 sec\n",
      "\n"
     ]
    },
    {
     "name": "stderr",
     "output_type": "stream",
     "text": [
      "\n",
      "18it [00:20,  1.13s/it]"
     ]
    },
    {
     "name": "stdout",
     "output_type": "stream",
     "text": [
      "Loss_G: 0.2916361739238103\\Loss_D_z: 0.026610060388015375\\Loss_D_img: 0.16558777830666965\n",
      "vgg_loss 0.003981319256126881\n",
      "EG_loss 0.07897079735994339\n",
      "fm_loss 0.25067126750946045\n",
      "G_img_loss 3.827666759490967\n",
      "E_z_loss 4.259572982788086\n",
      "tv_loss 1.0219253301620483\n",
      "D_cont_loss_fake 0.044902145862579346\n",
      "D_img_loss_input 0.08237378299236298\n",
      "D_img_loss_G 0.06427977979183197\n",
      "End of epoch 355 \t Time Taken: 20.893985748291016 sec\n",
      "\n"
     ]
    },
    {
     "name": "stderr",
     "output_type": "stream",
     "text": [
      "\n",
      "18it [00:20,  1.13s/it]"
     ]
    },
    {
     "name": "stdout",
     "output_type": "stream",
     "text": [
      "Loss_G: 0.29093660248650444\\Loss_D_z: 0.026618577125999663\\Loss_D_img: 0.1872384390897221\n",
      "vgg_loss 0.00403605354949832\n",
      "EG_loss 0.08185713738203049\n",
      "fm_loss 0.2444208562374115\n",
      "G_img_loss 4.212118148803711\n",
      "E_z_loss 5.027033805847168\n",
      "tv_loss 0.9751661419868469\n",
      "D_cont_loss_fake 0.04056132584810257\n",
      "D_img_loss_input 0.05367268621921539\n",
      "D_img_loss_G 0.03881941735744476\n",
      "End of epoch 356 \t Time Taken: 21.028951168060303 sec\n",
      "\n"
     ]
    },
    {
     "name": "stderr",
     "output_type": "stream",
     "text": [
      "\n",
      "18it [00:20,  1.13s/it]"
     ]
    },
    {
     "name": "stdout",
     "output_type": "stream",
     "text": [
      "Loss_G: 0.29207973844475216\\Loss_D_z: 0.025645978334877226\\Loss_D_img: 0.17288471592797172\n",
      "vgg_loss 0.004030292853713036\n",
      "EG_loss 0.08028438687324524\n",
      "fm_loss 0.24292108416557312\n",
      "G_img_loss 3.723299503326416\n",
      "E_z_loss 4.504938125610352\n",
      "tv_loss 0.9643005728721619\n",
      "D_cont_loss_fake 0.04355630651116371\n",
      "D_img_loss_input 0.04982395097613335\n",
      "D_img_loss_G 0.07185932993888855\n",
      "End of epoch 357 \t Time Taken: 21.06270122528076 sec\n",
      "\n"
     ]
    },
    {
     "name": "stderr",
     "output_type": "stream",
     "text": [
      "\n",
      "18it [00:20,  1.13s/it]"
     ]
    },
    {
     "name": "stdout",
     "output_type": "stream",
     "text": [
      "Loss_G: 0.29745712710751426\\Loss_D_z: 0.028032719881998167\\Loss_D_img: 0.15883995882338947\n",
      "vgg_loss 0.0040306588634848595\n",
      "EG_loss 0.08178743720054626\n",
      "fm_loss 0.2513039708137512\n",
      "G_img_loss 3.9405863285064697\n",
      "E_z_loss 4.903086185455322\n",
      "tv_loss 1.0261393785476685\n",
      "D_cont_loss_fake 0.047914862632751465\n",
      "D_img_loss_input 0.07982074469327927\n",
      "D_img_loss_G 0.05074547976255417\n",
      "End of epoch 358 \t Time Taken: 21.03335452079773 sec\n",
      "\n"
     ]
    },
    {
     "name": "stderr",
     "output_type": "stream",
     "text": [
      "\n",
      "18it [00:20,  1.13s/it]"
     ]
    },
    {
     "name": "stdout",
     "output_type": "stream",
     "text": [
      "Loss_G: 0.29962756401962704\\Loss_D_z: 0.024995310232043266\\Loss_D_img: 0.21347829865084755\n",
      "vgg_loss 0.003951191436499357\n",
      "EG_loss 0.08039962500333786\n",
      "fm_loss 0.25023314356803894\n",
      "G_img_loss 4.149211883544922\n",
      "E_z_loss 4.338155746459961\n",
      "tv_loss 0.9509611129760742\n",
      "D_cont_loss_fake 0.06339725106954575\n",
      "D_img_loss_input 0.10333521664142609\n",
      "D_img_loss_G 0.045108526945114136\n",
      "End of epoch 359 \t Time Taken: 20.983071088790894 sec\n",
      "\n"
     ]
    },
    {
     "name": "stderr",
     "output_type": "stream",
     "text": [
      "\n",
      "18it [00:20,  1.14s/it]"
     ]
    },
    {
     "name": "stdout",
     "output_type": "stream",
     "text": [
      "Loss_G: 0.2948292659388648\\Loss_D_z: 0.02407083546535836\\Loss_D_img: 0.19336824036306804\n",
      "vgg_loss 0.003985545597970486\n",
      "EG_loss 0.07967398315668106\n",
      "fm_loss 0.25026893615722656\n",
      "G_img_loss 3.552922248840332\n",
      "E_z_loss 4.932385444641113\n",
      "tv_loss 1.0035508871078491\n",
      "D_cont_loss_fake 0.05083252489566803\n",
      "D_img_loss_input 0.0578562468290329\n",
      "D_img_loss_G 0.13151654601097107\n",
      "End of epoch 360 \t Time Taken: 20.958043813705444 sec\n",
      "\n"
     ]
    },
    {
     "name": "stderr",
     "output_type": "stream",
     "text": [
      "\n",
      "18it [00:20,  1.13s/it]"
     ]
    },
    {
     "name": "stdout",
     "output_type": "stream",
     "text": [
      "Loss_G: 0.2938626988066567\\Loss_D_z: 0.025529386268721685\\Loss_D_img: 0.1448401990864012\n",
      "vgg_loss 0.003940457943826914\n",
      "EG_loss 0.07814457267522812\n",
      "fm_loss 0.2540801763534546\n",
      "G_img_loss 4.388258457183838\n",
      "E_z_loss 4.706131935119629\n",
      "tv_loss 1.0127246379852295\n",
      "D_cont_loss_fake 0.041580408811569214\n",
      "D_img_loss_input 0.07877294719219208\n",
      "D_img_loss_G 0.026767224073410034\n",
      "End of epoch 361 \t Time Taken: 20.93186664581299 sec\n",
      "\n"
     ]
    },
    {
     "name": "stderr",
     "output_type": "stream",
     "text": [
      "\n",
      "18it [00:20,  1.12s/it]"
     ]
    },
    {
     "name": "stdout",
     "output_type": "stream",
     "text": [
      "Loss_G: 0.29141097101900315\\Loss_D_z: 0.024847251466578908\\Loss_D_img: 0.1385152902868059\n",
      "vgg_loss 0.004020674154162407\n",
      "EG_loss 0.08139117062091827\n",
      "fm_loss 0.27288225293159485\n",
      "G_img_loss 4.549895286560059\n",
      "E_z_loss 4.536127090454102\n",
      "tv_loss 1.015683650970459\n",
      "D_cont_loss_fake 0.05216515064239502\n",
      "D_img_loss_input 0.2067318558692932\n",
      "D_img_loss_G 0.032685525715351105\n",
      "End of epoch 362 \t Time Taken: 20.874337911605835 sec\n",
      "\n"
     ]
    },
    {
     "name": "stderr",
     "output_type": "stream",
     "text": [
      "\n",
      "18it [00:20,  1.12s/it]"
     ]
    },
    {
     "name": "stdout",
     "output_type": "stream",
     "text": [
      "Loss_G: 0.29391353329022724\\Loss_D_z: 0.022172042582597997\\Loss_D_img: 0.20356660419040257\n",
      "vgg_loss 0.0038466891273856163\n",
      "EG_loss 0.0764656811952591\n",
      "fm_loss 0.2563284635543823\n",
      "G_img_loss 3.8833770751953125\n",
      "E_z_loss 4.8897528648376465\n",
      "tv_loss 0.9883198142051697\n",
      "D_cont_loss_fake 0.03525553271174431\n",
      "D_img_loss_input 0.0423126220703125\n",
      "D_img_loss_G 0.056524746119976044\n",
      "End of epoch 363 \t Time Taken: 21.036961555480957 sec\n",
      "\n"
     ]
    },
    {
     "name": "stderr",
     "output_type": "stream",
     "text": [
      "\n",
      "18it [00:20,  1.16s/it]"
     ]
    },
    {
     "name": "stdout",
     "output_type": "stream",
     "text": [
      "Loss_G: 0.2939401302072737\\Loss_D_z: 0.022234345372352336\\Loss_D_img: 0.15793699150284132\n",
      "vgg_loss 0.003940103575587273\n",
      "EG_loss 0.08321001380681992\n",
      "fm_loss 0.2432328760623932\n",
      "G_img_loss 3.9112064838409424\n",
      "E_z_loss 4.977205276489258\n",
      "tv_loss 1.0113606452941895\n",
      "D_cont_loss_fake 0.043289173394441605\n",
      "D_img_loss_input 0.07242832332849503\n",
      "D_img_loss_G 0.15914815664291382\n",
      "End of epoch 364 \t Time Taken: 21.060702085494995 sec\n",
      "\n"
     ]
    },
    {
     "name": "stderr",
     "output_type": "stream",
     "text": [
      "\n",
      "18it [00:20,  1.13s/it]"
     ]
    },
    {
     "name": "stdout",
     "output_type": "stream",
     "text": [
      "Loss_G: 0.29178161753548515\\Loss_D_z: 0.024606273302601442\\Loss_D_img: 0.17019441309902403\n",
      "vgg_loss 0.003923479933291674\n",
      "EG_loss 0.07902678847312927\n",
      "fm_loss 0.23835989832878113\n",
      "G_img_loss 3.890448570251465\n",
      "E_z_loss 4.938920497894287\n",
      "tv_loss 1.0294480323791504\n",
      "D_cont_loss_fake 0.040214672684669495\n",
      "D_img_loss_input 0.039429545402526855\n",
      "D_img_loss_G 0.057267654687166214\n",
      "End of epoch 365 \t Time Taken: 20.97126793861389 sec\n",
      "\n"
     ]
    },
    {
     "name": "stderr",
     "output_type": "stream",
     "text": [
      "\n",
      "18it [00:20,  1.14s/it]"
     ]
    },
    {
     "name": "stdout",
     "output_type": "stream",
     "text": [
      "Loss_G: 0.293072630961736\\Loss_D_z: 0.02590850368142128\\Loss_D_img: 0.15266470735271773\n",
      "vgg_loss 0.003958296030759811\n",
      "EG_loss 0.07879361510276794\n",
      "fm_loss 0.256708025932312\n",
      "G_img_loss 3.9341328144073486\n",
      "E_z_loss 4.749575614929199\n",
      "tv_loss 1.0302191972732544\n",
      "D_cont_loss_fake 0.031872041523456573\n",
      "D_img_loss_input 0.021390000358223915\n",
      "D_img_loss_G 0.0499008409678936\n",
      "End of epoch 366 \t Time Taken: 21.113842248916626 sec\n",
      "\n"
     ]
    },
    {
     "name": "stderr",
     "output_type": "stream",
     "text": [
      "\n",
      "18it [00:20,  1.13s/it]"
     ]
    },
    {
     "name": "stdout",
     "output_type": "stream",
     "text": [
      "Loss_G: 0.2959257529841529\\Loss_D_z: 0.022818055003881454\\Loss_D_img: 0.17906879923409885\n",
      "vgg_loss 0.003925363998860121\n",
      "EG_loss 0.07781868427991867\n",
      "fm_loss 0.25540393590927124\n",
      "G_img_loss 4.804495811462402\n",
      "E_z_loss 4.780342102050781\n",
      "tv_loss 1.0394960641860962\n",
      "D_cont_loss_fake 0.04488007351756096\n",
      "D_img_loss_input 0.08204053342342377\n",
      "D_img_loss_G 0.02909623458981514\n",
      "End of epoch 367 \t Time Taken: 21.1192729473114 sec\n",
      "\n"
     ]
    },
    {
     "name": "stderr",
     "output_type": "stream",
     "text": [
      "\n",
      "18it [00:20,  1.14s/it]"
     ]
    },
    {
     "name": "stdout",
     "output_type": "stream",
     "text": [
      "Loss_G: 0.2971388234032525\\Loss_D_z: 0.021025335002276633\\Loss_D_img: 0.17304046700398126\n",
      "vgg_loss 0.003999946638941765\n",
      "EG_loss 0.07943912595510483\n",
      "fm_loss 0.2616257667541504\n",
      "G_img_loss 4.810144424438477\n",
      "E_z_loss 4.740358352661133\n",
      "tv_loss 1.0583758354187012\n",
      "D_cont_loss_fake 0.05056988447904587\n",
      "D_img_loss_input 0.2302604615688324\n",
      "D_img_loss_G 0.042743291705846786\n",
      "End of epoch 368 \t Time Taken: 21.06992483139038 sec\n",
      "\n"
     ]
    },
    {
     "name": "stderr",
     "output_type": "stream",
     "text": [
      "\n",
      "18it [00:20,  1.13s/it]"
     ]
    },
    {
     "name": "stdout",
     "output_type": "stream",
     "text": [
      "Loss_G: 0.2958865728643205\\Loss_D_z: 0.0220544571056962\\Loss_D_img: 0.18735443552335104\n",
      "vgg_loss 0.004062942694872618\n",
      "EG_loss 0.08362583816051483\n",
      "fm_loss 0.2581043839454651\n",
      "G_img_loss 4.438932418823242\n",
      "E_z_loss 4.987346649169922\n",
      "tv_loss 1.0871940851211548\n",
      "D_cont_loss_fake 0.05304861068725586\n",
      "D_img_loss_input 0.10167860239744186\n",
      "D_img_loss_G 0.040128082036972046\n",
      "End of epoch 369 \t Time Taken: 20.907527446746826 sec\n",
      "\n"
     ]
    },
    {
     "name": "stderr",
     "output_type": "stream",
     "text": [
      "\n",
      "18it [00:20,  1.13s/it]"
     ]
    },
    {
     "name": "stdout",
     "output_type": "stream",
     "text": [
      "Loss_G: 0.29108623166879016\\Loss_D_z: 0.024432076037757926\\Loss_D_img: 0.1925029680132866\n",
      "vgg_loss 0.003968686331063509\n",
      "EG_loss 0.07888486236333847\n",
      "fm_loss 0.2580414414405823\n",
      "G_img_loss 4.028871536254883\n",
      "E_z_loss 4.517094612121582\n",
      "tv_loss 0.9928611516952515\n",
      "D_cont_loss_fake 0.03902161866426468\n",
      "D_img_loss_input 0.04068863019347191\n",
      "D_img_loss_G 0.07381690293550491\n",
      "End of epoch 370 \t Time Taken: 20.869163751602173 sec\n",
      "\n"
     ]
    },
    {
     "name": "stderr",
     "output_type": "stream",
     "text": [
      "\n",
      "18it [00:20,  1.13s/it]"
     ]
    },
    {
     "name": "stdout",
     "output_type": "stream",
     "text": [
      "Loss_G: 0.29343052042855156\\Loss_D_z: 0.024695439264178276\\Loss_D_img: 0.2055023784438769\n",
      "vgg_loss 0.004050616640597582\n",
      "EG_loss 0.0792388841509819\n",
      "fm_loss 0.26358556747436523\n",
      "G_img_loss 3.9636917114257812\n",
      "E_z_loss 4.634312152862549\n",
      "tv_loss 0.9452491998672485\n",
      "D_cont_loss_fake 0.04189512878656387\n",
      "D_img_loss_input 0.07210995256900787\n",
      "D_img_loss_G 0.0882173702120781\n",
      "End of epoch 371 \t Time Taken: 20.989557027816772 sec\n",
      "\n"
     ]
    },
    {
     "name": "stderr",
     "output_type": "stream",
     "text": [
      "\n",
      "18it [00:20,  1.13s/it]"
     ]
    },
    {
     "name": "stdout",
     "output_type": "stream",
     "text": [
      "Loss_G: 0.2940777755445904\\Loss_D_z: 0.025302216410636902\\Loss_D_img: 0.18573423971732458\n",
      "vgg_loss 0.003857225878164172\n",
      "EG_loss 0.07963752746582031\n",
      "fm_loss 0.2602202892303467\n",
      "G_img_loss 4.172853469848633\n",
      "E_z_loss 4.917412757873535\n",
      "tv_loss 0.9254311323165894\n",
      "D_cont_loss_fake 0.044974930584430695\n",
      "D_img_loss_input 0.07982694357633591\n",
      "D_img_loss_G 0.04852725565433502\n",
      "End of epoch 372 \t Time Taken: 21.05324935913086 sec\n",
      "\n"
     ]
    },
    {
     "name": "stderr",
     "output_type": "stream",
     "text": [
      "\n",
      "18it [00:20,  1.14s/it]"
     ]
    },
    {
     "name": "stdout",
     "output_type": "stream",
     "text": [
      "Loss_G: 0.293434492415852\\Loss_D_z: 0.03108553785002894\\Loss_D_img: 0.16159817203879356\n",
      "vgg_loss 0.004001908469945192\n",
      "EG_loss 0.08106010407209396\n",
      "fm_loss 0.25152093172073364\n",
      "G_img_loss 4.112675666809082\n",
      "E_z_loss 4.713808059692383\n",
      "tv_loss 1.0093635320663452\n",
      "D_cont_loss_fake 0.04702163115143776\n",
      "D_img_loss_input 0.035145148634910583\n",
      "D_img_loss_G 0.054477758705616\n",
      "End of epoch 373 \t Time Taken: 21.035332918167114 sec\n",
      "\n"
     ]
    },
    {
     "name": "stderr",
     "output_type": "stream",
     "text": [
      "\n",
      "18it [00:20,  1.12s/it]"
     ]
    },
    {
     "name": "stdout",
     "output_type": "stream",
     "text": [
      "Loss_G: 0.29701921343803406\\Loss_D_z: 0.0245118693759044\\Loss_D_img: 0.16906614146298832\n",
      "vgg_loss 0.003897100454196334\n",
      "EG_loss 0.07739844173192978\n",
      "fm_loss 0.2586601674556732\n",
      "G_img_loss 4.250871181488037\n",
      "E_z_loss 4.584742546081543\n",
      "tv_loss 1.0035840272903442\n",
      "D_cont_loss_fake 0.042543381452560425\n",
      "D_img_loss_input 0.06939125061035156\n",
      "D_img_loss_G 0.05448500066995621\n",
      "End of epoch 374 \t Time Taken: 20.973371505737305 sec\n",
      "\n"
     ]
    },
    {
     "name": "stderr",
     "output_type": "stream",
     "text": [
      "\n",
      "18it [00:20,  1.14s/it]"
     ]
    },
    {
     "name": "stdout",
     "output_type": "stream",
     "text": [
      "Loss_G: 0.29365980956289506\\Loss_D_z: 0.024215867639415793\\Loss_D_img: 0.18713736823863453\n",
      "vgg_loss 0.003919095732271671\n",
      "EG_loss 0.07894299924373627\n",
      "fm_loss 0.25300243496894836\n",
      "G_img_loss 3.905399799346924\n",
      "E_z_loss 4.648993492126465\n",
      "tv_loss 0.9196662902832031\n",
      "D_cont_loss_fake 0.04850171506404877\n",
      "D_img_loss_input 0.059270232915878296\n",
      "D_img_loss_G 0.06245128810405731\n",
      "End of epoch 375 \t Time Taken: 21.017606496810913 sec\n",
      "\n"
     ]
    },
    {
     "name": "stderr",
     "output_type": "stream",
     "text": [
      "\n",
      "18it [00:20,  1.12s/it]"
     ]
    },
    {
     "name": "stdout",
     "output_type": "stream",
     "text": [
      "Loss_G: 0.2945829994148678\\Loss_D_z: 0.022218662934998672\\Loss_D_img: 0.18280409855975044\n",
      "vgg_loss 0.0039241984486579895\n",
      "EG_loss 0.07858814299106598\n",
      "fm_loss 0.25796738266944885\n",
      "G_img_loss 3.5094475746154785\n",
      "E_z_loss 4.975363731384277\n",
      "tv_loss 0.9390122294425964\n",
      "D_cont_loss_fake 0.0427536778151989\n",
      "D_img_loss_input 0.03999176621437073\n",
      "D_img_loss_G 0.06614002585411072\n",
      "End of epoch 376 \t Time Taken: 21.13044047355652 sec\n",
      "\n"
     ]
    },
    {
     "name": "stderr",
     "output_type": "stream",
     "text": [
      "\n",
      "18it [00:20,  1.13s/it]"
     ]
    },
    {
     "name": "stdout",
     "output_type": "stream",
     "text": [
      "Loss_G: 0.2929951432678435\\Loss_D_z: 0.021153329664634332\\Loss_D_img: 0.2020407741268476\n",
      "vgg_loss 0.003950232639908791\n",
      "EG_loss 0.07798656076192856\n",
      "fm_loss 0.26070404052734375\n",
      "G_img_loss 3.777092933654785\n",
      "E_z_loss 4.969573974609375\n",
      "tv_loss 0.9671290516853333\n",
      "D_cont_loss_fake 0.034307487308979034\n",
      "D_img_loss_input 0.03168509155511856\n",
      "D_img_loss_G 0.07465758919715881\n",
      "End of epoch 377 \t Time Taken: 20.96051263809204 sec\n",
      "\n"
     ]
    },
    {
     "name": "stderr",
     "output_type": "stream",
     "text": [
      "\n",
      "18it [00:20,  1.13s/it]"
     ]
    },
    {
     "name": "stdout",
     "output_type": "stream",
     "text": [
      "Loss_G: 0.2940619819694095\\Loss_D_z: 0.023755748859710164\\Loss_D_img: 0.18504049628973007\n",
      "vgg_loss 0.003869227832183242\n",
      "EG_loss 0.07724184542894363\n",
      "fm_loss 0.25136464834213257\n",
      "G_img_loss 4.523256301879883\n",
      "E_z_loss 5.146334171295166\n",
      "tv_loss 1.007599949836731\n",
      "D_cont_loss_fake 0.038880057632923126\n",
      "D_img_loss_input 0.08459807932376862\n",
      "D_img_loss_G 0.03805926442146301\n",
      "End of epoch 378 \t Time Taken: 20.928385734558105 sec\n",
      "\n"
     ]
    },
    {
     "name": "stderr",
     "output_type": "stream",
     "text": [
      "\n",
      "18it [00:20,  1.12s/it]"
     ]
    },
    {
     "name": "stdout",
     "output_type": "stream",
     "text": [
      "Loss_G: 0.29117757909827763\\Loss_D_z: 0.02053054515272379\\Loss_D_img: 0.14425572545992005\n",
      "vgg_loss 0.0039050921332091093\n",
      "EG_loss 0.07776953279972076\n",
      "fm_loss 0.2523711323738098\n",
      "G_img_loss 4.393538475036621\n",
      "E_z_loss 4.946425437927246\n",
      "tv_loss 0.9844315052032471\n",
      "D_cont_loss_fake 0.043019797652959824\n",
      "D_img_loss_input 0.07530979812145233\n",
      "D_img_loss_G 0.04467574506998062\n",
      "End of epoch 379 \t Time Taken: 20.864912509918213 sec\n",
      "\n"
     ]
    },
    {
     "name": "stderr",
     "output_type": "stream",
     "text": [
      "\n",
      "18it [00:20,  1.13s/it]"
     ]
    },
    {
     "name": "stdout",
     "output_type": "stream",
     "text": [
      "Loss_G: 0.301154484351476\\Loss_D_z: 0.01986309208182825\\Loss_D_img: 0.13650205441647106\n",
      "vgg_loss 0.004033159930258989\n",
      "EG_loss 0.08120223879814148\n",
      "fm_loss 0.25126200914382935\n",
      "G_img_loss 3.645291328430176\n",
      "E_z_loss 5.243066787719727\n",
      "tv_loss 1.0719385147094727\n",
      "D_cont_loss_fake 0.05013922229409218\n",
      "D_img_loss_input 0.03773846849799156\n",
      "D_img_loss_G 0.06348809599876404\n",
      "End of epoch 380 \t Time Taken: 21.03610110282898 sec\n",
      "\n"
     ]
    },
    {
     "name": "stderr",
     "output_type": "stream",
     "text": [
      "\n",
      "18it [00:20,  1.13s/it]"
     ]
    },
    {
     "name": "stdout",
     "output_type": "stream",
     "text": [
      "Loss_G: 0.2984268714984258\\Loss_D_z: 0.02064096410241392\\Loss_D_img: 0.2765595718390412\n",
      "vgg_loss 0.0038949144072830677\n",
      "EG_loss 0.07542112469673157\n",
      "fm_loss 0.24501699209213257\n",
      "G_img_loss 4.650510787963867\n",
      "E_z_loss 5.194664001464844\n",
      "tv_loss 0.962049663066864\n",
      "D_cont_loss_fake 0.03869800269603729\n",
      "D_img_loss_input 0.1648109406232834\n",
      "D_img_loss_G 0.04850205406546593\n",
      "End of epoch 381 \t Time Taken: 20.989810705184937 sec\n",
      "\n"
     ]
    },
    {
     "name": "stderr",
     "output_type": "stream",
     "text": [
      "\n",
      "18it [00:20,  1.14s/it]"
     ]
    },
    {
     "name": "stdout",
     "output_type": "stream",
     "text": [
      "Loss_G: 0.2953216466638777\\Loss_D_z: 0.018564062244776223\\Loss_D_img: 0.1998415920469496\n",
      "vgg_loss 0.004040503408759832\n",
      "EG_loss 0.08018042892217636\n",
      "fm_loss 0.2442592978477478\n",
      "G_img_loss 4.028369426727295\n",
      "E_z_loss 4.963595867156982\n",
      "tv_loss 1.0234712362289429\n",
      "D_cont_loss_fake 0.05292573571205139\n",
      "D_img_loss_input 0.07974107563495636\n",
      "D_img_loss_G 0.08805692195892334\n",
      "End of epoch 382 \t Time Taken: 21.07219123840332 sec\n",
      "\n"
     ]
    },
    {
     "name": "stderr",
     "output_type": "stream",
     "text": [
      "\n",
      "18it [00:20,  1.13s/it]"
     ]
    },
    {
     "name": "stdout",
     "output_type": "stream",
     "text": [
      "Loss_G: 0.2942370076974233\\Loss_D_z: 0.0189057354711824\\Loss_D_img: 0.22891941252681944\n",
      "vgg_loss 0.003979445435106754\n",
      "EG_loss 0.08662231266498566\n",
      "fm_loss 0.2555822432041168\n",
      "G_img_loss 4.4363508224487305\n",
      "E_z_loss 5.163211822509766\n",
      "tv_loss 1.040703296661377\n",
      "D_cont_loss_fake 0.037208192050457\n",
      "D_img_loss_input 0.04171358793973923\n",
      "D_img_loss_G 0.05420473590493202\n",
      "End of epoch 383 \t Time Taken: 20.939619541168213 sec\n",
      "\n"
     ]
    },
    {
     "name": "stderr",
     "output_type": "stream",
     "text": [
      "\n",
      "18it [00:20,  1.12s/it]"
     ]
    },
    {
     "name": "stdout",
     "output_type": "stream",
     "text": [
      "Loss_G: 0.2860624955760108\\Loss_D_z: 0.04847956096960439\\Loss_D_img: 0.1586152190963427\n",
      "vgg_loss 0.004038140177726746\n",
      "EG_loss 0.08089839667081833\n",
      "fm_loss 0.24381816387176514\n",
      "G_img_loss 3.294534683227539\n",
      "E_z_loss 4.434666633605957\n",
      "tv_loss 0.9792478084564209\n",
      "D_cont_loss_fake 0.03201362118124962\n",
      "D_img_loss_input 0.019350742921233177\n",
      "D_img_loss_G 0.10532958805561066\n",
      "End of epoch 384 \t Time Taken: 20.929922580718994 sec\n",
      "\n"
     ]
    },
    {
     "name": "stderr",
     "output_type": "stream",
     "text": [
      "\n",
      "18it [00:20,  1.13s/it]"
     ]
    },
    {
     "name": "stdout",
     "output_type": "stream",
     "text": [
      "Loss_G: 0.29313641952143776\\Loss_D_z: 0.029180008504125807\\Loss_D_img: 0.1768122994237476\n",
      "vgg_loss 0.004000416025519371\n",
      "EG_loss 0.08469156920909882\n",
      "fm_loss 0.2546652555465698\n",
      "G_img_loss 3.953122854232788\n",
      "E_z_loss 4.6181793212890625\n",
      "tv_loss 1.0670400857925415\n",
      "D_cont_loss_fake 0.04615045338869095\n",
      "D_img_loss_input 0.07729601860046387\n",
      "D_img_loss_G 0.04535498097538948\n",
      "End of epoch 385 \t Time Taken: 20.86607336997986 sec\n",
      "\n"
     ]
    },
    {
     "name": "stderr",
     "output_type": "stream",
     "text": [
      "\n",
      "18it [00:20,  1.14s/it]"
     ]
    },
    {
     "name": "stdout",
     "output_type": "stream",
     "text": [
      "Loss_G: 0.2947763171460893\\Loss_D_z: 0.024769583613508277\\Loss_D_img: 0.16580572682950231\n",
      "vgg_loss 0.0039024080615490675\n",
      "EG_loss 0.07744167745113373\n",
      "fm_loss 0.24994534254074097\n",
      "G_img_loss 4.242539405822754\n",
      "E_z_loss 4.915621757507324\n",
      "tv_loss 1.0164825916290283\n",
      "D_cont_loss_fake 0.03792070224881172\n",
      "D_img_loss_input 0.06757604330778122\n",
      "D_img_loss_G 0.03975311666727066\n",
      "End of epoch 386 \t Time Taken: 20.976511240005493 sec\n",
      "\n"
     ]
    },
    {
     "name": "stderr",
     "output_type": "stream",
     "text": [
      "\n",
      "18it [00:20,  1.13s/it]"
     ]
    },
    {
     "name": "stdout",
     "output_type": "stream",
     "text": [
      "Loss_G: 0.28770051234298283\\Loss_D_z: 0.02446005317485995\\Loss_D_img: 0.18430440252025923\n",
      "vgg_loss 0.0040270742028951645\n",
      "EG_loss 0.07870230823755264\n",
      "fm_loss 0.25021660327911377\n",
      "G_img_loss 4.38507080078125\n",
      "E_z_loss 4.6902923583984375\n",
      "tv_loss 0.9935990571975708\n",
      "D_cont_loss_fake 0.03532055392861366\n",
      "D_img_loss_input 0.07570157945156097\n",
      "D_img_loss_G 0.0632137805223465\n",
      "End of epoch 387 \t Time Taken: 20.99446392059326 sec\n",
      "\n"
     ]
    },
    {
     "name": "stderr",
     "output_type": "stream",
     "text": [
      "\n",
      "18it [00:20,  1.13s/it]"
     ]
    },
    {
     "name": "stdout",
     "output_type": "stream",
     "text": [
      "Loss_G: 0.29414042002624935\\Loss_D_z: 0.02580797185914384\\Loss_D_img: 0.18388531315657827\n",
      "vgg_loss 0.003975647035986185\n",
      "EG_loss 0.07839445024728775\n",
      "fm_loss 0.2537264823913574\n",
      "G_img_loss 4.374820709228516\n",
      "E_z_loss 4.781036376953125\n",
      "tv_loss 0.9767976403236389\n",
      "D_cont_loss_fake 0.03952377289533615\n",
      "D_img_loss_input 0.040999896824359894\n",
      "D_img_loss_G 0.05270852893590927\n",
      "End of epoch 388 \t Time Taken: 21.00738215446472 sec\n",
      "\n"
     ]
    },
    {
     "name": "stderr",
     "output_type": "stream",
     "text": [
      "\n",
      "18it [00:20,  1.14s/it]"
     ]
    },
    {
     "name": "stdout",
     "output_type": "stream",
     "text": [
      "Loss_G: 0.29446803198920357\\Loss_D_z: 0.024111145382954016\\Loss_D_img: 0.15926244772142834\n",
      "vgg_loss 0.004015006124973297\n",
      "EG_loss 0.08307136595249176\n",
      "fm_loss 0.250848650932312\n",
      "G_img_loss 3.7430050373077393\n",
      "E_z_loss 4.716076850891113\n",
      "tv_loss 1.0129618644714355\n",
      "D_cont_loss_fake 0.041202276945114136\n",
      "D_img_loss_input 0.11086887866258621\n",
      "D_img_loss_G 0.08197932690382004\n",
      "End of epoch 389 \t Time Taken: 21.01621150970459 sec\n",
      "\n"
     ]
    },
    {
     "name": "stderr",
     "output_type": "stream",
     "text": [
      "\n",
      "18it [00:20,  1.13s/it]"
     ]
    },
    {
     "name": "stdout",
     "output_type": "stream",
     "text": [
      "Loss_G: 0.29831613931390977\\Loss_D_z: 0.02066135002921025\\Loss_D_img: 0.19804811808798048\n",
      "vgg_loss 0.00397210568189621\n",
      "EG_loss 0.07719561457633972\n",
      "fm_loss 0.24396724998950958\n",
      "G_img_loss 4.752389907836914\n",
      "E_z_loss 4.918309688568115\n",
      "tv_loss 0.9503898620605469\n",
      "D_cont_loss_fake 0.03905944898724556\n",
      "D_img_loss_input 0.1601749062538147\n",
      "D_img_loss_G 0.030231641605496407\n",
      "End of epoch 390 \t Time Taken: 20.899821043014526 sec\n",
      "\n"
     ]
    },
    {
     "name": "stderr",
     "output_type": "stream",
     "text": [
      "\n",
      "18it [00:20,  1.13s/it]"
     ]
    },
    {
     "name": "stdout",
     "output_type": "stream",
     "text": [
      "Loss_G: 0.29376651843388873\\Loss_D_z: 0.020278104684419103\\Loss_D_img: 0.1396917531059848\n",
      "vgg_loss 0.0040236953645944595\n",
      "EG_loss 0.08031222969293594\n",
      "fm_loss 0.24627095460891724\n",
      "G_img_loss 4.075143337249756\n",
      "E_z_loss 4.467548370361328\n",
      "tv_loss 1.0182280540466309\n",
      "D_cont_loss_fake 0.04762820154428482\n",
      "D_img_loss_input 0.03928179293870926\n",
      "D_img_loss_G 0.04973488301038742\n",
      "End of epoch 391 \t Time Taken: 20.928839683532715 sec\n",
      "\n"
     ]
    },
    {
     "name": "stderr",
     "output_type": "stream",
     "text": [
      "\n",
      "18it [00:20,  1.13s/it]"
     ]
    },
    {
     "name": "stdout",
     "output_type": "stream",
     "text": [
      "Loss_G: 0.297720268368721\\Loss_D_z: 0.020942683279928234\\Loss_D_img: 0.14938719529244635\n",
      "vgg_loss 0.004028703086078167\n",
      "EG_loss 0.09054236114025116\n",
      "fm_loss 0.25438350439071655\n",
      "G_img_loss 4.009609222412109\n",
      "E_z_loss 5.196236610412598\n",
      "tv_loss 0.9797725677490234\n",
      "D_cont_loss_fake 0.04984195902943611\n",
      "D_img_loss_input 0.03461720421910286\n",
      "D_img_loss_G 0.059945400804281235\n",
      "End of epoch 392 \t Time Taken: 20.8785138130188 sec\n",
      "\n"
     ]
    },
    {
     "name": "stderr",
     "output_type": "stream",
     "text": [
      "\n",
      "18it [00:20,  1.13s/it]"
     ]
    },
    {
     "name": "stdout",
     "output_type": "stream",
     "text": [
      "Loss_G: 0.29690589010715485\\Loss_D_z: 0.021912509058084752\\Loss_D_img: 0.15919753495189878\n",
      "vgg_loss 0.004049169830977917\n",
      "EG_loss 0.07901717722415924\n",
      "fm_loss 0.2673753499984741\n",
      "G_img_loss 4.2195892333984375\n",
      "E_z_loss 4.676542282104492\n",
      "tv_loss 1.0078781843185425\n",
      "D_cont_loss_fake 0.04020743817090988\n",
      "D_img_loss_input 0.060442108660936356\n",
      "D_img_loss_G 0.06363925337791443\n",
      "End of epoch 393 \t Time Taken: 21.031270265579224 sec\n",
      "\n"
     ]
    },
    {
     "name": "stderr",
     "output_type": "stream",
     "text": [
      "\n",
      "18it [00:20,  1.13s/it]"
     ]
    },
    {
     "name": "stdout",
     "output_type": "stream",
     "text": [
      "Loss_G: 0.2988370143704944\\Loss_D_z: 0.018104302438182965\\Loss_D_img: 0.18148324224683973\n",
      "vgg_loss 0.004003932233899832\n",
      "EG_loss 0.08203020691871643\n",
      "fm_loss 0.26094895601272583\n",
      "G_img_loss 4.026345252990723\n",
      "E_z_loss 4.982651233673096\n",
      "tv_loss 0.996404767036438\n",
      "D_cont_loss_fake 0.03874325752258301\n",
      "D_img_loss_input 0.07939993590116501\n",
      "D_img_loss_G 0.07703644782304764\n",
      "End of epoch 394 \t Time Taken: 20.967739582061768 sec\n",
      "\n"
     ]
    },
    {
     "name": "stderr",
     "output_type": "stream",
     "text": [
      "\n",
      "18it [00:20,  1.13s/it]"
     ]
    },
    {
     "name": "stdout",
     "output_type": "stream",
     "text": [
      "Loss_G: 0.3006024873918957\\Loss_D_z: 0.019477817333406873\\Loss_D_img: 0.22528968999783197\n",
      "vgg_loss 0.0038240819703787565\n",
      "EG_loss 0.07659780234098434\n",
      "fm_loss 0.23969067633152008\n",
      "G_img_loss 4.3231682777404785\n",
      "E_z_loss 5.239832878112793\n",
      "tv_loss 0.943292498588562\n",
      "D_cont_loss_fake 0.030173853039741516\n",
      "D_img_loss_input 0.09912889450788498\n",
      "D_img_loss_G 0.0631803572177887\n",
      "End of epoch 395 \t Time Taken: 20.961661100387573 sec\n",
      "\n"
     ]
    },
    {
     "name": "stderr",
     "output_type": "stream",
     "text": [
      "\n",
      "18it [00:20,  1.14s/it]"
     ]
    },
    {
     "name": "stdout",
     "output_type": "stream",
     "text": [
      "Loss_G: 0.2988924201991823\\Loss_D_z: 0.016201130838857755\\Loss_D_img: 0.16358495338095558\n",
      "vgg_loss 0.003986623603850603\n",
      "EG_loss 0.08023350685834885\n",
      "fm_loss 0.2266646921634674\n",
      "G_img_loss 3.4557883739471436\n",
      "E_z_loss 4.762526512145996\n",
      "tv_loss 0.9861371517181396\n",
      "D_cont_loss_fake 0.028540512546896935\n",
      "D_img_loss_input 0.02532329596579075\n",
      "D_img_loss_G 0.08950221538543701\n",
      "End of epoch 396 \t Time Taken: 21.16038203239441 sec\n",
      "\n"
     ]
    },
    {
     "name": "stderr",
     "output_type": "stream",
     "text": [
      "\n",
      "18it [00:20,  1.12s/it]"
     ]
    },
    {
     "name": "stdout",
     "output_type": "stream",
     "text": [
      "Loss_G: 0.29870323836803436\\Loss_D_z: 0.01628241196481718\\Loss_D_img: 0.17973344027996063\n",
      "vgg_loss 0.003966495394706726\n",
      "EG_loss 0.08367373794317245\n",
      "fm_loss 0.24558688700199127\n",
      "G_img_loss 4.266693115234375\n",
      "E_z_loss 5.093790531158447\n",
      "tv_loss 1.0150489807128906\n",
      "D_cont_loss_fake 0.038916926831007004\n",
      "D_img_loss_input 0.10503989458084106\n",
      "D_img_loss_G 0.06310871243476868\n",
      "End of epoch 397 \t Time Taken: 20.83499813079834 sec\n",
      "\n"
     ]
    },
    {
     "name": "stderr",
     "output_type": "stream",
     "text": [
      "\n",
      "18it [00:20,  1.13s/it]"
     ]
    },
    {
     "name": "stdout",
     "output_type": "stream",
     "text": [
      "Loss_G: 0.3017219768630134\\Loss_D_z: 0.01636413422723611\\Loss_D_img: 0.19132676016953257\n",
      "vgg_loss 0.003962609451264143\n",
      "EG_loss 0.07962572574615479\n",
      "fm_loss 0.2336353361606598\n",
      "G_img_loss 3.0281429290771484\n",
      "E_z_loss 5.333303451538086\n",
      "tv_loss 0.9882345199584961\n",
      "D_cont_loss_fake 0.04699811711907387\n",
      "D_img_loss_input 0.018004272133111954\n",
      "D_img_loss_G 0.2056429088115692\n",
      "End of epoch 398 \t Time Taken: 20.950244903564453 sec\n",
      "\n"
     ]
    },
    {
     "name": "stderr",
     "output_type": "stream",
     "text": [
      "\n",
      "18it [00:20,  1.13s/it]"
     ]
    },
    {
     "name": "stdout",
     "output_type": "stream",
     "text": [
      "Loss_G: 0.29778238634268445\\Loss_D_z: 0.0153588795930975\\Loss_D_img: 0.18353530888756117\n",
      "vgg_loss 0.003932557534426451\n",
      "EG_loss 0.0799839049577713\n",
      "fm_loss 0.24889543652534485\n",
      "G_img_loss 3.546959400177002\n",
      "E_z_loss 5.007833003997803\n",
      "tv_loss 1.0670132637023926\n",
      "D_cont_loss_fake 0.034737467765808105\n",
      "D_img_loss_input 0.055106908082962036\n",
      "D_img_loss_G 0.06980174779891968\n",
      "End of epoch 399 \t Time Taken: 21.010722160339355 sec\n",
      "\n"
     ]
    },
    {
     "name": "stderr",
     "output_type": "stream",
     "text": [
      "\n",
      "18it [00:20,  1.13s/it]\n"
     ]
    },
    {
     "name": "stdout",
     "output_type": "stream",
     "text": [
      "Saving the model at the end of epoch 400\n",
      "\n",
      "Loss_G: 0.299529857105679\\Loss_D_z: 0.015939600093083248\\Loss_D_img: 0.15899419743153784\n",
      "vgg_loss 0.0037968680262565613\n",
      "EG_loss 0.07630345225334167\n",
      "fm_loss 0.2455487996339798\n",
      "G_img_loss 3.989503860473633\n",
      "E_z_loss 5.352062702178955\n",
      "tv_loss 1.0613561868667603\n",
      "D_cont_loss_fake 0.04516078159213066\n",
      "D_img_loss_input 0.05656919628381729\n",
      "D_img_loss_G 0.07845989614725113\n",
      "End of epoch 400 \t Time Taken: 21.79901957511902 sec\n",
      "\n"
     ]
    },
    {
     "name": "stderr",
     "output_type": "stream",
     "text": [
      "18it [00:20,  1.13s/it]"
     ]
    },
    {
     "name": "stdout",
     "output_type": "stream",
     "text": [
      "Loss_G: 0.3000966790649626\\Loss_D_z: 0.015909288958128955\\Loss_D_img: 0.16293390426370832\n",
      "vgg_loss 0.003931819461286068\n",
      "EG_loss 0.07797015458345413\n",
      "fm_loss 0.2580643892288208\n",
      "G_img_loss 4.241127967834473\n",
      "E_z_loss 4.782184600830078\n",
      "tv_loss 1.0203330516815186\n",
      "D_cont_loss_fake 0.0385110042989254\n",
      "D_img_loss_input 0.03006288781762123\n",
      "D_img_loss_G 0.058111272752285004\n",
      "End of epoch 401 \t Time Taken: 21.10459613800049 sec\n",
      "\n"
     ]
    },
    {
     "name": "stderr",
     "output_type": "stream",
     "text": [
      "\n",
      "18it [00:20,  1.13s/it]"
     ]
    },
    {
     "name": "stdout",
     "output_type": "stream",
     "text": [
      "Loss_G: 0.3032052434153027\\Loss_D_z: 0.018732830985552736\\Loss_D_img: 0.16115381361709702\n",
      "vgg_loss 0.003854586509987712\n",
      "EG_loss 0.07837333530187607\n",
      "fm_loss 0.25480276346206665\n",
      "G_img_loss 4.202911376953125\n",
      "E_z_loss 5.021334171295166\n",
      "tv_loss 0.9758952260017395\n",
      "D_cont_loss_fake 0.03676080331206322\n",
      "D_img_loss_input 0.17834340035915375\n",
      "D_img_loss_G 0.05349409207701683\n",
      "End of epoch 402 \t Time Taken: 20.97413396835327 sec\n",
      "\n"
     ]
    },
    {
     "name": "stderr",
     "output_type": "stream",
     "text": [
      "\n",
      "18it [00:20,  1.13s/it]"
     ]
    },
    {
     "name": "stdout",
     "output_type": "stream",
     "text": [
      "Loss_G: 0.2993550697962443\\Loss_D_z: 0.018571329665266804\\Loss_D_img: 0.16159740462899208\n",
      "vgg_loss 0.0039643957279622555\n",
      "EG_loss 0.07906027883291245\n",
      "fm_loss 0.2621852457523346\n",
      "G_img_loss 4.407687664031982\n",
      "E_z_loss 5.0857744216918945\n",
      "tv_loss 1.0186865329742432\n",
      "D_cont_loss_fake 0.040493179112672806\n",
      "D_img_loss_input 0.061054594814777374\n",
      "D_img_loss_G 0.04078235849738121\n",
      "End of epoch 403 \t Time Taken: 20.95981788635254 sec\n",
      "\n"
     ]
    },
    {
     "name": "stderr",
     "output_type": "stream",
     "text": [
      "\n",
      "18it [00:20,  1.13s/it]"
     ]
    },
    {
     "name": "stdout",
     "output_type": "stream",
     "text": [
      "Loss_G: 0.29741497172249687\\Loss_D_z: 0.01926344053612815\\Loss_D_img: 0.15221044710940784\n",
      "vgg_loss 0.003953173756599426\n",
      "EG_loss 0.07923811674118042\n",
      "fm_loss 0.24857211112976074\n",
      "G_img_loss 3.440351963043213\n",
      "E_z_loss 5.073054790496826\n",
      "tv_loss 0.9872743487358093\n",
      "D_cont_loss_fake 0.04446263238787651\n",
      "D_img_loss_input 0.02085370384156704\n",
      "D_img_loss_G 0.14239400625228882\n",
      "End of epoch 404 \t Time Taken: 20.887145042419434 sec\n",
      "\n"
     ]
    },
    {
     "name": "stderr",
     "output_type": "stream",
     "text": [
      "\n",
      "18it [00:20,  1.13s/it]"
     ]
    },
    {
     "name": "stdout",
     "output_type": "stream",
     "text": [
      "Loss_G: 0.2975722700357437\\Loss_D_z: 0.019454230450921588\\Loss_D_img: 0.16476579631368318\n",
      "vgg_loss 0.0039254226721823215\n",
      "EG_loss 0.07844426482915878\n",
      "fm_loss 0.2607995867729187\n",
      "G_img_loss 4.618627548217773\n",
      "E_z_loss 5.328206539154053\n",
      "tv_loss 1.0459542274475098\n",
      "D_cont_loss_fake 0.0474715381860733\n",
      "D_img_loss_input 0.21693742275238037\n",
      "D_img_loss_G 0.02755553647875786\n",
      "End of epoch 405 \t Time Taken: 20.9138503074646 sec\n",
      "\n"
     ]
    },
    {
     "name": "stderr",
     "output_type": "stream",
     "text": [
      "\n",
      "18it [00:20,  1.14s/it]"
     ]
    },
    {
     "name": "stdout",
     "output_type": "stream",
     "text": [
      "Loss_G: 0.2955022321807014\\Loss_D_z: 0.018936434760689735\\Loss_D_img: 0.163492345975505\n",
      "vgg_loss 0.004018767271190882\n",
      "EG_loss 0.08143185079097748\n",
      "fm_loss 0.2648172676563263\n",
      "G_img_loss 4.1266865730285645\n",
      "E_z_loss 5.288112640380859\n",
      "tv_loss 1.0054306983947754\n",
      "D_cont_loss_fake 0.04298260807991028\n",
      "D_img_loss_input 0.06641075015068054\n",
      "D_img_loss_G 0.08280163258314133\n",
      "End of epoch 406 \t Time Taken: 21.03402042388916 sec\n",
      "\n"
     ]
    },
    {
     "name": "stderr",
     "output_type": "stream",
     "text": [
      "\n",
      "18it [00:20,  1.14s/it]"
     ]
    },
    {
     "name": "stdout",
     "output_type": "stream",
     "text": [
      "Loss_G: 0.3039865477217568\\Loss_D_z: 0.018084794696834352\\Loss_D_img: 0.16305340164237553\n",
      "vgg_loss 0.004033566452562809\n",
      "EG_loss 0.07955638319253922\n",
      "fm_loss 0.2524871230125427\n",
      "G_img_loss 3.914057731628418\n",
      "E_z_loss 5.214489936828613\n",
      "tv_loss 0.9993331432342529\n",
      "D_cont_loss_fake 0.04333004355430603\n",
      "D_img_loss_input 0.024461904540657997\n",
      "D_img_loss_G 0.04028335586190224\n",
      "End of epoch 407 \t Time Taken: 20.993481874465942 sec\n",
      "\n"
     ]
    },
    {
     "name": "stderr",
     "output_type": "stream",
     "text": [
      "\n",
      "18it [00:20,  1.15s/it]"
     ]
    },
    {
     "name": "stdout",
     "output_type": "stream",
     "text": [
      "Loss_G: 0.3015173027912776\\Loss_D_z: 0.015822140965610743\\Loss_D_img: 0.15415891839398277\n",
      "vgg_loss 0.004031746182590723\n",
      "EG_loss 0.08168289065361023\n",
      "fm_loss 0.2435339242219925\n",
      "G_img_loss 3.1178083419799805\n",
      "E_z_loss 5.193809509277344\n",
      "tv_loss 1.0257909297943115\n",
      "D_cont_loss_fake 0.045566994696855545\n",
      "D_img_loss_input 0.020462654531002045\n",
      "D_img_loss_G 0.09429526329040527\n",
      "End of epoch 408 \t Time Taken: 21.070337295532227 sec\n",
      "\n"
     ]
    },
    {
     "name": "stderr",
     "output_type": "stream",
     "text": [
      "\n",
      "18it [00:20,  1.15s/it]"
     ]
    },
    {
     "name": "stdout",
     "output_type": "stream",
     "text": [
      "Loss_G: 0.30157556798723006\\Loss_D_z: 0.01961848729600509\\Loss_D_img: 0.15040736024578413\n",
      "vgg_loss 0.0038593909703195095\n",
      "EG_loss 0.07841765880584717\n",
      "fm_loss 0.24954454600811005\n",
      "G_img_loss 4.646005153656006\n",
      "E_z_loss 5.438178539276123\n",
      "tv_loss 0.9953109622001648\n",
      "D_cont_loss_fake 0.04580887034535408\n",
      "D_img_loss_input 0.066036157310009\n",
      "D_img_loss_G 0.05258128046989441\n",
      "End of epoch 409 \t Time Taken: 21.092753887176514 sec\n",
      "\n"
     ]
    },
    {
     "name": "stderr",
     "output_type": "stream",
     "text": [
      "\n",
      "18it [00:20,  1.13s/it]"
     ]
    },
    {
     "name": "stdout",
     "output_type": "stream",
     "text": [
      "Loss_G: 0.30466726587878334\\Loss_D_z: 0.016817294837286074\\Loss_D_img: 0.16208965910805595\n",
      "vgg_loss 0.0039945561438798904\n",
      "EG_loss 0.0847630649805069\n",
      "fm_loss 0.2506868243217468\n",
      "G_img_loss 4.076786994934082\n",
      "E_z_loss 4.953747749328613\n",
      "tv_loss 0.9625754356384277\n",
      "D_cont_loss_fake 0.03963363915681839\n",
      "D_img_loss_input 0.04586783051490784\n",
      "D_img_loss_G 0.07152248173952103\n",
      "End of epoch 410 \t Time Taken: 21.00456142425537 sec\n",
      "\n"
     ]
    },
    {
     "name": "stderr",
     "output_type": "stream",
     "text": [
      "\n",
      "18it [00:20,  1.13s/it]"
     ]
    },
    {
     "name": "stdout",
     "output_type": "stream",
     "text": [
      "Loss_G: 0.3075727555486891\\Loss_D_z: 0.016348327975720167\\Loss_D_img: 0.2253179442551401\n",
      "vgg_loss 0.003944569267332554\n",
      "EG_loss 0.07962804287672043\n",
      "fm_loss 0.2397785782814026\n",
      "G_img_loss 3.8935046195983887\n",
      "E_z_loss 5.370606422424316\n",
      "tv_loss 1.0044968128204346\n",
      "D_cont_loss_fake 0.05337851122021675\n",
      "D_img_loss_input 0.019039813429117203\n",
      "D_img_loss_G 0.1075524091720581\n",
      "End of epoch 411 \t Time Taken: 20.89652705192566 sec\n",
      "\n"
     ]
    },
    {
     "name": "stderr",
     "output_type": "stream",
     "text": [
      "\n",
      "18it [00:20,  1.12s/it]"
     ]
    },
    {
     "name": "stdout",
     "output_type": "stream",
     "text": [
      "Loss_G: 0.30249503089321983\\Loss_D_z: 0.01803752961051133\\Loss_D_img: 0.19275762720240486\n",
      "vgg_loss 0.004044543486088514\n",
      "EG_loss 0.08365899324417114\n",
      "fm_loss 0.2584911584854126\n",
      "G_img_loss 4.796063423156738\n",
      "E_z_loss 5.060513496398926\n",
      "tv_loss 1.022900938987732\n",
      "D_cont_loss_fake 0.04044383391737938\n",
      "D_img_loss_input 0.09543979167938232\n",
      "D_img_loss_G 0.03825601190328598\n",
      "End of epoch 412 \t Time Taken: 20.983017921447754 sec\n",
      "\n"
     ]
    },
    {
     "name": "stderr",
     "output_type": "stream",
     "text": [
      "\n",
      "18it [00:20,  1.13s/it]"
     ]
    },
    {
     "name": "stdout",
     "output_type": "stream",
     "text": [
      "Loss_G: 0.3013156470325258\\Loss_D_z: 0.014026200036621757\\Loss_D_img: 0.15909516563018164\n",
      "vgg_loss 0.003987744450569153\n",
      "EG_loss 0.0832386463880539\n",
      "fm_loss 0.23909224569797516\n",
      "G_img_loss 4.3244171142578125\n",
      "E_z_loss 5.555662155151367\n",
      "tv_loss 1.0337963104248047\n",
      "D_cont_loss_fake 0.048940788954496384\n",
      "D_img_loss_input 0.0583576038479805\n",
      "D_img_loss_G 0.05867806822061539\n",
      "End of epoch 413 \t Time Taken: 20.993083238601685 sec\n",
      "\n"
     ]
    },
    {
     "name": "stderr",
     "output_type": "stream",
     "text": [
      "\n",
      "18it [00:20,  1.13s/it]"
     ]
    },
    {
     "name": "stdout",
     "output_type": "stream",
     "text": [
      "Loss_G: 0.30358728932009804\\Loss_D_z: 0.015363154984596703\\Loss_D_img: 0.18699282656113306\n",
      "vgg_loss 0.00396434310823679\n",
      "EG_loss 0.07927575707435608\n",
      "fm_loss 0.2550885081291199\n",
      "G_img_loss 3.643293857574463\n",
      "E_z_loss 5.788208961486816\n",
      "tv_loss 1.0107795000076294\n",
      "D_cont_loss_fake 0.0489056333899498\n",
      "D_img_loss_input 0.07638590037822723\n",
      "D_img_loss_G 0.089978888630867\n",
      "End of epoch 414 \t Time Taken: 20.993213891983032 sec\n",
      "\n"
     ]
    },
    {
     "name": "stderr",
     "output_type": "stream",
     "text": [
      "\n",
      "18it [00:20,  1.13s/it]"
     ]
    },
    {
     "name": "stdout",
     "output_type": "stream",
     "text": [
      "Loss_G: 0.30189789334932965\\Loss_D_z: 0.013260759309762053\\Loss_D_img: 0.18631794138087165\n",
      "vgg_loss 0.0039282250218093395\n",
      "EG_loss 0.08268558979034424\n",
      "fm_loss 0.2531030476093292\n",
      "G_img_loss 3.862957000732422\n",
      "E_z_loss 5.549421787261963\n",
      "tv_loss 1.027388095855713\n",
      "D_cont_loss_fake 0.04746994003653526\n",
      "D_img_loss_input 0.06314699351787567\n",
      "D_img_loss_G 0.05575253814458847\n",
      "End of epoch 415 \t Time Taken: 20.911298513412476 sec\n",
      "\n"
     ]
    },
    {
     "name": "stderr",
     "output_type": "stream",
     "text": [
      "\n",
      "18it [00:20,  1.12s/it]"
     ]
    },
    {
     "name": "stdout",
     "output_type": "stream",
     "text": [
      "Loss_G: 0.29231306579377914\\Loss_D_z: 0.033775950161119304\\Loss_D_img: 0.17208895749515957\n",
      "vgg_loss 0.003965080250054598\n",
      "EG_loss 0.07825231552124023\n",
      "fm_loss 0.24460101127624512\n",
      "G_img_loss 4.272286891937256\n",
      "E_z_loss 4.684087753295898\n",
      "tv_loss 1.002081274986267\n",
      "D_cont_loss_fake 0.03301387280225754\n",
      "D_img_loss_input 0.060693252831697464\n",
      "D_img_loss_G 0.04277795925736427\n",
      "End of epoch 416 \t Time Taken: 20.979460954666138 sec\n",
      "\n"
     ]
    },
    {
     "name": "stderr",
     "output_type": "stream",
     "text": [
      "\n",
      "18it [00:20,  1.13s/it]"
     ]
    },
    {
     "name": "stdout",
     "output_type": "stream",
     "text": [
      "Loss_G: 0.290097725060251\\Loss_D_z: 0.021816022124969296\\Loss_D_img: 0.1532861536575688\n",
      "vgg_loss 0.004029665607959032\n",
      "EG_loss 0.0798875093460083\n",
      "fm_loss 0.25496965646743774\n",
      "G_img_loss 3.7595458030700684\n",
      "E_z_loss 4.791403770446777\n",
      "tv_loss 1.0093016624450684\n",
      "D_cont_loss_fake 0.03685009852051735\n",
      "D_img_loss_input 0.042856186628341675\n",
      "D_img_loss_G 0.05306413769721985\n",
      "End of epoch 417 \t Time Taken: 20.906642198562622 sec\n",
      "\n"
     ]
    },
    {
     "name": "stderr",
     "output_type": "stream",
     "text": [
      "\n",
      "18it [00:20,  1.13s/it]"
     ]
    },
    {
     "name": "stdout",
     "output_type": "stream",
     "text": [
      "Loss_G: 0.29702243705590564\\Loss_D_z: 0.018155176761663623\\Loss_D_img: 0.17824286388026345\n",
      "vgg_loss 0.003947830758988857\n",
      "EG_loss 0.07733605802059174\n",
      "fm_loss 0.2594541311264038\n",
      "G_img_loss 3.8108134269714355\n",
      "E_z_loss 5.305452823638916\n",
      "tv_loss 0.9675308465957642\n",
      "D_cont_loss_fake 0.051147375255823135\n",
      "D_img_loss_input 0.10331760346889496\n",
      "D_img_loss_G 0.07123810052871704\n",
      "End of epoch 418 \t Time Taken: 20.957189083099365 sec\n",
      "\n"
     ]
    },
    {
     "name": "stderr",
     "output_type": "stream",
     "text": [
      "\n",
      "18it [00:20,  1.13s/it]"
     ]
    },
    {
     "name": "stdout",
     "output_type": "stream",
     "text": [
      "Loss_G: 0.29392262796560925\\Loss_D_z: 0.019199536751127906\\Loss_D_img: 0.2229466579026646\n",
      "vgg_loss 0.0038436739705502987\n",
      "EG_loss 0.07559291273355484\n",
      "fm_loss 0.24461975693702698\n",
      "G_img_loss 4.191923141479492\n",
      "E_z_loss 5.045156478881836\n",
      "tv_loss 0.9375283718109131\n",
      "D_cont_loss_fake 0.03615356981754303\n",
      "D_img_loss_input 0.06742168217897415\n",
      "D_img_loss_G 0.047679197043180466\n",
      "End of epoch 419 \t Time Taken: 20.98380994796753 sec\n",
      "\n"
     ]
    },
    {
     "name": "stderr",
     "output_type": "stream",
     "text": [
      "\n",
      "18it [00:20,  1.13s/it]"
     ]
    },
    {
     "name": "stdout",
     "output_type": "stream",
     "text": [
      "Loss_G: 0.29774749444590676\\Loss_D_z: 0.019626703734199207\\Loss_D_img: 0.18445370180739296\n",
      "vgg_loss 0.0038959658704698086\n",
      "EG_loss 0.07701581716537476\n",
      "fm_loss 0.24832884967327118\n",
      "G_img_loss 4.417025089263916\n",
      "E_z_loss 4.980660438537598\n",
      "tv_loss 0.9988307356834412\n",
      "D_cont_loss_fake 0.03754013404250145\n",
      "D_img_loss_input 0.04509672522544861\n",
      "D_img_loss_G 0.05157767981290817\n",
      "End of epoch 420 \t Time Taken: 20.982608556747437 sec\n",
      "\n"
     ]
    },
    {
     "name": "stderr",
     "output_type": "stream",
     "text": [
      "\n",
      "18it [00:20,  1.13s/it]"
     ]
    },
    {
     "name": "stdout",
     "output_type": "stream",
     "text": [
      "Loss_G: 0.295130365424686\\Loss_D_z: 0.019974431126481958\\Loss_D_img: 0.16994362821181616\n",
      "vgg_loss 0.0038744399789720774\n",
      "EG_loss 0.07645728439092636\n",
      "fm_loss 0.2552598714828491\n",
      "G_img_loss 4.323923587799072\n",
      "E_z_loss 5.019052505493164\n",
      "tv_loss 0.992390513420105\n",
      "D_cont_loss_fake 0.03635188564658165\n",
      "D_img_loss_input 0.058400895446538925\n",
      "D_img_loss_G 0.05978082865476608\n",
      "End of epoch 421 \t Time Taken: 20.890153884887695 sec\n",
      "\n"
     ]
    },
    {
     "name": "stderr",
     "output_type": "stream",
     "text": [
      "\n",
      "18it [00:20,  1.13s/it]"
     ]
    },
    {
     "name": "stdout",
     "output_type": "stream",
     "text": [
      "Loss_G: 0.2938462247451146\\Loss_D_z: 0.017031540887223348\\Loss_D_img: 0.15874152961704466\n",
      "vgg_loss 0.003912732005119324\n",
      "EG_loss 0.07632550597190857\n",
      "fm_loss 0.24610820412635803\n",
      "G_img_loss 3.526075839996338\n",
      "E_z_loss 5.117438316345215\n",
      "tv_loss 1.0248973369598389\n",
      "D_cont_loss_fake 0.044241294264793396\n",
      "D_img_loss_input 0.025388002395629883\n",
      "D_img_loss_G 0.137973815202713\n",
      "End of epoch 422 \t Time Taken: 21.011808156967163 sec\n",
      "\n"
     ]
    },
    {
     "name": "stderr",
     "output_type": "stream",
     "text": [
      "\n",
      "18it [00:20,  1.13s/it]"
     ]
    },
    {
     "name": "stdout",
     "output_type": "stream",
     "text": [
      "Loss_G: 0.30108097030056846\\Loss_D_z: 0.015545822421295775\\Loss_D_img: 0.16633732616901398\n",
      "vgg_loss 0.0037924281787127256\n",
      "EG_loss 0.07523192465305328\n",
      "fm_loss 0.2560552954673767\n",
      "G_img_loss 4.627804756164551\n",
      "E_z_loss 5.493594646453857\n",
      "tv_loss 0.9901097416877747\n",
      "D_cont_loss_fake 0.03331415727734566\n",
      "D_img_loss_input 0.060071177780628204\n",
      "D_img_loss_G 0.03763078153133392\n",
      "End of epoch 423 \t Time Taken: 20.953917741775513 sec\n",
      "\n"
     ]
    },
    {
     "name": "stderr",
     "output_type": "stream",
     "text": [
      "\n",
      "18it [00:20,  1.13s/it]"
     ]
    },
    {
     "name": "stdout",
     "output_type": "stream",
     "text": [
      "Loss_G: 0.29988806943098706\\Loss_D_z: 0.015554204841868745\\Loss_D_img: 0.15845228441887432\n",
      "vgg_loss 0.0038893423043191433\n",
      "EG_loss 0.07701674103736877\n",
      "fm_loss 0.2797504663467407\n",
      "G_img_loss 4.755969524383545\n",
      "E_z_loss 5.301027297973633\n",
      "tv_loss 0.964759111404419\n",
      "D_cont_loss_fake 0.051790595054626465\n",
      "D_img_loss_input 0.07458947598934174\n",
      "D_img_loss_G 0.03168398514389992\n",
      "End of epoch 424 \t Time Taken: 20.93409514427185 sec\n",
      "\n"
     ]
    },
    {
     "name": "stderr",
     "output_type": "stream",
     "text": [
      "\n",
      "18it [00:20,  1.13s/it]"
     ]
    },
    {
     "name": "stdout",
     "output_type": "stream",
     "text": [
      "Loss_G: 0.2994700007968479\\Loss_D_z: 0.015330346559898721\\Loss_D_img: 0.16603298526671198\n",
      "vgg_loss 0.003906579222530127\n",
      "EG_loss 0.07671497762203217\n",
      "fm_loss 0.2411639541387558\n",
      "G_img_loss 3.201636791229248\n",
      "E_z_loss 5.174209117889404\n",
      "tv_loss 1.0344343185424805\n",
      "D_cont_loss_fake 0.03649376705288887\n",
      "D_img_loss_input 0.031097617000341415\n",
      "D_img_loss_G 0.13371548056602478\n",
      "End of epoch 425 \t Time Taken: 20.957289695739746 sec\n",
      "\n"
     ]
    },
    {
     "name": "stderr",
     "output_type": "stream",
     "text": [
      "\n",
      "18it [00:20,  1.14s/it]"
     ]
    },
    {
     "name": "stdout",
     "output_type": "stream",
     "text": [
      "Loss_G: 0.29974554147985244\\Loss_D_z: 0.01429894452707635\\Loss_D_img: 0.162572234041161\n",
      "vgg_loss 0.003976284526288509\n",
      "EG_loss 0.0790933221578598\n",
      "fm_loss 0.25890737771987915\n",
      "G_img_loss 4.838608741760254\n",
      "E_z_loss 5.169963836669922\n",
      "tv_loss 0.9864462614059448\n",
      "D_cont_loss_fake 0.03720796853303909\n",
      "D_img_loss_input 0.1202719435095787\n",
      "D_img_loss_G 0.037387505173683167\n",
      "End of epoch 426 \t Time Taken: 21.167431831359863 sec\n",
      "\n"
     ]
    },
    {
     "name": "stderr",
     "output_type": "stream",
     "text": [
      "\n",
      "18it [00:20,  1.14s/it]"
     ]
    },
    {
     "name": "stdout",
     "output_type": "stream",
     "text": [
      "Loss_G: 0.3026543805996577\\Loss_D_z: 0.01378298850937022\\Loss_D_img: 0.16144338415728676\n",
      "vgg_loss 0.0038559935055673122\n",
      "EG_loss 0.07645952701568604\n",
      "fm_loss 0.24971672892570496\n",
      "G_img_loss 4.208928108215332\n",
      "E_z_loss 5.416568279266357\n",
      "tv_loss 0.9998806118965149\n",
      "D_cont_loss_fake 0.03361383453011513\n",
      "D_img_loss_input 0.021750496700406075\n",
      "D_img_loss_G 0.056832633912563324\n",
      "End of epoch 427 \t Time Taken: 21.099183797836304 sec\n",
      "\n"
     ]
    },
    {
     "name": "stderr",
     "output_type": "stream",
     "text": [
      "\n",
      "18it [00:20,  1.12s/it]"
     ]
    },
    {
     "name": "stdout",
     "output_type": "stream",
     "text": [
      "Loss_G: 0.30209555559688145\\Loss_D_z: 0.012850477877590392\\Loss_D_img: 0.15787319135334757\n",
      "vgg_loss 0.0037987628020346165\n",
      "EG_loss 0.08061759173870087\n",
      "fm_loss 0.2589990198612213\n",
      "G_img_loss 4.047689914703369\n",
      "E_z_loss 5.4246063232421875\n",
      "tv_loss 0.9554582238197327\n",
      "D_cont_loss_fake 0.03981827199459076\n",
      "D_img_loss_input 0.12816724181175232\n",
      "D_img_loss_G 0.04138178378343582\n",
      "End of epoch 428 \t Time Taken: 20.892552852630615 sec\n",
      "\n"
     ]
    },
    {
     "name": "stderr",
     "output_type": "stream",
     "text": [
      "\n",
      "18it [00:20,  1.13s/it]"
     ]
    },
    {
     "name": "stdout",
     "output_type": "stream",
     "text": [
      "Loss_G: 0.3028770105706321\\Loss_D_z: 0.012595032134817706\\Loss_D_img: 0.14686438937981924\n",
      "vgg_loss 0.003836382180452347\n",
      "EG_loss 0.07750684767961502\n",
      "fm_loss 0.2605245113372803\n",
      "G_img_loss 4.391454696655273\n",
      "E_z_loss 4.883759498596191\n",
      "tv_loss 0.9796361923217773\n",
      "D_cont_loss_fake 0.03626701980829239\n",
      "D_img_loss_input 0.05202276632189751\n",
      "D_img_loss_G 0.05304880440235138\n",
      "End of epoch 429 \t Time Taken: 21.023456573486328 sec\n",
      "\n"
     ]
    },
    {
     "name": "stderr",
     "output_type": "stream",
     "text": [
      "\n",
      "18it [00:20,  1.13s/it]"
     ]
    },
    {
     "name": "stdout",
     "output_type": "stream",
     "text": [
      "Loss_G: 0.2981601175334718\\Loss_D_z: 0.01376971478263537\\Loss_D_img: 0.17141880757278866\n",
      "vgg_loss 0.0038695954717695713\n",
      "EG_loss 0.07716238498687744\n",
      "fm_loss 0.24308067560195923\n",
      "G_img_loss 4.248476028442383\n",
      "E_z_loss 5.777891159057617\n",
      "tv_loss 1.0008127689361572\n",
      "D_cont_loss_fake 0.0359632670879364\n",
      "D_img_loss_input 0.03168223053216934\n",
      "D_img_loss_G 0.04920985922217369\n",
      "End of epoch 430 \t Time Taken: 21.062414407730103 sec\n",
      "\n"
     ]
    },
    {
     "name": "stderr",
     "output_type": "stream",
     "text": [
      "\n",
      "18it [00:20,  1.13s/it]"
     ]
    },
    {
     "name": "stdout",
     "output_type": "stream",
     "text": [
      "Loss_G: 0.303318558467759\\Loss_D_z: 0.013020767364650965\\Loss_D_img: 0.15778563006056678\n",
      "vgg_loss 0.004042413085699081\n",
      "EG_loss 0.08333786576986313\n",
      "fm_loss 0.26420292258262634\n",
      "G_img_loss 4.8795857429504395\n",
      "E_z_loss 5.377260208129883\n",
      "tv_loss 0.9708118438720703\n",
      "D_cont_loss_fake 0.03480299189686775\n",
      "D_img_loss_input 0.04873386025428772\n",
      "D_img_loss_G 0.0342680923640728\n",
      "End of epoch 431 \t Time Taken: 21.014760732650757 sec\n",
      "\n"
     ]
    },
    {
     "name": "stderr",
     "output_type": "stream",
     "text": [
      "\n",
      "18it [00:20,  1.14s/it]"
     ]
    },
    {
     "name": "stdout",
     "output_type": "stream",
     "text": [
      "Loss_G: 0.30444639755619896\\Loss_D_z: 0.013316894415766\\Loss_D_img: 0.17434049604667556\n",
      "vgg_loss 0.0038964254781603813\n",
      "EG_loss 0.07572485506534576\n",
      "fm_loss 0.24848687648773193\n",
      "G_img_loss 4.067617416381836\n",
      "E_z_loss 5.478588581085205\n",
      "tv_loss 0.9983528256416321\n",
      "D_cont_loss_fake 0.03260562941431999\n",
      "D_img_loss_input 0.04854726791381836\n",
      "D_img_loss_G 0.04979969561100006\n",
      "End of epoch 432 \t Time Taken: 21.00520420074463 sec\n",
      "\n"
     ]
    },
    {
     "name": "stderr",
     "output_type": "stream",
     "text": [
      "\n",
      "18it [00:20,  1.13s/it]"
     ]
    },
    {
     "name": "stdout",
     "output_type": "stream",
     "text": [
      "Loss_G: 0.30094136628839707\\Loss_D_z: 0.011957061994406912\\Loss_D_img: 0.18354394245478842\n",
      "vgg_loss 0.003945970442146063\n",
      "EG_loss 0.07841171324253082\n",
      "fm_loss 0.25243404507637024\n",
      "G_img_loss 4.607747554779053\n",
      "E_z_loss 5.543862342834473\n",
      "tv_loss 1.019241213798523\n",
      "D_cont_loss_fake 0.04141577333211899\n",
      "D_img_loss_input 0.03641180694103241\n",
      "D_img_loss_G 0.0287309642881155\n",
      "End of epoch 433 \t Time Taken: 20.969209671020508 sec\n",
      "\n"
     ]
    },
    {
     "name": "stderr",
     "output_type": "stream",
     "text": [
      "\n",
      "18it [00:20,  1.13s/it]"
     ]
    },
    {
     "name": "stdout",
     "output_type": "stream",
     "text": [
      "Loss_G: 0.3022817042138841\\Loss_D_z: 0.012776404670957062\\Loss_D_img: 0.15984473667211002\n",
      "vgg_loss 0.003922856412827969\n",
      "EG_loss 0.07764655351638794\n",
      "fm_loss 0.25941210985183716\n",
      "G_img_loss 4.865231513977051\n",
      "E_z_loss 5.471351623535156\n",
      "tv_loss 1.0064125061035156\n",
      "D_cont_loss_fake 0.029358036816120148\n",
      "D_img_loss_input 0.04778949171304703\n",
      "D_img_loss_G 0.023584138602018356\n",
      "End of epoch 434 \t Time Taken: 20.985897302627563 sec\n",
      "\n"
     ]
    },
    {
     "name": "stderr",
     "output_type": "stream",
     "text": [
      "\n",
      "18it [00:20,  1.12s/it]"
     ]
    },
    {
     "name": "stdout",
     "output_type": "stream",
     "text": [
      "Loss_G: 0.29659633835156757\\Loss_D_z: 0.012221024992565313\\Loss_D_img: 0.17181644961237907\n",
      "vgg_loss 0.0038492961321026087\n",
      "EG_loss 0.07536204904317856\n",
      "fm_loss 0.24766558408737183\n",
      "G_img_loss 4.74739933013916\n",
      "E_z_loss 5.092063903808594\n",
      "tv_loss 1.0076985359191895\n",
      "D_cont_loss_fake 0.0426124669611454\n",
      "D_img_loss_input 0.08185137808322906\n",
      "D_img_loss_G 0.047289974987506866\n",
      "End of epoch 435 \t Time Taken: 20.96674871444702 sec\n",
      "\n"
     ]
    },
    {
     "name": "stderr",
     "output_type": "stream",
     "text": [
      "\n",
      "18it [00:20,  1.13s/it]"
     ]
    },
    {
     "name": "stdout",
     "output_type": "stream",
     "text": [
      "Loss_G: 0.3032853785488341\\Loss_D_z: 0.012329626517991224\\Loss_D_img: 0.14492967600623766\n",
      "vgg_loss 0.003792139235883951\n",
      "EG_loss 0.08077292889356613\n",
      "fm_loss 0.25340574979782104\n",
      "G_img_loss 3.8533389568328857\n",
      "E_z_loss 5.477551460266113\n",
      "tv_loss 0.9791914224624634\n",
      "D_cont_loss_fake 0.038965336978435516\n",
      "D_img_loss_input 0.07806015014648438\n",
      "D_img_loss_G 0.09843051433563232\n",
      "End of epoch 436 \t Time Taken: 20.998269081115723 sec\n",
      "\n"
     ]
    },
    {
     "name": "stderr",
     "output_type": "stream",
     "text": [
      "\n",
      "18it [00:20,  1.12s/it]"
     ]
    },
    {
     "name": "stdout",
     "output_type": "stream",
     "text": [
      "Loss_G: 0.300757250852055\\Loss_D_z: 0.010321355890482664\\Loss_D_img: 0.14436436568697295\n",
      "vgg_loss 0.003894237568601966\n",
      "EG_loss 0.07639329135417938\n",
      "fm_loss 0.2729869484901428\n",
      "G_img_loss 4.558582305908203\n",
      "E_z_loss 5.895280838012695\n",
      "tv_loss 0.9509340524673462\n",
      "D_cont_loss_fake 0.04113209992647171\n",
      "D_img_loss_input 0.037242352962493896\n",
      "D_img_loss_G 0.03072512149810791\n",
      "End of epoch 437 \t Time Taken: 20.94008207321167 sec\n",
      "\n"
     ]
    },
    {
     "name": "stderr",
     "output_type": "stream",
     "text": [
      "\n",
      "18it [00:20,  1.13s/it]"
     ]
    },
    {
     "name": "stdout",
     "output_type": "stream",
     "text": [
      "Loss_G: 0.3046080585983064\\Loss_D_z: 0.011011833428508706\\Loss_D_img: 0.1964950573941072\n",
      "vgg_loss 0.003813308896496892\n",
      "EG_loss 0.08308596163988113\n",
      "fm_loss 0.2689150273799896\n",
      "G_img_loss 5.102042198181152\n",
      "E_z_loss 5.882934093475342\n",
      "tv_loss 0.9818989634513855\n",
      "D_cont_loss_fake 0.04241634160280228\n",
      "D_img_loss_input 0.12459621578454971\n",
      "D_img_loss_G 0.03332747519016266\n",
      "End of epoch 438 \t Time Taken: 20.918131589889526 sec\n",
      "\n"
     ]
    },
    {
     "name": "stderr",
     "output_type": "stream",
     "text": [
      "\n",
      "18it [00:20,  1.14s/it]"
     ]
    },
    {
     "name": "stdout",
     "output_type": "stream",
     "text": [
      "Loss_G: 0.2970420519510905\\Loss_D_z: 0.010341500087330738\\Loss_D_img: 0.1758159887459543\n",
      "vgg_loss 0.00383972586132586\n",
      "EG_loss 0.07511827349662781\n",
      "fm_loss 0.25700220465660095\n",
      "G_img_loss 3.9668147563934326\n",
      "E_z_loss 5.849131107330322\n",
      "tv_loss 1.0190258026123047\n",
      "D_cont_loss_fake 0.04689902439713478\n",
      "D_img_loss_input 0.11399473249912262\n",
      "D_img_loss_G 0.07602573931217194\n",
      "End of epoch 439 \t Time Taken: 21.21835231781006 sec\n",
      "\n"
     ]
    },
    {
     "name": "stderr",
     "output_type": "stream",
     "text": [
      "\n",
      "18it [00:20,  1.13s/it]"
     ]
    },
    {
     "name": "stdout",
     "output_type": "stream",
     "text": [
      "Loss_G: 0.2995864881409539\\Loss_D_z: 0.010012124665081501\\Loss_D_img: 0.17454417629374397\n",
      "vgg_loss 0.0038913963362574577\n",
      "EG_loss 0.07578347623348236\n",
      "fm_loss 0.25011399388313293\n",
      "G_img_loss 4.8481316566467285\n",
      "E_z_loss 5.671992301940918\n",
      "tv_loss 0.9432080984115601\n",
      "D_cont_loss_fake 0.04634029418230057\n",
      "D_img_loss_input 0.09770753979682922\n",
      "D_img_loss_G 0.02371678501367569\n",
      "End of epoch 440 \t Time Taken: 21.07890748977661 sec\n",
      "\n"
     ]
    },
    {
     "name": "stderr",
     "output_type": "stream",
     "text": [
      "\n",
      "18it [00:20,  1.14s/it]"
     ]
    },
    {
     "name": "stdout",
     "output_type": "stream",
     "text": [
      "Loss_G: 0.30176712407006157\\Loss_D_z: 0.011500891556756364\\Loss_D_img: 0.15700508116020095\n",
      "vgg_loss 0.0038206700701266527\n",
      "EG_loss 0.07597701251506805\n",
      "fm_loss 0.25842607021331787\n",
      "G_img_loss 4.911977291107178\n",
      "E_z_loss 5.691720962524414\n",
      "tv_loss 0.9947454929351807\n",
      "D_cont_loss_fake 0.029480280354619026\n",
      "D_img_loss_input 0.056334272027015686\n",
      "D_img_loss_G 0.025497902184724808\n",
      "End of epoch 441 \t Time Taken: 20.972431182861328 sec\n",
      "\n"
     ]
    },
    {
     "name": "stderr",
     "output_type": "stream",
     "text": [
      "\n",
      "18it [00:20,  1.12s/it]"
     ]
    },
    {
     "name": "stdout",
     "output_type": "stream",
     "text": [
      "Loss_G: 0.30120080875025856\\Loss_D_z: 0.01129887118521664\\Loss_D_img: 0.2164034363296297\n",
      "vgg_loss 0.003924565855413675\n",
      "EG_loss 0.07672759890556335\n",
      "fm_loss 0.25602126121520996\n",
      "G_img_loss 4.105319976806641\n",
      "E_z_loss 5.611405849456787\n",
      "tv_loss 0.9899529814720154\n",
      "D_cont_loss_fake 0.046965740621089935\n",
      "D_img_loss_input 0.061342909932136536\n",
      "D_img_loss_G 0.21950313448905945\n",
      "End of epoch 442 \t Time Taken: 20.97664999961853 sec\n",
      "\n"
     ]
    },
    {
     "name": "stderr",
     "output_type": "stream",
     "text": [
      "\n",
      "18it [00:20,  1.12s/it]"
     ]
    },
    {
     "name": "stdout",
     "output_type": "stream",
     "text": [
      "Loss_G: 0.2996702326668633\\Loss_D_z: 0.010293130141993364\\Loss_D_img: 0.19422140386369494\n",
      "vgg_loss 0.0038285597693175077\n",
      "EG_loss 0.07536986470222473\n",
      "fm_loss 0.2574993073940277\n",
      "G_img_loss 4.569292068481445\n",
      "E_z_loss 5.825994491577148\n",
      "tv_loss 1.0156160593032837\n",
      "D_cont_loss_fake 0.03251200541853905\n",
      "D_img_loss_input 0.05273374915122986\n",
      "D_img_loss_G 0.04673144966363907\n",
      "End of epoch 443 \t Time Taken: 20.929115056991577 sec\n",
      "\n"
     ]
    },
    {
     "name": "stderr",
     "output_type": "stream",
     "text": [
      "\n",
      "18it [00:20,  1.13s/it]"
     ]
    },
    {
     "name": "stdout",
     "output_type": "stream",
     "text": [
      "Loss_G: 0.2989513294564353\\Loss_D_z: 0.011299103860639863\\Loss_D_img: 0.14728417206141683\n",
      "vgg_loss 0.003934998065233231\n",
      "EG_loss 0.07633703947067261\n",
      "fm_loss 0.2512023448944092\n",
      "G_img_loss 3.9593048095703125\n",
      "E_z_loss 5.8095703125\n",
      "tv_loss 1.0434961318969727\n",
      "D_cont_loss_fake 0.03649158030748367\n",
      "D_img_loss_input 0.023206761106848717\n",
      "D_img_loss_G 0.07164160907268524\n",
      "End of epoch 444 \t Time Taken: 20.868194341659546 sec\n",
      "\n"
     ]
    },
    {
     "name": "stderr",
     "output_type": "stream",
     "text": [
      "\n",
      "18it [00:20,  1.13s/it]"
     ]
    },
    {
     "name": "stdout",
     "output_type": "stream",
     "text": [
      "Loss_G: 0.3010686784982681\\Loss_D_z: 0.011047559816183316\\Loss_D_img: 0.20335091153780618\n",
      "vgg_loss 0.003779543796554208\n",
      "EG_loss 0.073664590716362\n",
      "fm_loss 0.2437327355146408\n",
      "G_img_loss 3.75589656829834\n",
      "E_z_loss 5.676460266113281\n",
      "tv_loss 0.9951452016830444\n",
      "D_cont_loss_fake 0.03680725768208504\n",
      "D_img_loss_input 0.016494926065206528\n",
      "D_img_loss_G 0.15864601731300354\n",
      "End of epoch 445 \t Time Taken: 20.999845504760742 sec\n",
      "\n"
     ]
    },
    {
     "name": "stderr",
     "output_type": "stream",
     "text": [
      "\n",
      "18it [00:20,  1.15s/it]"
     ]
    },
    {
     "name": "stdout",
     "output_type": "stream",
     "text": [
      "Loss_G: 0.3003201484680176\\Loss_D_z: 0.009806411108002067\\Loss_D_img: 0.19425132663713562\n",
      "vgg_loss 0.003909155260771513\n",
      "EG_loss 0.07777464389801025\n",
      "fm_loss 0.25412946939468384\n",
      "G_img_loss 4.554374694824219\n",
      "E_z_loss 5.833418846130371\n",
      "tv_loss 1.015758991241455\n",
      "D_cont_loss_fake 0.052257612347602844\n",
      "D_img_loss_input 0.10154351592063904\n",
      "D_img_loss_G 0.09029710292816162\n",
      "End of epoch 446 \t Time Taken: 21.25144076347351 sec\n",
      "\n"
     ]
    },
    {
     "name": "stderr",
     "output_type": "stream",
     "text": [
      "\n",
      "18it [00:20,  1.13s/it]"
     ]
    },
    {
     "name": "stdout",
     "output_type": "stream",
     "text": [
      "Loss_G: 0.29936930868360734\\Loss_D_z: 0.010363923204648826\\Loss_D_img: 0.17320923217468792\n",
      "vgg_loss 0.003820555517449975\n",
      "EG_loss 0.07464611530303955\n",
      "fm_loss 0.25067535042762756\n",
      "G_img_loss 4.793308258056641\n",
      "E_z_loss 5.836794853210449\n",
      "tv_loss 0.9802643060684204\n",
      "D_cont_loss_fake 0.035575978457927704\n",
      "D_img_loss_input 0.13476112484931946\n",
      "D_img_loss_G 0.032540831714868546\n",
      "End of epoch 447 \t Time Taken: 20.853805780410767 sec\n",
      "\n"
     ]
    },
    {
     "name": "stderr",
     "output_type": "stream",
     "text": [
      "\n",
      "18it [00:20,  1.13s/it]"
     ]
    },
    {
     "name": "stdout",
     "output_type": "stream",
     "text": [
      "Loss_G: 0.3003626565138499\\Loss_D_z: 0.010162909049540758\\Loss_D_img: 0.16061568177408642\n",
      "vgg_loss 0.0037838472053408623\n",
      "EG_loss 0.07392879575490952\n",
      "fm_loss 0.253358393907547\n",
      "G_img_loss 4.386021137237549\n",
      "E_z_loss 5.651420593261719\n",
      "tv_loss 1.0011522769927979\n",
      "D_cont_loss_fake 0.041047342121601105\n",
      "D_img_loss_input 0.030311357229948044\n",
      "D_img_loss_G 0.0568251796066761\n",
      "End of epoch 448 \t Time Taken: 20.906129121780396 sec\n",
      "\n"
     ]
    },
    {
     "name": "stderr",
     "output_type": "stream",
     "text": [
      "\n",
      "18it [00:20,  1.14s/it]"
     ]
    },
    {
     "name": "stdout",
     "output_type": "stream",
     "text": [
      "Loss_G: 0.3002917567888896\\Loss_D_z: 0.011362459976226091\\Loss_D_img: 0.15728518035676745\n",
      "vgg_loss 0.003872435074299574\n",
      "EG_loss 0.07622383534908295\n",
      "fm_loss 0.2486153244972229\n",
      "G_img_loss 3.760819435119629\n",
      "E_z_loss 5.302962303161621\n",
      "tv_loss 0.9866135120391846\n",
      "D_cont_loss_fake 0.047607794404029846\n",
      "D_img_loss_input 0.03737560659646988\n",
      "D_img_loss_G 0.07252863049507141\n",
      "End of epoch 449 \t Time Taken: 21.066654682159424 sec\n",
      "\n"
     ]
    },
    {
     "name": "stderr",
     "output_type": "stream",
     "text": [
      "\n",
      "18it [00:20,  1.13s/it]\n"
     ]
    },
    {
     "name": "stdout",
     "output_type": "stream",
     "text": [
      "Saving the model at the end of epoch 450\n",
      "\n",
      "Loss_G: 0.2997495283683141\\Loss_D_z: 0.011209060670807958\\Loss_D_img: 0.15415127699573836\n",
      "vgg_loss 0.0038842237554490566\n",
      "EG_loss 0.0819181352853775\n",
      "fm_loss 0.23743422329425812\n",
      "G_img_loss 4.934354305267334\n",
      "E_z_loss 5.943181991577148\n",
      "tv_loss 1.020697832107544\n",
      "D_cont_loss_fake 0.04965778440237045\n",
      "D_img_loss_input 0.05046844109892845\n",
      "D_img_loss_G 0.031171508133411407\n",
      "End of epoch 450 \t Time Taken: 21.607313871383667 sec\n",
      "\n"
     ]
    },
    {
     "name": "stderr",
     "output_type": "stream",
     "text": [
      "18it [00:20,  1.13s/it]"
     ]
    },
    {
     "name": "stdout",
     "output_type": "stream",
     "text": [
      "Loss_G: 0.30478983289665645\\Loss_D_z: 0.01048444951367047\\Loss_D_img: 0.19531869888305664\n",
      "vgg_loss 0.003826008178293705\n",
      "EG_loss 0.07498404383659363\n",
      "fm_loss 0.2551528811454773\n",
      "G_img_loss 4.6778106689453125\n",
      "E_z_loss 6.034997463226318\n",
      "tv_loss 1.003403902053833\n",
      "D_cont_loss_fake 0.038137391209602356\n",
      "D_img_loss_input 0.08643690496683121\n",
      "D_img_loss_G 0.07422884553670883\n",
      "End of epoch 451 \t Time Taken: 20.879446983337402 sec\n",
      "\n"
     ]
    },
    {
     "name": "stderr",
     "output_type": "stream",
     "text": [
      "\n",
      "18it [00:20,  1.14s/it]"
     ]
    },
    {
     "name": "stdout",
     "output_type": "stream",
     "text": [
      "Loss_G: 0.30503273010253906\\Loss_D_z: 0.009565652167010639\\Loss_D_img: 0.1844543893304136\n",
      "vgg_loss 0.00386258726939559\n",
      "EG_loss 0.07786478102207184\n",
      "fm_loss 0.24982210993766785\n",
      "G_img_loss 3.5710537433624268\n",
      "E_z_loss 5.575361251831055\n",
      "tv_loss 1.034452199935913\n",
      "D_cont_loss_fake 0.03770052269101143\n",
      "D_img_loss_input 0.03246164321899414\n",
      "D_img_loss_G 0.20742158591747284\n",
      "End of epoch 452 \t Time Taken: 21.03230571746826 sec\n",
      "\n"
     ]
    },
    {
     "name": "stderr",
     "output_type": "stream",
     "text": [
      "\n",
      "18it [00:20,  1.13s/it]"
     ]
    },
    {
     "name": "stdout",
     "output_type": "stream",
     "text": [
      "Loss_G: 0.30540231035815346\\Loss_D_z: 0.00979659209648768\\Loss_D_img: 0.17035606834623548\n",
      "vgg_loss 0.0038010915741324425\n",
      "EG_loss 0.07626547664403915\n",
      "fm_loss 0.250654399394989\n",
      "G_img_loss 4.325381755828857\n",
      "E_z_loss 5.811380386352539\n",
      "tv_loss 0.9945929050445557\n",
      "D_cont_loss_fake 0.03298163414001465\n",
      "D_img_loss_input 0.06590434908866882\n",
      "D_img_loss_G 0.05856098607182503\n",
      "End of epoch 453 \t Time Taken: 21.040916204452515 sec\n",
      "\n"
     ]
    },
    {
     "name": "stderr",
     "output_type": "stream",
     "text": [
      "\n",
      "18it [00:20,  1.15s/it]"
     ]
    },
    {
     "name": "stdout",
     "output_type": "stream",
     "text": [
      "Loss_G: 0.3020363218254513\\Loss_D_z: 0.00968903230710162\\Loss_D_img: 0.1868471544649866\n",
      "vgg_loss 0.0039168535731732845\n",
      "EG_loss 0.07626088708639145\n",
      "fm_loss 0.25876256823539734\n",
      "G_img_loss 4.902501106262207\n",
      "E_z_loss 5.834486961364746\n",
      "tv_loss 0.9974390864372253\n",
      "D_cont_loss_fake 0.03660190477967262\n",
      "D_img_loss_input 0.15737801790237427\n",
      "D_img_loss_G 0.04315341264009476\n",
      "End of epoch 454 \t Time Taken: 20.988215923309326 sec\n",
      "\n"
     ]
    },
    {
     "name": "stderr",
     "output_type": "stream",
     "text": [
      "\n",
      "18it [00:20,  1.15s/it]"
     ]
    },
    {
     "name": "stdout",
     "output_type": "stream",
     "text": [
      "Loss_G: 0.2955762777063582\\Loss_D_z: 0.011316978165672885\\Loss_D_img: 0.17181163115633857\n",
      "vgg_loss 0.003843945451080799\n",
      "EG_loss 0.07501287758350372\n",
      "fm_loss 0.25719308853149414\n",
      "G_img_loss 4.0453033447265625\n",
      "E_z_loss 5.431878566741943\n",
      "tv_loss 1.0143998861312866\n",
      "D_cont_loss_fake 0.030405020341277122\n",
      "D_img_loss_input 0.0772901326417923\n",
      "D_img_loss_G 0.10234558582305908\n",
      "End of epoch 455 \t Time Taken: 21.041832447052002 sec\n",
      "\n"
     ]
    },
    {
     "name": "stderr",
     "output_type": "stream",
     "text": [
      "\n",
      "18it [00:20,  1.14s/it]"
     ]
    },
    {
     "name": "stdout",
     "output_type": "stream",
     "text": [
      "Loss_G: 0.30255944199032253\\Loss_D_z: 0.009720239503723051\\Loss_D_img: 0.1627800597084893\n",
      "vgg_loss 0.003803259925916791\n",
      "EG_loss 0.07527272403240204\n",
      "fm_loss 0.24196305871009827\n",
      "G_img_loss 3.8581655025482178\n",
      "E_z_loss 5.560026168823242\n",
      "tv_loss 1.0205066204071045\n",
      "D_cont_loss_fake 0.036641575396060944\n",
      "D_img_loss_input 0.023574266582727432\n",
      "D_img_loss_G 0.059125661849975586\n",
      "End of epoch 456 \t Time Taken: 21.06030821800232 sec\n",
      "\n"
     ]
    },
    {
     "name": "stderr",
     "output_type": "stream",
     "text": [
      "\n",
      "18it [00:20,  1.14s/it]"
     ]
    },
    {
     "name": "stdout",
     "output_type": "stream",
     "text": [
      "Loss_G: 0.30517807602882385\\Loss_D_z: 0.008421981862435738\\Loss_D_img: 0.1603303017715613\n",
      "vgg_loss 0.0038362706545740366\n",
      "EG_loss 0.076555997133255\n",
      "fm_loss 0.2523535490036011\n",
      "G_img_loss 4.428281307220459\n",
      "E_z_loss 5.772470474243164\n",
      "tv_loss 1.0186837911605835\n",
      "D_cont_loss_fake 0.03984535112977028\n",
      "D_img_loss_input 0.03405052423477173\n",
      "D_img_loss_G 0.04344029352068901\n",
      "End of epoch 457 \t Time Taken: 21.033588647842407 sec\n",
      "\n"
     ]
    },
    {
     "name": "stderr",
     "output_type": "stream",
     "text": [
      "\n",
      "18it [00:20,  1.14s/it]"
     ]
    },
    {
     "name": "stdout",
     "output_type": "stream",
     "text": [
      "Loss_G: 0.3001475731531779\\Loss_D_z: 0.010831664807887541\\Loss_D_img: 0.15963310872515044\n",
      "vgg_loss 0.0038450241554528475\n",
      "EG_loss 0.07744080573320389\n",
      "fm_loss 0.2653791904449463\n",
      "G_img_loss 4.631604194641113\n",
      "E_z_loss 5.40822696685791\n",
      "tv_loss 1.034967303276062\n",
      "D_cont_loss_fake 0.052973877638578415\n",
      "D_img_loss_input 0.1751037985086441\n",
      "D_img_loss_G 0.042611267417669296\n",
      "End of epoch 458 \t Time Taken: 21.04731845855713 sec\n",
      "\n"
     ]
    },
    {
     "name": "stderr",
     "output_type": "stream",
     "text": [
      "\n",
      "18it [00:20,  1.13s/it]"
     ]
    },
    {
     "name": "stdout",
     "output_type": "stream",
     "text": [
      "Loss_G: 0.3001772165298462\\Loss_D_z: 0.009714234439242218\\Loss_D_img: 0.2299475661582417\n",
      "vgg_loss 0.0038049689028412104\n",
      "EG_loss 0.07695700228214264\n",
      "fm_loss 0.26480746269226074\n",
      "G_img_loss 4.393519401550293\n",
      "E_z_loss 5.777070045471191\n",
      "tv_loss 0.979493260383606\n",
      "D_cont_loss_fake 0.03334476798772812\n",
      "D_img_loss_input 0.07253097742795944\n",
      "D_img_loss_G 0.04037603363394737\n",
      "End of epoch 459 \t Time Taken: 20.956330060958862 sec\n",
      "\n"
     ]
    },
    {
     "name": "stderr",
     "output_type": "stream",
     "text": [
      "\n",
      "18it [00:20,  1.13s/it]"
     ]
    },
    {
     "name": "stdout",
     "output_type": "stream",
     "text": [
      "Loss_G: 0.2851470112800598\\Loss_D_z: 0.44832961941655314\\Loss_D_img: 0.19002681308322483\n",
      "vgg_loss 0.0037224937696009874\n",
      "EG_loss 0.07328538596630096\n",
      "fm_loss 0.24665728211402893\n",
      "G_img_loss 4.182495594024658\n",
      "E_z_loss 3.6561439037323\n",
      "tv_loss 1.0074021816253662\n",
      "D_cont_loss_fake 0.03671380504965782\n",
      "D_img_loss_input 0.08382587134838104\n",
      "D_img_loss_G 0.14034053683280945\n",
      "End of epoch 460 \t Time Taken: 21.0037579536438 sec\n",
      "\n"
     ]
    },
    {
     "name": "stderr",
     "output_type": "stream",
     "text": [
      "\n",
      "18it [00:20,  1.13s/it]"
     ]
    },
    {
     "name": "stdout",
     "output_type": "stream",
     "text": [
      "Loss_G: 0.2819953113794327\\Loss_D_z: 0.08678880499468909\\Loss_D_img: 0.21981986280944613\n",
      "vgg_loss 0.003991774283349514\n",
      "EG_loss 0.0781002938747406\n",
      "fm_loss 0.2530418634414673\n",
      "G_img_loss 3.7348225116729736\n",
      "E_z_loss 4.106061935424805\n",
      "tv_loss 0.976859450340271\n",
      "D_cont_loss_fake 0.04100562259554863\n",
      "D_img_loss_input 0.03518412262201309\n",
      "D_img_loss_G 0.10647805035114288\n",
      "End of epoch 461 \t Time Taken: 21.048254013061523 sec\n",
      "\n"
     ]
    },
    {
     "name": "stderr",
     "output_type": "stream",
     "text": [
      "\n",
      "18it [00:20,  1.13s/it]"
     ]
    },
    {
     "name": "stdout",
     "output_type": "stream",
     "text": [
      "Loss_G: 0.2903221762842602\\Loss_D_z: 0.04745237508581744\\Loss_D_img: 0.16069636245568594\n",
      "vgg_loss 0.003801083192229271\n",
      "EG_loss 0.07640120387077332\n",
      "fm_loss 0.255535751581192\n",
      "G_img_loss 4.807529449462891\n",
      "E_z_loss 4.700326919555664\n",
      "tv_loss 1.024552345275879\n",
      "D_cont_loss_fake 0.038953788578510284\n",
      "D_img_loss_input 0.022922411561012268\n",
      "D_img_loss_G 0.06533117592334747\n",
      "End of epoch 462 \t Time Taken: 21.004425525665283 sec\n",
      "\n"
     ]
    },
    {
     "name": "stderr",
     "output_type": "stream",
     "text": [
      "\n",
      "18it [00:20,  1.13s/it]"
     ]
    },
    {
     "name": "stdout",
     "output_type": "stream",
     "text": [
      "Loss_G: 0.2918923579984241\\Loss_D_z: 0.03979855299823814\\Loss_D_img: 0.14382662375768027\n",
      "vgg_loss 0.003952030558139086\n",
      "EG_loss 0.07704546302556992\n",
      "fm_loss 0.2633645832538605\n",
      "G_img_loss 4.415864944458008\n",
      "E_z_loss 4.491117477416992\n",
      "tv_loss 1.0038158893585205\n",
      "D_cont_loss_fake 0.03804191201925278\n",
      "D_img_loss_input 0.05746500939130783\n",
      "D_img_loss_G 0.03659756854176521\n",
      "End of epoch 463 \t Time Taken: 21.0156466960907 sec\n",
      "\n"
     ]
    },
    {
     "name": "stderr",
     "output_type": "stream",
     "text": [
      "\n",
      "18it [00:20,  1.13s/it]"
     ]
    },
    {
     "name": "stdout",
     "output_type": "stream",
     "text": [
      "Loss_G: 0.29270310865508187\\Loss_D_z: 0.02878509472227759\\Loss_D_img: 0.16784306036101448\n",
      "vgg_loss 0.003793068928644061\n",
      "EG_loss 0.07544450461864471\n",
      "fm_loss 0.23595917224884033\n",
      "G_img_loss 3.79617977142334\n",
      "E_z_loss 4.8168158531188965\n",
      "tv_loss 1.0006285905838013\n",
      "D_cont_loss_fake 0.042076073586940765\n",
      "D_img_loss_input 0.02592521160840988\n",
      "D_img_loss_G 0.0758264884352684\n",
      "End of epoch 464 \t Time Taken: 20.91352391242981 sec\n",
      "\n"
     ]
    },
    {
     "name": "stderr",
     "output_type": "stream",
     "text": [
      "\n",
      "18it [00:20,  1.13s/it]"
     ]
    },
    {
     "name": "stdout",
     "output_type": "stream",
     "text": [
      "Loss_G: 0.29303469094965195\\Loss_D_z: 0.035823336078061\\Loss_D_img: 0.14510296657681465\n",
      "vgg_loss 0.003981427755206823\n",
      "EG_loss 0.07799746841192245\n",
      "fm_loss 0.2626544237136841\n",
      "G_img_loss 4.509335041046143\n",
      "E_z_loss 3.9045748710632324\n",
      "tv_loss 1.0325530767440796\n",
      "D_cont_loss_fake 0.03916981816291809\n",
      "D_img_loss_input 0.042488984763622284\n",
      "D_img_loss_G 0.08475696295499802\n",
      "End of epoch 465 \t Time Taken: 21.04137635231018 sec\n",
      "\n"
     ]
    },
    {
     "name": "stderr",
     "output_type": "stream",
     "text": [
      "\n",
      "18it [00:20,  1.14s/it]"
     ]
    },
    {
     "name": "stdout",
     "output_type": "stream",
     "text": [
      "Loss_G: 0.29544982148541343\\Loss_D_z: 0.028810373714400664\\Loss_D_img: 0.14943374238080448\n",
      "vgg_loss 0.003963530529290438\n",
      "EG_loss 0.07824531197547913\n",
      "fm_loss 0.25541621446609497\n",
      "G_img_loss 4.278947830200195\n",
      "E_z_loss 4.34522819519043\n",
      "tv_loss 1.016778826713562\n",
      "D_cont_loss_fake 0.03605685010552406\n",
      "D_img_loss_input 0.025383392348885536\n",
      "D_img_loss_G 0.056717947125434875\n",
      "End of epoch 466 \t Time Taken: 21.15528678894043 sec\n",
      "\n"
     ]
    },
    {
     "name": "stderr",
     "output_type": "stream",
     "text": [
      "\n",
      "18it [00:20,  1.13s/it]"
     ]
    },
    {
     "name": "stdout",
     "output_type": "stream",
     "text": [
      "Loss_G: 0.2970638374487559\\Loss_D_z: 0.02688064778016673\\Loss_D_img: 0.15544589567515585\n",
      "vgg_loss 0.003922227770090103\n",
      "EG_loss 0.08064088970422745\n",
      "fm_loss 0.24915701150894165\n",
      "G_img_loss 4.169712543487549\n",
      "E_z_loss 4.564394950866699\n",
      "tv_loss 1.014695167541504\n",
      "D_cont_loss_fake 0.036539144814014435\n",
      "D_img_loss_input 0.03693082928657532\n",
      "D_img_loss_G 0.09565193951129913\n",
      "End of epoch 467 \t Time Taken: 20.93055009841919 sec\n",
      "\n"
     ]
    },
    {
     "name": "stderr",
     "output_type": "stream",
     "text": [
      "\n",
      "18it [00:20,  1.12s/it]"
     ]
    },
    {
     "name": "stdout",
     "output_type": "stream",
     "text": [
      "Loss_G: 0.2982514881425434\\Loss_D_z: 0.021789301393760577\\Loss_D_img: 0.16844829006327522\n",
      "vgg_loss 0.003785618580877781\n",
      "EG_loss 0.07410718500614166\n",
      "fm_loss 0.27101317048072815\n",
      "G_img_loss 4.305107116699219\n",
      "E_z_loss 5.412599086761475\n",
      "tv_loss 0.9950339794158936\n",
      "D_cont_loss_fake 0.039670929312705994\n",
      "D_img_loss_input 0.03894491866230965\n",
      "D_img_loss_G 0.0701943039894104\n",
      "End of epoch 468 \t Time Taken: 20.93043875694275 sec\n",
      "\n"
     ]
    },
    {
     "name": "stderr",
     "output_type": "stream",
     "text": [
      "\n",
      "18it [00:20,  1.13s/it]"
     ]
    },
    {
     "name": "stdout",
     "output_type": "stream",
     "text": [
      "Loss_G: 0.2989921768506368\\Loss_D_z: 0.02671331229309241\\Loss_D_img: 0.1706835035648611\n",
      "vgg_loss 0.0037893804255872965\n",
      "EG_loss 0.07530535757541656\n",
      "fm_loss 0.25831425189971924\n",
      "G_img_loss 4.358202934265137\n",
      "E_z_loss 4.928037643432617\n",
      "tv_loss 1.0516185760498047\n",
      "D_cont_loss_fake 0.038995161652565\n",
      "D_img_loss_input 0.08399149030447006\n",
      "D_img_loss_G 0.05358169227838516\n",
      "End of epoch 469 \t Time Taken: 21.035756826400757 sec\n",
      "\n"
     ]
    },
    {
     "name": "stderr",
     "output_type": "stream",
     "text": [
      "\n",
      "18it [00:20,  1.13s/it]"
     ]
    },
    {
     "name": "stdout",
     "output_type": "stream",
     "text": [
      "Loss_G: 0.29783958858913845\\Loss_D_z: 0.021703898596266907\\Loss_D_img: 0.15762010340889296\n",
      "vgg_loss 0.0037908058147877455\n",
      "EG_loss 0.0775303840637207\n",
      "fm_loss 0.25290417671203613\n",
      "G_img_loss 4.904416561126709\n",
      "E_z_loss 5.910896301269531\n",
      "tv_loss 1.014811396598816\n",
      "D_cont_loss_fake 0.031543079763650894\n",
      "D_img_loss_input 0.07000581920146942\n",
      "D_img_loss_G 0.019070452079176903\n",
      "End of epoch 470 \t Time Taken: 20.93155002593994 sec\n",
      "\n"
     ]
    },
    {
     "name": "stderr",
     "output_type": "stream",
     "text": [
      "\n",
      "18it [00:20,  1.13s/it]"
     ]
    },
    {
     "name": "stdout",
     "output_type": "stream",
     "text": [
      "Loss_G: 0.2998063498073154\\Loss_D_z: 0.020035174261364672\\Loss_D_img: 0.1718189517656962\n",
      "vgg_loss 0.0038535958155989647\n",
      "EG_loss 0.07677575945854187\n",
      "fm_loss 0.24675190448760986\n",
      "G_img_loss 4.160837173461914\n",
      "E_z_loss 5.228920936584473\n",
      "tv_loss 0.9604729413986206\n",
      "D_cont_loss_fake 0.05723215639591217\n",
      "D_img_loss_input 0.08728987723588943\n",
      "D_img_loss_G 0.049554407596588135\n",
      "End of epoch 471 \t Time Taken: 20.88367509841919 sec\n",
      "\n"
     ]
    },
    {
     "name": "stderr",
     "output_type": "stream",
     "text": [
      "\n",
      "18it [00:20,  1.13s/it]"
     ]
    },
    {
     "name": "stdout",
     "output_type": "stream",
     "text": [
      "Loss_G: 0.296906699736913\\Loss_D_z: 0.018217291372517746\\Loss_D_img: 0.14792580364478958\n",
      "vgg_loss 0.003747174981981516\n",
      "EG_loss 0.07386040687561035\n",
      "fm_loss 0.24770870804786682\n",
      "G_img_loss 4.716253280639648\n",
      "E_z_loss 5.41349983215332\n",
      "tv_loss 1.019569754600525\n",
      "D_cont_loss_fake 0.050469376146793365\n",
      "D_img_loss_input 0.1733890175819397\n",
      "D_img_loss_G 0.03184714540839195\n",
      "End of epoch 472 \t Time Taken: 20.998646020889282 sec\n",
      "\n"
     ]
    },
    {
     "name": "stderr",
     "output_type": "stream",
     "text": [
      "\n",
      "18it [00:20,  1.14s/it]"
     ]
    },
    {
     "name": "stdout",
     "output_type": "stream",
     "text": [
      "Loss_G: 0.2954533100128174\\Loss_D_z: 0.019116896101170115\\Loss_D_img: 0.15531210642721918\n",
      "vgg_loss 0.0038369789253920317\n",
      "EG_loss 0.0758184939622879\n",
      "fm_loss 0.24527263641357422\n",
      "G_img_loss 3.597161293029785\n",
      "E_z_loss 5.419925689697266\n",
      "tv_loss 1.0214598178863525\n",
      "D_cont_loss_fake 0.042863473296165466\n",
      "D_img_loss_input 0.022185998037457466\n",
      "D_img_loss_G 0.11776801943778992\n",
      "End of epoch 473 \t Time Taken: 21.08849596977234 sec\n",
      "\n"
     ]
    },
    {
     "name": "stderr",
     "output_type": "stream",
     "text": [
      "\n",
      "18it [00:20,  1.15s/it]"
     ]
    },
    {
     "name": "stdout",
     "output_type": "stream",
     "text": [
      "Loss_G: 0.30163297057151794\\Loss_D_z: 0.01948004008995162\\Loss_D_img: 0.15969955383075607\n",
      "vgg_loss 0.003907870966941118\n",
      "EG_loss 0.07838209718465805\n",
      "fm_loss 0.23759609460830688\n",
      "G_img_loss 3.325596570968628\n",
      "E_z_loss 5.5724101066589355\n",
      "tv_loss 0.9899614453315735\n",
      "D_cont_loss_fake 0.052308183163404465\n",
      "D_img_loss_input 0.01819862611591816\n",
      "D_img_loss_G 0.14231282472610474\n",
      "End of epoch 474 \t Time Taken: 21.031417846679688 sec\n",
      "\n"
     ]
    },
    {
     "name": "stderr",
     "output_type": "stream",
     "text": [
      "\n",
      "18it [00:20,  1.13s/it]"
     ]
    },
    {
     "name": "stdout",
     "output_type": "stream",
     "text": [
      "Loss_G: 0.29933006233639187\\Loss_D_z: 0.01851734674225251\\Loss_D_img: 0.18182910854617754\n",
      "vgg_loss 0.003825344378128648\n",
      "EG_loss 0.07627040892839432\n",
      "fm_loss 0.26582837104797363\n",
      "G_img_loss 4.512181758880615\n",
      "E_z_loss 5.337540149688721\n",
      "tv_loss 1.0417263507843018\n",
      "D_cont_loss_fake 0.0528620220720768\n",
      "D_img_loss_input 0.030274566262960434\n",
      "D_img_loss_G 0.059848494827747345\n",
      "End of epoch 475 \t Time Taken: 21.025498867034912 sec\n",
      "\n"
     ]
    },
    {
     "name": "stderr",
     "output_type": "stream",
     "text": [
      "\n",
      "18it [00:20,  1.13s/it]"
     ]
    },
    {
     "name": "stdout",
     "output_type": "stream",
     "text": [
      "Loss_G: 0.30364226798216504\\Loss_D_z: 0.01805859711021185\\Loss_D_img: 0.14171252358290884\n",
      "vgg_loss 0.003840226912871003\n",
      "EG_loss 0.07600638270378113\n",
      "fm_loss 0.2536315321922302\n",
      "G_img_loss 5.242387771606445\n",
      "E_z_loss 5.2752580642700195\n",
      "tv_loss 0.9822816848754883\n",
      "D_cont_loss_fake 0.04602660611271858\n",
      "D_img_loss_input 0.06545146554708481\n",
      "D_img_loss_G 0.0397762767970562\n",
      "End of epoch 476 \t Time Taken: 20.892321586608887 sec\n",
      "\n"
     ]
    },
    {
     "name": "stderr",
     "output_type": "stream",
     "text": [
      "\n",
      "18it [00:20,  1.14s/it]"
     ]
    },
    {
     "name": "stdout",
     "output_type": "stream",
     "text": [
      "Loss_G: 0.2988057881593704\\Loss_D_z: 0.016714406561934285\\Loss_D_img: 0.17413535796933705\n",
      "vgg_loss 0.00387059198692441\n",
      "EG_loss 0.07776542007923126\n",
      "fm_loss 0.2596365213394165\n",
      "G_img_loss 4.656379699707031\n",
      "E_z_loss 5.383977890014648\n",
      "tv_loss 0.9673012495040894\n",
      "D_cont_loss_fake 0.04368479549884796\n",
      "D_img_loss_input 0.048118047416210175\n",
      "D_img_loss_G 0.05495858192443848\n",
      "End of epoch 477 \t Time Taken: 21.058180332183838 sec\n",
      "\n"
     ]
    },
    {
     "name": "stderr",
     "output_type": "stream",
     "text": [
      "\n",
      "18it [00:20,  1.13s/it]"
     ]
    },
    {
     "name": "stdout",
     "output_type": "stream",
     "text": [
      "Loss_G: 0.301229778263304\\Loss_D_z: 0.016728291598459084\\Loss_D_img: 0.17587926694088513\n",
      "vgg_loss 0.003879382275044918\n",
      "EG_loss 0.07665157318115234\n",
      "fm_loss 0.25461578369140625\n",
      "G_img_loss 4.039975166320801\n",
      "E_z_loss 5.537436008453369\n",
      "tv_loss 0.9946700930595398\n",
      "D_cont_loss_fake 0.05348404124379158\n",
      "D_img_loss_input 0.0461396798491478\n",
      "D_img_loss_G 0.09048807621002197\n",
      "End of epoch 478 \t Time Taken: 20.94025444984436 sec\n",
      "\n"
     ]
    },
    {
     "name": "stderr",
     "output_type": "stream",
     "text": [
      "\n",
      "18it [00:20,  1.13s/it]"
     ]
    },
    {
     "name": "stdout",
     "output_type": "stream",
     "text": [
      "Loss_G: 0.3026118361287647\\Loss_D_z: 0.01606881928940614\\Loss_D_img: 0.14909117172161737\n",
      "vgg_loss 0.003852574387565255\n",
      "EG_loss 0.07829978317022324\n",
      "fm_loss 0.24316221475601196\n",
      "G_img_loss 4.212965965270996\n",
      "E_z_loss 5.52948522567749\n",
      "tv_loss 0.9779956340789795\n",
      "D_cont_loss_fake 0.036552444100379944\n",
      "D_img_loss_input 0.045482806861400604\n",
      "D_img_loss_G 0.07694041728973389\n",
      "End of epoch 479 \t Time Taken: 21.03127932548523 sec\n",
      "\n"
     ]
    },
    {
     "name": "stderr",
     "output_type": "stream",
     "text": [
      "\n",
      "18it [00:20,  1.13s/it]"
     ]
    },
    {
     "name": "stdout",
     "output_type": "stream",
     "text": [
      "Loss_G: 0.3000207195679347\\Loss_D_z: 0.015225656537546052\\Loss_D_img: 0.14202584616012043\n",
      "vgg_loss 0.0038023150991648436\n",
      "EG_loss 0.07593884319067001\n",
      "fm_loss 0.2614814341068268\n",
      "G_img_loss 4.239338397979736\n",
      "E_z_loss 5.396300315856934\n",
      "tv_loss 1.0172481536865234\n",
      "D_cont_loss_fake 0.037796661257743835\n",
      "D_img_loss_input 0.0433487594127655\n",
      "D_img_loss_G 0.06182064116001129\n",
      "End of epoch 480 \t Time Taken: 20.95816135406494 sec\n",
      "\n"
     ]
    },
    {
     "name": "stderr",
     "output_type": "stream",
     "text": [
      "\n",
      "18it [00:20,  1.13s/it]"
     ]
    },
    {
     "name": "stdout",
     "output_type": "stream",
     "text": [
      "Loss_G: 0.30111385385195416\\Loss_D_z: 0.01555474754422903\\Loss_D_img: 0.1476945330699285\n",
      "vgg_loss 0.003875188296660781\n",
      "EG_loss 0.07727179676294327\n",
      "fm_loss 0.2593809962272644\n",
      "G_img_loss 5.426898956298828\n",
      "E_z_loss 4.706385135650635\n",
      "tv_loss 0.9791669845581055\n",
      "D_cont_loss_fake 0.04337996616959572\n",
      "D_img_loss_input 0.1279943883419037\n",
      "D_img_loss_G 0.013141792267560959\n",
      "End of epoch 481 \t Time Taken: 21.02861189842224 sec\n",
      "\n"
     ]
    },
    {
     "name": "stderr",
     "output_type": "stream",
     "text": [
      "\n",
      "18it [00:20,  1.13s/it]"
     ]
    },
    {
     "name": "stdout",
     "output_type": "stream",
     "text": [
      "Loss_G: 0.30142177310254836\\Loss_D_z: 0.015598673218240341\\Loss_D_img: 0.17089083252681625\n",
      "vgg_loss 0.0039005118887871504\n",
      "EG_loss 0.08241106569766998\n",
      "fm_loss 0.24374103546142578\n",
      "G_img_loss 4.190398216247559\n",
      "E_z_loss 5.6110429763793945\n",
      "tv_loss 0.9738472700119019\n",
      "D_cont_loss_fake 0.03646737337112427\n",
      "D_img_loss_input 0.01965336501598358\n",
      "D_img_loss_G 0.04906657710671425\n",
      "End of epoch 482 \t Time Taken: 20.85486626625061 sec\n",
      "\n"
     ]
    },
    {
     "name": "stderr",
     "output_type": "stream",
     "text": [
      "\n",
      "18it [00:20,  1.13s/it]"
     ]
    },
    {
     "name": "stdout",
     "output_type": "stream",
     "text": [
      "Loss_G: 0.2996046178870731\\Loss_D_z: 0.015279091480705474\\Loss_D_img: 0.18108873317639032\n",
      "vgg_loss 0.003824901068583131\n",
      "EG_loss 0.07581222802400589\n",
      "fm_loss 0.2641972303390503\n",
      "G_img_loss 4.612618923187256\n",
      "E_z_loss 5.513829231262207\n",
      "tv_loss 1.027790904045105\n",
      "D_cont_loss_fake 0.04268200695514679\n",
      "D_img_loss_input 0.11246166378259659\n",
      "D_img_loss_G 0.07279357314109802\n",
      "End of epoch 483 \t Time Taken: 21.088692903518677 sec\n",
      "\n"
     ]
    },
    {
     "name": "stderr",
     "output_type": "stream",
     "text": [
      "\n",
      "18it [00:20,  1.14s/it]"
     ]
    },
    {
     "name": "stdout",
     "output_type": "stream",
     "text": [
      "Loss_G: 0.29961617290973663\\Loss_D_z: 0.014183169696480036\\Loss_D_img: 0.1288108221358723\n",
      "vgg_loss 0.003952634055167437\n",
      "EG_loss 0.07592462003231049\n",
      "fm_loss 0.24865518510341644\n",
      "G_img_loss 3.878894567489624\n",
      "E_z_loss 5.804224014282227\n",
      "tv_loss 1.0601850748062134\n",
      "D_cont_loss_fake 0.039541665464639664\n",
      "D_img_loss_input 0.03417730703949928\n",
      "D_img_loss_G 0.06270629912614822\n",
      "End of epoch 484 \t Time Taken: 21.036316871643066 sec\n",
      "\n"
     ]
    },
    {
     "name": "stderr",
     "output_type": "stream",
     "text": [
      "\n",
      "18it [00:20,  1.13s/it]"
     ]
    },
    {
     "name": "stdout",
     "output_type": "stream",
     "text": [
      "Loss_G: 0.3033032847775353\\Loss_D_z: 0.013368677347898483\\Loss_D_img: 0.14746005088090897\n",
      "vgg_loss 0.0039115180261433125\n",
      "EG_loss 0.07750346511602402\n",
      "fm_loss 0.2480606734752655\n",
      "G_img_loss 3.797163486480713\n",
      "E_z_loss 5.158568859100342\n",
      "tv_loss 0.9928215742111206\n",
      "D_cont_loss_fake 0.051526281982660294\n",
      "D_img_loss_input 0.020122263580560684\n",
      "D_img_loss_G 0.15662285685539246\n",
      "End of epoch 485 \t Time Taken: 20.9261155128479 sec\n",
      "\n"
     ]
    },
    {
     "name": "stderr",
     "output_type": "stream",
     "text": [
      "\n",
      "18it [00:20,  1.14s/it]"
     ]
    },
    {
     "name": "stdout",
     "output_type": "stream",
     "text": [
      "Loss_G: 0.30348296960194904\\Loss_D_z: 0.013732042887972461\\Loss_D_img: 0.15204407357507282\n",
      "vgg_loss 0.003927165176719427\n",
      "EG_loss 0.07988320291042328\n",
      "fm_loss 0.2678198218345642\n",
      "G_img_loss 4.184480667114258\n",
      "E_z_loss 5.5178914070129395\n",
      "tv_loss 0.9776790142059326\n",
      "D_cont_loss_fake 0.045914553105831146\n",
      "D_img_loss_input 0.03156861290335655\n",
      "D_img_loss_G 0.06380325555801392\n",
      "End of epoch 486 \t Time Taken: 21.05728816986084 sec\n",
      "\n"
     ]
    },
    {
     "name": "stderr",
     "output_type": "stream",
     "text": [
      "\n",
      "18it [00:20,  1.13s/it]"
     ]
    },
    {
     "name": "stdout",
     "output_type": "stream",
     "text": [
      "Loss_G: 0.30712835987408954\\Loss_D_z: 0.01617360342707899\\Loss_D_img: 0.14773776423599985\n",
      "vgg_loss 0.003838005242869258\n",
      "EG_loss 0.07978051155805588\n",
      "fm_loss 0.26818716526031494\n",
      "G_img_loss 4.274486064910889\n",
      "E_z_loss 5.467091083526611\n",
      "tv_loss 0.9448443651199341\n",
      "D_cont_loss_fake 0.036486025899648666\n",
      "D_img_loss_input 0.03547018766403198\n",
      "D_img_loss_G 0.07663232088088989\n",
      "End of epoch 487 \t Time Taken: 20.932153701782227 sec\n",
      "\n"
     ]
    },
    {
     "name": "stderr",
     "output_type": "stream",
     "text": [
      "\n",
      "18it [00:20,  1.13s/it]"
     ]
    },
    {
     "name": "stdout",
     "output_type": "stream",
     "text": [
      "Loss_G: 0.3024465474817488\\Loss_D_z: 0.014357775915414095\\Loss_D_img: 0.19135335087776184\n",
      "vgg_loss 0.003945431672036648\n",
      "EG_loss 0.08027726411819458\n",
      "fm_loss 0.2590281367301941\n",
      "G_img_loss 5.14059591293335\n",
      "E_z_loss 5.028567314147949\n",
      "tv_loss 0.9580383896827698\n",
      "D_cont_loss_fake 0.04141920059919357\n",
      "D_img_loss_input 0.15173305571079254\n",
      "D_img_loss_G 0.024536196142435074\n",
      "End of epoch 488 \t Time Taken: 20.993780851364136 sec\n",
      "\n"
     ]
    },
    {
     "name": "stderr",
     "output_type": "stream",
     "text": [
      "\n",
      "18it [00:20,  1.14s/it]"
     ]
    },
    {
     "name": "stdout",
     "output_type": "stream",
     "text": [
      "Loss_G: 0.30348547134134507\\Loss_D_z: 0.013303233362320397\\Loss_D_img: 0.14554264023900032\n",
      "vgg_loss 0.0038630038034170866\n",
      "EG_loss 0.0778345838189125\n",
      "fm_loss 0.2677268385887146\n",
      "G_img_loss 4.6180620193481445\n",
      "E_z_loss 5.522260665893555\n",
      "tv_loss 0.9659286737442017\n",
      "D_cont_loss_fake 0.04896842688322067\n",
      "D_img_loss_input 0.05781122297048569\n",
      "D_img_loss_G 0.04210370406508446\n",
      "End of epoch 489 \t Time Taken: 21.07272458076477 sec\n",
      "\n"
     ]
    },
    {
     "name": "stderr",
     "output_type": "stream",
     "text": [
      "\n",
      "18it [00:20,  1.12s/it]"
     ]
    },
    {
     "name": "stdout",
     "output_type": "stream",
     "text": [
      "Loss_G: 0.30251076486375594\\Loss_D_z: 0.012415242640094625\\Loss_D_img: 0.16343999902407327\n",
      "vgg_loss 0.003798543708398938\n",
      "EG_loss 0.07872852683067322\n",
      "fm_loss 0.26161834597587585\n",
      "G_img_loss 4.473154067993164\n",
      "E_z_loss 5.604188919067383\n",
      "tv_loss 1.0024861097335815\n",
      "D_cont_loss_fake 0.04536232352256775\n",
      "D_img_loss_input 0.05288904905319214\n",
      "D_img_loss_G 0.03998041898012161\n",
      "End of epoch 490 \t Time Taken: 20.933655977249146 sec\n",
      "\n"
     ]
    },
    {
     "name": "stderr",
     "output_type": "stream",
     "text": [
      "\n",
      "18it [00:20,  1.13s/it]"
     ]
    },
    {
     "name": "stdout",
     "output_type": "stream",
     "text": [
      "Loss_G: 0.3012118885914485\\Loss_D_z: 0.012592567337883843\\Loss_D_img: 0.1644115232759052\n",
      "vgg_loss 0.0038699242286384106\n",
      "EG_loss 0.07691730558872223\n",
      "fm_loss 0.26250314712524414\n",
      "G_img_loss 5.158034324645996\n",
      "E_z_loss 5.696183204650879\n",
      "tv_loss 1.0124387741088867\n",
      "D_cont_loss_fake 0.04253270849585533\n",
      "D_img_loss_input 0.057058218866586685\n",
      "D_img_loss_G 0.022143352776765823\n",
      "End of epoch 491 \t Time Taken: 21.019402742385864 sec\n",
      "\n"
     ]
    },
    {
     "name": "stderr",
     "output_type": "stream",
     "text": [
      "\n",
      "18it [00:20,  1.14s/it]"
     ]
    },
    {
     "name": "stdout",
     "output_type": "stream",
     "text": [
      "Loss_G: 0.3035230305459764\\Loss_D_z: 0.011025142648981677\\Loss_D_img: 0.13987596581379572\n",
      "vgg_loss 0.003951993305236101\n",
      "EG_loss 0.08010903000831604\n",
      "fm_loss 0.24928994476795197\n",
      "G_img_loss 4.741733551025391\n",
      "E_z_loss 5.109692573547363\n",
      "tv_loss 0.982461154460907\n",
      "D_cont_loss_fake 0.048181913793087006\n",
      "D_img_loss_input 0.042586084455251694\n",
      "D_img_loss_G 0.03129846975207329\n",
      "End of epoch 492 \t Time Taken: 21.045818090438843 sec\n",
      "\n"
     ]
    },
    {
     "name": "stderr",
     "output_type": "stream",
     "text": [
      "\n",
      "18it [00:20,  1.13s/it]"
     ]
    },
    {
     "name": "stdout",
     "output_type": "stream",
     "text": [
      "Loss_G: 0.3064727948771583\\Loss_D_z: 0.010994445480820205\\Loss_D_img: 0.1759699686533875\n",
      "vgg_loss 0.0037777733523398638\n",
      "EG_loss 0.0767427608370781\n",
      "fm_loss 0.2429775595664978\n",
      "G_img_loss 4.53408670425415\n",
      "E_z_loss 5.451179504394531\n",
      "tv_loss 1.0035115480422974\n",
      "D_cont_loss_fake 0.034818217158317566\n",
      "D_img_loss_input 0.027505001053214073\n",
      "D_img_loss_G 0.038793131709098816\n",
      "End of epoch 493 \t Time Taken: 20.92713713645935 sec\n",
      "\n"
     ]
    },
    {
     "name": "stderr",
     "output_type": "stream",
     "text": [
      "\n",
      "18it [00:20,  1.13s/it]"
     ]
    },
    {
     "name": "stdout",
     "output_type": "stream",
     "text": [
      "Loss_G: 0.30012696981430054\\Loss_D_z: 0.01189035994725095\\Loss_D_img: 0.15547872086366019\n",
      "vgg_loss 0.0038085367996245623\n",
      "EG_loss 0.07496288418769836\n",
      "fm_loss 0.24114078283309937\n",
      "G_img_loss 4.218451499938965\n",
      "E_z_loss 5.4578657150268555\n",
      "tv_loss 1.0348446369171143\n",
      "D_cont_loss_fake 0.0345112569630146\n",
      "D_img_loss_input 0.06102661043405533\n",
      "D_img_loss_G 0.09263072907924652\n",
      "End of epoch 494 \t Time Taken: 21.055520057678223 sec\n",
      "\n"
     ]
    },
    {
     "name": "stderr",
     "output_type": "stream",
     "text": [
      "\n",
      "18it [00:20,  1.14s/it]"
     ]
    },
    {
     "name": "stdout",
     "output_type": "stream",
     "text": [
      "Loss_G: 0.303138373626603\\Loss_D_z: 0.010951375019633107\\Loss_D_img: 0.1791152585711744\n",
      "vgg_loss 0.003940595779567957\n",
      "EG_loss 0.07915544509887695\n",
      "fm_loss 0.26087433099746704\n",
      "G_img_loss 4.112934589385986\n",
      "E_z_loss 5.435750961303711\n",
      "tv_loss 0.9778120517730713\n",
      "D_cont_loss_fake 0.040006425231695175\n",
      "D_img_loss_input 0.03740283101797104\n",
      "D_img_loss_G 0.05803586170077324\n",
      "End of epoch 495 \t Time Taken: 21.107183933258057 sec\n",
      "\n"
     ]
    },
    {
     "name": "stderr",
     "output_type": "stream",
     "text": [
      "\n",
      "18it [00:20,  1.13s/it]"
     ]
    },
    {
     "name": "stdout",
     "output_type": "stream",
     "text": [
      "Loss_G: 0.3038300739394294\\Loss_D_z: 0.01197823142218921\\Loss_D_img: 0.17019403932823074\n",
      "vgg_loss 0.0038303148467093706\n",
      "EG_loss 0.07617496699094772\n",
      "fm_loss 0.2479904294013977\n",
      "G_img_loss 4.707303524017334\n",
      "E_z_loss 5.531726360321045\n",
      "tv_loss 1.018531322479248\n",
      "D_cont_loss_fake 0.043735526502132416\n",
      "D_img_loss_input 0.049910299479961395\n",
      "D_img_loss_G 0.04280690848827362\n",
      "End of epoch 496 \t Time Taken: 21.024978637695312 sec\n",
      "\n"
     ]
    },
    {
     "name": "stderr",
     "output_type": "stream",
     "text": [
      "\n",
      "18it [00:20,  1.13s/it]"
     ]
    },
    {
     "name": "stdout",
     "output_type": "stream",
     "text": [
      "Loss_G: 0.30156007905801135\\Loss_D_z: 0.011192867403022118\\Loss_D_img: 0.1734314358068837\n",
      "vgg_loss 0.0037687027361243963\n",
      "EG_loss 0.0793495774269104\n",
      "fm_loss 0.24247495830059052\n",
      "G_img_loss 4.5672607421875\n",
      "E_z_loss 5.583368301391602\n",
      "tv_loss 0.9896016716957092\n",
      "D_cont_loss_fake 0.03414129465818405\n",
      "D_img_loss_input 0.04638456553220749\n",
      "D_img_loss_G 0.049773383885622025\n",
      "End of epoch 497 \t Time Taken: 21.003479480743408 sec\n",
      "\n"
     ]
    },
    {
     "name": "stderr",
     "output_type": "stream",
     "text": [
      "\n",
      "18it [00:20,  1.13s/it]"
     ]
    },
    {
     "name": "stdout",
     "output_type": "stream",
     "text": [
      "Loss_G: 0.30271121693982017\\Loss_D_z: 0.011223942403578095\\Loss_D_img: 0.14191384447945488\n",
      "vgg_loss 0.0038255611434578896\n",
      "EG_loss 0.07635278254747391\n",
      "fm_loss 0.24800822138786316\n",
      "G_img_loss 4.750082015991211\n",
      "E_z_loss 5.268764972686768\n",
      "tv_loss 0.9743937253952026\n",
      "D_cont_loss_fake 0.04825513809919357\n",
      "D_img_loss_input 0.03723984956741333\n",
      "D_img_loss_G 0.04948059096932411\n",
      "End of epoch 498 \t Time Taken: 20.912541151046753 sec\n",
      "\n"
     ]
    },
    {
     "name": "stderr",
     "output_type": "stream",
     "text": [
      "\n",
      "18it [00:20,  1.13s/it]"
     ]
    },
    {
     "name": "stdout",
     "output_type": "stream",
     "text": [
      "Loss_G: 0.30462562044461566\\Loss_D_z: 0.013141908786363073\\Loss_D_img: 0.14011637162831095\n",
      "vgg_loss 0.003733847290277481\n",
      "EG_loss 0.07502537965774536\n",
      "fm_loss 0.24178597331047058\n",
      "G_img_loss 4.300739288330078\n",
      "E_z_loss 5.431400299072266\n",
      "tv_loss 0.9827104806900024\n",
      "D_cont_loss_fake 0.0454486720263958\n",
      "D_img_loss_input 0.04931805655360222\n",
      "D_img_loss_G 0.0829663947224617\n",
      "End of epoch 499 \t Time Taken: 20.96449899673462 sec\n",
      "\n"
     ]
    },
    {
     "name": "stderr",
     "output_type": "stream",
     "text": [
      "\n",
      "18it [00:20,  1.14s/it]\n"
     ]
    },
    {
     "name": "stdout",
     "output_type": "stream",
     "text": [
      "Saving the model at the end of epoch 500\n",
      "\n",
      "Loss_G: 0.3056449823909336\\Loss_D_z: 0.011706813549002012\\Loss_D_img: 0.1389912615219752\n",
      "vgg_loss 0.004050774034112692\n",
      "EG_loss 0.07932060211896896\n",
      "fm_loss 0.2451302856206894\n",
      "G_img_loss 3.6623787879943848\n",
      "E_z_loss 5.511066436767578\n",
      "tv_loss 1.0397363901138306\n",
      "D_cont_loss_fake 0.03889967128634453\n",
      "D_img_loss_input 0.021018896251916885\n",
      "D_img_loss_G 0.09985460340976715\n",
      "End of epoch 500 \t Time Taken: 21.825382947921753 sec\n",
      "\n"
     ]
    }
   ],
   "source": [
    "# 第一部分用Multi-PIE 正脸多表情来训练 50epoch\n",
    "# 第二部分  50epoch\n",
    "# 死三部分到1500轮\n",
    "for epoch in range(opt.count_epoch, 501):\n",
    "    epoch_start_time = time.time()\n",
    "    err.initialize()\n",
    "    \n",
    "#     model.face_embedding.eval()\n",
    "    model.Encoder.train()\n",
    "    model.Decoder.train()\n",
    "    model.Discriminator_z.train()\n",
    "    model.Discriminator_img.train()\n",
    "\n",
    "    if epoch<=0:\n",
    "#         continue\n",
    "        for i, data in tqdm.tqdm(enumerate(data_loader_pre)):\n",
    "            model.forward(data, 1)\n",
    "            model.optimize_G_parameters(1)\n",
    "            model.optimize_D_img_parameters(1)\n",
    "            \n",
    "#             err.add(model.loss_EG.data.item(), 0, model.loss_Di.data.item())\n",
    "            \n",
    "#         if epoch % opt.save_epoch_freq == 0:\n",
    "#             print('Saving the model at the end of epoch {}\\n'.format(epoch))\n",
    "#             model.save(epoch)\n",
    "    elif 0<epoch<=0:\n",
    "        for i, data in tqdm.tqdm(enumerate(data_loader)):\n",
    "            model.forward(data, 2)\n",
    "            model.optimize_G_parameters(2)\n",
    "            model.optimize_D_img_parameters(2)\n",
    "            \n",
    "#             err.add(model.loss_EG.data.item(), 0, model.loss_Di.data.item())\n",
    "            \n",
    "#         if epoch % opt.save_epoch_freq == 0:\n",
    "#             print('Saving the model at the end of epoch {}\\n'.format(epoch))\n",
    "#             model.save(epoch)\n",
    "            \n",
    "#         LOSSG, LossD_z, LossD_img = err.print_errors(epoch)\n",
    "        \n",
    "#         print('vgg_loss', model.vgg_loss.data.item())\n",
    "#         print('EG_loss', model.EG_loss.data.item())\n",
    "#         print('fm_loss', model.fm_loss.data.item())\n",
    "#         print('D_cont_loss_fake', model.D_cont_loss_fake.data.item())\n",
    "#         print('D_img_loss_input', model.D_img_loss_input.data.item())\n",
    "#         print('D_img_loss_G', model.D_img_loss_G.data.item())\n",
    "        \n",
    "#         print('End of epoch {0} \\t Time Taken: {1} sec\\n'.format(epoch, time.time()-epoch_start_time))\n",
    "#         if epoch % 200 == 0:\n",
    "#             model.save_result(epoch)\n",
    "    else:\n",
    "        for i, data in tqdm.tqdm(enumerate(data_loader)):\n",
    "            model.forward(data, 3)                              \n",
    "            model.optimize_G_parameters(3)\n",
    "            model.optimize_D_z_parameters()\n",
    "            model.optimize_D_img_parameters(3)\n",
    "            \n",
    "            err.add(model.loss_EG.data.item(), model.loss_Dz.data.item(), model.loss_Di.data.item())\n",
    "            \n",
    "        if epoch % 50 == 0:\n",
    "            print('Saving the model at the end of epoch {}\\n'.format(epoch))\n",
    "            model.save(epoch)\n",
    "            \n",
    "        LOSSG, LossD_z, LossD_img = err.print_errors(epoch)\n",
    "        \n",
    "        print('vgg_loss', model.vgg_loss.data.item())\n",
    "        print('EG_loss', model.EG_loss.data.item())\n",
    "        print('fm_loss', model.fm_loss.data.item())\n",
    "        print('G_img_loss', model.G_img_loss.data.item())\n",
    "        print('E_z_loss', model.E_z_loss.data.item())\n",
    "        print('tv_loss', model.tv_loss.data.item())\n",
    "        print('D_cont_loss_fake', model.D_cont_loss_fake.data.item())\n",
    "        print('D_img_loss_input', model.D_img_loss_input.data.item())\n",
    "        print('D_img_loss_G', model.D_img_loss_G.data.item())\n",
    "        \n",
    "        print('End of epoch {0} \\t Time Taken: {1} sec\\n'.format(epoch, time.time()-epoch_start_time))\n",
    "        \n",
    "        if epoch % 50 == 0:\n",
    "            model.save_result(epoch)\n",
    "            \n",
    "    if epoch > 0:        \n",
    "        G_list.append(LOSSG)\n",
    "        D_z_list.append(LossD_z)\n",
    "        D_img_list.append(LossD_img)"
   ]
  },
  {
   "cell_type": "code",
   "execution_count": 5,
   "metadata": {},
   "outputs": [
    {
     "ename": "ValueError",
     "evalue": "x and y must have same first dimension, but have shapes (2000,) and (500,)",
     "output_type": "error",
     "traceback": [
      "\u001b[0;31m---------------------------------------------------------------------------\u001b[0m",
      "\u001b[0;31mValueError\u001b[0m                                Traceback (most recent call last)",
      "\u001b[0;32m<ipython-input-5-02d117ae43b8>\u001b[0m in \u001b[0;36m<module>\u001b[0;34m\u001b[0m\n\u001b[1;32m      3\u001b[0m \u001b[0mplt\u001b[0m\u001b[0;34m.\u001b[0m\u001b[0mfigure\u001b[0m\u001b[0;34m(\u001b[0m\u001b[0mfigsize\u001b[0m\u001b[0;34m=\u001b[0m\u001b[0;34m(\u001b[0m\u001b[0;36m20\u001b[0m\u001b[0;34m,\u001b[0m\u001b[0;36m10\u001b[0m\u001b[0;34m)\u001b[0m\u001b[0;34m)\u001b[0m\u001b[0;34m\u001b[0m\u001b[0m\n\u001b[1;32m      4\u001b[0m \u001b[0mplt\u001b[0m\u001b[0;34m.\u001b[0m\u001b[0msubplot\u001b[0m\u001b[0;34m(\u001b[0m\u001b[0;36m1\u001b[0m\u001b[0;34m,\u001b[0m \u001b[0;36m1\u001b[0m\u001b[0;34m,\u001b[0m \u001b[0;36m1\u001b[0m\u001b[0;34m)\u001b[0m\u001b[0;34m\u001b[0m\u001b[0m\n\u001b[0;32m----> 5\u001b[0;31m \u001b[0mplt\u001b[0m\u001b[0;34m.\u001b[0m\u001b[0mplot\u001b[0m\u001b[0;34m(\u001b[0m\u001b[0mx\u001b[0m\u001b[0;34m,\u001b[0m \u001b[0mG_list\u001b[0m\u001b[0;34m,\u001b[0m \u001b[0;34m'-o'\u001b[0m\u001b[0;34m,\u001b[0m \u001b[0mlabel\u001b[0m\u001b[0;34m=\u001b[0m\u001b[0;34m'G'\u001b[0m\u001b[0;34m)\u001b[0m\u001b[0;34m\u001b[0m\u001b[0m\n\u001b[0m\u001b[1;32m      6\u001b[0m \u001b[0mplt\u001b[0m\u001b[0;34m.\u001b[0m\u001b[0mtitle\u001b[0m\u001b[0;34m(\u001b[0m\u001b[0;34m'G vs. epoches'\u001b[0m\u001b[0;34m)\u001b[0m\u001b[0;34m\u001b[0m\u001b[0m\n\u001b[1;32m      7\u001b[0m \u001b[0mplt\u001b[0m\u001b[0;34m.\u001b[0m\u001b[0mylabel\u001b[0m\u001b[0;34m(\u001b[0m\u001b[0;34m'LOSS'\u001b[0m\u001b[0;34m)\u001b[0m\u001b[0;34m\u001b[0m\u001b[0m\n",
      "\u001b[0;32m/cm/shared/apps/ml-pythondeps-py37-cuda10.1-gcc/lib/python3.7/site-packages/matplotlib/pyplot.py\u001b[0m in \u001b[0;36mplot\u001b[0;34m(scalex, scaley, data, *args, **kwargs)\u001b[0m\n\u001b[1;32m   2793\u001b[0m     return gca().plot(\n\u001b[1;32m   2794\u001b[0m         *args, scalex=scalex, scaley=scaley, **({\"data\": data} if data\n\u001b[0;32m-> 2795\u001b[0;31m         is not None else {}), **kwargs)\n\u001b[0m\u001b[1;32m   2796\u001b[0m \u001b[0;34m\u001b[0m\u001b[0m\n\u001b[1;32m   2797\u001b[0m \u001b[0;34m\u001b[0m\u001b[0m\n",
      "\u001b[0;32m/cm/shared/apps/ml-pythondeps-py37-cuda10.1-gcc/lib/python3.7/site-packages/matplotlib/axes/_axes.py\u001b[0m in \u001b[0;36mplot\u001b[0;34m(self, scalex, scaley, data, *args, **kwargs)\u001b[0m\n\u001b[1;32m   1664\u001b[0m         \"\"\"\n\u001b[1;32m   1665\u001b[0m         \u001b[0mkwargs\u001b[0m \u001b[0;34m=\u001b[0m \u001b[0mcbook\u001b[0m\u001b[0;34m.\u001b[0m\u001b[0mnormalize_kwargs\u001b[0m\u001b[0;34m(\u001b[0m\u001b[0mkwargs\u001b[0m\u001b[0;34m,\u001b[0m \u001b[0mmlines\u001b[0m\u001b[0;34m.\u001b[0m\u001b[0mLine2D\u001b[0m\u001b[0;34m.\u001b[0m\u001b[0m_alias_map\u001b[0m\u001b[0;34m)\u001b[0m\u001b[0;34m\u001b[0m\u001b[0m\n\u001b[0;32m-> 1666\u001b[0;31m         \u001b[0mlines\u001b[0m \u001b[0;34m=\u001b[0m \u001b[0;34m[\u001b[0m\u001b[0;34m*\u001b[0m\u001b[0mself\u001b[0m\u001b[0;34m.\u001b[0m\u001b[0m_get_lines\u001b[0m\u001b[0;34m(\u001b[0m\u001b[0;34m*\u001b[0m\u001b[0margs\u001b[0m\u001b[0;34m,\u001b[0m \u001b[0mdata\u001b[0m\u001b[0;34m=\u001b[0m\u001b[0mdata\u001b[0m\u001b[0;34m,\u001b[0m \u001b[0;34m**\u001b[0m\u001b[0mkwargs\u001b[0m\u001b[0;34m)\u001b[0m\u001b[0;34m]\u001b[0m\u001b[0;34m\u001b[0m\u001b[0m\n\u001b[0m\u001b[1;32m   1667\u001b[0m         \u001b[0;32mfor\u001b[0m \u001b[0mline\u001b[0m \u001b[0;32min\u001b[0m \u001b[0mlines\u001b[0m\u001b[0;34m:\u001b[0m\u001b[0;34m\u001b[0m\u001b[0m\n\u001b[1;32m   1668\u001b[0m             \u001b[0mself\u001b[0m\u001b[0;34m.\u001b[0m\u001b[0madd_line\u001b[0m\u001b[0;34m(\u001b[0m\u001b[0mline\u001b[0m\u001b[0;34m)\u001b[0m\u001b[0;34m\u001b[0m\u001b[0m\n",
      "\u001b[0;32m/cm/shared/apps/ml-pythondeps-py37-cuda10.1-gcc/lib/python3.7/site-packages/matplotlib/axes/_base.py\u001b[0m in \u001b[0;36m__call__\u001b[0;34m(self, *args, **kwargs)\u001b[0m\n\u001b[1;32m    223\u001b[0m                 \u001b[0mthis\u001b[0m \u001b[0;34m+=\u001b[0m \u001b[0margs\u001b[0m\u001b[0;34m[\u001b[0m\u001b[0;36m0\u001b[0m\u001b[0;34m]\u001b[0m\u001b[0;34m,\u001b[0m\u001b[0;34m\u001b[0m\u001b[0m\n\u001b[1;32m    224\u001b[0m                 \u001b[0margs\u001b[0m \u001b[0;34m=\u001b[0m \u001b[0margs\u001b[0m\u001b[0;34m[\u001b[0m\u001b[0;36m1\u001b[0m\u001b[0;34m:\u001b[0m\u001b[0;34m]\u001b[0m\u001b[0;34m\u001b[0m\u001b[0m\n\u001b[0;32m--> 225\u001b[0;31m             \u001b[0;32myield\u001b[0m \u001b[0;32mfrom\u001b[0m \u001b[0mself\u001b[0m\u001b[0;34m.\u001b[0m\u001b[0m_plot_args\u001b[0m\u001b[0;34m(\u001b[0m\u001b[0mthis\u001b[0m\u001b[0;34m,\u001b[0m \u001b[0mkwargs\u001b[0m\u001b[0;34m)\u001b[0m\u001b[0;34m\u001b[0m\u001b[0m\n\u001b[0m\u001b[1;32m    226\u001b[0m \u001b[0;34m\u001b[0m\u001b[0m\n\u001b[1;32m    227\u001b[0m     \u001b[0;32mdef\u001b[0m \u001b[0mget_next_color\u001b[0m\u001b[0;34m(\u001b[0m\u001b[0mself\u001b[0m\u001b[0;34m)\u001b[0m\u001b[0;34m:\u001b[0m\u001b[0;34m\u001b[0m\u001b[0m\n",
      "\u001b[0;32m/cm/shared/apps/ml-pythondeps-py37-cuda10.1-gcc/lib/python3.7/site-packages/matplotlib/axes/_base.py\u001b[0m in \u001b[0;36m_plot_args\u001b[0;34m(self, tup, kwargs)\u001b[0m\n\u001b[1;32m    389\u001b[0m             \u001b[0mx\u001b[0m\u001b[0;34m,\u001b[0m \u001b[0my\u001b[0m \u001b[0;34m=\u001b[0m \u001b[0mindex_of\u001b[0m\u001b[0;34m(\u001b[0m\u001b[0mtup\u001b[0m\u001b[0;34m[\u001b[0m\u001b[0;34m-\u001b[0m\u001b[0;36m1\u001b[0m\u001b[0;34m]\u001b[0m\u001b[0;34m)\u001b[0m\u001b[0;34m\u001b[0m\u001b[0m\n\u001b[1;32m    390\u001b[0m \u001b[0;34m\u001b[0m\u001b[0m\n\u001b[0;32m--> 391\u001b[0;31m         \u001b[0mx\u001b[0m\u001b[0;34m,\u001b[0m \u001b[0my\u001b[0m \u001b[0;34m=\u001b[0m \u001b[0mself\u001b[0m\u001b[0;34m.\u001b[0m\u001b[0m_xy_from_xy\u001b[0m\u001b[0;34m(\u001b[0m\u001b[0mx\u001b[0m\u001b[0;34m,\u001b[0m \u001b[0my\u001b[0m\u001b[0;34m)\u001b[0m\u001b[0;34m\u001b[0m\u001b[0m\n\u001b[0m\u001b[1;32m    392\u001b[0m \u001b[0;34m\u001b[0m\u001b[0m\n\u001b[1;32m    393\u001b[0m         \u001b[0;32mif\u001b[0m \u001b[0mself\u001b[0m\u001b[0;34m.\u001b[0m\u001b[0mcommand\u001b[0m \u001b[0;34m==\u001b[0m \u001b[0;34m'plot'\u001b[0m\u001b[0;34m:\u001b[0m\u001b[0;34m\u001b[0m\u001b[0m\n",
      "\u001b[0;32m/cm/shared/apps/ml-pythondeps-py37-cuda10.1-gcc/lib/python3.7/site-packages/matplotlib/axes/_base.py\u001b[0m in \u001b[0;36m_xy_from_xy\u001b[0;34m(self, x, y)\u001b[0m\n\u001b[1;32m    268\u001b[0m         \u001b[0;32mif\u001b[0m \u001b[0mx\u001b[0m\u001b[0;34m.\u001b[0m\u001b[0mshape\u001b[0m\u001b[0;34m[\u001b[0m\u001b[0;36m0\u001b[0m\u001b[0;34m]\u001b[0m \u001b[0;34m!=\u001b[0m \u001b[0my\u001b[0m\u001b[0;34m.\u001b[0m\u001b[0mshape\u001b[0m\u001b[0;34m[\u001b[0m\u001b[0;36m0\u001b[0m\u001b[0;34m]\u001b[0m\u001b[0;34m:\u001b[0m\u001b[0;34m\u001b[0m\u001b[0m\n\u001b[1;32m    269\u001b[0m             raise ValueError(\"x and y must have same first dimension, but \"\n\u001b[0;32m--> 270\u001b[0;31m                              \"have shapes {} and {}\".format(x.shape, y.shape))\n\u001b[0m\u001b[1;32m    271\u001b[0m         \u001b[0;32mif\u001b[0m \u001b[0mx\u001b[0m\u001b[0;34m.\u001b[0m\u001b[0mndim\u001b[0m \u001b[0;34m>\u001b[0m \u001b[0;36m2\u001b[0m \u001b[0;32mor\u001b[0m \u001b[0my\u001b[0m\u001b[0;34m.\u001b[0m\u001b[0mndim\u001b[0m \u001b[0;34m>\u001b[0m \u001b[0;36m2\u001b[0m\u001b[0;34m:\u001b[0m\u001b[0;34m\u001b[0m\u001b[0m\n\u001b[1;32m    272\u001b[0m             raise ValueError(\"x and y can be no greater than 2-D, but have \"\n",
      "\u001b[0;31mValueError\u001b[0m: x and y must have same first dimension, but have shapes (2000,) and (500,)"
     ]
    },
    {
     "data": {
      "image/png": "[encoded data removed]",
      "text/plain": [
       "<Figure size 1440x720 with 1 Axes>"
      ]
     },
     "metadata": {
      "needs_background": "light"
     },
     "output_type": "display_data"
    }
   ],
   "source": [
    "import matplotlib.pyplot as plt\n",
    "x = range(1, 2001)\n",
    "plt.figure(figsize=(20,10))\n",
    "plt.subplot(1, 1, 1)\n",
    "plt.plot(x, G_list, '-o', label='G')\n",
    "plt.title('G vs. epoches')\n",
    "plt.ylabel('LOSS')\n",
    "\n",
    "plt.show()"
   ]
  },
  {
   "cell_type": "code",
   "execution_count": null,
   "metadata": {},
   "outputs": [],
   "source": [
    "x = range(1, 2001)\n",
    "plt.figure(figsize=(20,10))\n",
    "plt.subplot(1, 1, 1)\n",
    "plt.plot(x, D_z_list, '--o', label='D_z')\n",
    "plt.title('Z vs. epoches')\n",
    "plt.ylabel('LOSS')\n",
    "\n",
    "plt.show()"
   ]
  },
  {
   "cell_type": "code",
   "execution_count": null,
   "metadata": {
    "scrolled": false
   },
   "outputs": [],
   "source": [
    "x = range(1, 2001)\n",
    "plt.figure(figsize=(20,10))\n",
    "plt.subplot(1, 1, 1)\n",
    "plt.plot(x, D_img_list, '-.o', label='D_img')\n",
    "plt.title('IMG vs. epoches')\n",
    "plt.ylabel('LOSS')\n",
    "\n",
    "plt.show()"
   ]
  },
  {
   "cell_type": "code",
   "execution_count": null,
   "metadata": {
    "scrolled": true
   },
   "outputs": [],
   "source": [
    "show_path = '/home/wpk/paper/code/Comparison_experiments/ExprGAN/image'\n",
    "# show_path = '/home/wpk/paper/code/Comparison_experiments/ExprGAN/image_test'\n",
    "name_list = os.listdir(show_path)\n",
    "name_list.sort()\n",
    "plt.figure(figsize=(20,120))\n",
    "index = 1\n",
    "print(len(name_list))\n",
    "for i in range(len(name_list)):\n",
    "    if 'epoch300_' in name_list[i]:\n",
    "        image_dst = Image.open(os.path.join(show_path, name_list[i])) \n",
    "        plt.subplot(50, 5, index)\n",
    "        plt.title(name_list[i])\n",
    "        plt.imshow(image_dst)\n",
    "        \n",
    "        index += 1\n",
    "plt.show()"
   ]
  },
  {
   "cell_type": "code",
   "execution_count": null,
   "metadata": {},
   "outputs": [],
   "source": []
  }
 ],
 "metadata": {
  "kernelspec": {
   "display_name": "Python 3",
   "language": "python",
   "name": "python3"
  },
  "language_info": {
   "codemirror_mode": {
    "name": "ipython",
    "version": 3
   },
   "file_extension": ".py",
   "mimetype": "text/x-python",
   "name": "python",
   "nbconvert_exporter": "python",
   "pygments_lexer": "ipython3",
   "version": "3.7.0"
  }
 },
 "nbformat": 4,
 "nbformat_minor": 2
}
